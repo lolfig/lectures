{
 "cells": [
  {
   "cell_type": "markdown",
   "id": "61c3986b",
   "metadata": {},
   "source": [
    "# Control de flujo del programa\n",
    "<a id='sec_program_flow'></a>\n",
    "\n",
    "### Expresiones lógicas\n",
    "\n",
    "Verdadero y Falso son constantes en Python. Tienen las siguientes equivalencias:\n",
    "\n",
    "- Falso: cero, Ninguno, contenedor vacío\n",
    "- Verdadero: distinto de cero, contenedor no vacío"
   ]
  },
  {
   "cell_type": "code",
   "execution_count": 5,
   "id": "d6122e8d",
   "metadata": {},
   "outputs": [
    {
     "name": "stdout",
     "output_type": "stream",
     "text": [
      "True\n",
      "False\n",
      "True\n",
      "True\n",
      "True\n",
      "False\n"
     ]
    }
   ],
   "source": [
    "print(True == True)\n",
    "print(True == False)\n",
    "print(True != False)\n",
    "print(True > False)\n",
    "print(True is True)\n",
    "print((8 < 6) is (6 < 12))"
   ]
  },
  {
   "cell_type": "markdown",
   "id": "79984caa",
   "metadata": {},
   "source": [
    "Logical operators"
   ]
  },
  {
   "cell_type": "code",
   "execution_count": 6,
   "id": "eb11faf8",
   "metadata": {},
   "outputs": [
    {
     "name": "stdout",
     "output_type": "stream",
     "text": [
      "True\n",
      "True\n",
      "False\n"
     ]
    }
   ],
   "source": [
    "print(True and True)\n",
    "print(False or True)\n",
    "print(not True)"
   ]
  },
  {
   "cell_type": "markdown",
   "id": "f72e85b4",
   "metadata": {},
   "source": [
    "Conditional expression"
   ]
  },
  {
   "cell_type": "code",
   "execution_count": 10,
   "id": "c72d76d7",
   "metadata": {},
   "outputs": [
    {
     "data": {
      "text/plain": [
       "23"
      ]
     },
     "execution_count": 10,
     "metadata": {},
     "output_type": "execute_result"
    }
   ],
   "source": [
    "a = 12\n",
    "b = 23\n",
    "a if a > b else b"
   ]
  },
  {
   "cell_type": "markdown",
   "id": "218b9d32",
   "metadata": {},
   "source": [
    "Los predicados **any** y **all** verifican si _any_ o _all_ miembros de una secuencia son verdaderos, respectivamente."
   ]
  },
  {
   "cell_type": "code",
   "execution_count": 15,
   "id": "d88744e1",
   "metadata": {},
   "outputs": [
    {
     "name": "stdout",
     "output_type": "stream",
     "text": [
      "True\n",
      "False\n",
      "False\n",
      "True\n"
     ]
    }
   ],
   "source": [
    "print(all([True, True, True]))\n",
    "print(all([True, False, True]))\n",
    "print(any([False, False, False]))\n",
    "print(any([True, False, True]))"
   ]
  },
  {
   "cell_type": "code",
   "execution_count": 17,
   "id": "6e5468ef",
   "metadata": {},
   "outputs": [
    {
     "data": {
      "text/plain": [
       "True"
      ]
     },
     "execution_count": 17,
     "metadata": {},
     "output_type": "execute_result"
    }
   ],
   "source": [
    "all([5 > 4, 4 in [3, 4, 5], True])"
   ]
  },
  {
   "cell_type": "code",
   "execution_count": 18,
   "id": "2171ad67",
   "metadata": {},
   "outputs": [
    {
     "data": {
      "text/plain": [
       "False"
      ]
     },
     "execution_count": 18,
     "metadata": {},
     "output_type": "execute_result"
    }
   ],
   "source": [
    "any([0, False, {}])"
   ]
  },
  {
   "cell_type": "markdown",
   "id": "35fc4fce",
   "metadata": {},
   "source": [
    "**if** control structure"
   ]
  },
  {
   "cell_type": "code",
   "execution_count": 20,
   "id": "fae521fb",
   "metadata": {},
   "outputs": [
    {
     "name": "stdout",
     "output_type": "stream",
     "text": [
      "x is above 4\n"
     ]
    }
   ],
   "source": [
    "x = 5\n",
    "if x < 3:\n",
    "    print(\"x is below 3\")\n",
    "elif x == 4:\n",
    "    print(\"x is 4\")\n",
    "elif x == 6:\n",
    "    print(\"x is 6\")\n",
    "else:\n",
    "    print(\"x is above 4\")"
   ]
  },
  {
   "cell_type": "markdown",
   "id": "2079c30f",
   "metadata": {},
   "source": [
    "**while** loop"
   ]
  },
  {
   "cell_type": "code",
   "execution_count": 22,
   "id": "3cf8a33d",
   "metadata": {},
   "outputs": [
    {
     "name": "stdout",
     "output_type": "stream",
     "text": [
      "1\n",
      "2\n",
      "3\n",
      "4\n"
     ]
    }
   ],
   "source": [
    "x = 1\n",
    "while x < 5:\n",
    "    print(x)\n",
    "    x += 1"
   ]
  },
  {
   "cell_type": "code",
   "execution_count": 23,
   "id": "32e9d1d3",
   "metadata": {},
   "outputs": [
    {
     "name": "stdout",
     "output_type": "stream",
     "text": [
      "1\n",
      "2\n",
      "3\n",
      "4\n"
     ]
    }
   ],
   "source": [
    "# Usando 'break'\n",
    "x = 1\n",
    "while True:\n",
    "    if x >=5:\n",
    "        break\n",
    "    print(x)\n",
    "    x += 1"
   ]
  },
  {
   "cell_type": "code",
   "execution_count": 27,
   "id": "26145b5a",
   "metadata": {},
   "outputs": [
    {
     "name": "stdout",
     "output_type": "stream",
     "text": [
      "1\n",
      "3\n",
      "5\n",
      "7\n",
      "9\n"
     ]
    }
   ],
   "source": [
    "# usando 'continue'\n",
    "x = 0\n",
    "while x < 10:\n",
    "    x += 1\n",
    "    if x % 2 == 0:\n",
    "        continue\n",
    "    print(x)"
   ]
  },
  {
   "cell_type": "markdown",
   "id": "ca77ddab",
   "metadata": {},
   "source": [
    "Bucle **for**\n",
    "\n",
    "El bucle for recorre los elementos de una colección, lo que permite realizar operaciones en cada elemento secuencialmente."
   ]
  },
  {
   "cell_type": "code",
   "execution_count": 28,
   "id": "ef409080",
   "metadata": {},
   "outputs": [
    {
     "name": "stdout",
     "output_type": "stream",
     "text": [
      "1 1\n",
      "2 4\n",
      "3 9\n",
      "4 16\n",
      "5 25\n"
     ]
    }
   ],
   "source": [
    "for x in [1, 2, 3, 4, 5]:\n",
    "    print(x, x**2)"
   ]
  },
  {
   "cell_type": "code",
   "execution_count": 29,
   "id": "d7627cef",
   "metadata": {},
   "outputs": [
    {
     "name": "stdout",
     "output_type": "stream",
     "text": [
      "e\n",
      "l\n",
      "e\n",
      "m\n",
      "e\n",
      "n\n",
      "t\n",
      "a\n",
      "r\n",
      "y\n"
     ]
    }
   ],
   "source": [
    "for c in \"elementary\":\n",
    "    print(c)"
   ]
  },
  {
   "cell_type": "markdown",
   "id": "c582756a",
   "metadata": {},
   "source": [
    "## Solved Exercises"
   ]
  },
  {
   "cell_type": "markdown",
   "id": "9d1b3372",
   "metadata": {},
   "source": [
    "**Exercise**. Print numbers from 1 to 10"
   ]
  },
  {
   "cell_type": "code",
   "execution_count": null,
   "id": "e27621fe",
   "metadata": {},
   "outputs": [],
   "source": [
    "for num in range(1, 11):\n",
    "    print(num)"
   ]
  },
  {
   "cell_type": "markdown",
   "id": "3fbe490b",
   "metadata": {},
   "source": [
    "**Exercise**. Calculate the sum of numbers in a list"
   ]
  },
  {
   "cell_type": "code",
   "execution_count": null,
   "id": "3f654e12",
   "metadata": {},
   "outputs": [],
   "source": [
    "def calculate_sum(numbers):\n",
    "    total = 0\n",
    "    for num in numbers:\n",
    "        total += num\n",
    "    return total\n",
    "\n",
    "numbers = [1, 2, 3, 4, 5]\n",
    "print(calculate_sum(numbers))"
   ]
  },
  {
   "cell_type": "markdown",
   "id": "9dfcc777",
   "metadata": {},
   "source": [
    "**Exercise**. Print the characters in a string"
   ]
  },
  {
   "cell_type": "code",
   "execution_count": null,
   "id": "5cb9cd24",
   "metadata": {},
   "outputs": [],
   "source": [
    "string = \"Hello, World!\"\n",
    "for char in string:\n",
    "    print(char)"
   ]
  },
  {
   "cell_type": "markdown",
   "id": "b4de58a1",
   "metadata": {},
   "source": [
    "**Exercise**. Find the maximum number in a list"
   ]
  },
  {
   "cell_type": "code",
   "execution_count": null,
   "id": "864c098e",
   "metadata": {},
   "outputs": [],
   "source": [
    "def find_maximum(numbers):\n",
    "    max_num = numbers[0]\n",
    "    for num in numbers:\n",
    "        if num > max_num:\n",
    "            max_num = num\n",
    "    return max_num\n",
    "\n",
    "numbers = [5, 8, 3, 10, 2]\n",
    "print(find_maximum(numbers))\n"
   ]
  },
  {
   "cell_type": "markdown",
   "id": "90bc9467",
   "metadata": {},
   "source": [
    "**Exercise**. Print triangular shaped pattern using nested for loops"
   ]
  },
  {
   "cell_type": "code",
   "execution_count": null,
   "id": "fb54e842",
   "metadata": {},
   "outputs": [],
   "source": [
    "for i in range(1, 6):\n",
    "    for j in range(i):\n",
    "        print(\"*\", end=\"\")\n",
    "    print()"
   ]
  },
  {
   "cell_type": "markdown",
   "id": "41624d43",
   "metadata": {},
   "source": [
    "- Note: You can use the string operator * (string repetition operator) to achieve the same result."
   ]
  },
  {
   "cell_type": "code",
   "execution_count": null,
   "id": "6d824d8d",
   "metadata": {},
   "outputs": [],
   "source": [
    "triangle_size = 6\n",
    "for i in range(1, triangle_size + 1):\n",
    "    print(\"*\" * i)"
   ]
  },
  {
   "cell_type": "markdown",
   "id": "4e6dfcf5",
   "metadata": {},
   "source": [
    "a) Try other triangle shapes"
   ]
  },
  {
   "cell_type": "code",
   "execution_count": null,
   "id": "6df74364",
   "metadata": {
    "scrolled": true
   },
   "outputs": [],
   "source": [
    "triangle_size = 5\n",
    "for i in range(triangle_size, 0, -1):\n",
    "    print(\"*\" * i)"
   ]
  },
  {
   "cell_type": "code",
   "execution_count": null,
   "id": "9fab238b",
   "metadata": {},
   "outputs": [],
   "source": [
    "triangle_size = 6\n",
    "for i in range(1, triangle_size + 1):\n",
    "    print(\" \" * (triangle_size - i) + \"*\" * i)"
   ]
  },
  {
   "cell_type": "code",
   "execution_count": null,
   "id": "425ac805",
   "metadata": {},
   "outputs": [],
   "source": [
    "triangle_size = 7\n",
    "for i in range(triangle_size, 0, -1):\n",
    "    print(\" \" * (triangle_size - i) + \"*\" * i)"
   ]
  },
  {
   "cell_type": "markdown",
   "id": "10f552b5",
   "metadata": {},
   "source": [
    "**Exercise**. Count the occurrences of a specific element in a list"
   ]
  },
  {
   "cell_type": "code",
   "execution_count": null,
   "id": "dfcbb8bc",
   "metadata": {},
   "outputs": [],
   "source": [
    "def count_occurrences(numbers, target):\n",
    "    count = 0\n",
    "    for num in numbers:\n",
    "        if num == target:\n",
    "            count += 1\n",
    "    return count\n",
    "\n",
    "numbers = [2, 5, 2, 8, 2, 3]\n",
    "target = 2\n",
    "print(count_occurrences(numbers, target))"
   ]
  },
  {
   "cell_type": "markdown",
   "id": "c621ffb3",
   "metadata": {},
   "source": [
    "**Exercise**. Calculate the factorial of a number"
   ]
  },
  {
   "cell_type": "code",
   "execution_count": null,
   "id": "cd3fbdc3",
   "metadata": {},
   "outputs": [],
   "source": [
    "def calculate_factorial(num):\n",
    "    factorial = 1\n",
    "    for i in range(1, num + 1):\n",
    "        factorial *= i\n",
    "    return factorial\n",
    "\n",
    "num = 5\n",
    "print(calculate_factorial(num))"
   ]
  },
  {
   "cell_type": "markdown",
   "id": "7178e616",
   "metadata": {},
   "source": [
    "**Exercise**. Reverse a string"
   ]
  },
  {
   "cell_type": "code",
   "execution_count": null,
   "id": "f70e4a07",
   "metadata": {},
   "outputs": [],
   "source": [
    "string = \"Hello, World!\"\n",
    "reversed_string = \"\"\n",
    "for char in string:\n",
    "    reversed_string = char + reversed_string\n",
    "print(reversed_string)"
   ]
  },
  {
   "cell_type": "markdown",
   "id": "c76c1a8a",
   "metadata": {},
   "source": [
    "**Exercise**. Generate a multiplication table"
   ]
  },
  {
   "cell_type": "code",
   "execution_count": null,
   "id": "4322c2d1",
   "metadata": {},
   "outputs": [],
   "source": [
    "for i in range(1, 11):\n",
    "    for j in range(1, 11):\n",
    "        print(i * j, end=\"\\t\")\n",
    "    print()"
   ]
  },
  {
   "cell_type": "markdown",
   "id": "e393845f",
   "metadata": {},
   "source": [
    "**Exercise**. Find and print all prime numbers until lower than a limit value"
   ]
  },
  {
   "cell_type": "code",
   "execution_count": null,
   "id": "9ee20f5f",
   "metadata": {},
   "outputs": [],
   "source": [
    "def is_prime(num):\n",
    "    if num < 2:\n",
    "        return False\n",
    "    for i in range(2, int(num ** 0.5) + 1):\n",
    "        if num % i == 0:\n",
    "            return False\n",
    "    return True\n",
    "\n",
    "limit = 20\n",
    "for num in range(2, limit + 1):\n",
    "    if is_prime(num):\n",
    "        print(num)"
   ]
  }
 ],
 "metadata": {
  "kernelspec": {
   "display_name": "Python 3 (ipykernel)",
   "language": "python",
   "name": "python3"
  },
  "language_info": {
   "codemirror_mode": {
    "name": "ipython",
    "version": 3
   },
   "file_extension": ".py",
   "mimetype": "text/x-python",
   "name": "python",
   "nbconvert_exporter": "python",
   "pygments_lexer": "ipython3",
   "version": "3.12.7"
  }
 },
 "nbformat": 4,
 "nbformat_minor": 5
}
