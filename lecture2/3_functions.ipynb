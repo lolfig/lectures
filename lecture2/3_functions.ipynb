{
 "cells": [
  {
   "cell_type": "markdown",
   "id": "b18d67f2",
   "metadata": {},
   "source": [
    "# Functions\n",
    "<a id='sec_functions'></a>"
   ]
  },
  {
   "cell_type": "markdown",
   "id": "26ec61c2",
   "metadata": {},
   "source": [
    "Una función es un bloque de código que realiza una tarea específica y puede ser llamada desde otras partes de un programa. Tiene la siguiente sintaxis:"
   ]
  },
  {
   "cell_type": "code",
   "execution_count": 1,
   "id": "5d24d916",
   "metadata": {},
   "outputs": [],
   "source": [
    "def function_name(parameters):\n",
    "    \"\"\"docstring\"\"\"\n",
    "    # code here\n",
    "    pass"
   ]
  },
  {
   "cell_type": "markdown",
   "id": "7ebe7244",
   "metadata": {},
   "source": [
    "Aquí un ejemplo"
   ]
  },
  {
   "cell_type": "code",
   "execution_count": 20,
   "id": "dce72b32",
   "metadata": {},
   "outputs": [],
   "source": [
    "def greet(name):\n",
    "    \"\"\"This function greets the person passed in as a parameter.\"\"\"\n",
    "    print(\"Hello, \" + name + \". How are you?\")\n",
    "    # print(f\"Hello, {name}. How are you?\")"
   ]
  },
  {
   "cell_type": "code",
   "execution_count": 19,
   "id": "139e7b60-9f08-42d1-bfe2-83c5a5f80280",
   "metadata": {},
   "outputs": [
    {
     "name": "stdout",
     "output_type": "stream",
     "text": [
      "Hello, John. How are you?\n",
      "Hello, Mary. How are you?\n"
     ]
    }
   ],
   "source": [
    "greet(\"John\") \n",
    "greet(\"Mary\") "
   ]
  },
  {
   "cell_type": "markdown",
   "id": "0430596e",
   "metadata": {},
   "source": [
    "A continuación, un ejemplo: La instrucción return se utiliza para salir de una función y devolver un valor al invocador.\n",
    "\n",
    "Syntax: return [expression]"
   ]
  },
  {
   "cell_type": "code",
   "execution_count": 22,
   "id": "660ad5aa",
   "metadata": {},
   "outputs": [],
   "source": [
    "def multiply(num1, num2):\n",
    "    \"\"\"This function multiplies two numbers and returns the result.\"\"\"\n",
    "    return num1 * num2"
   ]
  },
  {
   "cell_type": "code",
   "execution_count": 23,
   "id": "4184bf13-96f4-4a1f-aebf-66c57f29ffd2",
   "metadata": {},
   "outputs": [
    {
     "name": "stdout",
     "output_type": "stream",
     "text": [
      "10\n"
     ]
    }
   ],
   "source": [
    "result = multiply(2, 5)\n",
    "print(result)"
   ]
  },
  {
   "cell_type": "markdown",
   "id": "7e863beb",
   "metadata": {},
   "source": [
    "**Nota**: En Python, no es un error si la ruta de ejecución de una función no incluye un valor. En esos casos, la función devuelve None."
   ]
  },
  {
   "cell_type": "code",
   "execution_count": 25,
   "id": "6e92f4f1",
   "metadata": {},
   "outputs": [
    {
     "name": "stdout",
     "output_type": "stream",
     "text": [
      "None\n"
     ]
    }
   ],
   "source": [
    "def no_return():\n",
    "    a = \"what?\"\n",
    "    \n",
    "result = no_return()\n",
    "print(result)"
   ]
  },
  {
   "cell_type": "markdown",
   "id": "1de9832f",
   "metadata": {},
   "source": [
    "Los parámetros predeterminados se utilizan para asignar un valor predeterminado a un parámetro si no se proporciona ningún valor al llamar a la función.\n",
    "\n",
    "Syntax: def function_name(parameter1, parameter2=default_value):"
   ]
  },
  {
   "cell_type": "code",
   "execution_count": 31,
   "id": "b4f49d5a",
   "metadata": {},
   "outputs": [],
   "source": [
    "def greet(name, greeting=\"Hello\"):\n",
    "    print(greeting, name)"
   ]
  },
  {
   "cell_type": "code",
   "execution_count": 35,
   "id": "32f7eb9e-06a4-4a8a-9708-af81459fdfe3",
   "metadata": {},
   "outputs": [
    {
     "name": "stdout",
     "output_type": "stream",
     "text": [
      "Hello John\n",
      "Hi Mary\n"
     ]
    }
   ],
   "source": [
    "greet(\"John\")\n",
    "greet(\"Mary\", \"Hi\")"
   ]
  },
  {
   "cell_type": "markdown",
   "id": "fbcd6442",
   "metadata": {},
   "source": [
    "Los argumentos de palabra clave se utilizan para especificar el nombre del parámetro que se pasa a la función, lo que permite pasar los parámetros en cualquier orden.|\n",
    "\n",
    "Syntax: \n",
    "\n",
    "def function_name(parameter1, parameter2):\n",
    "    \n",
    "function_name(parameter2=value2, parameter1=value1)"
   ]
  },
  {
   "cell_type": "code",
   "execution_count": 39,
   "id": "39359467",
   "metadata": {},
   "outputs": [
    {
     "name": "stdout",
     "output_type": "stream",
     "text": [
      "Hello John\n",
      "Hi Mary\n"
     ]
    }
   ],
   "source": [
    "def greet(name, greeting):\n",
    "    print(greeting, name)\n",
    "    \n",
    "greet(greeting=\"Hello\", name=\"John\")\n",
    "greet(name=\"Mary\", greeting=\"Hi\")"
   ]
  },
  {
   "cell_type": "markdown",
   "id": "1138e86b",
   "metadata": {},
   "source": [
    "Los argumentos de longitud variable permiten que una función acepte cualquier cantidad de argumentos, que se pasan como una tupla.\n",
    "\n",
    "Syntax: def function_name(*args):"
   ]
  },
  {
   "cell_type": "code",
   "execution_count": 44,
   "id": "9a876079",
   "metadata": {},
   "outputs": [
    {
     "name": "stdout",
     "output_type": "stream",
     "text": [
      "(2, 3, 4)\n",
      "(3.14, [2, 3, 45])\n"
     ]
    }
   ],
   "source": [
    "def variable_params(*args):\n",
    "    print(args)\n",
    "\n",
    "variable_params(2, 3, 4)\n",
    "variable_params(3.14, [2,3,45])"
   ]
  },
  {
   "cell_type": "markdown",
   "id": "1def8f54",
   "metadata": {},
   "source": [
    "Si se proporcionan otros parámetros en la definición de la función, se completan antes de recopilar los parámetros variables."
   ]
  },
  {
   "cell_type": "code",
   "execution_count": 46,
   "id": "7df763ff",
   "metadata": {},
   "outputs": [
    {
     "name": "stdout",
     "output_type": "stream",
     "text": [
      "3 4 (5, 6)\n",
      "3 4 ()\n"
     ]
    }
   ],
   "source": [
    "def var2(a, b, *args):\n",
    "    print(a, b, args)\n",
    "\n",
    "var2(3, 4, 5, 6)\n",
    "var2(3, 4)"
   ]
  },
  {
   "cell_type": "markdown",
   "id": "589aac9c",
   "metadata": {},
   "source": [
    "Esta opción permite crear métodos 'más inteligentes'"
   ]
  },
  {
   "cell_type": "code",
   "execution_count": 49,
   "id": "d6ff1971",
   "metadata": {},
   "outputs": [
    {
     "name": "stdout",
     "output_type": "stream",
     "text": [
      "4.0\n",
      "11.76\n"
     ]
    }
   ],
   "source": [
    "def calculate_average(*args):\n",
    "    total = 0\n",
    "    for a in args:\n",
    "        total += a\n",
    "    return total / len(args)\n",
    "\n",
    "print(calculate_average(2, 4, 6))\n",
    "print(calculate_average(5, 9, 12.3, 24.5, 8))"
   ]
  },
  {
   "cell_type": "markdown",
   "id": "2ba61c21",
   "metadata": {},
   "source": [
    "Se puede pasar un número variable de parámetros con nombre a una función, que se capturan en un diccionario. Por ejemplo:"
   ]
  },
  {
   "cell_type": "code",
   "execution_count": 51,
   "id": "0456ad65",
   "metadata": {},
   "outputs": [
    {
     "name": "stdout",
     "output_type": "stream",
     "text": [
      "name : Peter\n",
      "age : 23\n",
      "gender : Female\n"
     ]
    }
   ],
   "source": [
    "def print_details(**kwargs):\n",
    "    for key, value in kwargs.items():\n",
    "        print(key, \":\", value)\n",
    "        \n",
    "print_details(name=\"Peter\", age=23, gender=\"Female\")"
   ]
  },
  {
   "cell_type": "markdown",
   "id": "4557daa0",
   "metadata": {},
   "source": [
    "Se puede utilizar cualquier combinación de tipos de parámetros en conjunto"
   ]
  },
  {
   "cell_type": "code",
   "execution_count": 52,
   "id": "67ccddb2",
   "metadata": {},
   "outputs": [
    {
     "name": "stdout",
     "output_type": "stream",
     "text": [
      "2 3\n",
      "()\n",
      "{}\n"
     ]
    }
   ],
   "source": [
    "def mixed(a, b, *args, **kwargs):\n",
    "    print(a, b)\n",
    "    print(args)\n",
    "    print(kwargs)\n",
    "\n",
    "mixed(2, 3)"
   ]
  },
  {
   "cell_type": "code",
   "execution_count": 53,
   "id": "4bf3d700",
   "metadata": {},
   "outputs": [
    {
     "name": "stdout",
     "output_type": "stream",
     "text": [
      "2 3\n",
      "(4, 5)\n",
      "{}\n"
     ]
    }
   ],
   "source": [
    "mixed(2, 3, 4, 5)"
   ]
  },
  {
   "cell_type": "code",
   "execution_count": 12,
   "id": "139c7cef",
   "metadata": {},
   "outputs": [
    {
     "name": "stdout",
     "output_type": "stream",
     "text": [
      "2 3\n",
      "()\n",
      "{'ap': 23, 'ot': 'hen'}\n"
     ]
    }
   ],
   "source": [
    "mixed(2, 3, ap=23, ot='hen')"
   ]
  },
  {
   "cell_type": "code",
   "execution_count": 13,
   "id": "0144a517",
   "metadata": {},
   "outputs": [
    {
     "name": "stdout",
     "output_type": "stream",
     "text": [
      "2 3\n",
      "(4, 5)\n",
      "{'ap': 23, 'ot': 'hen'}\n"
     ]
    }
   ],
   "source": [
    "mixed(2, 3, 4, 5, ap=23, ot='hen')"
   ]
  },
  {
   "cell_type": "markdown",
   "id": "20f187a3",
   "metadata": {},
   "source": [
    "## Desestructuración al llamar a métodos"
   ]
  },
  {
   "cell_type": "code",
   "execution_count": 54,
   "id": "c021f2f9",
   "metadata": {},
   "outputs": [
    {
     "data": {
      "text/plain": [
       "5"
      ]
     },
     "execution_count": 54,
     "metadata": {},
     "output_type": "execute_result"
    }
   ],
   "source": [
    "def add(a, b):\n",
    "    return a + b\n",
    "\n",
    "add(2, 3)"
   ]
  },
  {
   "cell_type": "code",
   "execution_count": 55,
   "id": "097e4199",
   "metadata": {},
   "outputs": [
    {
     "data": {
      "text/plain": [
       "5"
      ]
     },
     "execution_count": 55,
     "metadata": {},
     "output_type": "execute_result"
    }
   ],
   "source": [
    "params = (2, 3)\n",
    "add(*params)"
   ]
  },
  {
   "cell_type": "markdown",
   "id": "cedd41f9",
   "metadata": {},
   "source": [
    "Muy similar con parámetros nombrados"
   ]
  },
  {
   "cell_type": "code",
   "execution_count": 56,
   "id": "77de6bc0",
   "metadata": {},
   "outputs": [
    {
     "data": {
      "text/plain": [
       "'**********'"
      ]
     },
     "execution_count": 56,
     "metadata": {},
     "output_type": "execute_result"
    }
   ],
   "source": [
    "def repeat(ch, times):\n",
    "    return ch * times\n",
    "\n",
    "repeat('*', 10)"
   ]
  },
  {
   "cell_type": "code",
   "execution_count": 17,
   "id": "80c3e6ca",
   "metadata": {},
   "outputs": [
    {
     "data": {
      "text/plain": [
       "'**********'"
      ]
     },
     "execution_count": 17,
     "metadata": {},
     "output_type": "execute_result"
    }
   ],
   "source": [
    "params = {'ch': '*', 'times': 10}\n",
    "repeat(**params)"
   ]
  },
  {
   "cell_type": "code",
   "execution_count": 18,
   "id": "b6ea5549",
   "metadata": {},
   "outputs": [
    {
     "data": {
      "text/plain": [
       "'////////////'"
      ]
     },
     "execution_count": 18,
     "metadata": {},
     "output_type": "execute_result"
    }
   ],
   "source": [
    "# A fancy-looking way of creating dictionaries\n",
    "params = dict(ch='/', times=12)\n",
    "repeat(**params)"
   ]
  },
  {
   "cell_type": "code",
   "execution_count": 57,
   "id": "afed9bd3",
   "metadata": {},
   "outputs": [
    {
     "ename": "TypeError",
     "evalue": "repeat() got an unexpected keyword argument 'age'",
     "output_type": "error",
     "traceback": [
      "\u001b[0;31m---------------------------------------------------------------------------\u001b[0m",
      "\u001b[0;31mTypeError\u001b[0m                                 Traceback (most recent call last)",
      "Cell \u001b[0;32mIn[57], line 3\u001b[0m\n\u001b[1;32m      1\u001b[0m \u001b[38;5;66;03m# All dictionary parameters are expected to be in the function header\u001b[39;00m\n\u001b[1;32m      2\u001b[0m params \u001b[38;5;241m=\u001b[39m \u001b[38;5;28mdict\u001b[39m(times\u001b[38;5;241m=\u001b[39m\u001b[38;5;241m10\u001b[39m, ch\u001b[38;5;241m=\u001b[39m\u001b[38;5;124m'\u001b[39m\u001b[38;5;124m*\u001b[39m\u001b[38;5;124m'\u001b[39m, age\u001b[38;5;241m=\u001b[39m\u001b[38;5;241m23\u001b[39m)\n\u001b[0;32m----> 3\u001b[0m repeat(\u001b[38;5;241m*\u001b[39m\u001b[38;5;241m*\u001b[39mparams)\n",
      "\u001b[0;31mTypeError\u001b[0m: repeat() got an unexpected keyword argument 'age'"
     ]
    }
   ],
   "source": [
    "# All dictionary parameters are expected to be in the function header\n",
    "params = dict(times=10, ch='*', age=23)\n",
    "repeat(**params)"
   ]
  },
  {
   "cell_type": "markdown",
   "id": "8737a588",
   "metadata": {},
   "source": [
    "# Solved Exercises"
   ]
  },
  {
   "cell_type": "markdown",
   "id": "4411a2f9",
   "metadata": {},
   "source": [
    "**Exercise**. Write a function to calculate the area of a circle."
   ]
  },
  {
   "cell_type": "code",
   "execution_count": 58,
   "id": "b35705a0",
   "metadata": {},
   "outputs": [
    {
     "data": {
      "text/plain": [
       "12.566"
      ]
     },
     "execution_count": 58,
     "metadata": {},
     "output_type": "execute_result"
    }
   ],
   "source": [
    "def circle_area(radius):\n",
    "    return 3.1415 * radius**2\n",
    "\n",
    "circle_area(2)"
   ]
  },
  {
   "cell_type": "markdown",
   "id": "90e4f12a",
   "metadata": {},
   "source": [
    "**Exercise**. Write a function to calculate the volume of a cylinder.\n",
    "- Note: Use the previous function"
   ]
  },
  {
   "cell_type": "code",
   "execution_count": 59,
   "id": "601dfe29",
   "metadata": {},
   "outputs": [
    {
     "data": {
      "text/plain": [
       "125.66000000000001"
      ]
     },
     "execution_count": 59,
     "metadata": {},
     "output_type": "execute_result"
    }
   ],
   "source": [
    "def cylinder_volume(radius, height):\n",
    "    return circle_area(radius) * height\n",
    "\n",
    "cylinder_volume(2, 10)"
   ]
  },
  {
   "cell_type": "markdown",
   "id": "7af9ee4f",
   "metadata": {},
   "source": [
    "**Exercise**. Function to sum all elements in a list"
   ]
  },
  {
   "cell_type": "code",
   "execution_count": null,
   "id": "1bd97cf3",
   "metadata": {},
   "outputs": [],
   "source": [
    "def sum_list(lst):\n",
    "    result = 0\n",
    "    for element in lst:\n",
    "        result = result + element\n",
    "    return result\n",
    "\n",
    "sum_list([2, 3, 4, 7])"
   ]
  },
  {
   "cell_type": "markdown",
   "id": "f9f49760",
   "metadata": {},
   "source": [
    "a) Modify it by allowing to concatenate strings and sequences\n",
    "- Hint: Pass a parameter for default value"
   ]
  },
  {
   "cell_type": "code",
   "execution_count": null,
   "id": "fcd9caae",
   "metadata": {},
   "outputs": [],
   "source": [
    "def sum_list(lst, default=0):\n",
    "    result = default\n",
    "    for element in lst:\n",
    "        result = result + element\n",
    "    return result\n",
    "\n",
    "sum_list(['the ', 'cat ', 'is uggly'], '')"
   ]
  },
  {
   "cell_type": "markdown",
   "id": "b970bcc3",
   "metadata": {},
   "source": [
    "Note: A better option is to use the first element for initializing result"
   ]
  },
  {
   "cell_type": "code",
   "execution_count": null,
   "id": "6d41b8b0",
   "metadata": {},
   "outputs": [],
   "source": [
    "def sum_list(lst):\n",
    "    if len(lst) == 0:\n",
    "        return []\n",
    "    result = lst[0]\n",
    "    for element in lst[1:]:\n",
    "        result = result + element\n",
    "    return result\n",
    "\n",
    "sum_list([(2, 3,4), (3, 4, 5, 6), (3, 7)])"
   ]
  },
  {
   "cell_type": "markdown",
   "id": "ba84a0b9",
   "metadata": {},
   "source": [
    "**Exercise**. Function to sum all elements in a list. The list can contain other sublists, which need to be summed as well.\n",
    "- Tip: type(l)==list returns True if the element is a list"
   ]
  },
  {
   "cell_type": "code",
   "execution_count": 60,
   "id": "732cf890",
   "metadata": {},
   "outputs": [
    {
     "data": {
      "text/plain": [
       "33"
      ]
     },
     "execution_count": 60,
     "metadata": {},
     "output_type": "execute_result"
    }
   ],
   "source": [
    "def sum_nested_list(lst):\n",
    "    result = 0\n",
    "    for element in lst:\n",
    "        if type(element) == list:\n",
    "            result += sum_nested_list(element)\n",
    "        else:\n",
    "            result += element\n",
    "    return result\n",
    "\n",
    "sum_nested_list([2, [2, [3, 5, 6]], 4, [5, 6]])"
   ]
  },
  {
   "cell_type": "code",
   "execution_count": null,
   "id": "55bafa30-ef20-422e-b6e7-8bcf68a2bada",
   "metadata": {},
   "outputs": [],
   "source": []
  }
 ],
 "metadata": {
  "kernelspec": {
   "display_name": "Python 3 (ipykernel)",
   "language": "python",
   "name": "python3"
  },
  "language_info": {
   "codemirror_mode": {
    "name": "ipython",
    "version": 3
   },
   "file_extension": ".py",
   "mimetype": "text/x-python",
   "name": "python",
   "nbconvert_exporter": "python",
   "pygments_lexer": "ipython3",
   "version": "3.12.7"
  }
 },
 "nbformat": 4,
 "nbformat_minor": 5
}
