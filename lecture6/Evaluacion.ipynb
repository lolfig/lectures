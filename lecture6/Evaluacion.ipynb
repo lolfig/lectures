{
 "cells": [
  {
   "cell_type": "markdown",
   "id": "4e61e2e6",
   "metadata": {},
   "source": [
    "# Clase Practica"
   ]
  },
  {
   "cell_type": "markdown",
   "id": "dbf9bc17",
   "metadata": {},
   "source": [
    "## Question 1\n",
    "Sum togheter every number from 0 to 10000 except for those than can ve divided by 4 or 7. Do this in two line of code"
   ]
  },
  {
   "cell_type": "markdown",
   "id": "9d22ec1a",
   "metadata": {},
   "source": [
    "## Question 2:\n",
    "Consider the flower petal $r(\\theta)=1+\\frac{3}{4}sin(3 \\theta)$ for $0 <= \\theta <= 2 \\pi$.\n",
    "1. Make a plot of the flower (find x and y points)\n",
    "2. Compute the area using the calculus formula $A = \\int_{0}^{2 \\pi} \\frac{1}{2}r^2 d \\theta$\n",
    "3. Compute the arclength using the calculus formula $L = \\int_{0}^{2 \\pi}\\sqrt{r^2 + (\\frac{dr}{d \\theta}) d \\theta}$"
   ]
  },
  {
   "cell_type": "markdown",
   "id": "cc535f4a",
   "metadata": {},
   "source": [
    " ## Question 3\n",
    " The power emitted by a blackbody is $P=A \\sigma \\epsilon T^4$. After measuring the temperature of a star you finde that $T(t)=T_0 \\frac{1}{1+ e^{-kt}}$. Plot the total energy emitted by the star as a function of time using the fact that $E(t)=\\int_{t'=0}^{t'=t}P(t')dt'$\n",
    "\n",
    "\n",
    " $$P / (A \\sigma \\epsilon) = T^4$$\n",
    "$$P / (A \\sigma \\epsilon T_0^4) = \\left( \\frac{1}{1+e^{-kt}} \\right)^4$$"
   ]
  },
  {
   "cell_type": "markdown",
   "id": "3325b921",
   "metadata": {},
   "source": [
    "# Question 4\n",
    "\n",
    "After examining a circuit full of resistor, you find that the voltage at 4 specified points is given by:\n",
    "\n",
    "$3v_1 + 2v_2 + 3v_3 + 10v_4 = 4$\n",
    "\n",
    "$2v_1 - 2v_2 + 5v_3 + 8v_4 = 1$\n",
    "\n",
    "$3v_1 + 3v_2 + 4v_3 + 9v_4 = 3$\n",
    "\n",
    "$3v_1 + 4v_2 - 3v_3 - 7v_4 = 2$\n",
    "\n",
    "Find all the voltages"
   ]
  },
  {
   "cell_type": "markdown",
   "id": "f6e7c87a",
   "metadata": {},
   "source": []
  }
 ],
 "metadata": {
  "language_info": {
   "name": "python"
  }
 },
 "nbformat": 4,
 "nbformat_minor": 5
}
