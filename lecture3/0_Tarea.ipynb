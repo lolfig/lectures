{
 "cells": [
  {
   "cell_type": "markdown",
   "id": "1917aa87-9a42-4927-8976-d56c3f0bc50b",
   "metadata": {},
   "source": [
    "# Ejercicio 1: Conversión de unidades con map y lambda\n",
    "# --------------------------------------------------\n",
    "# Dada una lista de distancias en parsecs, convertirlas a años luz\n",
    "# 1 parsec = 3.26156 años luz\n",
    "# Usar map y lambda para la conversión"
   ]
  },
  {
   "cell_type": "code",
   "execution_count": null,
   "id": "7c33f53c-b36a-432d-afe9-03226350b0a7",
   "metadata": {},
   "outputs": [],
   "source": [
    "distancias_parsecs = [1.5, 3.2, 0.8, 7.6]\n",
    "\n",
    "# TU CÓDIGO AQUÍ\n",
    "distancias_años_luz = list(map(lambda x: x * 3.26156, distancias_parsecs))\n",
    "print(distancias_años_luz)"
   ]
  },
  {
   "cell_type": "markdown",
   "id": "cc64e980-0015-4799-b4ed-f7a2a1d7fe79",
   "metadata": {},
   "source": [
    "# Ejercicio 2: Producto escalar con zip y comprehensions\n",
    "# -----------------------------------------------------\n",
    "# Calcular el trabajo (W = F·d) dados los vectores fuerza y desplazamiento\n",
    "# F = [12, 3, -5] N\n",
    "# d = [4, -2, 7] m\n",
    "# Usar zip y una comprehension"
   ]
  },
  {
   "cell_type": "code",
   "execution_count": null,
   "id": "74aff94b-0591-4f45-9993-ca38e5176d71",
   "metadata": {},
   "outputs": [],
   "source": [
    "F = [12, 3, -5]\n",
    "d = [4, -2, 7]\n",
    "\n",
    "# TU CÓDIGO AQUÍ\n",
    "trabajo = sum([f * des for f, des in zip(F, d)])\n",
    "print(f\"Trabajo realizado: {trabajo} J\")"
   ]
  },
  {
   "cell_type": "markdown",
   "id": "615092eb-8ed6-4564-bdd6-c1914ae9766c",
   "metadata": {},
   "source": [
    "# Ejercicio 3: Funciones que retornan funciones (Transformaciones de Lorentz)\n",
    "# -------------------------------------------------------------------------\n",
    "# Crear una función que genere trac = 3e8  # Velocidad de la luz\n",
    "\n",
    "def crea_transformacion(v):\n",
    "    # TU CÓDIGO AQUÍ\n",
    "    return lambda u: (u - v) / (1 - (u * v)/(c**2))\n",
    "\n",
    "# Ejemplo de uso:\n",
    "transformacion = crea_transformacion(0.5*c)\n",
    "print(transformacion(0.7*c))nsformaciones de velocidad relativista\n",
    "# La función debe recibir la velocidad relativa v y retornar una función\n",
    "# que convierta velocidades usando: u' = (u - v)/(1 - uv/c²)"
   ]
  },
  {
   "cell_type": "code",
   "execution_count": null,
   "id": "2c7c787c-63eb-43e4-ae22-faad55002c44",
   "metadata": {},
   "outputs": [],
   "source": [
    "c = 3e8  # Velocidad de la luz\n",
    "\n",
    "def crea_transformacion(v):\n",
    "    # TU CÓDIGO AQUÍ\n",
    "    return lambda u: (u - v) / (1 - (u * v)/(c**2))\n",
    "\n",
    "# Ejemplo de uso:\n",
    "transformacion = crea_transformacion(0.5*c)\n",
    "print(transformacion(0.7*c))"
   ]
  },
  {
   "cell_type": "markdown",
   "id": "d26e02b4-b96d-41d6-8b1e-03b5b8ebfeee",
   "metadata": {},
   "source": [
    "# Ejercicio 4: Filtro de partículas con comprehensions\n",
    "# ---------------------------------------------------\n",
    "# Dada una lista de partículas con masa y velocidad, filtrar aquellas\n",
    "# que cumplan con Ecinética > 100 MeV\n",
    "# Ecinética = (gamma - 1)mc²\n",
    "# gamma = 1/√(1 - v²/c²)\n",
    "# Usar una comprehension con condicional"
   ]
  },
  {
   "cell_type": "code",
   "execution_count": null,
   "id": "c9da3e8c-8570-4854-97ab-c3a428ab44dc",
   "metadata": {},
   "outputs": [],
   "source": [
    "particulas = [\n",
    "    {'masa': 9.11e-31, 'velocidad': 2.8e8},  # Electrón\n",
    "    {'masa': 1.67e-27, 'velocidad': 1.5e8},  # Protón\n",
    "    {'masa': 6.64e-27, 'velocidad': 2.9e8}   # Partícula alfa\n",
    "]\n",
    "\n",
    "def energia_cinetica(m, v):\n",
    "    gamma = 1 / (1 - (v**2)/(c**2))**0.5\n",
    "    return (gamma - 1) * m * c**2\n",
    "\n",
    "# TU CÓDIGO AQUÍ\n",
    "particulas_altas = [p for p in particulas if energia_cinetica(p['masa'], p['velocidad']) > 100e6*1.6e-13]\n",
    "print(particulas_altas)"
   ]
  },
  {
   "cell_type": "markdown",
   "id": "49a3bac0-8179-41c1-9207-de718d6209be",
   "metadata": {},
   "source": [
    "# Ejercicio 5: Integración numérica con programación funcional\n",
    "# ----------------------------------------------------------\n",
    "# Implementar el método del trapecio para ∫a^b f(x)dx usando:\n",
    "# 1. Una función que genere los intervalos (usar range o comprehension)\n",
    "# 2. map para evaluar la función en los puntos\n",
    "# 3. sum para calcular el área total"
   ]
  },
  {
   "cell_type": "code",
   "execution_count": null,
   "id": "b55b29ff-d12b-4084-be66-169a5c3a7ecc",
   "metadata": {},
   "outputs": [],
   "source": [
    "def trapecio(f, a, b, n):\n",
    "    # TU CÓDIGO AQUÍ\n",
    "    h = (b - a)/n\n",
    "    x = [a + i*h for i in range(n+1)]\n",
    "    y = list(map(f, x))\n",
    "    return (h/2)*(y[0] + 2*sum(y[1:-1]) + y[-1])\n",
    "\n",
    "# Ejemplo de uso:\n",
    "resultado = trapecio(lambda x: x**2, 0, 2, 1000)\n",
    "print(f\"∫x² de 0 a 2 ≈ {resultado}\")"
   ]
  },
  {
   "cell_type": "markdown",
   "id": "458c43bc-e6f2-4ae6-88c8-aa4071ead55b",
   "metadata": {},
   "source": [
    "# BONUS: Crea una función que calcule el potencial gravitatorio\n",
    "# Φ = -G ∑ (m_i / |r - r_i|) usando programación funcional\n",
    "# donde G=6.67e-11, y recibir una lista de masas y posiciones"
   ]
  },
  {
   "cell_type": "code",
   "execution_count": null,
   "id": "7ff7e04a-4598-429f-8f8a-9ac6fe5fb471",
   "metadata": {},
   "outputs": [],
   "source": []
  }
 ],
 "metadata": {
  "kernelspec": {
   "display_name": "Python 3 (ipykernel)",
   "language": "python",
   "name": "python3"
  },
  "language_info": {
   "codemirror_mode": {
    "name": "ipython",
    "version": 3
   },
   "file_extension": ".py",
   "mimetype": "text/x-python",
   "name": "python",
   "nbconvert_exporter": "python",
   "pygments_lexer": "ipython3",
   "version": "3.12.7"
  }
 },
 "nbformat": 4,
 "nbformat_minor": 5
}
