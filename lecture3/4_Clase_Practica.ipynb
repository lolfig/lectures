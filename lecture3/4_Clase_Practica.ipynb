{
 "cells": [
  {
   "cell_type": "markdown",
   "id": "994d3a1a-6f55-4c2d-8f63-c0c16a6605f9",
   "metadata": {},
   "source": [
    "# Temas: Comprehensions, Iterators, Functional Programming "
   ]
  },
  {
   "cell_type": "markdown",
   "id": "130bd743-8bc9-4e8a-b420-cd2ceb65db18",
   "metadata": {},
   "source": [
    "**Ejercicio 1:** Crear una lista de velocidades  \n",
    "\n",
    "Supongamos que tienes una lista de distancias recorridas por un objeto en diferentes intervalos de tiempo. Calcula las velocidades correspondientes usando una list comprehension . "
   ]
  },
  {
   "cell_type": "code",
   "execution_count": 4,
   "id": "d5de8941-bdf8-4b2c-9b7f-4eb6ca65b1e0",
   "metadata": {},
   "outputs": [],
   "source": [
    "distances = [10, 20, 30, 40, 50]\n",
    "times = [1, 2, 3, 4, 5]\n",
    "\n",
    "\n",
    "# velocities = ?"
   ]
  },
  {
   "cell_type": "markdown",
   "id": "4739e594-7ff5-41ea-8413-9be5a17d20f2",
   "metadata": {},
   "source": [
    "**Ejercicio 2:** Calcular el desplazamiento total\n",
    "\n",
    "Dadas las posiciones iniciales y finales de un objeto, calcula el desplazamiento total usando zip. "
   ]
  },
  {
   "cell_type": "code",
   "execution_count": 5,
   "id": "07d75ddd-e2f5-496c-bc58-2d108e578c61",
   "metadata": {},
   "outputs": [],
   "source": [
    "initial_positions = [0, 5, 10, 15]\n",
    "final_positions = [5, 10, 15, 20]\n",
    "\n",
    "\n",
    "# Desplazamiento = posición final - posición inicial\n",
    "# displacements = ?"
   ]
  },
  {
   "cell_type": "markdown",
   "id": "5801f649-3ca9-4b74-a4d4-5dd44dfe10ad",
   "metadata": {},
   "source": [
    "**Ejercicio 3:** Generar todas las combinaciones de fuerzas  \n",
    "\n",
    "Supongamos que tienes una lista de fuerzas aplicadas a un sistema. Usa itertools para encontrar todas las combinaciones posibles de dos fuerzas. "
   ]
  },
  {
   "cell_type": "code",
   "execution_count": 6,
   "id": "9f7c3f18-999a-4437-b7cb-c697c291490f",
   "metadata": {},
   "outputs": [],
   "source": [
    "forces = [10, 20, 30, 40]\n",
    "\n",
    "# force_combinations = ?"
   ]
  },
  {
   "cell_type": "markdown",
   "id": "6599ab78-16e9-495e-b133-ffc716653edd",
   "metadata": {},
   "source": [
    "**Ejercicio 4:** Filtrar partículas por energía\n",
    "\n",
    "Supongamos que tienes una lista de energías de partículas y quieres filtrar aquellas que tienen una energía mayor a un umbral dado. "
   ]
  },
  {
   "cell_type": "code",
   "execution_count": 8,
   "id": "8f0fff43-a80c-4aca-bc77-93f4fd82ed63",
   "metadata": {},
   "outputs": [],
   "source": [
    "energies = [1.5, 2.3, 0.8, 3.2, 1.9]\n",
    "\n",
    "threshold = 2.0\n",
    "\n",
    "# high_energy_particles = ?"
   ]
  },
  {
   "cell_type": "markdown",
   "id": "4554b25f-6aad-46e0-949c-ccf187fe9b49",
   "metadata": {},
   "source": [
    "**Ejercicio 5:** Estás realizando un experimento donde lanzas varias pelotas desde diferentes alturas iniciales. Quieres calcular:\n",
    "\n",
    "1. El tiempo que tarda cada pelota en caer.\n",
    "2. La velocidad final justo antes de tocar el suelo.\n",
    "3. Todas las combinaciones posibles de alturas iniciales.\n",
    "\n",
    "Usa las siguientes fórmulas:\n",
    "- Tiempo de caída: $ t = \\sqrt{\\frac{2h}{g}} $\n",
    "- Velocidad final: $ v = g \\cdot t $\n",
    "Donde $ g = 9.8 \\, \\text{m/s}^2 $.\n",
    "\n",
    "```python\n",
    "# Constante g\n",
    "g = 9.8\n",
    "\n",
    "# Alturas iniciales\n",
    "heights = [5, 10, 15, 20]"
   ]
  },
  {
   "cell_type": "code",
   "execution_count": null,
   "id": "c67a32d1-9192-41f5-8675-df55ca2e77fb",
   "metadata": {},
   "outputs": [],
   "source": []
  }
 ],
 "metadata": {
  "kernelspec": {
   "display_name": "Python 3 (ipykernel)",
   "language": "python",
   "name": "python3"
  },
  "language_info": {
   "codemirror_mode": {
    "name": "ipython",
    "version": 3
   },
   "file_extension": ".py",
   "mimetype": "text/x-python",
   "name": "python",
   "nbconvert_exporter": "python",
   "pygments_lexer": "ipython3",
   "version": "3.12.7"
  }
 },
 "nbformat": 4,
 "nbformat_minor": 5
}
