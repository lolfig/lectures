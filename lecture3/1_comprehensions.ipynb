{
 "cells": [
  {
   "cell_type": "markdown",
   "id": "24d212f6",
   "metadata": {},
   "source": [
    "# Comprehensions\n",
    "\n",
    "Las comprensiones de Python son métodos concisos para crear nuevas secuencias (listas, conjuntos, diccionarios) mediante operaciones con secuencias existentes.\n",
    "\n",
    "Permiten escribir código compacto y legible para generar secuencias basadas en ciertas condiciones o transformaciones.\n",
    "\n",
    "Existen tres tipos de comprensiones en Python: de lista, de conjunto y de diccionario.\n"
   ]
  },
  {
   "cell_type": "markdown",
   "id": "28ffee8d",
   "metadata": {},
   "source": [
    "## List comprehensions\n",
    "Las comprensiones de listas ofrecen una forma concisa de crear nuevas listas a partir de listas existentes u otros objetos iterables.\n",
    "\n",
    "Syntax:\n",
    "\n",
    "new_list = [expression for item in iterable if condition]\n",
    "\n",
    "Donde:\n",
    "- expression: La operación o transformación que se aplicará a cada elemento.\n",
    "- item: El elemento del iterable que se está procesando.\n",
    "- iterable: La lista, cadena o cualquier otro objeto iterable existente.\n",
    "- condition (opcional): Una condición que filtra los elementos según un criterio determinado.\n",
    "\n",
    "Veamos algunos ejemplos."
   ]
  },
  {
   "cell_type": "code",
   "execution_count": 1,
   "id": "45c49ccb",
   "metadata": {},
   "outputs": [],
   "source": [
    "base_list = [1, 2, 3, 4, 5, 6, 7, 8]"
   ]
  },
  {
   "cell_type": "code",
   "execution_count": 2,
   "id": "265851eb",
   "metadata": {},
   "outputs": [
    {
     "data": {
      "text/plain": [
       "[1, 2, 3, 4, 5, 6, 7, 8]"
      ]
     },
     "execution_count": 2,
     "metadata": {},
     "output_type": "execute_result"
    }
   ],
   "source": [
    "[x for x in base_list]"
   ]
  },
  {
   "cell_type": "markdown",
   "id": "5b15faf6",
   "metadata": {},
   "source": [
    "Apliquemos algunas transformaciones."
   ]
  },
  {
   "cell_type": "code",
   "execution_count": null,
   "id": "34b83971",
   "metadata": {},
   "outputs": [],
   "source": [
    "[x ** 2 for x in base_list]"
   ]
  },
  {
   "cell_type": "code",
   "execution_count": null,
   "id": "9d1dbe13",
   "metadata": {},
   "outputs": [],
   "source": [
    "[x > 5 for x in base_list]"
   ]
  },
  {
   "cell_type": "markdown",
   "id": "dc0943f7",
   "metadata": {},
   "source": [
    "Podemos crear tipos estructurados dentro de la lista resultante"
   ]
  },
  {
   "cell_type": "code",
   "execution_count": 3,
   "id": "17ed8a54",
   "metadata": {
    "scrolled": true
   },
   "outputs": [
    {
     "data": {
      "text/plain": [
       "[(1, 1), (2, 4), (3, 9), (4, 16), (5, 25), (6, 36), (7, 49), (8, 64)]"
      ]
     },
     "execution_count": 3,
     "metadata": {},
     "output_type": "execute_result"
    }
   ],
   "source": [
    "[(x, x**2) for x in base_list]"
   ]
  },
  {
   "cell_type": "code",
   "execution_count": 4,
   "id": "14df6cd3",
   "metadata": {
    "scrolled": true
   },
   "outputs": [
    {
     "data": {
      "text/plain": [
       "[[1, 2, 3],\n",
       " [2, 3, 4],\n",
       " [3, 4, 5],\n",
       " [4, 5, 6],\n",
       " [5, 6, 7],\n",
       " [6, 7, 8],\n",
       " [7, 8, 9],\n",
       " [8, 9, 10]]"
      ]
     },
     "execution_count": 4,
     "metadata": {},
     "output_type": "execute_result"
    }
   ],
   "source": [
    "[[x, x+1, x+2] for x in base_list]"
   ]
  },
  {
   "cell_type": "code",
   "execution_count": 5,
   "id": "7ff3aeaa",
   "metadata": {
    "scrolled": true
   },
   "outputs": [
    {
     "data": {
      "text/plain": [
       "['<>',\n",
       " '<><>',\n",
       " '<><><>',\n",
       " '<><><><>',\n",
       " '<><><><><>',\n",
       " '<><><><><><>',\n",
       " '<><><><><><><>',\n",
       " '<><><><><><><><>']"
      ]
     },
     "execution_count": 5,
     "metadata": {},
     "output_type": "execute_result"
    }
   ],
   "source": [
    "[\"<>\" * x for x in base_list]"
   ]
  },
  {
   "cell_type": "markdown",
   "id": "04d6cbf8",
   "metadata": {},
   "source": [
    "Filtrar los resultados"
   ]
  },
  {
   "cell_type": "code",
   "execution_count": 6,
   "id": "50cdcfe5",
   "metadata": {},
   "outputs": [
    {
     "data": {
      "text/plain": [
       "[1, 2, 3, 4, 5, 6, 7, 8]"
      ]
     },
     "execution_count": 6,
     "metadata": {},
     "output_type": "execute_result"
    }
   ],
   "source": [
    "base_list"
   ]
  },
  {
   "cell_type": "code",
   "execution_count": 7,
   "id": "d608bb9a",
   "metadata": {},
   "outputs": [
    {
     "data": {
      "text/plain": [
       "[5, 6, 7, 8]"
      ]
     },
     "execution_count": 7,
     "metadata": {},
     "output_type": "execute_result"
    }
   ],
   "source": [
    "[x for x in base_list if x > 4]"
   ]
  },
  {
   "cell_type": "code",
   "execution_count": 8,
   "id": "4227959b",
   "metadata": {},
   "outputs": [
    {
     "data": {
      "text/plain": [
       "[2, 4, 6, 8]"
      ]
     },
     "execution_count": 8,
     "metadata": {},
     "output_type": "execute_result"
    }
   ],
   "source": [
    "[x for x in base_list if x % 2 == 0]"
   ]
  },
  {
   "cell_type": "markdown",
   "id": "eec52eb9",
   "metadata": {},
   "source": [
    "### Nested comprehensions\n",
    "También puedes anidar comprensiones, donde cada elemento que creas utiliza otra comprensión."
   ]
  },
  {
   "cell_type": "code",
   "execution_count": 9,
   "id": "c3825db5",
   "metadata": {
    "scrolled": true
   },
   "outputs": [
    {
     "data": {
      "text/plain": [
       "[[0],\n",
       " [0, 1],\n",
       " [0, 1, 2],\n",
       " [0, 1, 2, 3],\n",
       " [0, 1, 2, 3, 4],\n",
       " [0, 1, 2, 3, 4, 5],\n",
       " [0, 1, 2, 3, 4, 5, 6],\n",
       " [0, 1, 2, 3, 4, 5, 6, 7]]"
      ]
     },
     "execution_count": 9,
     "metadata": {},
     "output_type": "execute_result"
    }
   ],
   "source": [
    "[[v for v in range(x)] for x in base_list]"
   ]
  },
  {
   "cell_type": "code",
   "execution_count": 10,
   "id": "6e5d9243",
   "metadata": {},
   "outputs": [
    {
     "data": {
      "text/plain": [
       "[[1, 2, 3], [2, 4, 6], [3, 6, 9]]"
      ]
     },
     "execution_count": 10,
     "metadata": {},
     "output_type": "execute_result"
    }
   ],
   "source": [
    "[[row * col for col in range(1, 4)] for row in range(1, 4)]"
   ]
  },
  {
   "cell_type": "markdown",
   "id": "a55ec0e5",
   "metadata": {},
   "source": [
    "## Chained comprehensions"
   ]
  },
  {
   "cell_type": "code",
   "execution_count": 11,
   "id": "4b825cad",
   "metadata": {},
   "outputs": [
    {
     "data": {
      "text/plain": [
       "[1, 2, 3, 4, 5, 6, 7, 8, 9]"
      ]
     },
     "execution_count": 11,
     "metadata": {},
     "output_type": "execute_result"
    }
   ],
   "source": [
    "# Flattening a nested list\n",
    "nested_list = [[1, 2, 3], [4, 5, 6], [7, 8, 9]]\n",
    "\n",
    "[v for sublist in nested_list for v in sublist]"
   ]
  },
  {
   "cell_type": "code",
   "execution_count": 12,
   "id": "fe9a5a01",
   "metadata": {},
   "outputs": [
    {
     "name": "stdout",
     "output_type": "stream",
     "text": [
      "[(1, 2), (1, 3), (1, 4), (1, 5), (2, 1), (2, 3), (2, 4), (2, 5), (3, 1), (3, 2), (3, 4), (3, 5), (4, 1), (4, 2), (4, 3), (4, 5), (5, 1), (5, 2), (5, 3), (5, 4)]\n"
     ]
    }
   ],
   "source": [
    "# Creating a list of tuples\n",
    "numbers = [1, 2, 3, 4, 5]\n",
    "pairs = [(x, y) for x in numbers for y in numbers if x != y]\n",
    "print(pairs)"
   ]
  },
  {
   "cell_type": "markdown",
   "id": "9bbb1a08",
   "metadata": {},
   "source": [
    "## Dictionary Comprehensions\n",
    "Las comprensiones de diccionario en Python permiten crear diccionarios de forma concisa y expresiva. Siguen una sintaxis similar a la de las comprensiones de lista, pero generan diccionarios como resultado.\n",
    "\n",
    "Syntax:\n",
    "\n",
    "new_dict = {key_expression: value_expression for item in iterable if condition}"
   ]
  },
  {
   "cell_type": "code",
   "execution_count": 13,
   "id": "3a986917",
   "metadata": {},
   "outputs": [
    {
     "data": {
      "text/plain": [
       "[0, 1, 2, 3, 4, 5, 6, 7, 8, 9]"
      ]
     },
     "execution_count": 13,
     "metadata": {},
     "output_type": "execute_result"
    }
   ],
   "source": [
    "values = [x for x in range(10)]\n",
    "values"
   ]
  },
  {
   "cell_type": "code",
   "execution_count": 14,
   "id": "3e46b7dd",
   "metadata": {
    "scrolled": true
   },
   "outputs": [
    {
     "data": {
      "text/plain": [
       "{0: 0, 1: 0, 2: 0, 3: 0, 4: 0, 5: 0, 6: 0, 7: 0, 8: 0, 9: 0}"
      ]
     },
     "execution_count": 14,
     "metadata": {},
     "output_type": "execute_result"
    }
   ],
   "source": [
    "{x: 0 for x in values}"
   ]
  },
  {
   "cell_type": "code",
   "execution_count": 15,
   "id": "91c90ab1",
   "metadata": {},
   "outputs": [
    {
     "data": {
      "text/plain": [
       "{0: 0, 1: 1, 2: 4, 3: 9, 4: 16, 5: 25, 6: 36, 7: 49, 8: 64, 9: 81}"
      ]
     },
     "execution_count": 15,
     "metadata": {},
     "output_type": "execute_result"
    }
   ],
   "source": [
    "{x: x**2 for x in values}"
   ]
  },
  {
   "cell_type": "code",
   "execution_count": 16,
   "id": "67fa5740",
   "metadata": {},
   "outputs": [
    {
     "data": {
      "text/plain": [
       "{(0, True): [0, 1],\n",
       " (1, False): [1, 2],\n",
       " (2, True): [2, 3],\n",
       " (3, False): [3, 4],\n",
       " (4, True): [4, 5],\n",
       " (5, False): [5, 6],\n",
       " (6, True): [6, 7],\n",
       " (7, False): [7, 8],\n",
       " (8, True): [8, 9],\n",
       " (9, False): [9, 10]}"
      ]
     },
     "execution_count": 16,
     "metadata": {},
     "output_type": "execute_result"
    }
   ],
   "source": [
    "{(x, x % 2 == 0): [x, x+1] for x in values}"
   ]
  },
  {
   "cell_type": "code",
   "execution_count": 17,
   "id": "9bcc4a88",
   "metadata": {},
   "outputs": [],
   "source": [
    "stone_names = [\"Quartz\", \"Amethyst\", \"Diamond\", \"Ruby\", \"Emerald\", \"Sapphire\", \"Topaz\", \"Opal\", \"Jade\", \"Citrine\"]"
   ]
  },
  {
   "cell_type": "code",
   "execution_count": 18,
   "id": "534aeeb0",
   "metadata": {},
   "outputs": [
    {
     "data": {
      "text/plain": [
       "{'Quartz': 6,\n",
       " 'Amethyst': 8,\n",
       " 'Diamond': 7,\n",
       " 'Ruby': 4,\n",
       " 'Emerald': 7,\n",
       " 'Sapphire': 8,\n",
       " 'Topaz': 5,\n",
       " 'Opal': 4,\n",
       " 'Jade': 4,\n",
       " 'Citrine': 7}"
      ]
     },
     "execution_count": 18,
     "metadata": {},
     "output_type": "execute_result"
    }
   ],
   "source": [
    "# Asociar nombre con longitud\n",
    "{name: len(name) for name in stone_names}"
   ]
  },
  {
   "cell_type": "code",
   "execution_count": 19,
   "id": "1d58ef0c",
   "metadata": {},
   "outputs": [
    {
     "data": {
      "text/plain": [
       "{'Quartz': 2,\n",
       " 'Amethyst': 2,\n",
       " 'Diamond': 3,\n",
       " 'Ruby': 1,\n",
       " 'Emerald': 3,\n",
       " 'Sapphire': 3,\n",
       " 'Topaz': 2,\n",
       " 'Opal': 2,\n",
       " 'Jade': 2,\n",
       " 'Citrine': 3}"
      ]
     },
     "execution_count": 19,
     "metadata": {},
     "output_type": "execute_result"
    }
   ],
   "source": [
    "# contar vocales\n",
    "{name: sum(1 for letter in name.lower() if letter in 'aeiou') for name in stone_names}"
   ]
  },
  {
   "cell_type": "code",
   "execution_count": 20,
   "id": "bbab9f0a",
   "metadata": {},
   "outputs": [
    {
     "data": {
      "text/plain": [
       "{'Quartz': 'Yes',\n",
       " 'Amethyst': 'Yes',\n",
       " 'Diamond': 'Yes',\n",
       " 'Ruby': 'No',\n",
       " 'Emerald': 'Yes',\n",
       " 'Sapphire': 'Yes',\n",
       " 'Topaz': 'Yes',\n",
       " 'Opal': 'Yes',\n",
       " 'Jade': 'Yes',\n",
       " 'Citrine': 'No'}"
      ]
     },
     "execution_count": 20,
     "metadata": {},
     "output_type": "execute_result"
    }
   ],
   "source": [
    "# ¿Contiene 'a'?\n",
    "{name: 'Yes' if 'a' in name.lower() else 'No' for name in stone_names}"
   ]
  },
  {
   "cell_type": "code",
   "execution_count": null,
   "id": "8fdacd12",
   "metadata": {},
   "outputs": [],
   "source": [
    "# Reverse names\n",
    "{name: name[::-1] for name in stone_names}"
   ]
  },
  {
   "cell_type": "markdown",
   "id": "5d5414f6",
   "metadata": {},
   "source": [
    "También se pueden utilizar filtros"
   ]
  },
  {
   "cell_type": "code",
   "execution_count": 21,
   "id": "64092d39",
   "metadata": {
    "scrolled": true
   },
   "outputs": [
    {
     "data": {
      "text/plain": [
       "{'Amethyst': 8, 'Emerald': 7, 'Opal': 4}"
      ]
     },
     "execution_count": 21,
     "metadata": {},
     "output_type": "execute_result"
    }
   ],
   "source": [
    "{s: len(s) for s in stone_names if s[0] in \"AEIOU\"}"
   ]
  },
  {
   "cell_type": "code",
   "execution_count": 22,
   "id": "a051ffef",
   "metadata": {},
   "outputs": [
    {
     "data": {
      "text/plain": [
       "{'Quartz': 6,\n",
       " 'Amethyst': 8,\n",
       " 'Diamond': 7,\n",
       " 'Emerald': 7,\n",
       " 'Sapphire': 8,\n",
       " 'Citrine': 7}"
      ]
     },
     "execution_count": 22,
     "metadata": {},
     "output_type": "execute_result"
    }
   ],
   "source": [
    "{name: len(name) for name in stone_names if len(name) > 5}"
   ]
  },
  {
   "cell_type": "code",
   "execution_count": 23,
   "id": "8e8dad1c",
   "metadata": {},
   "outputs": [
    {
     "data": {
      "text/plain": [
       "{'Amethyst': 2, 'Emerald': 3, 'Opal': 2}"
      ]
     },
     "execution_count": 23,
     "metadata": {},
     "output_type": "execute_result"
    }
   ],
   "source": [
    "{name: sum(1 for letter in name.lower() if letter in 'aeiou') for name in stone_names if name[0].lower() in 'aeiou'}"
   ]
  },
  {
   "cell_type": "code",
   "execution_count": 24,
   "id": "e8e578c2",
   "metadata": {},
   "outputs": [
    {
     "data": {
      "text/plain": [
       "{'madam': None, 'level': None}"
      ]
     },
     "execution_count": 24,
     "metadata": {},
     "output_type": "execute_result"
    }
   ],
   "source": [
    "# Sólo para palíndromos\n",
    "words = ['opal', 'emerald', 'ruby', 'madam', 'sapphire', 'level', 'diamond']\n",
    "{name: None for name in words if name.lower() == name.lower()[::-1]}\n"
   ]
  },
  {
   "cell_type": "markdown",
   "id": "d99b13fb",
   "metadata": {},
   "source": [
    "## Ejercicios Resueltos\n"
   ]
  },
  {
   "cell_type": "markdown",
   "id": "1035ef96",
   "metadata": {},
   "source": [
    "### List Comprehensions"
   ]
  },
  {
   "cell_type": "markdown",
   "id": "7982506b",
   "metadata": {},
   "source": [
    "**Ejercicio**. Crea una lista idéntica a la primera lista usando la comprensión de listas."
   ]
  },
  {
   "cell_type": "code",
   "execution_count": 25,
   "id": "ff147b8e",
   "metadata": {},
   "outputs": [
    {
     "data": {
      "text/plain": [
       "[2, 3, 4, 5, 6]"
      ]
     },
     "execution_count": 25,
     "metadata": {},
     "output_type": "execute_result"
    }
   ],
   "source": [
    "l = [2, 3, 4, 5, 6]\n",
    "[x for x in l]"
   ]
  },
  {
   "cell_type": "markdown",
   "id": "069601c9",
   "metadata": {},
   "source": [
    "**Ejercicio**. Crea una lista con los elementos de un rango de 1200 a 2000, con incrementos de 130, usando comprensión de listas."
   ]
  },
  {
   "cell_type": "code",
   "execution_count": 26,
   "id": "212bb328",
   "metadata": {},
   "outputs": [
    {
     "data": {
      "text/plain": [
       "[1200, 1330, 1460, 1590, 1720, 1850, 1980]"
      ]
     },
     "execution_count": 26,
     "metadata": {},
     "output_type": "execute_result"
    }
   ],
   "source": [
    "[x for x in range(1200, 2001, 130)]"
   ]
  },
  {
   "cell_type": "markdown",
   "id": "3fb451ec",
   "metadata": {},
   "source": [
    "**Ejercicio**. Usa la comprensión de listas para construir una nueva lista, pero suma 6 a cada elemento."
   ]
  },
  {
   "cell_type": "code",
   "execution_count": 27,
   "id": "19dea746",
   "metadata": {},
   "outputs": [
    {
     "data": {
      "text/plain": [
       "[8, 9, 10, 11, 12]"
      ]
     },
     "execution_count": 27,
     "metadata": {},
     "output_type": "execute_result"
    }
   ],
   "source": [
    "l = [2, 3, 4, 5, 6]\n",
    "[x + 6 for x in l]"
   ]
  },
  {
   "cell_type": "markdown",
   "id": "f5d73807",
   "metadata": {},
   "source": [
    "**Ejercicio**. Usando la comprensión de listas, construye una lista con los cuadrados de cada elemento."
   ]
  },
  {
   "cell_type": "code",
   "execution_count": 28,
   "id": "3e5309b3",
   "metadata": {},
   "outputs": [
    {
     "data": {
      "text/plain": [
       "[4, 16, 36, 64, 100, 144, 196]"
      ]
     },
     "execution_count": 28,
     "metadata": {},
     "output_type": "execute_result"
    }
   ],
   "source": [
    "l = [2, 4, 6, 8, 10, 12, 14]\n",
    "[x ** 2 for x in l]"
   ]
  },
  {
   "cell_type": "markdown",
   "id": "3dd06263",
   "metadata": {},
   "source": [
    "**Ejercicio**. Usando la comprensión de listas, construye una lista con los cuadrados de cada elemento, si el cuadrado es mayor que 50.\n"
   ]
  },
  {
   "cell_type": "code",
   "execution_count": 29,
   "id": "4bb88732",
   "metadata": {},
   "outputs": [
    {
     "data": {
      "text/plain": [
       "[64, 100, 144, 196]"
      ]
     },
     "execution_count": 29,
     "metadata": {},
     "output_type": "execute_result"
    }
   ],
   "source": [
    "l = [2, 4, 6, 8, 10, 12, 14]\n",
    "[x ** 2 for x in l if x**2 > 50]"
   ]
  },
  {
   "cell_type": "markdown",
   "id": "aa7dbf23",
   "metadata": {},
   "source": [
    "a) Modificar la solución para evitar calcular la potencia dos veces"
   ]
  },
  {
   "cell_type": "code",
   "execution_count": 30,
   "id": "27262b1c",
   "metadata": {},
   "outputs": [
    {
     "data": {
      "text/plain": [
       "[64, 100, 144, 196]"
      ]
     },
     "execution_count": 30,
     "metadata": {},
     "output_type": "execute_result"
    }
   ],
   "source": [
    "[v for v in [x**2 for x in l] if v > 50]"
   ]
  },
  {
   "cell_type": "markdown",
   "id": "63b31c72",
   "metadata": {},
   "source": [
    "**Ejercicio**. El diccionario contiene vehículos y sus pesos en kilogramos. Construya una lista con los nombres de vehículos con un peso inferior a 5000 kilogramos. En la misma lista de comprensión, escriba todos los nombres clave en mayúsculas.\n"
   ]
  },
  {
   "cell_type": "code",
   "execution_count": 31,
   "id": "0b32be2f",
   "metadata": {},
   "outputs": [
    {
     "data": {
      "text/plain": [
       "['SEDAN', 'SUV', 'PICKUP', 'MINIVAN', 'VAN', 'BICYCLE', 'MOTORCYCLE']"
      ]
     },
     "execution_count": 31,
     "metadata": {},
     "output_type": "execute_result"
    }
   ],
   "source": [
    "dict={\"Sedan\": 1500, \"SUV\": 2000, \"Pickup\": 2500, \"Minivan\": 1600, \n",
    "      \"Van\": 2400, \"Semi\": 13600, \"Bicycle\": 7, \"Motorcycle\": 110}\n",
    "[k.upper() for k, v in dict.items() if v < 5000]"
   ]
  },
  {
   "cell_type": "markdown",
   "id": "19cd5308",
   "metadata": {},
   "source": [
    "**Ejercicio**. Encuentra todos los números del 1 al 1000 que sean divisibles por 8."
   ]
  },
  {
   "cell_type": "code",
   "execution_count": 32,
   "id": "0b59eb87",
   "metadata": {
    "scrolled": true
   },
   "outputs": [
    {
     "data": {
      "text/plain": [
       "[8,\n",
       " 16,\n",
       " 24,\n",
       " 32,\n",
       " 40,\n",
       " 48,\n",
       " 56,\n",
       " 64,\n",
       " 72,\n",
       " 80,\n",
       " 88,\n",
       " 96,\n",
       " 104,\n",
       " 112,\n",
       " 120,\n",
       " 128,\n",
       " 136,\n",
       " 144,\n",
       " 152,\n",
       " 160,\n",
       " 168,\n",
       " 176,\n",
       " 184,\n",
       " 192,\n",
       " 200,\n",
       " 208,\n",
       " 216,\n",
       " 224,\n",
       " 232,\n",
       " 240,\n",
       " 248,\n",
       " 256,\n",
       " 264,\n",
       " 272,\n",
       " 280,\n",
       " 288,\n",
       " 296,\n",
       " 304,\n",
       " 312,\n",
       " 320,\n",
       " 328,\n",
       " 336,\n",
       " 344,\n",
       " 352,\n",
       " 360,\n",
       " 368,\n",
       " 376,\n",
       " 384,\n",
       " 392,\n",
       " 400,\n",
       " 408,\n",
       " 416,\n",
       " 424,\n",
       " 432,\n",
       " 440,\n",
       " 448,\n",
       " 456,\n",
       " 464,\n",
       " 472,\n",
       " 480,\n",
       " 488,\n",
       " 496,\n",
       " 504,\n",
       " 512,\n",
       " 520,\n",
       " 528,\n",
       " 536,\n",
       " 544,\n",
       " 552,\n",
       " 560,\n",
       " 568,\n",
       " 576,\n",
       " 584,\n",
       " 592,\n",
       " 600,\n",
       " 608,\n",
       " 616,\n",
       " 624,\n",
       " 632,\n",
       " 640,\n",
       " 648,\n",
       " 656,\n",
       " 664,\n",
       " 672,\n",
       " 680,\n",
       " 688,\n",
       " 696,\n",
       " 704,\n",
       " 712,\n",
       " 720,\n",
       " 728,\n",
       " 736,\n",
       " 744,\n",
       " 752,\n",
       " 760,\n",
       " 768,\n",
       " 776,\n",
       " 784,\n",
       " 792,\n",
       " 800,\n",
       " 808,\n",
       " 816,\n",
       " 824,\n",
       " 832,\n",
       " 840,\n",
       " 848,\n",
       " 856,\n",
       " 864,\n",
       " 872,\n",
       " 880,\n",
       " 888,\n",
       " 896,\n",
       " 904,\n",
       " 912,\n",
       " 920,\n",
       " 928,\n",
       " 936,\n",
       " 944,\n",
       " 952,\n",
       " 960,\n",
       " 968,\n",
       " 976,\n",
       " 984,\n",
       " 992,\n",
       " 1000]"
      ]
     },
     "execution_count": 32,
     "metadata": {},
     "output_type": "execute_result"
    }
   ],
   "source": [
    "[x for x in range(1, 1001) if x % 8 == 0]"
   ]
  },
  {
   "cell_type": "markdown",
   "id": "7bd9c85e",
   "metadata": {},
   "source": [
    "**Ejercicio**. Encuentra todos los números del 1 al 1000 que contengan un 6.\n"
   ]
  },
  {
   "cell_type": "code",
   "execution_count": 33,
   "id": "b92c7adc",
   "metadata": {},
   "outputs": [
    {
     "data": {
      "text/plain": [
       "[6,\n",
       " 16,\n",
       " 26,\n",
       " 36,\n",
       " 46,\n",
       " 56,\n",
       " 60,\n",
       " 61,\n",
       " 62,\n",
       " 63,\n",
       " 64,\n",
       " 65,\n",
       " 66,\n",
       " 67,\n",
       " 68,\n",
       " 69,\n",
       " 76,\n",
       " 86,\n",
       " 96,\n",
       " 106,\n",
       " 116,\n",
       " 126,\n",
       " 136,\n",
       " 146,\n",
       " 156,\n",
       " 160,\n",
       " 161,\n",
       " 162,\n",
       " 163,\n",
       " 164,\n",
       " 165,\n",
       " 166,\n",
       " 167,\n",
       " 168,\n",
       " 169,\n",
       " 176,\n",
       " 186,\n",
       " 196,\n",
       " 206,\n",
       " 216,\n",
       " 226,\n",
       " 236,\n",
       " 246,\n",
       " 256,\n",
       " 260,\n",
       " 261,\n",
       " 262,\n",
       " 263,\n",
       " 264,\n",
       " 265,\n",
       " 266,\n",
       " 267,\n",
       " 268,\n",
       " 269,\n",
       " 276,\n",
       " 286,\n",
       " 296,\n",
       " 306,\n",
       " 316,\n",
       " 326,\n",
       " 336,\n",
       " 346,\n",
       " 356,\n",
       " 360,\n",
       " 361,\n",
       " 362,\n",
       " 363,\n",
       " 364,\n",
       " 365,\n",
       " 366,\n",
       " 367,\n",
       " 368,\n",
       " 369,\n",
       " 376,\n",
       " 386,\n",
       " 396,\n",
       " 406,\n",
       " 416,\n",
       " 426,\n",
       " 436,\n",
       " 446,\n",
       " 456,\n",
       " 460,\n",
       " 461,\n",
       " 462,\n",
       " 463,\n",
       " 464,\n",
       " 465,\n",
       " 466,\n",
       " 467,\n",
       " 468,\n",
       " 469,\n",
       " 476,\n",
       " 486,\n",
       " 496,\n",
       " 506,\n",
       " 516,\n",
       " 526,\n",
       " 536,\n",
       " 546,\n",
       " 556,\n",
       " 560,\n",
       " 561,\n",
       " 562,\n",
       " 563,\n",
       " 564,\n",
       " 565,\n",
       " 566,\n",
       " 567,\n",
       " 568,\n",
       " 569,\n",
       " 576,\n",
       " 586,\n",
       " 596,\n",
       " 600,\n",
       " 601,\n",
       " 602,\n",
       " 603,\n",
       " 604,\n",
       " 605,\n",
       " 606,\n",
       " 607,\n",
       " 608,\n",
       " 609,\n",
       " 610,\n",
       " 611,\n",
       " 612,\n",
       " 613,\n",
       " 614,\n",
       " 615,\n",
       " 616,\n",
       " 617,\n",
       " 618,\n",
       " 619,\n",
       " 620,\n",
       " 621,\n",
       " 622,\n",
       " 623,\n",
       " 624,\n",
       " 625,\n",
       " 626,\n",
       " 627,\n",
       " 628,\n",
       " 629,\n",
       " 630,\n",
       " 631,\n",
       " 632,\n",
       " 633,\n",
       " 634,\n",
       " 635,\n",
       " 636,\n",
       " 637,\n",
       " 638,\n",
       " 639,\n",
       " 640,\n",
       " 641,\n",
       " 642,\n",
       " 643,\n",
       " 644,\n",
       " 645,\n",
       " 646,\n",
       " 647,\n",
       " 648,\n",
       " 649,\n",
       " 650,\n",
       " 651,\n",
       " 652,\n",
       " 653,\n",
       " 654,\n",
       " 655,\n",
       " 656,\n",
       " 657,\n",
       " 658,\n",
       " 659,\n",
       " 660,\n",
       " 661,\n",
       " 662,\n",
       " 663,\n",
       " 664,\n",
       " 665,\n",
       " 666,\n",
       " 667,\n",
       " 668,\n",
       " 669,\n",
       " 670,\n",
       " 671,\n",
       " 672,\n",
       " 673,\n",
       " 674,\n",
       " 675,\n",
       " 676,\n",
       " 677,\n",
       " 678,\n",
       " 679,\n",
       " 680,\n",
       " 681,\n",
       " 682,\n",
       " 683,\n",
       " 684,\n",
       " 685,\n",
       " 686,\n",
       " 687,\n",
       " 688,\n",
       " 689,\n",
       " 690,\n",
       " 691,\n",
       " 692,\n",
       " 693,\n",
       " 694,\n",
       " 695,\n",
       " 696,\n",
       " 697,\n",
       " 698,\n",
       " 699,\n",
       " 706,\n",
       " 716,\n",
       " 726,\n",
       " 736,\n",
       " 746,\n",
       " 756,\n",
       " 760,\n",
       " 761,\n",
       " 762,\n",
       " 763,\n",
       " 764,\n",
       " 765,\n",
       " 766,\n",
       " 767,\n",
       " 768,\n",
       " 769,\n",
       " 776,\n",
       " 786,\n",
       " 796,\n",
       " 806,\n",
       " 816,\n",
       " 826,\n",
       " 836,\n",
       " 846,\n",
       " 856,\n",
       " 860,\n",
       " 861,\n",
       " 862,\n",
       " 863,\n",
       " 864,\n",
       " 865,\n",
       " 866,\n",
       " 867,\n",
       " 868,\n",
       " 869,\n",
       " 876,\n",
       " 886,\n",
       " 896,\n",
       " 906,\n",
       " 916,\n",
       " 926,\n",
       " 936,\n",
       " 946,\n",
       " 956,\n",
       " 960,\n",
       " 961,\n",
       " 962,\n",
       " 963,\n",
       " 964,\n",
       " 965,\n",
       " 966,\n",
       " 967,\n",
       " 968,\n",
       " 969,\n",
       " 976,\n",
       " 986,\n",
       " 996]"
      ]
     },
     "execution_count": 33,
     "metadata": {},
     "output_type": "execute_result"
    }
   ],
   "source": [
    "[x for x in range(1, 1001) if '6' in str(x)]"
   ]
  },
  {
   "cell_type": "code",
   "execution_count": 34,
   "id": "9da9d183",
   "metadata": {},
   "outputs": [
    {
     "data": {
      "text/plain": [
       "[6,\n",
       " 16,\n",
       " 26,\n",
       " 36,\n",
       " 46,\n",
       " 56,\n",
       " 60,\n",
       " 61,\n",
       " 62,\n",
       " 63,\n",
       " 64,\n",
       " 65,\n",
       " 66,\n",
       " 67,\n",
       " 68,\n",
       " 69,\n",
       " 76,\n",
       " 86,\n",
       " 96,\n",
       " 106,\n",
       " 116,\n",
       " 126,\n",
       " 136,\n",
       " 146,\n",
       " 156,\n",
       " 160,\n",
       " 161,\n",
       " 162,\n",
       " 163,\n",
       " 164,\n",
       " 165,\n",
       " 166,\n",
       " 167,\n",
       " 168,\n",
       " 169,\n",
       " 176,\n",
       " 186,\n",
       " 196,\n",
       " 206,\n",
       " 216,\n",
       " 226,\n",
       " 236,\n",
       " 246,\n",
       " 256,\n",
       " 260,\n",
       " 261,\n",
       " 262,\n",
       " 263,\n",
       " 264,\n",
       " 265,\n",
       " 266,\n",
       " 267,\n",
       " 268,\n",
       " 269,\n",
       " 276,\n",
       " 286,\n",
       " 296,\n",
       " 306,\n",
       " 316,\n",
       " 326,\n",
       " 336,\n",
       " 346,\n",
       " 356,\n",
       " 360,\n",
       " 361,\n",
       " 362,\n",
       " 363,\n",
       " 364,\n",
       " 365,\n",
       " 366,\n",
       " 367,\n",
       " 368,\n",
       " 369,\n",
       " 376,\n",
       " 386,\n",
       " 396,\n",
       " 406,\n",
       " 416,\n",
       " 426,\n",
       " 436,\n",
       " 446,\n",
       " 456,\n",
       " 460,\n",
       " 461,\n",
       " 462,\n",
       " 463,\n",
       " 464,\n",
       " 465,\n",
       " 466,\n",
       " 467,\n",
       " 468,\n",
       " 469,\n",
       " 476,\n",
       " 486,\n",
       " 496,\n",
       " 506,\n",
       " 516,\n",
       " 526,\n",
       " 536,\n",
       " 546,\n",
       " 556,\n",
       " 560,\n",
       " 561,\n",
       " 562,\n",
       " 563,\n",
       " 564,\n",
       " 565,\n",
       " 566,\n",
       " 567,\n",
       " 568,\n",
       " 569,\n",
       " 576,\n",
       " 586,\n",
       " 596,\n",
       " 600,\n",
       " 601,\n",
       " 602,\n",
       " 603,\n",
       " 604,\n",
       " 605,\n",
       " 606,\n",
       " 607,\n",
       " 608,\n",
       " 609,\n",
       " 610,\n",
       " 611,\n",
       " 612,\n",
       " 613,\n",
       " 614,\n",
       " 615,\n",
       " 616,\n",
       " 617,\n",
       " 618,\n",
       " 619,\n",
       " 620,\n",
       " 621,\n",
       " 622,\n",
       " 623,\n",
       " 624,\n",
       " 625,\n",
       " 626,\n",
       " 627,\n",
       " 628,\n",
       " 629,\n",
       " 630,\n",
       " 631,\n",
       " 632,\n",
       " 633,\n",
       " 634,\n",
       " 635,\n",
       " 636,\n",
       " 637,\n",
       " 638,\n",
       " 639,\n",
       " 640,\n",
       " 641,\n",
       " 642,\n",
       " 643,\n",
       " 644,\n",
       " 645,\n",
       " 646,\n",
       " 647,\n",
       " 648,\n",
       " 649,\n",
       " 650,\n",
       " 651,\n",
       " 652,\n",
       " 653,\n",
       " 654,\n",
       " 655,\n",
       " 656,\n",
       " 657,\n",
       " 658,\n",
       " 659,\n",
       " 660,\n",
       " 661,\n",
       " 662,\n",
       " 663,\n",
       " 664,\n",
       " 665,\n",
       " 666,\n",
       " 667,\n",
       " 668,\n",
       " 669,\n",
       " 670,\n",
       " 671,\n",
       " 672,\n",
       " 673,\n",
       " 674,\n",
       " 675,\n",
       " 676,\n",
       " 677,\n",
       " 678,\n",
       " 679,\n",
       " 680,\n",
       " 681,\n",
       " 682,\n",
       " 683,\n",
       " 684,\n",
       " 685,\n",
       " 686,\n",
       " 687,\n",
       " 688,\n",
       " 689,\n",
       " 690,\n",
       " 691,\n",
       " 692,\n",
       " 693,\n",
       " 694,\n",
       " 695,\n",
       " 696,\n",
       " 697,\n",
       " 698,\n",
       " 699,\n",
       " 706,\n",
       " 716,\n",
       " 726,\n",
       " 736,\n",
       " 746,\n",
       " 756,\n",
       " 760,\n",
       " 761,\n",
       " 762,\n",
       " 763,\n",
       " 764,\n",
       " 765,\n",
       " 766,\n",
       " 767,\n",
       " 768,\n",
       " 769,\n",
       " 776,\n",
       " 786,\n",
       " 796,\n",
       " 806,\n",
       " 816,\n",
       " 826,\n",
       " 836,\n",
       " 846,\n",
       " 856,\n",
       " 860,\n",
       " 861,\n",
       " 862,\n",
       " 863,\n",
       " 864,\n",
       " 865,\n",
       " 866,\n",
       " 867,\n",
       " 868,\n",
       " 869,\n",
       " 876,\n",
       " 886,\n",
       " 896,\n",
       " 906,\n",
       " 916,\n",
       " 926,\n",
       " 936,\n",
       " 946,\n",
       " 956,\n",
       " 960,\n",
       " 961,\n",
       " 962,\n",
       " 963,\n",
       " 964,\n",
       " 965,\n",
       " 966,\n",
       " 967,\n",
       " 968,\n",
       " 969,\n",
       " 976,\n",
       " 986,\n",
       " 996]"
      ]
     },
     "execution_count": 34,
     "metadata": {},
     "output_type": "execute_result"
    }
   ],
   "source": [
    "# Una solución más elegante\n",
    "\n",
    "def has_digit(n, digit):\n",
    "    while n > 0:\n",
    "        r = n % 10\n",
    "        if r == digit:\n",
    "            return True\n",
    "        n = n // 10\n",
    "    return False\n",
    "\n",
    "[x for x in range(1,1001) if has_digit(x, 6)]"
   ]
  },
  {
   "cell_type": "markdown",
   "id": "c11d310c",
   "metadata": {},
   "source": [
    "**Ejercicio**. Encuentra todos los números del 1 al 1000 que tengan exactamente dos apariciones del dígito 4."
   ]
  },
  {
   "cell_type": "code",
   "execution_count": 35,
   "id": "b47d0eab",
   "metadata": {},
   "outputs": [
    {
     "name": "stdout",
     "output_type": "stream",
     "text": [
      "[44, 144, 244, 344, 404, 414, 424, 434, 440, 441, 442, 443, 445, 446, 447, 448, 449, 454, 464, 474, 484, 494, 544, 644, 744, 844, 944]\n"
     ]
    }
   ],
   "source": [
    "def count_digit(n, digit):\n",
    "    result = 0\n",
    "    while n > 0:\n",
    "        r = n % 10\n",
    "        if r == digit:\n",
    "            result += 1\n",
    "        n = n // 10\n",
    "    return result\n",
    "\n",
    "print([x for x in range(1001) if count_digit(x, 4) == 2])"
   ]
  },
  {
   "cell_type": "markdown",
   "id": "e36cb1c6",
   "metadata": {},
   "source": [
    "**Ejercicio**. Usa la comprensión anidada para encontrar todos los números del 1 al 200 que no sean divisibles por ningún dígito del 2 al 9.\n"
   ]
  },
  {
   "cell_type": "code",
   "execution_count": 36,
   "id": "30e576ff",
   "metadata": {},
   "outputs": [
    {
     "data": {
      "text/plain": [
       "[1,\n",
       " 11,\n",
       " 13,\n",
       " 17,\n",
       " 19,\n",
       " 23,\n",
       " 29,\n",
       " 31,\n",
       " 37,\n",
       " 41,\n",
       " 43,\n",
       " 47,\n",
       " 53,\n",
       " 59,\n",
       " 61,\n",
       " 67,\n",
       " 71,\n",
       " 73,\n",
       " 79,\n",
       " 83,\n",
       " 89,\n",
       " 97,\n",
       " 101,\n",
       " 103,\n",
       " 107,\n",
       " 109,\n",
       " 113,\n",
       " 121,\n",
       " 127,\n",
       " 131,\n",
       " 137,\n",
       " 139,\n",
       " 143,\n",
       " 149,\n",
       " 151,\n",
       " 157,\n",
       " 163,\n",
       " 167,\n",
       " 169,\n",
       " 173,\n",
       " 179,\n",
       " 181,\n",
       " 187,\n",
       " 191,\n",
       " 193,\n",
       " 197,\n",
       " 199]"
      ]
     },
     "execution_count": 36,
     "metadata": {},
     "output_type": "execute_result"
    }
   ],
   "source": [
    "[n for n in range(1, 200) if all(n%d != 0 for d in range(2,10))]"
   ]
  },
  {
   "cell_type": "markdown",
   "id": "6321616f",
   "metadata": {},
   "source": [
    "**Ejercicio**. Usa una comprensión anidada para encontrar todos los números del 1 al 200 que tengan exactamente dos divisores no triviales.\n"
   ]
  },
  {
   "cell_type": "code",
   "execution_count": 37,
   "id": "2429b674",
   "metadata": {},
   "outputs": [
    {
     "data": {
      "text/plain": [
       "[6,\n",
       " 8,\n",
       " 10,\n",
       " 14,\n",
       " 15,\n",
       " 21,\n",
       " 22,\n",
       " 26,\n",
       " 27,\n",
       " 33,\n",
       " 34,\n",
       " 35,\n",
       " 38,\n",
       " 39,\n",
       " 46,\n",
       " 51,\n",
       " 55,\n",
       " 57,\n",
       " 58,\n",
       " 62,\n",
       " 65,\n",
       " 69,\n",
       " 74,\n",
       " 77,\n",
       " 82,\n",
       " 85,\n",
       " 86,\n",
       " 87,\n",
       " 91,\n",
       " 93,\n",
       " 94,\n",
       " 95,\n",
       " 106,\n",
       " 111,\n",
       " 115,\n",
       " 118,\n",
       " 119,\n",
       " 122,\n",
       " 123,\n",
       " 125,\n",
       " 129,\n",
       " 133,\n",
       " 134,\n",
       " 141,\n",
       " 142,\n",
       " 143,\n",
       " 145,\n",
       " 146,\n",
       " 155,\n",
       " 158,\n",
       " 159,\n",
       " 161,\n",
       " 166,\n",
       " 177,\n",
       " 178,\n",
       " 183,\n",
       " 185,\n",
       " 187,\n",
       " 194]"
      ]
     },
     "execution_count": 37,
     "metadata": {},
     "output_type": "execute_result"
    }
   ],
   "source": [
    "[n for n in range(1, 201) if sum([1 for d in range(2,n) if n%d == 0]) == 2]"
   ]
  },
  {
   "cell_type": "markdown",
   "id": "0e6e7da7",
   "metadata": {},
   "source": [
    "a) Qué necesitas modificar en el código para obtener números primos"
   ]
  },
  {
   "cell_type": "code",
   "execution_count": 38,
   "id": "ae661041",
   "metadata": {},
   "outputs": [
    {
     "data": {
      "text/plain": [
       "[1,\n",
       " 2,\n",
       " 3,\n",
       " 5,\n",
       " 7,\n",
       " 11,\n",
       " 13,\n",
       " 17,\n",
       " 19,\n",
       " 23,\n",
       " 29,\n",
       " 31,\n",
       " 37,\n",
       " 41,\n",
       " 43,\n",
       " 47,\n",
       " 53,\n",
       " 59,\n",
       " 61,\n",
       " 67,\n",
       " 71,\n",
       " 73,\n",
       " 79,\n",
       " 83,\n",
       " 89,\n",
       " 97,\n",
       " 101,\n",
       " 103,\n",
       " 107,\n",
       " 109,\n",
       " 113,\n",
       " 127,\n",
       " 131,\n",
       " 137,\n",
       " 139,\n",
       " 149,\n",
       " 151,\n",
       " 157,\n",
       " 163,\n",
       " 167,\n",
       " 173,\n",
       " 179,\n",
       " 181,\n",
       " 191,\n",
       " 193,\n",
       " 197,\n",
       " 199]"
      ]
     },
     "execution_count": 38,
     "metadata": {},
     "output_type": "execute_result"
    }
   ],
   "source": [
    "[n for n in range(1, 201) if sum([1 for d in range(2,n) if n%d == 0]) == 0]"
   ]
  },
  {
   "cell_type": "markdown",
   "id": "d98ed22d",
   "metadata": {},
   "source": [
    "**Ejercicio**. Eliminar todas las vocales de una cadena."
   ]
  },
  {
   "cell_type": "code",
   "execution_count": 39,
   "id": "5c71e6f2",
   "metadata": {},
   "outputs": [
    {
     "data": {
      "text/plain": [
       "'Prctc Prblms t Drll Lst Cmprhnsn n Yr Hd.'"
      ]
     },
     "execution_count": 39,
     "metadata": {},
     "output_type": "execute_result"
    }
   ],
   "source": [
    "string = \"Practice Problems to Drill List Comprehension in Your Head.\"\n",
    "\"\".join([c for c in string if c.lower() not in 'aeiou'])"
   ]
  },
  {
   "cell_type": "markdown",
   "id": "f5d16291",
   "metadata": {},
   "source": [
    "**Ejercicio**. Encuentra todas las palabras de una cadena que tengan menos de 5 letras (usa la cadena anterior)."
   ]
  },
  {
   "cell_type": "code",
   "execution_count": 40,
   "id": "71a8a305",
   "metadata": {},
   "outputs": [
    {
     "data": {
      "text/plain": [
       "['to', 'List', 'in', 'Your']"
      ]
     },
     "execution_count": 40,
     "metadata": {},
     "output_type": "execute_result"
    }
   ],
   "source": [
    "[s for s in string.split() if len(s) < 5]"
   ]
  },
  {
   "cell_type": "markdown",
   "id": "81789320",
   "metadata": {},
   "source": [
    "**Ejercicio**. Usa una lista de comprensión anidada para encontrar todos los números del 1 al 10000 que sean divisibles por cualquier dígito excepto 1 (2-9).\n"
   ]
  },
  {
   "cell_type": "code",
   "execution_count": 41,
   "id": "24f6da4b",
   "metadata": {},
   "outputs": [
    {
     "data": {
      "text/plain": [
       "[2520, 5040, 7560]"
      ]
     },
     "execution_count": 41,
     "metadata": {},
     "output_type": "execute_result"
    }
   ],
   "source": [
    "[x for x in range(1, 10001) if all([x % d == 0 for d in range(2, 10)])]"
   ]
  },
  {
   "cell_type": "markdown",
   "id": "3c8771d5",
   "metadata": {},
   "source": [
    "**Ejercicio**. Crea una lista de todas las consonantes de la cadena \"A los yaks amarillos les gusta gritar y bostezar, y ayer cantaban mientras comían ñames asquerosos\"."
   ]
  },
  {
   "cell_type": "code",
   "execution_count": null,
   "id": "c2148c11",
   "metadata": {},
   "outputs": [],
   "source": [
    "phrase = \"Yellow Yaks like yelling and yawning and yesterday they yodled while eating yuky yams\"\n",
    "[c for c in phrase if c.lower() not in \"aeiou\"]"
   ]
  },
  {
   "cell_type": "markdown",
   "id": "fe3e2f13",
   "metadata": {},
   "source": [
    "**Exercise**. Get the index and the value as a tuple for items in the list “hi”, 4, 8.99, ‘apple’, (‘t,b’,’n’). Result would look like (index, value), (index, value)"
   ]
  },
  {
   "cell_type": "code",
   "execution_count": null,
   "id": "50bce8f7",
   "metadata": {},
   "outputs": [],
   "source": [
    "l = ['hi', 4, 8.99, 'apple', ('t,b','n')]\n",
    "[(idx, l[idx]) for idx in range(len(l))]"
   ]
  },
  {
   "cell_type": "markdown",
   "id": "e049e301",
   "metadata": {},
   "source": [
    "**Exercise**. Find the common numbers in two lists (without using a tuple or set) list_a = 1, 2, 3, 4, list_b = 2, 3, 4, 5"
   ]
  },
  {
   "cell_type": "code",
   "execution_count": null,
   "id": "c1c6dbcd",
   "metadata": {},
   "outputs": [],
   "source": [
    "list_a = [1, 2, 3, 4]\n",
    "list_b = [2, 3, 4, 5]\n",
    "[a for a in list_a if a in list_b]"
   ]
  },
  {
   "cell_type": "markdown",
   "id": "aeea1754",
   "metadata": {},
   "source": [
    "**Exercise**. Given numbers = range(20), produce a list containing the word ‘even’ if a number in the numbers is even, and the word ‘odd’ if the number is odd. Result would look like ‘odd’,’odd’, ‘even’"
   ]
  },
  {
   "cell_type": "code",
   "execution_count": null,
   "id": "3d135cad",
   "metadata": {},
   "outputs": [],
   "source": [
    "['even' if n % 2 == 0 else 'odd' for n in range(20)]"
   ]
  },
  {
   "cell_type": "markdown",
   "id": "af146bba",
   "metadata": {},
   "source": [
    "**Exercise**. Create a single string that contains the second-to-last letter of each word in text, sorted alphabetically and in lowercase. If a word is less than two letters in length, use the single character available."
   ]
  },
  {
   "cell_type": "code",
   "execution_count": null,
   "id": "8b9b1637",
   "metadata": {},
   "outputs": [],
   "source": [
    "text = \"Alice was beginning to get very tired of sitting \\\n",
    "by her sister on the bank, and of having nothing to do: \\\n",
    "once or twice she had peeped into the book her sister \\\n",
    "was reading, but it had no pictures or conversations in \\\n",
    "it, 'and what is the use of a book,' thought Alice, \\\n",
    "'without pictures or conversations?\"\n",
    "\n",
    "filtered_text = text.replace(\"'\", \"\").replace(\",\", \"\")\n",
    "selected_letters = [(l[-2] if len(l) > 1 else l).lower() for l in filtered_text.split(\" \")]\n",
    "\"\".join(sorted(selected_letters))"
   ]
  },
  {
   "cell_type": "markdown",
   "id": "2b2eaedf",
   "metadata": {},
   "source": [
    "**Exercice**. Find the average number of characters per word in text, rounded to the nearest hundredth. This value should exclude special characters, such as quotation marks and semicolons. "
   ]
  },
  {
   "cell_type": "code",
   "execution_count": null,
   "id": "8a01d69f",
   "metadata": {},
   "outputs": [],
   "source": [
    "filtered_text = text.replace(\"'\", \"\").replace(\",\", \"\")\n",
    "character_count = [len(l) for l in filtered_text.split()]\n",
    "round(sum(character_count) / len(character_count), 2)"
   ]
  },
  {
   "cell_type": "markdown",
   "id": "5cf1aafe",
   "metadata": {},
   "source": [
    "**Exercise**. The following code loads a list of Marvel names downloaded from the internet"
   ]
  },
  {
   "cell_type": "code",
   "execution_count": null,
   "id": "dd07567a",
   "metadata": {
    "scrolled": true
   },
   "outputs": [],
   "source": [
    "with open('data/Marvel-names.txt', 'r', encoding='iso-8859-1',\n",
    "                 errors='ignore') as f:\n",
    "    lines = f.readlines()\n",
    "lines[:10]"
   ]
  },
  {
   "cell_type": "markdown",
   "id": "caaa4a1e",
   "metadata": {},
   "source": [
    "a) Create a list with the character names"
   ]
  },
  {
   "cell_type": "code",
   "execution_count": null,
   "id": "9d66f804",
   "metadata": {},
   "outputs": [],
   "source": [
    "def process_line(l):\n",
    "    idx1 = l.find('\"')\n",
    "    l = l[idx1+1:]\n",
    "    idx2 = l.find('\"')\n",
    "    return l[:idx2].strip()\n",
    "\n",
    "names = [process_line(l) for l in lines]\n",
    "names[1:10]"
   ]
  },
  {
   "cell_type": "markdown",
   "id": "a13adcd1",
   "metadata": {},
   "source": [
    "b) Some characters have multiple names, separated by '/'. Modify the list so that each element becomes a list of these values. Remove empty values"
   ]
  },
  {
   "cell_type": "code",
   "execution_count": null,
   "id": "e1a74e9d",
   "metadata": {},
   "outputs": [],
   "source": [
    "all_names = [[v for v in n.split(\"/\") if len(v)>0] for n in names]\n",
    "all_names = [n for n in all_names if len(n) > 0]\n",
    "all_names[:10]"
   ]
  },
  {
   "cell_type": "markdown",
   "id": "93f1253d",
   "metadata": {},
   "source": [
    "c) Find the heroes with the largest number of names"
   ]
  },
  {
   "cell_type": "code",
   "execution_count": null,
   "id": "7e35b7e5",
   "metadata": {},
   "outputs": [],
   "source": [
    "max_cant = max((len(n) for n in all_names))\n",
    "print(max_cant)\n",
    "more_names = [v for v in all_names if len(v) == max_cant]\n",
    "more_names[:30]"
   ]
  },
  {
   "cell_type": "markdown",
   "id": "e3c258f1",
   "metadata": {},
   "source": [
    "d) Remove those characters where the first name contains less than three characters"
   ]
  },
  {
   "cell_type": "code",
   "execution_count": null,
   "id": "b0d3633b",
   "metadata": {},
   "outputs": [],
   "source": [
    "selected = [m for m in all_names if len(m[0]) > 2]\n",
    "selected"
   ]
  },
  {
   "cell_type": "markdown",
   "id": "18c1acc7",
   "metadata": {},
   "source": [
    "e) Add to each name in the list a '%' character in the begining and end"
   ]
  },
  {
   "cell_type": "code",
   "execution_count": null,
   "id": "34ce1af1",
   "metadata": {},
   "outputs": [],
   "source": [
    "[['%'+n+'%' for n in m] for m in selected]"
   ]
  },
  {
   "cell_type": "markdown",
   "id": "3c76ae93",
   "metadata": {},
   "source": [
    "### Dictionary comprehensions"
   ]
  },
  {
   "cell_type": "markdown",
   "id": "69048920",
   "metadata": {},
   "source": [
    "**Exercise**. Create a dictionary from the list with same key:value pairs, such as: {\"key\": \"key\"}."
   ]
  },
  {
   "cell_type": "code",
   "execution_count": null,
   "id": "82e31c16",
   "metadata": {
    "scrolled": true
   },
   "outputs": [],
   "source": [
    "lst=[\"NY\", \"FL\", \"CA\", \"VT\"]\n",
    "{k: k for k in lst}"
   ]
  },
  {
   "cell_type": "markdown",
   "id": "0eac9f80",
   "metadata": {},
   "source": [
    "**Exercise**. Create a dictionary where each number in the range from 100 to 160 with steps of 10 is the key and each item divided by 100 is the value."
   ]
  },
  {
   "cell_type": "code",
   "execution_count": null,
   "id": "d7cb3ce3",
   "metadata": {},
   "outputs": [],
   "source": [
    "{v: v/100 for v in range(100, 161, 10)}"
   ]
  },
  {
   "cell_type": "markdown",
   "id": "370e35fc",
   "metadata": {},
   "source": [
    "**Exercise**. Create a dictionary from the current dictionary where only the key:value pairs with value above 2000 are taken to the new dictionary."
   ]
  },
  {
   "cell_type": "code",
   "execution_count": null,
   "id": "66fb5b48",
   "metadata": {},
   "outputs": [],
   "source": [
    "dict1={\"NFLX\":4950,\"TREX\":2400,\"FIZZ\":1800, \"XPO\":1700}\n",
    "{k: v for k, v in dict1.items() if v > 2000}"
   ]
  },
  {
   "cell_type": "markdown",
   "id": "49418242",
   "metadata": {},
   "source": [
    "**Exercise**. Use a dictionary comprehension to count the length of each word in a sentence "
   ]
  },
  {
   "cell_type": "code",
   "execution_count": null,
   "id": "e9df77f1",
   "metadata": {},
   "outputs": [],
   "source": [
    "string = \"Practice Problems to Drill List Comprehension in Your Head\"\n",
    "{s: len(s) for s in string.split()}"
   ]
  },
  {
   "cell_type": "markdown",
   "id": "2c1dfb28",
   "metadata": {},
   "source": [
    "**Exercise**. For all the numbers 1–1000, use a nested list/dictionary comprehension to find the highest single digit any of the numbers is divisible by"
   ]
  },
  {
   "cell_type": "code",
   "execution_count": null,
   "id": "56df35d5",
   "metadata": {
    "scrolled": true
   },
   "outputs": [],
   "source": [
    "{x: max([d for d in range(2, 10) if x%d == 0],default=None) for x in range(1, 1001)}"
   ]
  },
  {
   "cell_type": "markdown",
   "id": "17d0f2a1",
   "metadata": {},
   "source": [
    "**Exercise**. Write a Python program to convert two lists into a dictionary in a way that item from list1 is the key and item from list2 is the value"
   ]
  },
  {
   "cell_type": "code",
   "execution_count": null,
   "id": "f8709c17",
   "metadata": {},
   "outputs": [],
   "source": [
    "keys = ['Ten', 'Twenty', 'Thirty']\n",
    "values = [10, 20, 30]\n",
    "{keys[idx]: values[idx] for idx in range(min(len(keys), len(values)))}"
   ]
  },
  {
   "cell_type": "markdown",
   "id": "748e3f3b",
   "metadata": {},
   "source": [
    "**Exercise**. Initialize dictionary with default values: create a new dictionary with provided keys an default values."
   ]
  },
  {
   "cell_type": "code",
   "execution_count": null,
   "id": "79b2f30f",
   "metadata": {},
   "outputs": [],
   "source": [
    "employees = ['Kelly', 'Emma']\n",
    "defaults = {\"designation\": 'Developer', \"salary\": 8000}\n",
    "\n",
    "{k: defaults for k in employees}"
   ]
  },
  {
   "cell_type": "markdown",
   "id": "b02ca6c6",
   "metadata": {},
   "source": [
    "**Exercise**. Create a dictionary by extracting the keys from a given dictionary"
   ]
  },
  {
   "cell_type": "code",
   "execution_count": null,
   "id": "5b5135bf",
   "metadata": {},
   "outputs": [],
   "source": [
    "sample_dict = {\n",
    "    \"name\": \"Kelly\",\n",
    "    \"age\": 25,\n",
    "    \"salary\": 8000,\n",
    "    \"city\": \"New york\"}\n",
    "\n",
    "# Keys to extract\n",
    "keys = [\"name\", \"salary\"]\n",
    "\n",
    "{k: v for k, v in sample_dict.items() if k in keys}"
   ]
  },
  {
   "cell_type": "markdown",
   "id": "a58b6b3d",
   "metadata": {},
   "source": [
    "**Exercise**. Delete a list of keys from a dictionary"
   ]
  },
  {
   "cell_type": "code",
   "execution_count": null,
   "id": "260817d2",
   "metadata": {},
   "outputs": [],
   "source": [
    "sample_dict = {\n",
    "    \"name\": \"Kelly\",\n",
    "    \"age\": 25,\n",
    "    \"salary\": 8000,\n",
    "    \"city\": \"New york\"\n",
    "}\n",
    "\n",
    "# Keys to remove\n",
    "keys = [\"name\", \"salary\"]\n",
    "\n",
    "{k: v for k, v in sample_dict.items() if k not in keys}"
   ]
  },
  {
   "cell_type": "code",
   "execution_count": null,
   "id": "c89fc7fa",
   "metadata": {},
   "outputs": [],
   "source": []
  }
 ],
 "metadata": {
  "kernelspec": {
   "display_name": "Python 3 (ipykernel)",
   "language": "python",
   "name": "python3"
  },
  "language_info": {
   "codemirror_mode": {
    "name": "ipython",
    "version": 3
   },
   "file_extension": ".py",
   "mimetype": "text/x-python",
   "name": "python",
   "nbconvert_exporter": "python",
   "pygments_lexer": "ipython3",
   "version": "3.12.7"
  }
 },
 "nbformat": 4,
 "nbformat_minor": 5
}
