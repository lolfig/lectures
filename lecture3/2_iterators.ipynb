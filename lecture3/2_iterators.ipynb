{
 "cells": [
  {
   "cell_type": "markdown",
   "id": "d360f9ef",
   "metadata": {},
   "source": [
    "# Iterators\n",
    "\n",
    "En informática, un iterador es una construcción de programación que representa una secuencia de elementos y proporciona una interfaz para acceder a ellos secuencialmente. Es un objeto o estructura de datos que permite recorrer y procesar una colección de elementos uno a uno.\n",
    "\n",
    "En Python, un iterador es un objeto que implementa el protocolo iterador, que consta de los métodos \\_\\_iter\\_\\_() y \\_\\_next\\_\\_(). Los iteradores se utilizan para recorrer una colección de elementos o para generar una secuencia de valores sobre la marcha.\n"
   ]
  },
  {
   "cell_type": "code",
   "execution_count": 1,
   "id": "866ff4b9",
   "metadata": {},
   "outputs": [],
   "source": [
    "r = range(5)"
   ]
  },
  {
   "cell_type": "code",
   "execution_count": 2,
   "id": "42e8d2cb",
   "metadata": {},
   "outputs": [
    {
     "data": {
      "text/plain": [
       "range"
      ]
     },
     "execution_count": 2,
     "metadata": {},
     "output_type": "execute_result"
    }
   ],
   "source": [
    "type(r)"
   ]
  },
  {
   "cell_type": "markdown",
   "id": "41173c0e",
   "metadata": {},
   "source": [
    "Puedes iterar valores de rango, uno a la vez, con un bucle for\n"
   ]
  },
  {
   "cell_type": "code",
   "execution_count": 3,
   "id": "a983ce5b",
   "metadata": {},
   "outputs": [
    {
     "name": "stdout",
     "output_type": "stream",
     "text": [
      "0\n",
      "1\n",
      "2\n",
      "3\n",
      "4\n"
     ]
    }
   ],
   "source": [
    "for v in r:\n",
    "    print(v)"
   ]
  },
  {
   "cell_type": "markdown",
   "id": "abd26a8a",
   "metadata": {},
   "source": [
    "¿Qué hace el método **for**?"
   ]
  },
  {
   "cell_type": "code",
   "execution_count": 4,
   "id": "dce86b50",
   "metadata": {},
   "outputs": [
    {
     "name": "stdout",
     "output_type": "stream",
     "text": [
      "0\n",
      "1\n",
      "2\n",
      "3\n",
      "4\n"
     ]
    }
   ],
   "source": [
    "it = iter(r)\n",
    "try:\n",
    "    while True:\n",
    "        v = next(it)\n",
    "        print(v)\n",
    "except StopIteration:\n",
    "    pass\n",
    "    "
   ]
  },
  {
   "cell_type": "markdown",
   "id": "14924b73",
   "metadata": {},
   "source": [
    "## Common Python iterators\n",
    "\n",
    "**enumerate** mejora el proceso de iteración al transformar cada elemento iterado en una tupla que consta de su posición (índice) y el elemento en sí.\n"
   ]
  },
  {
   "cell_type": "code",
   "execution_count": 5,
   "id": "10a6a6ff",
   "metadata": {},
   "outputs": [
    {
     "name": "stdout",
     "output_type": "stream",
     "text": [
      "0 a\n",
      "1 b\n",
      "2 c\n",
      "3 d\n",
      "4 e\n",
      "5 f\n",
      "6 g\n",
      "7 h\n"
     ]
    }
   ],
   "source": [
    "l = ['a', 'b', 'c', 'd', 'e', 'f', 'g', 'h']\n",
    "for idx, v in enumerate(l):\n",
    "    print(idx, v)"
   ]
  },
  {
   "cell_type": "code",
   "execution_count": 6,
   "id": "6fc64368",
   "metadata": {},
   "outputs": [
    {
     "data": {
      "text/plain": [
       "['a', 'c', 'e', 'g']"
      ]
     },
     "execution_count": 6,
     "metadata": {},
     "output_type": "execute_result"
    }
   ],
   "source": [
    "# Seleccionar elementos en posiciones pares\n",
    "[v for idx, v in enumerate(l) if idx % 2 == 0]"
   ]
  },
  {
   "cell_type": "markdown",
   "id": "ebddeb16",
   "metadata": {},
   "source": [
    "**map** aplica una función dada a cada elemento de un iterable (p. ej., una lista, una tupla o una cadena) y devuelve un iterador con los resultados. Toma dos argumentos: la función a aplicar y el iterable a procesar.\n"
   ]
  },
  {
   "cell_type": "code",
   "execution_count": 7,
   "id": "59c74ab6",
   "metadata": {},
   "outputs": [
    {
     "name": "stdout",
     "output_type": "stream",
     "text": [
      "2\n",
      "4\n",
      "6\n",
      "8\n",
      "10\n"
     ]
    }
   ],
   "source": [
    "def double(x):\n",
    "    return 2 * x\n",
    "\n",
    "numbers = [1, 2, 3, 4, 5]\n",
    "\n",
    "for n in map(double, numbers):\n",
    "    print(n)"
   ]
  },
  {
   "cell_type": "markdown",
   "id": "9dc3a6cc",
   "metadata": {},
   "source": [
    "Las comprensiones también utilizan iteradores en su declaración **in**"
   ]
  },
  {
   "cell_type": "code",
   "execution_count": 8,
   "id": "30c7980d",
   "metadata": {},
   "outputs": [
    {
     "data": {
      "text/plain": [
       "[2, 4, 6, 8, 10]"
      ]
     },
     "execution_count": 8,
     "metadata": {},
     "output_type": "execute_result"
    }
   ],
   "source": [
    "[x for x in map(double, numbers)]"
   ]
  },
  {
   "cell_type": "code",
   "execution_count": 9,
   "id": "c5107315",
   "metadata": {},
   "outputs": [
    {
     "data": {
      "text/plain": [
       "[2, 4, 6, 8, 10]"
      ]
     },
     "execution_count": 9,
     "metadata": {},
     "output_type": "execute_result"
    }
   ],
   "source": [
    "list(map(double, numbers))"
   ]
  },
  {
   "cell_type": "markdown",
   "id": "384e4e4f",
   "metadata": {},
   "source": [
    "**filtro** crea un iterador a partir de los elementos de un iterable que cumplen una condición determinada. Recibe dos argumentos: la función de filtrado y el iterable a procesar.\n"
   ]
  },
  {
   "cell_type": "code",
   "execution_count": 10,
   "id": "ca64e02e",
   "metadata": {},
   "outputs": [
    {
     "data": {
      "text/plain": [
       "[2, 4, 6, 8, 10]"
      ]
     },
     "execution_count": 10,
     "metadata": {},
     "output_type": "execute_result"
    }
   ],
   "source": [
    "def is_even(x):\n",
    "    return x % 2 == 0\n",
    "\n",
    "numbers = [1, 2, 3, 4, 5, 6, 7, 8, 9, 10]\n",
    "even_numbers = filter(is_even, numbers)\n",
    "\n",
    "list(even_numbers)"
   ]
  },
  {
   "cell_type": "markdown",
   "id": "cd98cc36",
   "metadata": {},
   "source": [
    "El mapa y el filtro se pueden combinar juntos"
   ]
  },
  {
   "cell_type": "code",
   "execution_count": 11,
   "id": "40c975d4",
   "metadata": {},
   "outputs": [
    {
     "data": {
      "text/plain": [
       "[4, 8, 12, 16, 20]"
      ]
     },
     "execution_count": 11,
     "metadata": {},
     "output_type": "execute_result"
    }
   ],
   "source": [
    "list(map(double, filter(is_even, numbers)))"
   ]
  },
  {
   "cell_type": "markdown",
   "id": "526b7f60",
   "metadata": {},
   "source": [
    "**Nota**: Las listas por comprensión son solo una simplificación sintáctica del uso de las funciones map() y filter().\n"
   ]
  },
  {
   "cell_type": "markdown",
   "id": "348cd94d",
   "metadata": {},
   "source": [
    "La función **zip** de Python es una función integrada que permite combinar elementos de varios iterables en tuplas. Devuelve un iterador que genera tuplas con elementos de cada iterable de entrada, hasta agotar el iterable más corto.\n"
   ]
  },
  {
   "cell_type": "code",
   "execution_count": 12,
   "id": "c19c9c13",
   "metadata": {},
   "outputs": [
    {
     "data": {
      "text/plain": [
       "[(1, 'a'), (2, 'b'), (3, 'c')]"
      ]
     },
     "execution_count": 12,
     "metadata": {},
     "output_type": "execute_result"
    }
   ],
   "source": [
    "numbers = [1, 2, 3]\n",
    "letters = ['a', 'b', 'c']\n",
    "list(zip(numbers, letters))"
   ]
  },
  {
   "cell_type": "code",
   "execution_count": 13,
   "id": "85973a68",
   "metadata": {},
   "outputs": [
    {
     "data": {
      "text/plain": [
       "[12, 14, 15, 16]"
      ]
     },
     "execution_count": 13,
     "metadata": {},
     "output_type": "execute_result"
    }
   ],
   "source": [
    "numbers = [2, 4, 5, 6]\n",
    "numbers2 = [5, 6, 7, 10]\n",
    "result = []\n",
    "for n1, n2 in zip(numbers, numbers2):\n",
    "    result.append(n1+n)\n",
    "result"
   ]
  },
  {
   "cell_type": "code",
   "execution_count": 14,
   "id": "28b7ef33",
   "metadata": {},
   "outputs": [
    {
     "data": {
      "text/plain": [
       "[7, 10, 12, 16]"
      ]
     },
     "execution_count": 14,
     "metadata": {},
     "output_type": "execute_result"
    }
   ],
   "source": [
    "[n1 + n2 for n1, n2 in zip(numbers, numbers2)]"
   ]
  },
  {
   "cell_type": "markdown",
   "id": "d63bb2d8",
   "metadata": {},
   "source": [
    "Seleccione qué elementos considerar al usar una mascarilla\n"
   ]
  },
  {
   "cell_type": "code",
   "execution_count": 15,
   "id": "9e8dd9a2",
   "metadata": {},
   "outputs": [
    {
     "data": {
      "text/plain": [
       "[23, 12, 1, 27, 12]"
      ]
     },
     "execution_count": 15,
     "metadata": {},
     "output_type": "execute_result"
    }
   ],
   "source": [
    "elements = [23, 34, 12, 1, 6, 8, 27, 12]\n",
    "mask = [True, False, True, True, False, False, True, True]\n",
    "\n",
    "[e for e, m in zip(elements, mask) if m]"
   ]
  },
  {
   "cell_type": "markdown",
   "id": "cda999eb",
   "metadata": {},
   "source": [
    "Implement 'enumerate'"
   ]
  },
  {
   "cell_type": "code",
   "execution_count": 16,
   "id": "c71886f3",
   "metadata": {},
   "outputs": [
    {
     "name": "stdout",
     "output_type": "stream",
     "text": [
      "(0, 23)\n",
      "(1, 34)\n",
      "(2, 12)\n",
      "(3, 1)\n",
      "(4, 6)\n",
      "(5, 8)\n",
      "(6, 27)\n",
      "(7, 12)\n"
     ]
    }
   ],
   "source": [
    "elements = [23, 34, 12, 1, 6, 8, 27, 12]\n",
    "for v in zip(range(len(elements)), elements):\n",
    "    print(v)"
   ]
  },
  {
   "cell_type": "markdown",
   "id": "4f2b0cde",
   "metadata": {},
   "source": [
    "## itertools package\n",
    "\n",
    "itertools es un módulo de la biblioteca estándar de Python que proporciona una colección de funciones para crear y trabajar con iteradores eficientemente. Ofrece diversas herramientas para iteradores combinatorios y bucles, además de las que ofrecen las funciones y bibliotecas integradas."
   ]
  },
  {
   "cell_type": "code",
   "execution_count": 17,
   "id": "35b7faa0",
   "metadata": {},
   "outputs": [],
   "source": [
    "import itertools as it"
   ]
  },
  {
   "cell_type": "markdown",
   "id": "3bdeb067",
   "metadata": {},
   "source": [
    "**Permutations**"
   ]
  },
  {
   "cell_type": "code",
   "execution_count": 18,
   "id": "71a14406",
   "metadata": {},
   "outputs": [
    {
     "name": "stdout",
     "output_type": "stream",
     "text": [
      "(0, 1, 2) (0, 2, 1) (1, 0, 2) (1, 2, 0) (2, 0, 1) (2, 1, 0)\n"
     ]
    }
   ],
   "source": [
    "p = it.permutations(range(3))\n",
    "print(*p)"
   ]
  },
  {
   "cell_type": "markdown",
   "id": "1c25acee",
   "metadata": {},
   "source": [
    "Ejemplo. Supongamos que estás jugando al Scrabble y quieres saber las posibles palabras que puedes formar con las letras que tienes realmente con el tamaño máximo: matrs"
   ]
  },
  {
   "cell_type": "code",
   "execution_count": 19,
   "id": "3660976d",
   "metadata": {},
   "outputs": [
    {
     "data": {
      "text/plain": [
       "['matrs',\n",
       " 'matsr',\n",
       " 'marts',\n",
       " 'marst',\n",
       " 'mastr',\n",
       " 'masrt',\n",
       " 'mtars',\n",
       " 'mtasr',\n",
       " 'mtras',\n",
       " 'mtrsa',\n",
       " 'mtsar',\n",
       " 'mtsra',\n",
       " 'mrats',\n",
       " 'mrast',\n",
       " 'mrtas',\n",
       " 'mrtsa',\n",
       " 'mrsat',\n",
       " 'mrsta',\n",
       " 'msatr',\n",
       " 'msart',\n",
       " 'mstar',\n",
       " 'mstra',\n",
       " 'msrat',\n",
       " 'msrta',\n",
       " 'amtrs',\n",
       " 'amtsr',\n",
       " 'amrts',\n",
       " 'amrst',\n",
       " 'amstr',\n",
       " 'amsrt',\n",
       " 'atmrs',\n",
       " 'atmsr',\n",
       " 'atrms',\n",
       " 'atrsm',\n",
       " 'atsmr',\n",
       " 'atsrm',\n",
       " 'armts',\n",
       " 'armst',\n",
       " 'artms',\n",
       " 'artsm',\n",
       " 'arsmt',\n",
       " 'arstm',\n",
       " 'asmtr',\n",
       " 'asmrt',\n",
       " 'astmr',\n",
       " 'astrm',\n",
       " 'asrmt',\n",
       " 'asrtm',\n",
       " 'tmars',\n",
       " 'tmasr',\n",
       " 'tmras',\n",
       " 'tmrsa',\n",
       " 'tmsar',\n",
       " 'tmsra',\n",
       " 'tamrs',\n",
       " 'tamsr',\n",
       " 'tarms',\n",
       " 'tarsm',\n",
       " 'tasmr',\n",
       " 'tasrm',\n",
       " 'trmas',\n",
       " 'trmsa',\n",
       " 'trams',\n",
       " 'trasm',\n",
       " 'trsma',\n",
       " 'trsam',\n",
       " 'tsmar',\n",
       " 'tsmra',\n",
       " 'tsamr',\n",
       " 'tsarm',\n",
       " 'tsrma',\n",
       " 'tsram',\n",
       " 'rmats',\n",
       " 'rmast',\n",
       " 'rmtas',\n",
       " 'rmtsa',\n",
       " 'rmsat',\n",
       " 'rmsta',\n",
       " 'ramts',\n",
       " 'ramst',\n",
       " 'ratms',\n",
       " 'ratsm',\n",
       " 'rasmt',\n",
       " 'rastm',\n",
       " 'rtmas',\n",
       " 'rtmsa',\n",
       " 'rtams',\n",
       " 'rtasm',\n",
       " 'rtsma',\n",
       " 'rtsam',\n",
       " 'rsmat',\n",
       " 'rsmta',\n",
       " 'rsamt',\n",
       " 'rsatm',\n",
       " 'rstma',\n",
       " 'rstam',\n",
       " 'smatr',\n",
       " 'smart',\n",
       " 'smtar',\n",
       " 'smtra',\n",
       " 'smrat',\n",
       " 'smrta',\n",
       " 'samtr',\n",
       " 'samrt',\n",
       " 'satmr',\n",
       " 'satrm',\n",
       " 'sarmt',\n",
       " 'sartm',\n",
       " 'stmar',\n",
       " 'stmra',\n",
       " 'stamr',\n",
       " 'starm',\n",
       " 'strma',\n",
       " 'stram',\n",
       " 'srmat',\n",
       " 'srmta',\n",
       " 'sramt',\n",
       " 'sratm',\n",
       " 'srtma',\n",
       " 'srtam']"
      ]
     },
     "execution_count": 19,
     "metadata": {},
     "output_type": "execute_result"
    }
   ],
   "source": [
    "def word_exists(w):\n",
    "    return True\n",
    "\n",
    "[\"\".join(p) for p in it.permutations('matrs') if word_exists(\"\".join(p))]"
   ]
  },
  {
   "cell_type": "markdown",
   "id": "36457cfe",
   "metadata": {},
   "source": [
    "**combinations**"
   ]
  },
  {
   "cell_type": "code",
   "execution_count": 20,
   "id": "1cb8ec5d",
   "metadata": {},
   "outputs": [
    {
     "data": {
      "text/plain": [
       "[(0, 1), (0, 2), (0, 3), (1, 2), (1, 3), (2, 3)]"
      ]
     },
     "execution_count": 20,
     "metadata": {},
     "output_type": "execute_result"
    }
   ],
   "source": [
    "list(it.combinations(range(4), 2))"
   ]
  },
  {
   "cell_type": "markdown",
   "id": "87748a57",
   "metadata": {},
   "source": [
    "Ejemplo, encontrar todos los pares de números en una colección cuya suma es 12"
   ]
  },
  {
   "cell_type": "code",
   "execution_count": 21,
   "id": "15a837ca",
   "metadata": {},
   "outputs": [
    {
     "data": {
      "text/plain": [
       "[(2, 10), (4, 8), (5, 7)]"
      ]
     },
     "execution_count": 21,
     "metadata": {},
     "output_type": "execute_result"
    }
   ],
   "source": [
    "a_list = [1, 2, 4, 5, 7, 8, 9, 10, 12]\n",
    "s = 12\n",
    "[(x, y) for x, y in it.combinations(a_list, 2) if x+y == 12]"
   ]
  },
  {
   "cell_type": "markdown",
   "id": "95226ff9",
   "metadata": {},
   "source": [
    "Otros iterators ..."
   ]
  },
  {
   "cell_type": "code",
   "execution_count": 22,
   "id": "810ca4a5",
   "metadata": {},
   "outputs": [
    {
     "name": "stdout",
     "output_type": "stream",
     "text": [
      "('a', 0) ('a', 1) ('a', 2) ('b', 0) ('b', 1) ('b', 2) ('c', 0) ('c', 1) ('c', 2)\n"
     ]
    }
   ],
   "source": [
    "# producto cartesiano\n",
    "p = it.product('abc', range(3))\n",
    "print(*p)"
   ]
  },
  {
   "cell_type": "code",
   "execution_count": 23,
   "id": "8bae7d5a",
   "metadata": {},
   "outputs": [
    {
     "name": "stdout",
     "output_type": "stream",
     "text": [
      "0 a\n",
      "1 b\n",
      "2 c\n",
      "3 d\n",
      "4 a\n",
      "5 b\n",
      "6 c\n",
      "7 d\n",
      "8 a\n",
      "9 b\n",
      "10 c\n",
      "11 d\n",
      "12 a\n",
      "13 b\n",
      "14 c\n"
     ]
    }
   ],
   "source": [
    "# Generador cíclico\n",
    "for a, b in zip(range(15), it.cycle('abcd')):\n",
    "    print(a, b)"
   ]
  },
  {
   "cell_type": "code",
   "execution_count": 24,
   "id": "4c3701cc",
   "metadata": {},
   "outputs": [
    {
     "data": {
      "text/plain": [
       "[3, -5, 7, -2, 3, -5, 7, -23, 45, -23]"
      ]
     },
     "execution_count": 24,
     "metadata": {},
     "output_type": "execute_result"
    }
   ],
   "source": [
    "# Ejemplo: dada una lista, cambiar el signo de los elementos en posiciones pares.\n",
    "base_list = [3, 5, 7, 2, 3, 5, 7, 23, 45, 23]\n",
    "[x*y for x, y in zip(base_list, it.cycle((1, -1)))]"
   ]
  },
  {
   "cell_type": "code",
   "execution_count": 25,
   "id": "0f17ca44",
   "metadata": {},
   "outputs": [
    {
     "name": "stdout",
     "output_type": "stream",
     "text": [
      "[0, 1, 2, 3, 4, 5, 6, 7, 8, 9, 10, 11, 12, 13, 14, 15, 16, 17, 18, 19]\n",
      "0 1 3 6 10 15 21 28 36 45 55 66 78 91 105 120 136 153 171 190\n"
     ]
    }
   ],
   "source": [
    "# acumulador\n",
    "def add(x, y):\n",
    "    return x+y\n",
    "\n",
    "print(list(range(20)))\n",
    "print(*it.accumulate(range(20), add))"
   ]
  },
  {
   "cell_type": "code",
   "execution_count": 26,
   "id": "c66b9348",
   "metadata": {},
   "outputs": [
    {
     "name": "stdout",
     "output_type": "stream",
     "text": [
      "a ab abc abcd abcde abcdef abcdefg\n"
     ]
    }
   ],
   "source": [
    "print(*it.accumulate('abcdefg', add))"
   ]
  },
  {
   "cell_type": "code",
   "execution_count": 27,
   "id": "01db774a",
   "metadata": {},
   "outputs": [
    {
     "name": "stdout",
     "output_type": "stream",
     "text": [
      "[78, 9, 59, 66, 78, 6, 31, 64, 67, 40, 88, 25, 9, 71, 67, 46, 14, 36, 100, 51]\n",
      "run_max 78 78 78 78 78 78 78 78 78 78 88 88 88 88 88 88 88 88 100 100\n",
      "run_min 78 9 9 9 9 6 6 6 6 6 6 6 6 6 6 6 6 6 6 6\n"
     ]
    }
   ],
   "source": [
    "import random\n",
    "random.seed(10)\n",
    "l = [random.randint(5, 100) for _ in range(20)]\n",
    "print(l)\n",
    "# running max\n",
    "print('run_max', *it.accumulate(l, max))\n",
    "print('run_min', *it.accumulate(l, min))"
   ]
  },
  {
   "cell_type": "code",
   "execution_count": 28,
   "id": "26090a9c",
   "metadata": {},
   "outputs": [
    {
     "name": "stdout",
     "output_type": "stream",
     "text": [
      "[10, 58, 22, 82, 50, 53, 58, 41, 91, 38, 63, 27, 92, 43, 89, 51, 22, 63, 35, 61]\n",
      "rest 0\n",
      "- 10 50 35\n",
      "rest 1\n",
      "- 41 91 51 61\n",
      "rest 2\n",
      "- 22 82 27 92 22\n",
      "rest 3\n",
      "- 58 53 58 38 63 43 63\n",
      "rest 4\n",
      "- 89\n"
     ]
    }
   ],
   "source": [
    "# groupby\n",
    "def reminder(x):\n",
    "    return x % 5\n",
    "\n",
    "l = [random.randint(5, 100) for _ in range(20)]\n",
    "print(l)\n",
    "l.sort(key = lambda x: x % 5)\n",
    "for k, g in it.groupby(l, reminder):\n",
    "    print(\"rest\", k)\n",
    "    print(\"-\", *g)\n"
   ]
  },
  {
   "cell_type": "markdown",
   "id": "8ab70643",
   "metadata": {},
   "source": [
    "### Generator expressions\n",
    "\n",
    "En Python, las expresiones generadoras son una forma concisa y eficiente en memoria de crear iteradores. Son similares a las comprensiones de lista, pero con una sutil diferencia: en lugar de crear una lista, generan valores sobre la marcha a medida que se itera sobre ellos.\n",
    "\n",
    "Por ejemplo, para calcular la suma de los cuadrados de números entre 1 y 100, se puede hacer lo siguiente:\n"
   ]
  },
  {
   "cell_type": "code",
   "execution_count": 29,
   "id": "3fdeb2b1",
   "metadata": {},
   "outputs": [
    {
     "data": {
      "text/plain": [
       "338350"
      ]
     },
     "execution_count": 29,
     "metadata": {},
     "output_type": "execute_result"
    }
   ],
   "source": [
    "values = [x**2 for x in range(101)]\n",
    "sum(values)"
   ]
  },
  {
   "cell_type": "markdown",
   "id": "4dff8be5",
   "metadata": {},
   "source": [
    "Tenga en cuenta que la lista de valores al cuadrado se creó para un solo uso de cada valor, por lo que usar expresiones generadoras es más eficiente en términos de memoria."
   ]
  },
  {
   "cell_type": "code",
   "execution_count": 30,
   "id": "451e7bbc",
   "metadata": {},
   "outputs": [
    {
     "name": "stdout",
     "output_type": "stream",
     "text": [
      "<generator object <genexpr> at 0x7984a01ca400>\n"
     ]
    },
    {
     "data": {
      "text/plain": [
       "338350"
      ]
     },
     "execution_count": 30,
     "metadata": {},
     "output_type": "execute_result"
    }
   ],
   "source": [
    "values_generator = (x **2 for x in range(101))\n",
    "print(values_generator)\n",
    "sum(values_generator)"
   ]
  },
  {
   "cell_type": "markdown",
   "id": "3468df80",
   "metadata": {},
   "source": [
    "Ejemplo: calcular la suma de los productos de elementos de dos listas"
   ]
  },
  {
   "cell_type": "code",
   "execution_count": 31,
   "id": "b3bed654",
   "metadata": {},
   "outputs": [
    {
     "name": "stdout",
     "output_type": "stream",
     "text": [
      "67620\n"
     ]
    }
   ],
   "source": [
    "l1 = range(0, 120, 5)\n",
    "l2 = range(2, 1000, 3)\n",
    "gen = (x*y for x, y in zip(l1, l2))\n",
    "print(sum(gen))"
   ]
  },
  {
   "cell_type": "markdown",
   "id": "42c08795",
   "metadata": {},
   "source": [
    "Un generador es una receta para construir valores, en lugar de una lista, que es una colección de valores."
   ]
  },
  {
   "cell_type": "markdown",
   "id": "0bc36f89",
   "metadata": {},
   "source": [
    "## Generator functions with yield\n",
    "\n",
    "La palabra clave yield se utiliza en Python para crear funciones generadoras. Estas funciones son una forma práctica de crear iteradores sin tener que implementar el protocolo de iteración explícitamente.\n"
   ]
  },
  {
   "cell_type": "code",
   "execution_count": 32,
   "id": "fc561329",
   "metadata": {},
   "outputs": [
    {
     "name": "stdout",
     "output_type": "stream",
     "text": [
      "0\n",
      "1\n",
      "2\n",
      "3\n",
      "4\n"
     ]
    }
   ],
   "source": [
    "def my_generator(limit):\n",
    "    current = 0\n",
    "    while current < limit:\n",
    "        yield current\n",
    "        current += 1\n",
    "\n",
    "# Using the generator\n",
    "generator = my_generator(5)\n",
    "for num in generator:\n",
    "    print(num)"
   ]
  },
  {
   "cell_type": "markdown",
   "id": "87404601",
   "metadata": {},
   "source": [
    "Otro ejemplo, el generador de Fibonacci"
   ]
  },
  {
   "cell_type": "code",
   "execution_count": 33,
   "id": "57619c3a",
   "metadata": {},
   "outputs": [
    {
     "data": {
      "text/plain": [
       "[0, 1, 1, 2, 3, 5, 8, 13, 21, 34, 55, 89]"
      ]
     },
     "execution_count": 33,
     "metadata": {},
     "output_type": "execute_result"
    }
   ],
   "source": [
    "def fib_generator(max_value):\n",
    "    n1 = 0\n",
    "    n2 = 1\n",
    "    yield n1\n",
    "    yield n2\n",
    "    while True:\n",
    "        n1, n2 = n2, n1+n2\n",
    "        if n2 > max_value:\n",
    "            return\n",
    "        yield n2\n",
    "\n",
    "list(fib_generator(100))"
   ]
  },
  {
   "cell_type": "markdown",
   "id": "7511bd1c",
   "metadata": {},
   "source": [
    "## Solved Exercises"
   ]
  },
  {
   "cell_type": "markdown",
   "id": "9a1aa28a",
   "metadata": {},
   "source": [
    "Usando iteradores, devuelve los elementos en posiciones impares en una lista"
   ]
  },
  {
   "cell_type": "code",
   "execution_count": 34,
   "id": "79ef094e",
   "metadata": {},
   "outputs": [
    {
     "data": {
      "text/plain": [
       "[83, 10, 5, 22, 43, 51, 45, 75, 60, 13]"
      ]
     },
     "execution_count": 34,
     "metadata": {},
     "output_type": "execute_result"
    }
   ],
   "source": [
    "l = [83, 53, 10, 79, 5, 35, 22, 29, 43, 73, 51, 35, 45, 90, 75, 62, 60, 65, 13, 88]\n",
    "[v for idx, v in enumerate(l) if idx % 2 == 0]"
   ]
  },
  {
   "cell_type": "markdown",
   "id": "de4d77e9",
   "metadata": {},
   "source": [
    "From every number in a list, substract its position in the list."
   ]
  },
  {
   "cell_type": "code",
   "execution_count": null,
   "id": "dad50e19",
   "metadata": {},
   "outputs": [],
   "source": [
    "[v - idx for idx, v in enumerate(l)]"
   ]
  },
  {
   "cell_type": "markdown",
   "id": "17d0f2a1",
   "metadata": {},
   "source": [
    "**Exercise**. Write a Python program to convert two lists into a dictionary in a way that item from list1 is the key and item from list2 is the value"
   ]
  },
  {
   "cell_type": "code",
   "execution_count": null,
   "id": "f8709c17",
   "metadata": {},
   "outputs": [],
   "source": [
    "keys = ['Ten', 'Twenty', 'Thirty']\n",
    "values = [10, 20, 30]\n",
    "{k: v for k, v in zip(keys, values)}"
   ]
  },
  {
   "cell_type": "markdown",
   "id": "11abce5c",
   "metadata": {},
   "source": [
    "**Exercise**. Given two lists, find the difference between the elements which are in the same positions"
   ]
  },
  {
   "cell_type": "code",
   "execution_count": null,
   "id": "17e57778",
   "metadata": {},
   "outputs": [],
   "source": [
    "l1 = [16, 21, 29, 98, 14, 88, 47, 34, 93] \n",
    "l2 = [97, 5, 68, 31, 18, 98, 29, 77, 70]\n",
    "[x - y for x, y in zip(l1, l2)]"
   ]
  },
  {
   "cell_type": "markdown",
   "id": "626efaec",
   "metadata": {},
   "source": [
    "**Exercise**. From a given list, return a new list by adding every element with the element next to it"
   ]
  },
  {
   "cell_type": "code",
   "execution_count": null,
   "id": "da1b61c3",
   "metadata": {},
   "outputs": [],
   "source": [
    "l = [83, 10, 5, 22, 43, 51, 45, 75, 60, 13]\n",
    "\n",
    "[e1 + e2 for e1, e2 in zip(l, l[1:])]"
   ]
  },
  {
   "cell_type": "markdown",
   "id": "28958fb2",
   "metadata": {},
   "source": [
    "**Exercise**. Using **map** and **filter**, obtain a list with the triple of all odd numbers from 0 to 100"
   ]
  },
  {
   "cell_type": "code",
   "execution_count": null,
   "id": "0de901ec",
   "metadata": {},
   "outputs": [],
   "source": [
    "list(map(lambda x: 3*x, filter(lambda x: x % 2 == 1, range(101))))"
   ]
  },
  {
   "cell_type": "code",
   "execution_count": null,
   "id": "35a6b840",
   "metadata": {},
   "outputs": [],
   "source": [
    "l1 = [16, 21, 29, 98, 14, 88, 47, 34, 93] \n",
    "list(x-y for x, y in zip(l1, l1[1:]))"
   ]
  },
  {
   "cell_type": "markdown",
   "id": "9d86dafd",
   "metadata": {},
   "source": [
    "**Exercise**. Given the following list of numbers"
   ]
  },
  {
   "cell_type": "code",
   "execution_count": null,
   "id": "be7a0f79",
   "metadata": {},
   "outputs": [],
   "source": [
    "vals = [16, 21, 29, 98, 14, 88, 47, 34, 93, 19, 17, 37, 84, 61, \n",
    "     97, 5, 68, 31, 18, 98, 29, 77, 70, 21, 15, 16, 62, 3, 54, 73]"
   ]
  },
  {
   "cell_type": "markdown",
   "id": "639804b1",
   "metadata": {},
   "source": [
    "a) Find the maximum sum between two consecutive elements"
   ]
  },
  {
   "cell_type": "code",
   "execution_count": null,
   "id": "17a5b2bf",
   "metadata": {},
   "outputs": [],
   "source": [
    "max(v1 + v2 for v1, v2 in zip(vals, vals[1:]))"
   ]
  },
  {
   "cell_type": "markdown",
   "id": "6876601b",
   "metadata": {},
   "source": [
    "b) find the maximum sum among three consecutive elements"
   ]
  },
  {
   "cell_type": "code",
   "execution_count": null,
   "id": "56ffb64b",
   "metadata": {},
   "outputs": [],
   "source": [
    "max(v1 + v2 + v3 for v1, v2, v3 in zip(vals, vals[1:], vals[2:]))"
   ]
  },
  {
   "cell_type": "markdown",
   "id": "0c797d27",
   "metadata": {},
   "source": [
    "c) Find the consecutive elements with maximum sum"
   ]
  },
  {
   "cell_type": "code",
   "execution_count": null,
   "id": "4ac991dd",
   "metadata": {},
   "outputs": [],
   "source": [
    "ordered = sorted(((v1, v2, v1 + v2) for v1, v2 in zip(vals, vals[1:])), \n",
    "      key=lambda x: -x[2])\n",
    "ordered[0]"
   ]
  },
  {
   "cell_type": "markdown",
   "id": "b748dc6a",
   "metadata": {},
   "source": [
    "d) Generate a new list by alternatingly multiplying the numbers by 1 and -1 to switch their signs."
   ]
  },
  {
   "cell_type": "code",
   "execution_count": null,
   "id": "fde968b6",
   "metadata": {},
   "outputs": [],
   "source": [
    "print([x*sgn for x,sgn in zip(vals, it.cycle([1, -1]))])"
   ]
  },
  {
   "cell_type": "markdown",
   "id": "4583cc15",
   "metadata": {},
   "source": [
    "**Exercise**. Having a list of numbers and a 3x1 kernel, convolute the values using the kernel values"
   ]
  },
  {
   "cell_type": "code",
   "execution_count": null,
   "id": "dde2e4a2",
   "metadata": {},
   "outputs": [],
   "source": [
    "def apply_kernel(values, kernel):\n",
    "    return [sum((v1 * v2 for v1, v2 in zip((e1, e2, e3), kernel))) \n",
    "            for e1, e2, e3 in zip(values, values[1:], values[2:])]"
   ]
  },
  {
   "cell_type": "code",
   "execution_count": null,
   "id": "f942b04d",
   "metadata": {},
   "outputs": [],
   "source": [
    "l = [83, 10, 5, 22, 43, 51, 45, 75, 60, 13]\n",
    "print(apply_kernel(l, [1/3, 1/3, 1/3]))"
   ]
  },
  {
   "cell_type": "code",
   "execution_count": null,
   "id": "72b476ac",
   "metadata": {},
   "outputs": [],
   "source": [
    "print(apply_kernel(l, [0.5, 0, 0.5]))"
   ]
  },
  {
   "cell_type": "code",
   "execution_count": null,
   "id": "19567095",
   "metadata": {},
   "outputs": [],
   "source": [
    "print(apply_kernel(l, [1, -1, 0]))"
   ]
  },
  {
   "cell_type": "markdown",
   "id": "5da7dc26",
   "metadata": {},
   "source": [
    "**Exercise**. Create an iterator from several iterables in a sequence"
   ]
  },
  {
   "cell_type": "code",
   "execution_count": null,
   "id": "00349bf5",
   "metadata": {},
   "outputs": [],
   "source": [
    "def my_chain_it(*args):\n",
    "    for iterator in args:\n",
    "        for value in iterator:\n",
    "            yield value\n",
    "        \n",
    "list(my_chain_it([1,2,3], ['a','b','c','d'], [4,5,6,7,8,9]))"
   ]
  },
  {
   "cell_type": "markdown",
   "id": "89405b26",
   "metadata": {},
   "source": [
    "There is an itertool for doing so"
   ]
  },
  {
   "cell_type": "code",
   "execution_count": null,
   "id": "da7881b6",
   "metadata": {},
   "outputs": [],
   "source": [
    "import itertools as it\n",
    "for v in it.chain([1,2,3], ['a','b','c','d'], [4,5,6,7,8,9]):\n",
    "    print(v)"
   ]
  },
  {
   "cell_type": "markdown",
   "id": "6aea78cc",
   "metadata": {},
   "source": [
    "**Exercise**. Generates the running product of elements in an iterable"
   ]
  },
  {
   "cell_type": "code",
   "execution_count": null,
   "id": "cb1aa51d",
   "metadata": {},
   "outputs": [],
   "source": [
    "def running_product(source):\n",
    "    accumulator = 1\n",
    "    for v in source:\n",
    "        accumulator *= v\n",
    "        yield accumulator\n",
    "list(running_product([3, 4, 5, 6]))"
   ]
  },
  {
   "cell_type": "markdown",
   "id": "257417fd",
   "metadata": {},
   "source": [
    "**Exercise**. Other solution doing iteration _manually_ "
   ]
  },
  {
   "cell_type": "code",
   "execution_count": null,
   "id": "3d493ab0",
   "metadata": {},
   "outputs": [],
   "source": [
    "def running_product(source):\n",
    "    my_iter = iter(source)\n",
    "    try:\n",
    "        accumulator = next(my_iter)\n",
    "        yield accumulator\n",
    "        while True:\n",
    "            v = next(my_iter)\n",
    "            accumulator *= v\n",
    "            yield accumulator\n",
    "    except StopIteration:\n",
    "        pass\n",
    "        \n",
    "list(running_product([3, 4, 5, 6]))"
   ]
  },
  {
   "cell_type": "markdown",
   "id": "ccff8cc4",
   "metadata": {},
   "source": [
    "**Exercise**. Modify previous code to allow passing an accumulating function (min, max, etc)"
   ]
  },
  {
   "cell_type": "code",
   "execution_count": null,
   "id": "e55fd0a4",
   "metadata": {},
   "outputs": [],
   "source": [
    "def running_function(source, fn):\n",
    "    accumulator = None\n",
    "    for v in source:\n",
    "        if accumulator is None:\n",
    "            accumulator = v\n",
    "        else:\n",
    "            accumulator = fn(accumulator, v)\n",
    "        yield accumulator\n",
    "        \n",
    "def max_of_two(x, y):\n",
    "    return max(x, y)\n",
    "\n",
    "list(running_function([3, 4, 5, 6, 5, 2, 1, 12, 8], max_of_two))"
   ]
  },
  {
   "cell_type": "markdown",
   "id": "d7bd3c63",
   "metadata": {},
   "source": [
    "We can already use the python builtin max or min functions"
   ]
  },
  {
   "cell_type": "code",
   "execution_count": null,
   "id": "2bf33ce5",
   "metadata": {},
   "outputs": [],
   "source": [
    "print(list(running_function([3, 4, 5, 6, 5, 2, 1, 12, 8], max)))\n",
    "print(list(running_function([3, 4, 5, 6, 5, 2, 1, 12, 8], min)))"
   ]
  },
  {
   "cell_type": "markdown",
   "id": "ea593372",
   "metadata": {},
   "source": [
    "Note that we can use it to calculate the running product if proper function is passed"
   ]
  },
  {
   "cell_type": "code",
   "execution_count": null,
   "id": "c254c4ce",
   "metadata": {},
   "outputs": [],
   "source": [
    "import operator\n",
    "\n",
    "list(running_function([3, 4, 5, 6, 5, 2, 1, 12, 8], operator.mul))"
   ]
  },
  {
   "cell_type": "code",
   "execution_count": null,
   "id": "16a8dc4f",
   "metadata": {},
   "outputs": [],
   "source": [
    "list(running_function([3, 4, 5, 6, 5, 2, 1, 12, 8], operator.add))"
   ]
  }
 ],
 "metadata": {
  "kernelspec": {
   "display_name": "Python 3 (ipykernel)",
   "language": "python",
   "name": "python3"
  },
  "language_info": {
   "codemirror_mode": {
    "name": "ipython",
    "version": 3
   },
   "file_extension": ".py",
   "mimetype": "text/x-python",
   "name": "python",
   "nbconvert_exporter": "python",
   "pygments_lexer": "ipython3",
   "version": "3.12.7"
  }
 },
 "nbformat": 4,
 "nbformat_minor": 5
}
