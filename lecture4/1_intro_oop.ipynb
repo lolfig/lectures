{
 "cells": [
  {
   "cell_type": "markdown",
   "id": "8ffd724e",
   "metadata": {},
   "source": [
    "# Introducción a la Programación Orientada a Objetos en Python\n",
    "En Python, todas las variables tienen un tipo asociado. Este tipo limita lo que se puede hacer con la referencia."
   ]
  },
  {
   "cell_type": "code",
   "execution_count": 21,
   "id": "6e81cd91",
   "metadata": {},
   "outputs": [
    {
     "data": {
      "text/plain": [
       "int"
      ]
     },
     "execution_count": 21,
     "metadata": {},
     "output_type": "execute_result"
    }
   ],
   "source": [
    "x = 1\n",
    "type(x)"
   ]
  },
  {
   "cell_type": "code",
   "execution_count": 22,
   "id": "fbebc5cd",
   "metadata": {},
   "outputs": [
    {
     "data": {
      "text/plain": [
       "str"
      ]
     },
     "execution_count": 22,
     "metadata": {},
     "output_type": "execute_result"
    }
   ],
   "source": [
    "y = 'lolo'\n",
    "type(y)"
   ]
  },
  {
   "cell_type": "code",
   "execution_count": 23,
   "id": "e7198e32",
   "metadata": {},
   "outputs": [
    {
     "data": {
      "text/plain": [
       "2"
      ]
     },
     "execution_count": 23,
     "metadata": {},
     "output_type": "execute_result"
    }
   ],
   "source": [
    "# Podemos agregar una constante a un entero\n",
    "x+1"
   ]
  },
  {
   "cell_type": "code",
   "execution_count": 24,
   "id": "b761837b",
   "metadata": {
    "scrolled": true
   },
   "outputs": [
    {
     "ename": "TypeError",
     "evalue": "unsupported operand type(s) for +: 'int' and 'str'",
     "output_type": "error",
     "traceback": [
      "\u001b[0;31m---------------------------------------------------------------------------\u001b[0m",
      "\u001b[0;31mTypeError\u001b[0m                                 Traceback (most recent call last)",
      "Cell \u001b[0;32mIn[24], line 2\u001b[0m\n\u001b[1;32m      1\u001b[0m \u001b[38;5;66;03m# Pero no podemos agregar una cadena a un entero\u001b[39;00m\n\u001b[0;32m----> 2\u001b[0m x\u001b[38;5;241m+\u001b[39m\u001b[38;5;124m'\u001b[39m\u001b[38;5;124mlolo\u001b[39m\u001b[38;5;124m'\u001b[39m\n",
      "\u001b[0;31mTypeError\u001b[0m: unsupported operand type(s) for +: 'int' and 'str'"
     ]
    }
   ],
   "source": [
    "# Pero no podemos agregar una cadena a un entero\n",
    "x+'lolo'"
   ]
  },
  {
   "cell_type": "code",
   "execution_count": 25,
   "id": "662aeb86",
   "metadata": {},
   "outputs": [
    {
     "data": {
      "text/plain": [
       "float"
      ]
     },
     "execution_count": 25,
     "metadata": {},
     "output_type": "execute_result"
    }
   ],
   "source": [
    "# Tenga en cuenta que incluso las expresiones también tienen un tipo\n",
    "type(3 + 4 * 2.3)"
   ]
  },
  {
   "cell_type": "code",
   "execution_count": 14,
   "id": "63726c5d",
   "metadata": {},
   "outputs": [
    {
     "name": "stdout",
     "output_type": "stream",
     "text": [
      "<class 'float'>\n"
     ]
    }
   ],
   "source": [
    "# Entonces, ¿dónde se almacenan todas estas reglas?\n",
    "\n",
    "print(type(2.0))"
   ]
  },
  {
   "cell_type": "markdown",
   "id": "d79249b1",
   "metadata": {},
   "source": [
    "En Python, todo es un \"objeto\" y cada objeto pertenece a una clase:\n",
    "- Una clase es una plantilla para crear objetos.\n",
    "- Una clase incluye todas las operaciones que se pueden realizar con un objeto y la implementación de dichas operaciones."
   ]
  },
  {
   "cell_type": "markdown",
   "id": "3acab6e3",
   "metadata": {},
   "source": [
    "¿Por qué son necesarios los objetos? Considere este ejemplo: desea crear un sistema para clasificar a los pacientes según la información incluida en sus historiales médicos. ¿Cómo almacenar esa información en Python?\n",
    "\n",
    "Primera solución: usar tuplas. Supongamos que queremos almacenar el nombre, el año de nacimiento, el peso y la altura."
   ]
  },
  {
   "cell_type": "code",
   "execution_count": 27,
   "id": "a7537fdb",
   "metadata": {},
   "outputs": [],
   "source": [
    "patients = [\n",
    "    ('Alice', 1994, 94.05, 183.24),\n",
    "    ('Bob', 1973, 65.29, 174.69),\n",
    "    ('Charlie', 1978, 72.52, 157.49),\n",
    "    ('Diana', 1958, 95.85, 163.67),\n",
    "    ('Ethan', 1982, 57.93, 188.61),\n",
    "    ('Fiona', 1989, 96.01, 164.61),\n",
    "    ('George', 1951, 73.26, 173.48),\n",
    "    ('Hannah', 1989, 66.41, 196.53),\n",
    "    ('Ian', 1992, 52.03, 178.66),\n",
    "    ('Julia', 1950, 88.53, 171.54)\n",
    "]"
   ]
  },
  {
   "cell_type": "markdown",
   "id": "fe4d5f8b",
   "metadata": {},
   "source": [
    "Un problema con esta representación es que es necesario recordar qué posición dentro de la tupla contiene cada característica. Además, si posteriormente se elimina una característica o se inserta una nueva, todo el código que utilice la posición predefinida fallará.\n"
   ]
  },
  {
   "cell_type": "code",
   "execution_count": 28,
   "id": "6c549971",
   "metadata": {},
   "outputs": [
    {
     "data": {
      "text/plain": [
       "76.188"
      ]
     },
     "execution_count": 28,
     "metadata": {},
     "output_type": "execute_result"
    }
   ],
   "source": [
    "import numpy as np\n",
    "def get_mean_age(persons):\n",
    "    return np.mean([p[2] for p in persons])\n",
    "\n",
    "get_mean_age(patients)"
   ]
  },
  {
   "cell_type": "code",
   "execution_count": 34,
   "id": "8fd03c84-4112-4e58-82ca-0cff85df14df",
   "metadata": {},
   "outputs": [
    {
     "ename": "AttributeError",
     "evalue": "'tuple' object has no attribute 'append'",
     "output_type": "error",
     "traceback": [
      "\u001b[0;31m---------------------------------------------------------------------------\u001b[0m",
      "\u001b[0;31mAttributeError\u001b[0m                            Traceback (most recent call last)",
      "Cell \u001b[0;32mIn[34], line 2\u001b[0m\n\u001b[1;32m      1\u001b[0m \u001b[38;5;28;01mfor\u001b[39;00m i \u001b[38;5;129;01min\u001b[39;00m patients:\n\u001b[0;32m----> 2\u001b[0m     \u001b[38;5;28mprint\u001b[39m(i\u001b[38;5;241m.\u001b[39mappend(\u001b[38;5;241m5\u001b[39m))\n",
      "\u001b[0;31mAttributeError\u001b[0m: 'tuple' object has no attribute 'append'"
     ]
    }
   ],
   "source": [
    "for i in patients:\n",
    "    print(i.append(5))"
   ]
  },
  {
   "cell_type": "code",
   "execution_count": 17,
   "id": "1609e10e",
   "metadata": {
    "scrolled": true
   },
   "outputs": [
    {
     "data": {
      "text/plain": [
       "175.252"
      ]
     },
     "execution_count": 17,
     "metadata": {},
     "output_type": "execute_result"
    }
   ],
   "source": [
    "# Luego decido eliminar el nombre porque es irrelevante.\n",
    "patients = [\n",
    "    (1994, 94.05, 183.24),\n",
    "    (1973, 65.29, 174.69),\n",
    "    (1978, 72.52, 157.49),\n",
    "    (1958, 95.85, 163.67),\n",
    "    (1982, 57.93, 188.61),\n",
    "    (1989, 96.01, 164.61),\n",
    "    (1951, 73.26, 173.48),\n",
    "    (1989, 66.41, 196.53),\n",
    "    (1992, 52.03, 178.66),\n",
    "    (1950, 88.53, 171.54)\n",
    "]\n",
    "get_mean_age(patients)"
   ]
  },
  {
   "cell_type": "markdown",
   "id": "9ab6886c",
   "metadata": {},
   "source": [
    "Esto introduce un error sutil que puede ser muy difícil de detectar en el futuro.\n",
    "\n",
    "Una solución: usar diccionarios en lugar de tuplas.\n"
   ]
  },
  {
   "cell_type": "code",
   "execution_count": 35,
   "id": "df63341c",
   "metadata": {
    "scrolled": true
   },
   "outputs": [
    {
     "data": {
      "text/plain": [
       "76.188"
      ]
     },
     "execution_count": 35,
     "metadata": {},
     "output_type": "execute_result"
    }
   ],
   "source": [
    "patients = [\n",
    "    {'name': 'Alice', 'year_of_birth': 1994, 'weight': 94.05, 'height': 183.24},\n",
    "    {'name': 'Bob', 'year_of_birth': 1973, 'weight': 65.29, 'height': 174.69},\n",
    "    {'name': 'Charlie', 'year_of_birth': 1978, 'weight': 72.52, 'height': 157.49},\n",
    "    {'name': 'Diana', 'year_of_birth': 1958, 'weight': 95.85, 'height': 163.67},\n",
    "    {'name': 'Ethan', 'year_of_birth': 1982, 'weight': 57.93, 'height': 188.61},\n",
    "    {'name': 'Fiona', 'year_of_birth': 1989, 'weight': 96.01, 'height': 164.61},\n",
    "    {'name': 'George', 'year_of_birth': 1951, 'weight': 73.26, 'height': 173.48},\n",
    "    {'name': 'Hannah', 'year_of_birth': 1989, 'weight': 66.41, 'height': 196.53},\n",
    "    {'name': 'Ian', 'year_of_birth': 1992, 'weight': 52.03, 'height': 178.66},\n",
    "    {'name': 'Julia', 'year_of_birth': 1950, 'weight': 88.53, 'height': 171.54}\n",
    "]\n",
    "\n",
    "def get_mean_age(persons):\n",
    "    return np.mean([p['weight'] for p in persons])\n",
    "\n",
    "get_mean_age(patients)"
   ]
  },
  {
   "cell_type": "markdown",
   "id": "232288ef",
   "metadata": {},
   "source": [
    "Tenga en cuenta que ahora hemos resuelto el problema, ya que la posición no es relevante.\n",
    "\n",
    "Supongamos ahora que queremos calcular la edad aproximada de un paciente en un año determinado."
   ]
  },
  {
   "cell_type": "code",
   "execution_count": 37,
   "id": "43cf587f",
   "metadata": {},
   "outputs": [
    {
     "ename": "KeyError",
     "evalue": "'year_of_birth'",
     "output_type": "error",
     "traceback": [
      "\u001b[0;31m---------------------------------------------------------------------------\u001b[0m",
      "\u001b[0;31mKeyError\u001b[0m                                  Traceback (most recent call last)",
      "Cell \u001b[0;32mIn[37], line 4\u001b[0m\n\u001b[1;32m      1\u001b[0m \u001b[38;5;28;01mdef\u001b[39;00m \u001b[38;5;21mcalculate_age\u001b[39m(person, year):\n\u001b[1;32m      2\u001b[0m     \u001b[38;5;28;01mreturn\u001b[39;00m year \u001b[38;5;241m-\u001b[39m person[\u001b[38;5;124m'\u001b[39m\u001b[38;5;124myear_of_birth\u001b[39m\u001b[38;5;124m'\u001b[39m]\n\u001b[0;32m----> 4\u001b[0m calculate_age(patients[\u001b[38;5;241m0\u001b[39m], \u001b[38;5;241m2023\u001b[39m)\n",
      "Cell \u001b[0;32mIn[37], line 2\u001b[0m, in \u001b[0;36mcalculate_age\u001b[0;34m(person, year)\u001b[0m\n\u001b[1;32m      1\u001b[0m \u001b[38;5;28;01mdef\u001b[39;00m \u001b[38;5;21mcalculate_age\u001b[39m(person, year):\n\u001b[0;32m----> 2\u001b[0m     \u001b[38;5;28;01mreturn\u001b[39;00m year \u001b[38;5;241m-\u001b[39m person[\u001b[38;5;124m'\u001b[39m\u001b[38;5;124myear_of_birth\u001b[39m\u001b[38;5;124m'\u001b[39m]\n",
      "\u001b[0;31mKeyError\u001b[0m: 'year_of_birth'"
     ]
    }
   ],
   "source": [
    "def calculate_age(person, year):\n",
    "    return year - person['year_of_birth']\n",
    "\n",
    "calculate_age(patients[0], 2023)"
   ]
  },
  {
   "cell_type": "markdown",
   "id": "b944d8db",
   "metadata": {},
   "source": [
    "Ahora, decidí cambiar la forma de representar la edad, así que uso una fecha y hora."
   ]
  },
  {
   "cell_type": "code",
   "execution_count": 36,
   "id": "396dd673",
   "metadata": {},
   "outputs": [
    {
     "ename": "TypeError",
     "evalue": "calculate_age() missing 1 required positional argument: 'year'",
     "output_type": "error",
     "traceback": [
      "\u001b[0;31m---------------------------------------------------------------------------\u001b[0m",
      "\u001b[0;31mTypeError\u001b[0m                                 Traceback (most recent call last)",
      "Cell \u001b[0;32mIn[36], line 16\u001b[0m\n\u001b[1;32m      1\u001b[0m \u001b[38;5;28;01mimport\u001b[39;00m \u001b[38;5;21;01mdatetime\u001b[39;00m\n\u001b[1;32m      3\u001b[0m patients \u001b[38;5;241m=\u001b[39m [\n\u001b[1;32m      4\u001b[0m     {\u001b[38;5;124m'\u001b[39m\u001b[38;5;124mname\u001b[39m\u001b[38;5;124m'\u001b[39m: \u001b[38;5;124m'\u001b[39m\u001b[38;5;124mAlice\u001b[39m\u001b[38;5;124m'\u001b[39m, \u001b[38;5;124m'\u001b[39m\u001b[38;5;124mbirth_date\u001b[39m\u001b[38;5;124m'\u001b[39m: datetime\u001b[38;5;241m.\u001b[39mdate(\u001b[38;5;241m1994\u001b[39m, \u001b[38;5;241m10\u001b[39m, \u001b[38;5;241m11\u001b[39m), \u001b[38;5;124m'\u001b[39m\u001b[38;5;124mweight\u001b[39m\u001b[38;5;124m'\u001b[39m: \u001b[38;5;241m94.05\u001b[39m, \u001b[38;5;124m'\u001b[39m\u001b[38;5;124mheight\u001b[39m\u001b[38;5;124m'\u001b[39m: \u001b[38;5;241m183.24\u001b[39m},\n\u001b[1;32m      5\u001b[0m     {\u001b[38;5;124m'\u001b[39m\u001b[38;5;124mname\u001b[39m\u001b[38;5;124m'\u001b[39m: \u001b[38;5;124m'\u001b[39m\u001b[38;5;124mBob\u001b[39m\u001b[38;5;124m'\u001b[39m, \u001b[38;5;124m'\u001b[39m\u001b[38;5;124mbirth_date\u001b[39m\u001b[38;5;124m'\u001b[39m: datetime\u001b[38;5;241m.\u001b[39mdate(\u001b[38;5;241m1973\u001b[39m, \u001b[38;5;241m5\u001b[39m, \u001b[38;5;241m24\u001b[39m), \u001b[38;5;124m'\u001b[39m\u001b[38;5;124mweight\u001b[39m\u001b[38;5;124m'\u001b[39m: \u001b[38;5;241m65.29\u001b[39m, \u001b[38;5;124m'\u001b[39m\u001b[38;5;124mheight\u001b[39m\u001b[38;5;124m'\u001b[39m: \u001b[38;5;241m174.69\u001b[39m},\n\u001b[0;32m   (...)\u001b[0m\n\u001b[1;32m     13\u001b[0m     {\u001b[38;5;124m'\u001b[39m\u001b[38;5;124mname\u001b[39m\u001b[38;5;124m'\u001b[39m: \u001b[38;5;124m'\u001b[39m\u001b[38;5;124mJulia\u001b[39m\u001b[38;5;124m'\u001b[39m, \u001b[38;5;124m'\u001b[39m\u001b[38;5;124mbirth_date\u001b[39m\u001b[38;5;124m'\u001b[39m: datetime\u001b[38;5;241m.\u001b[39mdate(\u001b[38;5;241m1950\u001b[39m, \u001b[38;5;241m9\u001b[39m, \u001b[38;5;241m13\u001b[39m), \u001b[38;5;124m'\u001b[39m\u001b[38;5;124mweight\u001b[39m\u001b[38;5;124m'\u001b[39m: \u001b[38;5;241m88.53\u001b[39m, \u001b[38;5;124m'\u001b[39m\u001b[38;5;124mheight\u001b[39m\u001b[38;5;124m'\u001b[39m: \u001b[38;5;241m171.54\u001b[39m}\n\u001b[1;32m     14\u001b[0m ]\n\u001b[0;32m---> 16\u001b[0m calculate_age(patients[\u001b[38;5;241m0\u001b[39m])\n",
      "\u001b[0;31mTypeError\u001b[0m: calculate_age() missing 1 required positional argument: 'year'"
     ]
    }
   ],
   "source": [
    "import datetime\n",
    "\n",
    "patients = [\n",
    "    {'name': 'Alice', 'birth_date': datetime.date(1994, 10, 11), 'weight': 94.05, 'height': 183.24},\n",
    "    {'name': 'Bob', 'birth_date': datetime.date(1973, 5, 24), 'weight': 65.29, 'height': 174.69},\n",
    "    {'name': 'Charlie', 'birth_date': datetime.date(1978, 3, 24), 'weight': 72.52, 'height': 157.49},\n",
    "    {'name': 'Diana', 'birth_date': datetime.date(1958, 8, 2), 'weight': 95.85, 'height': 163.67},\n",
    "    {'name': 'Ethan', 'birth_date': datetime.date(1982, 2, 5), 'weight': 57.93, 'height': 188.61},\n",
    "    {'name': 'Fiona', 'birth_date': datetime.date(1989, 12, 28), 'weight': 96.01, 'height': 164.61},\n",
    "    {'name': 'George', 'birth_date': datetime.date(1951, 1, 6), 'weight': 73.26, 'height': 173.48},\n",
    "    {'name': 'Hannah', 'birth_date': datetime.date(1989, 4, 28), 'weight': 66.41, 'height': 196.53},\n",
    "    {'name': 'Ian', 'birth_date': datetime.date(1992, 12, 14), 'weight': 52.03, 'height': 178.66},\n",
    "    {'name': 'Julia', 'birth_date': datetime.date(1950, 9, 13), 'weight': 88.53, 'height': 171.54}\n",
    "]\n",
    "\n",
    "calculate_age(patients[0])"
   ]
  },
  {
   "cell_type": "markdown",
   "id": "ab907b2a",
   "metadata": {},
   "source": [
    "La causa original de este problema es que separamos las estructuras de datos que contienen la información y los procedimientos que operan sobre ella.\n",
    "\n",
    "Los objetos, por otro lado, contienen la información junto con los procedimientos (métodos) que acceden a ella y la modifican."
   ]
  },
  {
   "cell_type": "code",
   "execution_count": 38,
   "id": "0c77001f-3a99-47ed-aedc-8b243ed406ec",
   "metadata": {},
   "outputs": [],
   "source": [
    "variable = 50"
   ]
  },
  {
   "cell_type": "code",
   "execution_count": 39,
   "id": "d4318a70-3c71-4281-92c4-a036177383e3",
   "metadata": {},
   "outputs": [
    {
     "data": {
      "text/plain": [
       "int"
      ]
     },
     "execution_count": 39,
     "metadata": {},
     "output_type": "execute_result"
    }
   ],
   "source": [
    "variable."
   ]
  },
  {
   "cell_type": "code",
   "execution_count": 42,
   "id": "4b343dd2",
   "metadata": {},
   "outputs": [],
   "source": [
    "class Person:\n",
    "    def __init__(self, name, year_of_birth, weight, height):\n",
    "        self.name = name\n",
    "        self.year_of_birth = year_of_birth\n",
    "        self.weight = weight\n",
    "        self.height = height\n",
    "        \n",
    "    def calculate_age(self, year):\n",
    "        return year - self.year_of_birth\n"
   ]
  },
  {
   "cell_type": "code",
   "execution_count": 45,
   "id": "512f6288-e4de-4d46-8ebd-c35f6a0a5dc4",
   "metadata": {},
   "outputs": [],
   "source": [
    "# Lista de ejemplo de objetos Persona\n",
    "patients = [\n",
    "    Person(name='Alice', year_of_birth=1994, weight=94.05, height=183.24),\n",
    "    Person(name='Bob', year_of_birth=1973, weight=65.29, height=174.69),\n",
    "    Person(name='Charlie', year_of_birth=1978, weight=72.52, height=157.49),\n",
    "    Person(name='Diana', year_of_birth=1978, weight=95.85, height=163.67)\n",
    "]"
   ]
  },
  {
   "cell_type": "code",
   "execution_count": 51,
   "id": "9466ccd4-23e0-4087-a18a-d53cc3240d1a",
   "metadata": {},
   "outputs": [
    {
     "data": {
      "text/plain": [
       "31"
      ]
     },
     "execution_count": 51,
     "metadata": {},
     "output_type": "execute_result"
    }
   ],
   "source": [
    "patients[0].calculate_age(2025)"
   ]
  },
  {
   "cell_type": "markdown",
   "id": "92db9620",
   "metadata": {},
   "source": [
    "Si los datos almacenados cambian, es muy sencillo adaptar la clase."
   ]
  },
  {
   "cell_type": "code",
   "execution_count": 52,
   "id": "837357d2",
   "metadata": {},
   "outputs": [
    {
     "data": {
      "text/plain": [
       "29"
      ]
     },
     "execution_count": 52,
     "metadata": {},
     "output_type": "execute_result"
    }
   ],
   "source": [
    "class Person:\n",
    "    def __init__(self, name, birth_date, weight, height):\n",
    "        self.name = name\n",
    "        self.birth_date = birth_date\n",
    "        self.weight = weight\n",
    "        self.height = height\n",
    "        \n",
    "    def calculate_age(self, year):\n",
    "        return year - self.birth_date.year\n",
    "    \n",
    "# Lista de ejemplo de objetos Persona\n",
    "patients = [\n",
    "    Person(name='Alice', birth_date=datetime.date(1994, 10, 11), weight=94.05, height=183.24),\n",
    "    Person(name='Bob', birth_date=datetime.date(1973, 5, 24), weight=65.29, height=174.69),\n",
    "    Person(name='Charlie', birth_date=datetime.date(1978, 3, 24), weight=72.52, height=157.49),\n",
    "    Person(name='Diana', birth_date=datetime.date(1958, 8, 2), weight=95.85, height=163.67)\n",
    "]\n",
    "patients[0].calculate_age(2023)"
   ]
  },
  {
   "cell_type": "markdown",
   "id": "5ddc3bbe",
   "metadata": {},
   "source": [
    "¿Qué es \"self\"? Dado que todos los objetos comparten la misma clase, necesitamos una forma en los métodos de diferenciar el objeto creado.\n",
    "\n",
    "En el ejemplo anterior, las cuatro personas comparten la misma definición de calculate_year. Al llamar al método, el objeto self recibió el objeto utilizado.\n"
   ]
  },
  {
   "cell_type": "code",
   "execution_count": 59,
   "id": "607b617a",
   "metadata": {},
   "outputs": [
    {
     "name": "stdout",
     "output_type": "stream",
     "text": [
      "Current name of self:  Alice\n"
     ]
    },
    {
     "data": {
      "text/plain": [
       "30"
      ]
     },
     "execution_count": 59,
     "metadata": {},
     "output_type": "execute_result"
    }
   ],
   "source": [
    "class Person:\n",
    "    def __init__(self, name, birth_date, weight, height):\n",
    "        self.name = name\n",
    "        self.birth_date = birth_date\n",
    "        self.weight = weight\n",
    "        self.height = height\n",
    "        \n",
    "    def calculate_age(self, year):\n",
    "        print(\"Current name of self: \", self.name)\n",
    "        return year - self.birth_date.year\n",
    "\n",
    "    def longitud_nombre(self, name):\n",
    "        longitud = len(self.name)\n",
    "        return longitud\n",
    "    \n",
    "alice = Person(name='Alice', birth_date=datetime.date(1994, 10, 11), weight=94.05, height=183.24)\n",
    "bob = Person(name='Bob', birth_date=datetime.date(1973, 5, 24), weight=65.29, height=174.69)\n",
    "\n",
    "alice.calculate_age(2024)"
   ]
  },
  {
   "cell_type": "code",
   "execution_count": null,
   "id": "a4f53ebe-30fe-4b18-b122-f2a02fab19f3",
   "metadata": {},
   "outputs": [],
   "source": [
    "class Otra_Persona(self, nombre):\n",
    "    def __init__(self, nombre):\n",
    "        self.nombre = nombre\n",
    "\n",
    "    def longitud_nombre(self, name):\n",
    "        longitud = len(self.name)\n",
    "        return longitud"
   ]
  },
  {
   "cell_type": "code",
   "execution_count": 61,
   "id": "00e63fcc-8b80-4906-9341-ccf5550105ff",
   "metadata": {},
   "outputs": [
    {
     "data": {
      "text/plain": [
       "5"
      ]
     },
     "execution_count": 61,
     "metadata": {},
     "output_type": "execute_result"
    }
   ],
   "source": [
    "alice.longitud_nombre('ALICE')"
   ]
  },
  {
   "cell_type": "code",
   "execution_count": 17,
   "id": "adc1bc22",
   "metadata": {
    "scrolled": true
   },
   "outputs": [
    {
     "name": "stdout",
     "output_type": "stream",
     "text": [
      "Current name of self:  Bob\n"
     ]
    },
    {
     "data": {
      "text/plain": [
       "51"
      ]
     },
     "execution_count": 17,
     "metadata": {},
     "output_type": "execute_result"
    }
   ],
   "source": [
    "bob.calculate_age(2024)"
   ]
  },
  {
   "cell_type": "markdown",
   "id": "b7b89aff",
   "metadata": {},
   "source": [
    "# Métodos especiales\n",
    "\n",
    "**El método \\_\\_init\\_\\_**.\n",
    "En Python, se pueden usar algunos métodos especiales dentro de la definición de clase. Todos están entre guiones bajos dobles. Se llama a \\_\\_init\\_\\_ para inicializar el estado interno del objeto y se recomienda encarecidamente su uso.\n",
    "\n",
    "Como cualquier método, puede incluir parámetros para facilitar la inicialización.\n"
   ]
  },
  {
   "cell_type": "code",
   "execution_count": 18,
   "id": "9647210a",
   "metadata": {},
   "outputs": [
    {
     "data": {
      "text/plain": [
       "('Bob', 2003, None)"
      ]
     },
     "execution_count": 18,
     "metadata": {},
     "output_type": "execute_result"
    }
   ],
   "source": [
    "class Person:\n",
    "    def __init__(self, name, birth_date, weight, height):\n",
    "        self.name = name\n",
    "        self.birth_date = birth_date\n",
    "        self.year = birth_date.year\n",
    "        self.weight = weight\n",
    "        self.height = height\n",
    "        self.gender = None\n",
    "        self.estado = ['Trieste', \"contento\",'bravo'] \n",
    "\n",
    "    def accion(self):\n",
    "        \n",
    "bob = Person('Bob', datetime.date(2003, 1, 2), 23.4, 156.3)\n",
    "bob.name, bob.year, bob.gender"
   ]
  },
  {
   "cell_type": "markdown",
   "id": "fb3ad84a",
   "metadata": {},
   "source": [
    "Para crear un objeto, se utiliza el nombre de la clase junto con los parámetros esperados por el método \\_\\_init\\_\\_.\n",
    "\n",
    "Nota: Dado que \\_\\_init\\_\\_ es un método, se pueden usar valores predeterminados para parámetros, argumentos, etc."
   ]
  },
  {
   "cell_type": "code",
   "execution_count": 19,
   "id": "42c4cc52",
   "metadata": {},
   "outputs": [
    {
     "data": {
      "text/plain": [
       "<__main__.Person at 0x7ecf5c161520>"
      ]
     },
     "execution_count": 19,
     "metadata": {},
     "output_type": "execute_result"
    }
   ],
   "source": [
    "bob"
   ]
  },
  {
   "cell_type": "code",
   "execution_count": 68,
   "id": "30440a9d",
   "metadata": {},
   "outputs": [],
   "source": [
    "# Método especial __repr__\n",
    "class Person:\n",
    "    def __init__(self, name, birth_date, weight, height):\n",
    "        self.name = name\n",
    "        self.birth_date = birth_date\n",
    "        self.year = birth_date.year\n",
    "        self.weight = weight\n",
    "        self.height = height\n",
    "        self.gender = None\n",
    "        \n",
    "    def __repr__(self):\n",
    "        return f\"Person(name='{self.name}')\""
   ]
  },
  {
   "cell_type": "code",
   "execution_count": 69,
   "id": "dce4f198-016f-401a-b654-d2f27873c16c",
   "metadata": {},
   "outputs": [],
   "source": [
    "bob = Person('Bob', datetime.date(2003, 1, 2), 23.4, 156.3)"
   ]
  },
  {
   "cell_type": "code",
   "execution_count": 70,
   "id": "4094232e-e380-4085-bcd5-9e06c1f05652",
   "metadata": {},
   "outputs": [
    {
     "data": {
      "text/plain": [
       "Person(name='Bob')"
      ]
     },
     "execution_count": 70,
     "metadata": {},
     "output_type": "execute_result"
    }
   ],
   "source": [
    "bob"
   ]
  },
  {
   "cell_type": "markdown",
   "id": "4a0326a8",
   "metadata": {},
   "source": [
    "## Métodos aritméticos especiales\n",
    "\n",
    "En Python, los objetos creados por las clases de usuario pueden comportarse de forma idéntica a los objetos predefinidos. Esto se logra mediante el uso de métodos especiales. Aquí revisaremos los más comunes.\n"
   ]
  },
  {
   "cell_type": "code",
   "execution_count": 71,
   "id": "726501fc",
   "metadata": {},
   "outputs": [],
   "source": [
    "class Vector:\n",
    "    def __init__(self, x, y):\n",
    "        self.x = x\n",
    "        self.y = y\n",
    "\n",
    "    def __repr__(self):\n",
    "        return f\"Vector({self.x}, {self.y})\"\n",
    "\n",
    "    def __add__(self, other):\n",
    "        return Vector(self.x + other.x, self.y + other.y)\n",
    "\n",
    "    def __sub__(self, other):\n",
    "        return Vector(self.x - other.x, self.y - other.y)"
   ]
  },
  {
   "cell_type": "code",
   "execution_count": 73,
   "id": "9656ac9c-5e65-4953-a967-b711cda2744d",
   "metadata": {},
   "outputs": [],
   "source": [
    "v1 = Vector(2, 3)\n",
    "v2 = Vector(5, 7)"
   ]
  },
  {
   "cell_type": "code",
   "execution_count": 76,
   "id": "bd96071a-9014-4d49-bbd5-95a06621f9e6",
   "metadata": {},
   "outputs": [
    {
     "data": {
      "text/plain": [
       "Vector(7, 10)"
      ]
     },
     "execution_count": 76,
     "metadata": {},
     "output_type": "execute_result"
    }
   ],
   "source": [
    "v1 + v2"
   ]
  },
  {
   "cell_type": "code",
   "execution_count": 74,
   "id": "2adeb486-cbc3-4de0-9cc2-007237c9b30c",
   "metadata": {},
   "outputs": [
    {
     "name": "stdout",
     "output_type": "stream",
     "text": [
      "Vector(7, 10)\n",
      "Vector(-3, -4)\n"
     ]
    }
   ],
   "source": [
    "print(v1 + v2)  \n",
    "print(v1 - v2) "
   ]
  },
  {
   "cell_type": "code",
   "execution_count": 23,
   "id": "c0d8ed49",
   "metadata": {
    "scrolled": true
   },
   "outputs": [
    {
     "ename": "AttributeError",
     "evalue": "'tuple' object has no attribute 'x'",
     "output_type": "error",
     "traceback": [
      "\u001b[0;31m---------------------------------------------------------------------------\u001b[0m",
      "\u001b[0;31mAttributeError\u001b[0m                            Traceback (most recent call last)",
      "Cell \u001b[0;32mIn[23], line 1\u001b[0m\n\u001b[0;32m----> 1\u001b[0m v1 \u001b[38;5;241m+\u001b[39m (\u001b[38;5;241m2\u001b[39m, \u001b[38;5;241m3\u001b[39m)\n",
      "Cell \u001b[0;32mIn[22], line 10\u001b[0m, in \u001b[0;36mVector.__add__\u001b[0;34m(self, other)\u001b[0m\n\u001b[1;32m      9\u001b[0m \u001b[38;5;28;01mdef\u001b[39;00m \u001b[38;5;21m__add__\u001b[39m(\u001b[38;5;28mself\u001b[39m, other):\n\u001b[0;32m---> 10\u001b[0m     \u001b[38;5;28;01mreturn\u001b[39;00m Vector(\u001b[38;5;28mself\u001b[39m\u001b[38;5;241m.\u001b[39mx \u001b[38;5;241m+\u001b[39m other\u001b[38;5;241m.\u001b[39mx, \u001b[38;5;28mself\u001b[39m\u001b[38;5;241m.\u001b[39my \u001b[38;5;241m+\u001b[39m other\u001b[38;5;241m.\u001b[39my)\n",
      "\u001b[0;31mAttributeError\u001b[0m: 'tuple' object has no attribute 'x'"
     ]
    }
   ],
   "source": [
    "v1 + (2, 3)## Métodos aritméticos especiales\n",
    "\n",
    "En Python, los objetos creados por las clases de usuario pueden comportarse de forma idéntica a los objetos predefinidos. Esto se logra mediante el uso de métodos especiales. Aquí revisaremos los más comunes.\n"
   ]
  },
  {
   "cell_type": "code",
   "execution_count": null,
   "id": "f3f2f4af-8203-4dfe-9409-cab0c22a3f04",
   "metadata": {},
   "outputs": [],
   "source": []
  },
  {
   "cell_type": "code",
   "execution_count": null,
   "id": "ebe48dd1-5a56-4508-b90c-661c0b0b395d",
   "metadata": {},
   "outputs": [],
   "source": []
  },
  {
   "cell_type": "code",
   "execution_count": 24,
   "id": "fb304e05",
   "metadata": {},
   "outputs": [
    {
     "name": "stdout",
     "output_type": "stream",
     "text": [
      "lolo\n"
     ]
    },
    {
     "data": {
      "text/plain": [
       "Vector(5, 8)"
      ]
     },
     "execution_count": 24,
     "metadata": {},
     "output_type": "execute_result"
    }
   ],
   "source": [
    "class Vector:\n",
    "    def __init__(self, x, y):\n",
    "        self.x = x\n",
    "        self.y = y\n",
    "\n",
    "    def __repr__(self):\n",
    "        return f\"Vector({self.x}, {self.y})\"\n",
    "\n",
    "    def __add__(self, other):\n",
    "        if isinstance(other, tuple):\n",
    "            print('lolo')\n",
    "            other = Vector(other[0], other[1])\n",
    "        return Vector(self.x + other.x, self.y + other.y)\n",
    "\n",
    "    def __sub__(self, other):\n",
    "        return Vector(self.x - other.x, self.y - other.y)\n",
    "    \n",
    "v1 = Vector(2, 3)\n",
    "v1 + (3, 5)"
   ]
  },
  {
   "cell_type": "code",
   "execution_count": 25,
   "id": "34f1b208",
   "metadata": {},
   "outputs": [
    {
     "ename": "TypeError",
     "evalue": "can only concatenate tuple (not \"Vector\") to tuple",
     "output_type": "error",
     "traceback": [
      "\u001b[0;31m---------------------------------------------------------------------------\u001b[0m",
      "\u001b[0;31mTypeError\u001b[0m                                 Traceback (most recent call last)",
      "Cell \u001b[0;32mIn[25], line 1\u001b[0m\n\u001b[0;32m----> 1\u001b[0m (\u001b[38;5;241m3\u001b[39m, \u001b[38;5;241m5\u001b[39m) \u001b[38;5;241m+\u001b[39m v1\n",
      "\u001b[0;31mTypeError\u001b[0m: can only concatenate tuple (not \"Vector\") to tuple"
     ]
    }
   ],
   "source": [
    "(3, 5) + v1"
   ]
  },
  {
   "cell_type": "code",
   "execution_count": 26,
   "id": "05f62c5f",
   "metadata": {},
   "outputs": [
    {
     "name": "stdout",
     "output_type": "stream",
     "text": [
      "lolo\n"
     ]
    },
    {
     "data": {
      "text/plain": [
       "Vector(5, 8)"
      ]
     },
     "execution_count": 26,
     "metadata": {},
     "output_type": "execute_result"
    }
   ],
   "source": [
    "class Vector:\n",
    "    def __init__(self, x, y):\n",
    "        self.x = x\n",
    "        self.y = y\n",
    "\n",
    "    def __repr__(self):\n",
    "        return f\"Vector({self.x}, {self.y})\"\n",
    "    \n",
    "    def __add__(self, other):\n",
    "        if isinstance(other, tuple):\n",
    "            print('lolo')\n",
    "            other = Vector(other[0], other[1])\n",
    "        return Vector(self.x + other.x, self.y + other.y)\n",
    "\n",
    "    def __radd__(self, other):\n",
    "        return self + other\n",
    "\n",
    "    def __sub__(self, other):\n",
    "        return Vector(self.x - other.x, self.y - other.y)\n",
    "    \n",
    "v1 = Vector(2, 3)\n",
    "(3, 5) + v1"
   ]
  },
  {
   "cell_type": "markdown",
   "id": "af81c357",
   "metadata": {},
   "source": [
    "Creemos una clase para manejar números complejos."
   ]
  },
  {
   "cell_type": "code",
   "execution_count": 77,
   "id": "68a8824c",
   "metadata": {},
   "outputs": [
    {
     "name": "stdout",
     "output_type": "stream",
     "text": [
      "4 + 1i\n"
     ]
    }
   ],
   "source": [
    "class ComplexNumber:\n",
    "    def __init__(self, real, imag):\n",
    "        self.real = real\n",
    "        self.imag = imag\n",
    "\n",
    "    def __repr__(self):\n",
    "        return f\"{self.real} + {self.imag}i\"\n",
    "\n",
    "    def __add__(self, other):\n",
    "        return ComplexNumber(self.real + other.real, self.imag + other.imag)\n",
    "\n",
    "    def __eq__(self, other):\n",
    "        return self.real == other.real and self.imag == other.imag\n",
    "\n",
    "\n",
    "c1 = ComplexNumber(1, 2)\n",
    "c2 = ComplexNumber(3, -1)\n",
    "c3 = ComplexNumber(1, 2)\n",
    "print(c1 + c2)  "
   ]
  },
  {
   "cell_type": "code",
   "execution_count": 90,
   "id": "aab5c4b2-f273-4fb8-99de-9cd32e61ee1c",
   "metadata": {},
   "outputs": [
    {
     "data": {
      "text/plain": [
       "1 + 2i"
      ]
     },
     "execution_count": 90,
     "metadata": {},
     "output_type": "execute_result"
    }
   ],
   "source": [
    "c1"
   ]
  },
  {
   "cell_type": "code",
   "execution_count": 93,
   "id": "f2830e26-3a00-4dd3-b278-8a9388813ffa",
   "metadata": {},
   "outputs": [
    {
     "data": {
      "text/plain": [
       "4 + 1i"
      ]
     },
     "execution_count": 93,
     "metadata": {},
     "output_type": "execute_result"
    }
   ],
   "source": [
    "c1 + c2"
   ]
  },
  {
   "cell_type": "code",
   "execution_count": 94,
   "id": "3196c59a",
   "metadata": {},
   "outputs": [
    {
     "name": "stdout",
     "output_type": "stream",
     "text": [
      "False\n",
      "False\n",
      "True\n"
     ]
    }
   ],
   "source": [
    "print(c1 == c2) \n",
    "print(c1 is c3)\n",
    "print(c1 == c3)"
   ]
  },
  {
   "cell_type": "code",
   "execution_count": 30,
   "id": "a1e422ef",
   "metadata": {},
   "outputs": [
    {
     "name": "stdout",
     "output_type": "stream",
     "text": [
      "4 + 4i\n",
      "2 - 4i\n",
      "6 + 8i\n",
      "1.2 - 1.6i\n"
     ]
    }
   ],
   "source": [
    "class ComplexNumber:\n",
    "    def __init__(self, real, imag):\n",
    "        self.real = real\n",
    "        self.imag = imag\n",
    "\n",
    "    def __repr__(self):\n",
    "        return f\"{self.real} + {self.imag}i\" if self.imag >= 0 else f\"{self.real} - {-self.imag}i\"\n",
    "\n",
    "    def __add__(self, other):\n",
    "        if isinstance(other, (int, float)):  # manejar números reales como complejos con parte imaginaria cero\n",
    "            other = ComplexNumber(other, 0)\n",
    "        return ComplexNumber(self.real + other.real, self.imag + other.imag)\n",
    "\n",
    "    def __radd__(self, other):\n",
    "        return self.__add__(other)  # la suma es conmutativa\n",
    "\n",
    "    def __sub__(self, other):\n",
    "        if isinstance(other, (int, float)):\n",
    "            other = ComplexNumber(other, 0)\n",
    "        return ComplexNumber(self.real - other.real, self.imag - other.imag)\n",
    "\n",
    "    def __rsub__(self, other):\n",
    "        if isinstance(other, (int, float)):\n",
    "            other = ComplexNumber(other, 0)\n",
    "        return other.__sub__(self)\n",
    "\n",
    "    def __mul__(self, other):\n",
    "        if isinstance(other, (int, float)):\n",
    "            return ComplexNumber(self.real * other, self.imag * other)\n",
    "        return ComplexNumber(self.real * other.real - self.imag * other.imag, self.imag * other.real + self.real * other.imag)\n",
    "\n",
    "    def __rmul__(self, other):\n",
    "        return self.__mul__(other) # la multiplicación es conmutativa\n",
    "\n",
    "    def __truediv__(self, other):\n",
    "        if isinstance(other, (int, float)):\n",
    "            return ComplexNumber(self.real / other, self.imag / other)\n",
    "        denom = other.real**2 + other.imag**2\n",
    "        real = (self.real * other.real + self.imag * other.imag) / denom\n",
    "        imag = (self.imag * other.real - self.real * other.imag) / denom\n",
    "        return ComplexNumber(real, imag)\n",
    "\n",
    "    def __rtruediv__(self, other):\n",
    "        if isinstance(other, (int, float)):\n",
    "            other = ComplexNumber(other, 0)\n",
    "        return other.__truediv__(self)\n",
    "\n",
    "    def __neg__(self):\n",
    "        return ComplexNumber(-self.real, -self.imag)\n",
    "\n",
    "    def inverse(self):\n",
    "        denom = self.real**2 + self.imag**2\n",
    "        if denom == 0:\n",
    "            raise ZeroDivisionError(\"Cannot take the inverse of zero.\")\n",
    "        return ComplexNumber(self.real / denom, -self.imag / denom)\n",
    "\n",
    "# Ejemplo de uso:\n",
    "c1 = ComplexNumber(3, 4)\n",
    "print(1 + c1)   # 4 + 4i (using __radd__)\n",
    "print(5 - c1)   # 2 - 4i (using __rsub__)\n",
    "print(2 * c1)   # 6 + 8i (using __rmul__)\n",
    "print(10 / c1)  # 0.24 - 0.32i (using __rtruediv__)"
   ]
  },
  {
   "cell_type": "markdown",
   "id": "68ebce30",
   "metadata": {},
   "source": [
    "## Otros métodos especiales\n",
    "### Iteración"
   ]
  },
  {
   "cell_type": "code",
   "execution_count": 31,
   "id": "d3dd444b",
   "metadata": {},
   "outputs": [
    {
     "name": "stdout",
     "output_type": "stream",
     "text": [
      "5\n",
      "4\n",
      "3\n",
      "2\n",
      "1\n"
     ]
    }
   ],
   "source": [
    "class Countdown:\n",
    "    def __init__(self, start):\n",
    "        self.current = start\n",
    "\n",
    "    def __iter__(self):\n",
    "        return self\n",
    "\n",
    "    def __next__(self):\n",
    "        if self.current <= 0:\n",
    "            raise StopIteration\n",
    "        num = self.current\n",
    "        self.current -= 1\n",
    "        return num\n",
    "\n",
    "for number in Countdown(5):\n",
    "    print(number)  # Prints numbers from 5 down to 1"
   ]
  },
  {
   "cell_type": "markdown",
   "id": "ad8d025e",
   "metadata": {},
   "source": [
    "### Item access"
   ]
  },
  {
   "cell_type": "code",
   "execution_count": 32,
   "id": "05bbce9d",
   "metadata": {},
   "outputs": [
    {
     "name": "stdout",
     "output_type": "stream",
     "text": [
      "[None, None, 'Hello']\n"
     ]
    }
   ],
   "source": [
    "class FlexibleList:\n",
    "    def __init__(self):\n",
    "        self.data = []\n",
    "\n",
    "    def __getitem__(self, index):\n",
    "        return self.data[index]\n",
    "\n",
    "    def __setitem__(self, index, value):\n",
    "        if index >= len(self.data):\n",
    "            self.data.extend([None] * (index + 1 - len(self.data)))\n",
    "        self.data[index] = value\n",
    "\n",
    "    def __delitem__(self, index):\n",
    "        del self.data[index]\n",
    "\n",
    "flist = FlexibleList()\n",
    "flist[2] = \"Hello\"\n",
    "print(flist.data) "
   ]
  },
  {
   "cell_type": "code",
   "execution_count": 33,
   "id": "d11e40dd",
   "metadata": {},
   "outputs": [
    {
     "name": "stdout",
     "output_type": "stream",
     "text": [
      "[None, None]\n"
     ]
    }
   ],
   "source": [
    "del flist[2]\n",
    "print(flist.data)"
   ]
  },
  {
   "cell_type": "markdown",
   "id": "0edc67c5",
   "metadata": {},
   "source": [
    "### Entrar/salir de métodos especiales"
   ]
  },
  {
   "cell_type": "code",
   "execution_count": 34,
   "id": "94a885b5",
   "metadata": {},
   "outputs": [
    {
     "name": "stdout",
     "output_type": "stream",
     "text": [
      "Elapsed time: 32.017442 seconds\n",
      "Elapsed time: 0.000352 seconds\n"
     ]
    }
   ],
   "source": [
    "import time\n",
    "\n",
    "class Timer:\n",
    "    def __init__(self):\n",
    "        self.start = None\n",
    "        self.end = None\n",
    "        self.duration = None\n",
    "\n",
    "    def __enter__(self):\n",
    "        self.start = time.time()\n",
    "        return self  \n",
    "\n",
    "    def __exit__(self, exc_type, exc_value, traceback):\n",
    "        self.end = time.time()\n",
    "        self.duration = self.end - self.start\n",
    "        print(f\"Elapsed time: {self.duration:.6f} seconds\")\n",
    "\n",
    "with Timer() as t:\n",
    "    s = \"\"\n",
    "    for _ in range(1000000):\n",
    "        s += 'a'\n",
    "        \n",
    "with Timer() as t:\n",
    "    s = 'a' * 1000000\n",
    "        "
   ]
  },
  {
   "cell_type": "markdown",
   "id": "e89418b9",
   "metadata": {},
   "source": [
    "### Métodos de comparación"
   ]
  },
  {
   "cell_type": "code",
   "execution_count": 35,
   "id": "a4407ef3",
   "metadata": {},
   "outputs": [
    {
     "data": {
      "text/plain": [
       "[Student(Mary, grade=60), Student(Doe, grade=88), Student(John, grade=90)]"
      ]
     },
     "execution_count": 35,
     "metadata": {},
     "output_type": "execute_result"
    }
   ],
   "source": [
    "class Student:\n",
    "    def __init__(self, name, grade):\n",
    "        self.name = name\n",
    "        self.grade = grade\n",
    "        \n",
    "    def __repr__(self):\n",
    "        return f\"Student({self.name}, grade={self.grade})\"\n",
    "\n",
    "    def __eq__(self, other):\n",
    "        return self.grade == other.grade\n",
    "\n",
    "    def __lt__(self, other):\n",
    "        return self.grade < other.grade\n",
    "\n",
    "students = [\n",
    "    Student(\"John\", 90), \n",
    "    Student(\"Doe\", 88),\n",
    "    Student(\"Mary\", 60)\n",
    "]\n",
    "sorted(students)"
   ]
  },
  {
   "cell_type": "markdown",
   "id": "f5200867",
   "metadata": {},
   "source": [
    "### Hacer que un objeto sea invocable"
   ]
  },
  {
   "cell_type": "code",
   "execution_count": 36,
   "id": "e27570db",
   "metadata": {},
   "outputs": [
    {
     "name": "stdout",
     "output_type": "stream",
     "text": [
      "<class '__main__.Multiplier'>\n"
     ]
    },
    {
     "data": {
      "text/plain": [
       "10"
      ]
     },
     "execution_count": 36,
     "metadata": {},
     "output_type": "execute_result"
    }
   ],
   "source": [
    "class Multiplier:\n",
    "    def __init__(self, factor):\n",
    "        self.factor = factor\n",
    "\n",
    "    def __call__(self, x):\n",
    "        return x * self.factor\n",
    "\n",
    "\n",
    "doubler = Multiplier(2)  \n",
    "print(type(doubler))\n",
    "doubler(5)"
   ]
  },
  {
   "cell_type": "code",
   "execution_count": 37,
   "id": "4996464a",
   "metadata": {},
   "outputs": [
    {
     "data": {
      "text/plain": [
       "15"
      ]
     },
     "execution_count": 37,
     "metadata": {},
     "output_type": "execute_result"
    }
   ],
   "source": [
    "tripler = Multiplier(3)\n",
    "tripler(5)"
   ]
  },
  {
   "cell_type": "markdown",
   "id": "fb7133a7",
   "metadata": {},
   "source": [
    "# Algunos conceptos de programación orientada a objetos\n",
    "\n",
    "## Encapsulación\n",
    "\n",
    "La encapsulación consiste en agrupar los datos con los métodos que operan sobre ellos. Restringe el acceso directo a algunos componentes de un objeto, lo que puede evitar la modificación accidental de los datos."
   ]
  },
  {
   "cell_type": "code",
   "execution_count": 95,
   "id": "6bbaa241",
   "metadata": {},
   "outputs": [],
   "source": [
    "class BankAccount:\n",
    "    def __init__(self, initial_balance):\n",
    "        self.balance = max(0, initial_balance)\n",
    "        \n",
    "    def __repr__(self):\n",
    "        return f\"BankAccount(balance={self.balance})\"\n",
    "        \n",
    "    def deposit(self, amount):\n",
    "        if amount > 0:\n",
    "            self.balance += amount\n",
    "        else:\n",
    "            raise ValueError('Amount must be positive')\n",
    "\n",
    "    def withdraw(self, amount):\n",
    "        if 0 < amount <= self.balance:\n",
    "            self.balance -= amount\n",
    "        else:\n",
    "            raise ValueError('Not enough money to withdraw')\n",
    "\n",
    "    def get_balance(self):\n",
    "        return self.balance"
   ]
  },
  {
   "cell_type": "code",
   "execution_count": 96,
   "id": "0a0141d9-7e96-4cca-b47c-00a8eaeb90e0",
   "metadata": {},
   "outputs": [],
   "source": [
    "account = BankAccount(1000)"
   ]
  },
  {
   "cell_type": "code",
   "execution_count": 99,
   "id": "7ca6c876-9531-4035-b642-ff93076ab817",
   "metadata": {},
   "outputs": [],
   "source": [
    "account.deposit(500)"
   ]
  },
  {
   "cell_type": "code",
   "execution_count": 102,
   "id": "d722ffa1-adfb-4910-9309-20da1bba9fcb",
   "metadata": {},
   "outputs": [],
   "source": [
    "account.withdraw(200)"
   ]
  },
  {
   "cell_type": "code",
   "execution_count": 103,
   "id": "7855fc90-72cc-459f-aa48-3dade121998e",
   "metadata": {},
   "outputs": [
    {
     "data": {
      "text/plain": [
       "BankAccount(balance=1300)"
      ]
     },
     "execution_count": 103,
     "metadata": {},
     "output_type": "execute_result"
    }
   ],
   "source": [
    "account"
   ]
  },
  {
   "cell_type": "code",
   "execution_count": null,
   "id": "3934e3a7-6014-4adc-ac3b-41f317a7cc6a",
   "metadata": {},
   "outputs": [],
   "source": [
    "account.deposit(500)\n",
    "print(account.get_balance()) \n",
    "account.withdraw(200)\n",
    "print(account.get_balance()) "
   ]
  },
  {
   "cell_type": "code",
   "execution_count": 104,
   "id": "951b11fa",
   "metadata": {},
   "outputs": [
    {
     "data": {
      "text/plain": [
       "BankAccount(balance=-100)"
      ]
     },
     "execution_count": 104,
     "metadata": {},
     "output_type": "execute_result"
    }
   ],
   "source": [
    "# Alguien manipula el estado interno, rompe los controles\n",
    "account.balance = -100\n",
    "account"
   ]
  },
  {
   "cell_type": "markdown",
   "id": "2a71ff78",
   "metadata": {},
   "source": [
    "En Python, no existe una forma estricta de proteger los campos privados, pero se pueden utilizar dos mecanismos:\n",
    "- Usar un guion bajo como primer carácter del nombre (una convención).\n",
    "- Usar dos guiones bajos como primeros caracteres del nombre (mangling de nombres).\n"
   ]
  },
  {
   "cell_type": "code",
   "execution_count": 40,
   "id": "71aa8ec8",
   "metadata": {},
   "outputs": [
    {
     "data": {
      "text/plain": [
       "BankAccount(balance=1000)"
      ]
     },
     "execution_count": 40,
     "metadata": {},
     "output_type": "execute_result"
    }
   ],
   "source": [
    "class BankAccount:\n",
    "    def __init__(self, initial_balance):\n",
    "        self.__balance = max(0, initial_balance)\n",
    "        \n",
    "    def __repr__(self):\n",
    "        return f\"BankAccount(balance={self.__balance})\"\n",
    "\n",
    "    def deposit(self, amount):\n",
    "        if amount > 0:\n",
    "            self.__balance += amount\n",
    "\n",
    "    def withdraw(self, amount):\n",
    "        if 0 < amount <= self.__balance:\n",
    "            self.__balance -= amount\n",
    "\n",
    "    def get_balance(self):\n",
    "        return self.__balance\n",
    "\n",
    "# Ejemplo de uso:\n",
    "account = BankAccount(1000)\n",
    "account.balance = 12\n",
    "account"
   ]
  },
  {
   "cell_type": "markdown",
   "id": "3a20fc63",
   "metadata": {},
   "source": [
    "## Inheritance\n",
    "\n",
    "La herencia permite que los nuevos objetos adopten las propiedades de los existentes. Es una forma de formar nuevas clases a partir de clases ya definidas.\n"
   ]
  },
  {
   "cell_type": "code",
   "execution_count": 41,
   "id": "f22ff485",
   "metadata": {},
   "outputs": [
    {
     "name": "stdout",
     "output_type": "stream",
     "text": [
      "Buddy says Woof!\n",
      "Whiskers says Meow!\n"
     ]
    }
   ],
   "source": [
    "class Animal:\n",
    "    def __init__(self, name):\n",
    "        self.name = name\n",
    "\n",
    "    def speak(self):\n",
    "        raise NotImplementedError(\"Subclasses must implement this method\")\n",
    "\n",
    "class Dog(Animal):\n",
    "    def speak(self):\n",
    "        return f\"{self.name} says Woof!\"\n",
    "\n",
    "class Cat(Animal):\n",
    "    def speak(self):\n",
    "        return f\"{self.name} says Meow!\"\n",
    "\n",
    "\n",
    "dog = Dog(\"Buddy\")\n",
    "cat = Cat(\"Whiskers\")\n",
    "print(dog.speak())  # ¡Buddy dice Guau!\n",
    "print(cat.speak())  # Whiskers dice ¡Miau!"
   ]
  },
  {
   "cell_type": "markdown",
   "id": "f7aa0890",
   "metadata": {},
   "source": [
    "## Polimorfismo\n",
    "\n",
    "El polimorfismo permite flexibilidad y un acoplamiento flexible, de modo que el código puede invocar métodos en objetos sin saber exactamente qué tipo de objeto es.\n",
    "\n",
    "- Significa que se puede acceder a diferentes clases de objetos a través de la misma interfaz, y cada una puede realizar una función diferente."
   ]
  },
  {
   "cell_type": "code",
   "execution_count": 42,
   "id": "33537f47",
   "metadata": {},
   "outputs": [
    {
     "name": "stdout",
     "output_type": "stream",
     "text": [
      "Buddy says Woof!\n",
      "Whiskers says Meow!\n",
      "Fido says Woof!\n"
     ]
    }
   ],
   "source": [
    "def animal_speak(animal):\n",
    "    print(animal.speak())\n",
    "\n",
    "animals = [Dog(\"Buddy\"), Cat(\"Whiskers\"), Dog(\"Fido\")]\n",
    "for animal in animals:\n",
    "    animal_speak(animal)  # Calls the speak method of each type of animal.\n"
   ]
  },
  {
   "cell_type": "markdown",
   "id": "d8e0672b",
   "metadata": {},
   "source": [
    "## Duck typing"
   ]
  },
  {
   "cell_type": "markdown",
   "id": "f1c0e43e",
   "metadata": {},
   "source": [
    "Es un concepto en programación, especialmente en lenguajes de tipado dinámico como Python, donde el tipo o la clase de un objeto es menos importante que los métodos que define.\n",
    "\n",
    "- En lugar de comprobar si un objeto es de un tipo determinado, el tipado pato se centra en si un objeto se comporta como tal.\n",
    "- \n",
    "- El término proviene del dicho: «Si parece un pato, nada como un pato y grazna como un pato, probablemente sea un pato»."
   ]
  },
  {
   "cell_type": "code",
   "execution_count": 43,
   "id": "9590defb",
   "metadata": {},
   "outputs": [
    {
     "name": "stdout",
     "output_type": "stream",
     "text": [
      "Quack!\n",
      "I'm quacking like a duck!\n"
     ]
    }
   ],
   "source": [
    "class Duck:\n",
    "    def quack(self):\n",
    "        print(\"Quack!\")\n",
    "\n",
    "class Person:\n",
    "    def quack(self):\n",
    "        print(\"I'm quacking like a duck!\")\n",
    "\n",
    "quackers = [\n",
    "    Duck(),\n",
    "    Person()\n",
    "]\n",
    "\n",
    "for q in quackers:\n",
    "    q.quack()"
   ]
  },
  {
   "cell_type": "code",
   "execution_count": null,
   "id": "2d056d05-4991-4bff-9f66-a04cd987b872",
   "metadata": {},
   "outputs": [],
   "source": []
  },
  {
   "cell_type": "code",
   "execution_count": null,
   "id": "6c736068-0909-4eb3-8e2d-744b580543fa",
   "metadata": {},
   "outputs": [],
   "source": []
  }
 ],
 "metadata": {
  "kernelspec": {
   "display_name": "Python 3 (ipykernel)",
   "language": "python",
   "name": "python3"
  },
  "language_info": {
   "codemirror_mode": {
    "name": "ipython",
    "version": 3
   },
   "file_extension": ".py",
   "mimetype": "text/x-python",
   "name": "python",
   "nbconvert_exporter": "python",
   "pygments_lexer": "ipython3",
   "version": "3.12.7"
  }
 },
 "nbformat": 4,
 "nbformat_minor": 5
}
