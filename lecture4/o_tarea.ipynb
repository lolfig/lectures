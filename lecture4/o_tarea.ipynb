{
 "cells": [
  {
   "cell_type": "markdown",
   "id": "2239c1fc",
   "metadata": {},
   "source": [
    "## Requisitos\n",
    "\n",
    "1. Resolver en orden\n",
    "2. Usar OOP\n",
    "3. Validar entradas\n",
    "4. Incluir docstrings\n",
    "5. Probar con 3 ejemplos\n",
    "\n",
    "\n",
    "### Ejercicio 1:\n",
    "\n",
    "Crear clase \"Particula\" con:\n",
    "\n",
    "    -Atributos: masa, posición, velocidad\n",
    "    -Métodos:\n",
    "        -energia_cinetica(): Devuelve 1/2 mv^2\n",
    "        -avanzar(t): Actualiza posicion usando x = x_0 + v*t\n",
    "        -__add__: Fusiona dos particulas\n",
    "        -__str__: Representacion legible\n",
    "\n",
    "### Ejercicio 2:\n",
    "\n",
    "Crear clase \"CargaElectrica\" que herede de \"Particula\" y agregue:\n",
    "\n",
    "    -Atributo: carga (C)\n",
    "    -Metodo: \"fuerza(E,B)\": devuelve F = q(E + v *B)\n",
    "    -Sobreescribir \"avanzar\" para incluir aceleracion"
   ]
  },
  {
   "cell_type": "code",
   "execution_count": null,
   "id": "97b10559",
   "metadata": {},
   "outputs": [],
   "source": []
  }
 ],
 "metadata": {
  "kernelspec": {
   "display_name": "lab",
   "language": "python",
   "name": "python3"
  },
  "language_info": {
   "codemirror_mode": {
    "name": "ipython",
    "version": 3
   },
   "file_extension": ".py",
   "mimetype": "text/x-python",
   "name": "python",
   "nbconvert_exporter": "python",
   "pygments_lexer": "ipython3",
   "version": "3.12.7"
  }
 },
 "nbformat": 4,
 "nbformat_minor": 5
}
