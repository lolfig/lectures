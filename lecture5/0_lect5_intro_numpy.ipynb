{
 "cells": [
  {
   "cell_type": "markdown",
   "id": "9911371c",
   "metadata": {},
   "source": [
    "# Lecture 5. Introducción a Numpy\n",
    "\n",
    "Outline:\n",
    "- [Introducción a Numpy](numpy_intro.ipynb)\n",
    "- [Procesando real data con Numpy](proc_real_data4.ipynb)"
   ]
  },
  {
   "cell_type": "markdown",
   "id": "311c0ec1",
   "metadata": {},
   "source": []
  }
 ],
 "metadata": {
  "kernelspec": {
   "display_name": "python_lectures",
   "language": "python",
   "name": "python_lectures"
  },
  "language_info": {
   "codemirror_mode": {
    "name": "ipython",
    "version": 3
   },
   "file_extension": ".py",
   "mimetype": "text/x-python",
   "name": "python",
   "nbconvert_exporter": "python",
   "pygments_lexer": "ipython3",
   "version": "3.8.16"
  }
 },
 "nbformat": 4,
 "nbformat_minor": 5
}
