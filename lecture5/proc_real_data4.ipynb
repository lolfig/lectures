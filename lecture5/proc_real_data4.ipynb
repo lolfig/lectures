{
 "cells": [
  {
   "cell_type": "markdown",
   "id": "cef5d934",
   "metadata": {},
   "source": [
    "# Processing real data with Numpy"
   ]
  },
  {
   "cell_type": "code",
   "execution_count": 1,
   "id": "0a3ed60d",
   "metadata": {},
   "outputs": [],
   "source": [
    "import numpy as np"
   ]
  },
  {
   "cell_type": "code",
   "execution_count": 2,
   "id": "7b91f35d",
   "metadata": {},
   "outputs": [
    {
     "data": {
      "text/plain": [
       "array([[1.9600000e+03, 7.0771900e+06, 3.6338120e+06, 3.4433780e+06],\n",
       "       [1.9650000e+03, 7.9071130e+06, 4.0525830e+06, 3.8545300e+06],\n",
       "       [1.9700000e+03, 8.6031650e+06, 4.4109960e+06, 4.1921690e+06],\n",
       "       [1.9750000e+03, 9.3659720e+06, 4.7823870e+06, 4.5835850e+06],\n",
       "       [1.9800000e+03, 9.6939070e+06, 4.8993680e+06, 4.7945390e+06],\n",
       "       [1.9850000e+03, 1.0138642e+07, 5.1075550e+06, 5.0310870e+06],\n",
       "       [1.9900000e+03, 1.0662148e+07, 5.3643420e+06, 5.2978060e+06],\n",
       "       [1.9910000e+03, 1.0756829e+07, 5.4106650e+06, 5.3461640e+06],\n",
       "       [1.9920000e+03, 1.0829320e+07, 5.4445680e+06, 5.3847520e+06],\n",
       "       [1.9930000e+03, 1.0895987e+07, 5.4765470e+06, 5.4194400e+06],\n",
       "       [1.9940000e+03, 1.0912924e+07, 5.4836990e+06, 5.4292250e+06],\n",
       "       [1.9950000e+03, 1.0947119e+07, 5.4952920e+06, 5.4518270e+06],\n",
       "       [1.9960000e+03, 1.0983326e+07, 5.5010840e+06, 5.4822420e+06],\n",
       "       [1.9970000e+03, 1.1033993e+07, 5.5231950e+06, 5.5107980e+06],\n",
       "       [1.9980000e+03, 1.1076817e+07, 5.5399600e+06, 5.5368570e+06],\n",
       "       [1.9990000e+03, 1.1113128e+07, 5.5532330e+06, 5.5598950e+06],\n",
       "       [2.0000000e+03, 1.1146203e+07, 5.5809160e+06, 5.5652870e+06],\n",
       "       [2.0010000e+03, 1.1168526e+07, 5.5927620e+06, 5.5757640e+06],\n",
       "       [2.0020000e+03, 1.1200388e+07, 5.6085650e+06, 5.5918230e+06],\n",
       "       [2.0030000e+03, 1.1215388e+07, 5.6133010e+06, 5.6020870e+06],\n",
       "       [2.0040000e+03, 1.1217590e+07, 5.6121600e+06, 5.6054300e+06],\n",
       "       [2.0050000e+03, 1.1218623e+07, 5.6178020e+06, 5.6008210e+06],\n",
       "       [2.0060000e+03, 1.1202632e+07, 5.6100400e+06, 5.5925920e+06],\n",
       "       [2.0070000e+03, 1.1188028e+07, 5.6014720e+06, 5.5865560e+06],\n",
       "       [2.0080000e+03, 1.1173996e+07, 5.5938750e+06, 5.5801210e+06],\n",
       "       [2.0090000e+03, 1.1174952e+07, 5.5951320e+06, 5.5798200e+06],\n",
       "       [2.0100000e+03, 1.1167934e+07, 5.5903260e+06, 5.5776080e+06],\n",
       "       [2.0110000e+03, 1.1175423e+07, 5.5943370e+06, 5.5810860e+06],\n",
       "       [2.0120000e+03, 1.1173151e+07, 5.5722750e+06, 5.6008760e+06],\n",
       "       [2.0130000e+03, 1.1210064e+07, 5.5893450e+06, 5.6207190e+06],\n",
       "       [2.0140000e+03, 1.1238317e+07, 5.6014140e+06, 5.6369030e+06],\n",
       "       [2.0150000e+03, 1.1239004e+07, 5.6003930e+06, 5.6386110e+06],\n",
       "       [2.0160000e+03, 1.1239224e+07, 5.5981650e+06, 5.6410590e+06],\n",
       "       [2.0170000e+03, 1.1221060e+07, 5.5848850e+06, 5.6361750e+06],\n",
       "       [2.0180000e+03, 1.1209628e+07, 5.5759880e+06, 5.6336400e+06],\n",
       "       [2.0190000e+03, 1.1193470e+07, 5.5641730e+06, 5.6292970e+06],\n",
       "       [2.0200000e+03, 1.1181595e+07, 5.5540480e+06, 5.6275470e+06]])"
      ]
     },
     "execution_count": 2,
     "metadata": {},
     "output_type": "execute_result"
    }
   ],
   "source": [
    "data = np.loadtxt(\"data/pop_year.csv\", skiprows=1, delimiter=\",\")\n",
    "data"
   ]
  },
  {
   "cell_type": "code",
   "execution_count": 3,
   "id": "4a9093a9",
   "metadata": {},
   "outputs": [
    {
     "name": "stdout",
     "output_type": "stream",
     "text": [
      "No Errors\n"
     ]
    }
   ],
   "source": [
    "# Verify if all totals are correctly calculated\n",
    "if not all(np.equal(data[:,2] + data[:,3], data[:,1])):\n",
    "    print(\"ERRORS\")\n",
    "else:\n",
    "    print(\"No Errors\")"
   ]
  },
  {
   "cell_type": "code",
   "execution_count": 4,
   "id": "6499dc2b",
   "metadata": {},
   "outputs": [
    {
     "data": {
      "text/plain": [
       "11239224.0"
      ]
     },
     "execution_count": 4,
     "metadata": {},
     "output_type": "execute_result"
    }
   ],
   "source": [
    "# Largest total population\n",
    "np.max(data[:, 1])"
   ]
  },
  {
   "cell_type": "code",
   "execution_count": 5,
   "id": "81573ccd",
   "metadata": {},
   "outputs": [
    {
     "data": {
      "text/plain": [
       "5617802.0"
      ]
     },
     "execution_count": 5,
     "metadata": {},
     "output_type": "execute_result"
    }
   ],
   "source": [
    "# Largest male population\n",
    "np.max(data[:, 2])"
   ]
  },
  {
   "cell_type": "code",
   "execution_count": 6,
   "id": "c9cd7e58",
   "metadata": {},
   "outputs": [
    {
     "data": {
      "text/plain": [
       "3633812.0"
      ]
     },
     "execution_count": 6,
     "metadata": {},
     "output_type": "execute_result"
    }
   ],
   "source": [
    "# Smallest male population\n",
    "np.min(data[:, 2])"
   ]
  },
  {
   "cell_type": "code",
   "execution_count": 7,
   "id": "cf8b60a0",
   "metadata": {},
   "outputs": [
    {
     "data": {
      "text/plain": [
       "array([2.0160000e+03, 1.1239224e+07, 5.5981650e+06, 5.6410590e+06])"
      ]
     },
     "execution_count": 7,
     "metadata": {},
     "output_type": "execute_result"
    }
   ],
   "source": [
    "# Year with larger total population\n",
    "data[np.argmax(data[:,1])]"
   ]
  },
  {
   "cell_type": "code",
   "execution_count": 8,
   "id": "47afdc4f",
   "metadata": {
    "scrolled": true
   },
   "outputs": [
    {
     "data": {
      "text/plain": [
       "418771.0"
      ]
     },
     "execution_count": 8,
     "metadata": {},
     "output_type": "execute_result"
    }
   ],
   "source": [
    "# Maximum difference between two male populations\n",
    "np.max(np.diff(data[:,2]))\n"
   ]
  },
  {
   "cell_type": "code",
   "execution_count": 9,
   "id": "f4b61f64",
   "metadata": {},
   "outputs": [
    {
     "data": {
      "text/plain": [
       "(1960.0, 1965.0)"
      ]
     },
     "execution_count": 9,
     "metadata": {},
     "output_type": "execute_result"
    }
   ],
   "source": [
    "# Which are the years of the maximum difference in total population?\n",
    "idx_of_max = np.argmax(np.diff(data[:,1]))\n",
    "(data[idx_of_max][0], data[idx_of_max+1][0])"
   ]
  },
  {
   "cell_type": "code",
   "execution_count": 10,
   "id": "f04687ba",
   "metadata": {},
   "outputs": [
    {
     "data": {
      "text/plain": [
       "218827.0"
      ]
     },
     "execution_count": 10,
     "metadata": {},
     "output_type": "execute_result"
    }
   ],
   "source": [
    "# What is the largest difference between the male and female population\n",
    "np.max(np.abs(data[:,2] - data[:,3]))"
   ]
  }
 ],
 "metadata": {
  "kernelspec": {
   "display_name": "lab",
   "language": "python",
   "name": "python3"
  },
  "language_info": {
   "codemirror_mode": {
    "name": "ipython",
    "version": 3
   },
   "file_extension": ".py",
   "mimetype": "text/x-python",
   "name": "python",
   "nbconvert_exporter": "python",
   "pygments_lexer": "ipython3",
   "version": "3.12.7"
  }
 },
 "nbformat": 4,
 "nbformat_minor": 5
}
