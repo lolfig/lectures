{
 "cells": [
  {
   "cell_type": "markdown",
   "id": "6a43f31c",
   "metadata": {},
   "source": [
    "# Numpy Introduction\n",
    "\n",
    "NumPy is a powerful Python library for numerical computing. It stands for \"Numerical Python\" and provides efficient data structures, mathematical functions, and tools for working with large arrays and matrices. "
   ]
  },
  {
   "cell_type": "code",
   "execution_count": 1,
   "id": "922de511",
   "metadata": {},
   "outputs": [
    {
     "data": {
      "text/plain": [
       "'1.26.4'"
      ]
     },
     "execution_count": 1,
     "metadata": {},
     "output_type": "execute_result"
    }
   ],
   "source": [
    "import numpy as np\n",
    "np.__version__"
   ]
  },
  {
   "cell_type": "markdown",
   "id": "5ba8ab5d",
   "metadata": {},
   "source": [
    "## Create arrays from lists"
   ]
  },
  {
   "cell_type": "code",
   "execution_count": 2,
   "id": "6f03c15d",
   "metadata": {},
   "outputs": [],
   "source": [
    "var_a = [2,3,4]"
   ]
  },
  {
   "cell_type": "code",
   "execution_count": 3,
   "id": "7b9872c7",
   "metadata": {},
   "outputs": [],
   "source": [
    "np_a = np.array(var_a)"
   ]
  },
  {
   "cell_type": "code",
   "execution_count": 5,
   "id": "7d4f508c",
   "metadata": {},
   "outputs": [
    {
     "name": "stdout",
     "output_type": "stream",
     "text": [
      "[2 3 4]\n",
      "(3,)\n",
      "<class 'numpy.ndarray'>\n"
     ]
    }
   ],
   "source": [
    "print(np_a)\n",
    "print(np_a.shape)\n",
    "print(type(np_a))"
   ]
  },
  {
   "cell_type": "markdown",
   "id": "0e686a26",
   "metadata": {},
   "source": [
    "Get and set values"
   ]
  },
  {
   "cell_type": "code",
   "execution_count": 6,
   "id": "8660e74a",
   "metadata": {},
   "outputs": [
    {
     "name": "stdout",
     "output_type": "stream",
     "text": [
      "4\n",
      "======\n",
      "======\n",
      "[2 3 9]\n"
     ]
    }
   ],
   "source": [
    "print(np_a[2])\n",
    "print('='*6)\n",
    "np_a[2] = 9\n",
    "print('='*6)\n",
    "print(np_a)"
   ]
  },
  {
   "cell_type": "markdown",
   "id": "d1eb6e7d",
   "metadata": {},
   "source": [
    "Two dimensional arrays"
   ]
  },
  {
   "cell_type": "code",
   "execution_count": 7,
   "id": "347be1fc",
   "metadata": {},
   "outputs": [
    {
     "name": "stdout",
     "output_type": "stream",
     "text": [
      "[[2 3 4]\n",
      " [5 6 7]]\n",
      "======\n",
      "(2, 3)\n"
     ]
    }
   ],
   "source": [
    "np_b = np.array([[2, 3, 4], [5, 6, 7]])\n",
    "print(np_b)\n",
    "print('='*6)\n",
    "print(np_b.shape)"
   ]
  },
  {
   "cell_type": "markdown",
   "id": "973903e5",
   "metadata": {},
   "source": [
    "Change values in 2d arrays"
   ]
  },
  {
   "cell_type": "code",
   "execution_count": 16,
   "id": "3bbf31e1",
   "metadata": {},
   "outputs": [
    {
     "name": "stdout",
     "output_type": "stream",
     "text": [
      "[[2 3 4]\n",
      " [5 6 9]]\n"
     ]
    }
   ],
   "source": [
    "np_b[1, 2] = 9\n",
    "print(np_b)"
   ]
  },
  {
   "cell_type": "markdown",
   "id": "646ce8ce",
   "metadata": {},
   "source": [
    "Three dimensial array"
   ]
  },
  {
   "cell_type": "code",
   "execution_count": 17,
   "id": "427acef6",
   "metadata": {},
   "outputs": [],
   "source": [
    "c = np.array([[[2, 1, 2, 5], [4,2, 5, 2], [9, 8, 7, 6]],\n",
    "              [[3,5, 4, 1], [8, 9, 2, 6], [0,1, 8, 8]]])"
   ]
  },
  {
   "cell_type": "code",
   "execution_count": 18,
   "id": "44fe8dcd",
   "metadata": {},
   "outputs": [
    {
     "name": "stdout",
     "output_type": "stream",
     "text": [
      "[[[2 1 2 5]\n",
      "  [4 2 5 2]\n",
      "  [9 8 7 6]]\n",
      "\n",
      " [[3 5 4 1]\n",
      "  [8 9 2 6]\n",
      "  [0 1 8 8]]]\n"
     ]
    }
   ],
   "source": [
    "print(c)"
   ]
  },
  {
   "cell_type": "code",
   "execution_count": 19,
   "id": "56a91526",
   "metadata": {},
   "outputs": [
    {
     "name": "stdout",
     "output_type": "stream",
     "text": [
      "(2, 3, 4)\n"
     ]
    }
   ],
   "source": [
    "print(c.shape)"
   ]
  },
  {
   "cell_type": "markdown",
   "id": "2bcc7a1a",
   "metadata": {},
   "source": [
    "Change value in 3D array"
   ]
  },
  {
   "cell_type": "code",
   "execution_count": 20,
   "id": "2ab8506e",
   "metadata": {},
   "outputs": [
    {
     "name": "stdout",
     "output_type": "stream",
     "text": [
      "[[[11  1  2  5]\n",
      "  [ 4  2  5  2]\n",
      "  [ 9  8  7  6]]\n",
      "\n",
      " [[ 3  5  4  1]\n",
      "  [ 8  9  2  6]\n",
      "  [ 0  1  8  8]]]\n"
     ]
    }
   ],
   "source": [
    "c[0, 0, 0] = 11\n",
    "print(c)"
   ]
  },
  {
   "cell_type": "markdown",
   "id": "b7710d52",
   "metadata": {},
   "source": [
    "You need to take care of the number of dimensions"
   ]
  },
  {
   "cell_type": "code",
   "execution_count": 21,
   "id": "31eede08",
   "metadata": {},
   "outputs": [
    {
     "data": {
      "text/plain": [
       "array([[[100, 100, 100, 100],\n",
       "        [  4,   2,   5,   2],\n",
       "        [  9,   8,   7,   6]],\n",
       "\n",
       "       [[  3,   5,   4,   1],\n",
       "        [  8,   9,   2,   6],\n",
       "        [  0,   1,   8,   8]]])"
      ]
     },
     "execution_count": 21,
     "metadata": {},
     "output_type": "execute_result"
    }
   ],
   "source": [
    "c[0, 0] = 100\n",
    "c"
   ]
  },
  {
   "cell_type": "markdown",
   "id": "d8bb1753",
   "metadata": {},
   "source": [
    "## Special array constructors"
   ]
  },
  {
   "cell_type": "code",
   "execution_count": 22,
   "id": "5b3f71c4",
   "metadata": {},
   "outputs": [
    {
     "name": "stdout",
     "output_type": "stream",
     "text": [
      "[[0. 0.]\n",
      " [0. 0.]\n",
      " [0. 0.]]\n"
     ]
    }
   ],
   "source": [
    "# Empty array\n",
    "a1 = np.zeros((3, 2))\n",
    "print(a1)"
   ]
  },
  {
   "cell_type": "code",
   "execution_count": 23,
   "id": "4423fc37",
   "metadata": {},
   "outputs": [
    {
     "name": "stdout",
     "output_type": "stream",
     "text": [
      "[[1. 1. 1.]\n",
      " [1. 1. 1.]]\n"
     ]
    }
   ],
   "source": [
    "# ones\n",
    "a2 = np.ones((2, 3))\n",
    "print(a2)"
   ]
  },
  {
   "cell_type": "code",
   "execution_count": 24,
   "id": "7575ed87",
   "metadata": {},
   "outputs": [
    {
     "name": "stdout",
     "output_type": "stream",
     "text": [
      "[[3.14 3.14 3.14]\n",
      " [3.14 3.14 3.14]\n",
      " [3.14 3.14 3.14]]\n"
     ]
    }
   ],
   "source": [
    "# constant\n",
    "a3 = np.full((3, 3), 3.14)\n",
    "print(a3)"
   ]
  },
  {
   "cell_type": "code",
   "execution_count": 25,
   "id": "0aca5876",
   "metadata": {},
   "outputs": [
    {
     "name": "stdout",
     "output_type": "stream",
     "text": [
      "[[1. 0. 0.]\n",
      " [0. 1. 0.]\n",
      " [0. 0. 1.]]\n"
     ]
    }
   ],
   "source": [
    "# identity\n",
    "a4 = np.eye(3)\n",
    "print(a4)"
   ]
  },
  {
   "cell_type": "code",
   "execution_count": null,
   "id": "85cf5b41",
   "metadata": {},
   "outputs": [
    {
     "name": "stdout",
     "output_type": "stream",
     "text": [
      "[[0.55886027 0.86257543]\n",
      " [0.71810442 0.39012129]\n",
      " [0.63347605 0.33137477]]\n"
     ]
    }
   ],
   "source": [
    "# random\n",
    "a5 = np.random.random((3, 2))\n",
    "print(a5)"
   ]
  },
  {
   "cell_type": "code",
   "execution_count": 27,
   "id": "41b60dd7",
   "metadata": {},
   "outputs": [
    {
     "name": "stdout",
     "output_type": "stream",
     "text": [
      "[ 2  3  4  5  6  7  8  9 10 11 12 13]\n",
      "==========\n",
      "[ 0  5 10 15 20 25 30 35 40 45]\n"
     ]
    }
   ],
   "source": [
    "# ranges\n",
    "z = np.arange(2, 14)\n",
    "y = np.arange(0, 50, 5)\n",
    "print(z)\n",
    "print('='*10)\n",
    "print(y)"
   ]
  },
  {
   "cell_type": "markdown",
   "id": "3cb13a8f",
   "metadata": {},
   "source": [
    "## Indexing arrays"
   ]
  },
  {
   "cell_type": "code",
   "execution_count": 28,
   "id": "7d29d0f5",
   "metadata": {},
   "outputs": [
    {
     "data": {
      "text/plain": [
       "array([[ 1,  2,  3,  4],\n",
       "       [ 5,  6,  7,  8],\n",
       "       [ 9, 10, 11, 12]])"
      ]
     },
     "execution_count": 28,
     "metadata": {},
     "output_type": "execute_result"
    }
   ],
   "source": [
    "a = np.array([[1,2,3,4], [5,6,7,8], [9,10,11,12]])\n",
    "a"
   ]
  },
  {
   "cell_type": "markdown",
   "id": "3968e566",
   "metadata": {},
   "source": [
    "### Slicing"
   ]
  },
  {
   "cell_type": "code",
   "execution_count": 32,
   "id": "aa504bcb",
   "metadata": {},
   "outputs": [
    {
     "data": {
      "text/plain": [
       "array([[ 1,  2],\n",
       "       [ 5,  6],\n",
       "       [ 9, 10]])"
      ]
     },
     "execution_count": 32,
     "metadata": {},
     "output_type": "execute_result"
    }
   ],
   "source": [
    "a[:,0:2]"
   ]
  },
  {
   "cell_type": "markdown",
   "id": "0d178798",
   "metadata": {},
   "source": [
    "A slice is not a new array, but a limited reference to the original array"
   ]
  },
  {
   "cell_type": "code",
   "execution_count": 33,
   "id": "b6e08eeb",
   "metadata": {},
   "outputs": [
    {
     "name": "stdout",
     "output_type": "stream",
     "text": [
      "[[ 1  2  3  4]\n",
      " [ 5  6  7  8]\n",
      " [ 9 10 11 12]]\n"
     ]
    }
   ],
   "source": [
    "print(a)"
   ]
  },
  {
   "cell_type": "code",
   "execution_count": null,
   "id": "fdf44430",
   "metadata": {},
   "outputs": [
    {
     "name": "stdout",
     "output_type": "stream",
     "text": [
      "[[2 3]\n",
      " [6 7]]\n"
     ]
    }
   ],
   "source": [
    "b = a[:2,1:3]\n",
    "print(b)"
   ]
  },
  {
   "cell_type": "code",
   "execution_count": 36,
   "id": "941f8368",
   "metadata": {},
   "outputs": [
    {
     "name": "stdout",
     "output_type": "stream",
     "text": [
      "[[55  3]\n",
      " [ 6  7]]\n",
      "==========\n",
      "[[ 1 55  3  4]\n",
      " [ 5  6  7  8]\n",
      " [ 9 10 11 12]]\n"
     ]
    }
   ],
   "source": [
    "b[0, 0] = 55\n",
    "print(b)\n",
    "print('='*10)\n",
    "print(a)"
   ]
  },
  {
   "cell_type": "markdown",
   "id": "b2f5bea7",
   "metadata": {},
   "source": [
    "You can mix indexing  with slicing: you get an array with less rank"
   ]
  },
  {
   "cell_type": "code",
   "execution_count": 44,
   "id": "82628b68",
   "metadata": {},
   "outputs": [
    {
     "name": "stdout",
     "output_type": "stream",
     "text": [
      "[[ 1  2  3  4]\n",
      " [ 5  6  7  8]\n",
      " [ 9 10 11 12]]\n"
     ]
    }
   ],
   "source": [
    "a = np.array([[1,2,3,4], [5,6,7,8], [9,10,11,12]])\n",
    "print(a)"
   ]
  },
  {
   "cell_type": "code",
   "execution_count": 38,
   "id": "6fcb6bc5",
   "metadata": {},
   "outputs": [
    {
     "name": "stdout",
     "output_type": "stream",
     "text": [
      "[5 6 7 8]\n",
      "[5 6 7 8]\n"
     ]
    }
   ],
   "source": [
    "print(a[1, :])\n",
    "print(a[1])"
   ]
  },
  {
   "cell_type": "code",
   "execution_count": 40,
   "id": "77c7cdda",
   "metadata": {},
   "outputs": [
    {
     "name": "stdout",
     "output_type": "stream",
     "text": [
      "(4,)\n",
      "(4,)\n"
     ]
    }
   ],
   "source": [
    "print(a[1, :].shape)\n",
    "print(a[1].shape)"
   ]
  },
  {
   "cell_type": "code",
   "execution_count": 41,
   "id": "cb4b7565",
   "metadata": {},
   "outputs": [
    {
     "name": "stdout",
     "output_type": "stream",
     "text": [
      "[ 3  7 11]\n"
     ]
    }
   ],
   "source": [
    "print(a[:,2])"
   ]
  },
  {
   "cell_type": "code",
   "execution_count": 45,
   "id": "42335110",
   "metadata": {},
   "outputs": [
    {
     "data": {
      "text/plain": [
       "array([[ 1,  2,  3,  4],\n",
       "       [ 5,  6,  7,  8],\n",
       "       [ 9, 10, 11, 12]])"
      ]
     },
     "execution_count": 45,
     "metadata": {},
     "output_type": "execute_result"
    }
   ],
   "source": [
    "a"
   ]
  },
  {
   "cell_type": "code",
   "execution_count": 43,
   "id": "7c94580e",
   "metadata": {},
   "outputs": [
    {
     "name": "stdout",
     "output_type": "stream",
     "text": [
      "(3, 4)\n",
      "(4,)\n",
      "(3,)\n"
     ]
    }
   ],
   "source": [
    "print(a.shape)\n",
    "print(a[2, :].shape)\n",
    "print(a[:, 2].shape)"
   ]
  },
  {
   "cell_type": "markdown",
   "id": "c3c44d09",
   "metadata": {},
   "source": [
    "Select by array of indexes"
   ]
  },
  {
   "cell_type": "code",
   "execution_count": 46,
   "id": "9ce6d312",
   "metadata": {},
   "outputs": [
    {
     "name": "stdout",
     "output_type": "stream",
     "text": [
      "[[ 1  2  3]\n",
      " [ 4  5  6]\n",
      " [ 7  8  9]\n",
      " [10 11 12]]\n",
      "***\n",
      "[[ 1  3  1  2]\n",
      " [ 4  6  4  5]\n",
      " [ 7  9  7  8]\n",
      " [10 12 10 11]]\n"
     ]
    }
   ],
   "source": [
    "a = np.array([[1,2,3], [4,5,6], [7,8,9], [10, 11, 12]])\n",
    "print(a)\n",
    "print(\"***\")\n",
    "idxs = np.array([0, 2, 0, 1])\n",
    "print(a[:,idxs])"
   ]
  },
  {
   "cell_type": "markdown",
   "id": "92f70efc",
   "metadata": {},
   "source": [
    "Idem with rows"
   ]
  },
  {
   "cell_type": "code",
   "execution_count": 47,
   "id": "ecf506de",
   "metadata": {},
   "outputs": [
    {
     "name": "stdout",
     "output_type": "stream",
     "text": [
      "[[ 1  2  3]\n",
      " [ 4  5  6]\n",
      " [ 7  8  9]\n",
      " [10 11 12]]\n",
      "[0 2 0 1]\n",
      "**********\n",
      "[[1 2 3]\n",
      " [7 8 9]\n",
      " [1 2 3]\n",
      " [4 5 6]]\n"
     ]
    }
   ],
   "source": [
    "print(a)\n",
    "print(idxs)\n",
    "print(\"*\" * 10)\n",
    "print(a[idxs, :])"
   ]
  },
  {
   "cell_type": "markdown",
   "id": "cc322056",
   "metadata": {},
   "source": [
    "Select elements by their indexes"
   ]
  },
  {
   "cell_type": "code",
   "execution_count": 48,
   "id": "e1ea831c",
   "metadata": {},
   "outputs": [
    {
     "name": "stdout",
     "output_type": "stream",
     "text": [
      "[[ 1  2  3]\n",
      " [ 4  5  6]\n",
      " [ 7  8  9]\n",
      " [10 11 12]]\n"
     ]
    },
    {
     "data": {
      "text/plain": [
       "array([3, 4, 8, 4])"
      ]
     },
     "execution_count": 48,
     "metadata": {},
     "output_type": "execute_result"
    }
   ],
   "source": [
    "a = np.array([[1,2,3], [4,5,6], [7,8,9], [10, 11, 12]])\n",
    "print(a)\n",
    "idx1 = [0, 1, 2, 1]\n",
    "idx2 = [2, 0, 1, 0]\n",
    "a[idx1, idx2]"
   ]
  },
  {
   "cell_type": "markdown",
   "id": "30b21722",
   "metadata": {},
   "source": [
    "Since the referred elements are references to the original ones, you can change them through the slice."
   ]
  },
  {
   "cell_type": "code",
   "execution_count": null,
   "id": "aa1373ba",
   "metadata": {
    "scrolled": true
   },
   "outputs": [],
   "source": [
    "a[idx1, idx2] += 10\n",
    "print(a)"
   ]
  },
  {
   "cell_type": "markdown",
   "id": "267f109f",
   "metadata": {},
   "source": [
    "Selecting elements by using boolean arrays"
   ]
  },
  {
   "cell_type": "code",
   "execution_count": 53,
   "id": "25a559bf",
   "metadata": {},
   "outputs": [
    {
     "name": "stdout",
     "output_type": "stream",
     "text": [
      "[[ 1  2  3]\n",
      " [ 4  5  6]\n",
      " [ 7  8  9]\n",
      " [10 11 12]]\n",
      "[[False  True False]\n",
      " [ True False  True]\n",
      " [False  True False]\n",
      " [ True False  True]]\n"
     ]
    }
   ],
   "source": [
    "a = np.array([[1,2,3], [4,5,6], [7,8,9], [10, 11, 12]])\n",
    "print(a)\n",
    "bool_idx = a % 2 == 0 \n",
    "print(bool_idx)"
   ]
  },
  {
   "cell_type": "markdown",
   "id": "4072350b",
   "metadata": {},
   "source": [
    "Now we can use the boolean array to select elements in the other array. It works like a MASK"
   ]
  },
  {
   "cell_type": "code",
   "execution_count": 54,
   "id": "aaba176d",
   "metadata": {},
   "outputs": [
    {
     "name": "stdout",
     "output_type": "stream",
     "text": [
      "[ 2  4  6  8 10 12]\n"
     ]
    }
   ],
   "source": [
    "print(a[bool_idx])"
   ]
  },
  {
   "cell_type": "markdown",
   "id": "75edb0be",
   "metadata": {},
   "source": [
    "So you can modify those elements"
   ]
  },
  {
   "cell_type": "code",
   "execution_count": 55,
   "id": "80b10971",
   "metadata": {},
   "outputs": [
    {
     "name": "stdout",
     "output_type": "stream",
     "text": [
      "[[ 1  4  3]\n",
      " [ 8  5 12]\n",
      " [ 7 16  9]\n",
      " [20 11 24]]\n"
     ]
    }
   ],
   "source": [
    "a[bool_idx] *= 2\n",
    "print(a)"
   ]
  },
  {
   "cell_type": "markdown",
   "id": "d505b257",
   "metadata": {},
   "source": [
    "Note: You can mix arrays in operations"
   ]
  },
  {
   "cell_type": "code",
   "execution_count": 56,
   "id": "424a7e6a",
   "metadata": {},
   "outputs": [
    {
     "name": "stdout",
     "output_type": "stream",
     "text": [
      "[[ 1  2  3]\n",
      " [ 4  5  6]\n",
      " [ 7  8  9]\n",
      " [10 11 12]]\n",
      "====================\n",
      "[[0.72260177 0.23395451 0.28292952]\n",
      " [0.83524157 0.69660284 0.08420539]\n",
      " [0.96980663 0.02059071 0.43574599]\n",
      " [0.29109748 0.15767486 0.7270221 ]]\n"
     ]
    }
   ],
   "source": [
    "a = np.array([[1,2,3], [4,5,6], [7,8,9], [10, 11, 12]])\n",
    "b = np.random.random((4, 3))\n",
    "print(a)\n",
    "print(\"=\"*20)\n",
    "print(b)"
   ]
  },
  {
   "cell_type": "code",
   "execution_count": 57,
   "id": "39dbec65",
   "metadata": {},
   "outputs": [
    {
     "name": "stdout",
     "output_type": "stream",
     "text": [
      "[[ 1 21 22]\n",
      " [ 4  5 25]\n",
      " [ 7 27 28]\n",
      " [29 30 12]]\n"
     ]
    }
   ],
   "source": [
    "a[b < 0.5] += 19\n",
    "print(a)"
   ]
  },
  {
   "cell_type": "markdown",
   "id": "73b151ea",
   "metadata": {},
   "source": [
    "To use multiple AND conditions, we use the operator &"
   ]
  },
  {
   "cell_type": "code",
   "execution_count": 58,
   "id": "ff314239",
   "metadata": {},
   "outputs": [
    {
     "data": {
      "text/plain": [
       "array([21, 22, 28, 29])"
      ]
     },
     "execution_count": 58,
     "metadata": {},
     "output_type": "execute_result"
    }
   ],
   "source": [
    "a[(b > 0.2) & (b < 0.5)]"
   ]
  },
  {
   "cell_type": "markdown",
   "id": "cf439844",
   "metadata": {},
   "source": [
    "For OR conditions, we use the otperator |"
   ]
  },
  {
   "cell_type": "code",
   "execution_count": 61,
   "id": "15095155",
   "metadata": {},
   "outputs": [
    {
     "data": {
      "text/plain": [
       "array([ 1,  4,  5, 25,  7, 27, 30, 12])"
      ]
     },
     "execution_count": 61,
     "metadata": {},
     "output_type": "execute_result"
    }
   ],
   "source": [
    "a[(b < 0.2) | (b > 0.5)]"
   ]
  },
  {
   "cell_type": "markdown",
   "id": "eab09b03",
   "metadata": {},
   "source": [
    "If you do not provide a data type, numpy infer the array type by the initialization parameters"
   ]
  },
  {
   "cell_type": "code",
   "execution_count": 62,
   "id": "54573a4c",
   "metadata": {},
   "outputs": [
    {
     "name": "stdout",
     "output_type": "stream",
     "text": [
      "int64\n"
     ]
    }
   ],
   "source": [
    "x = np.array([1, 2])\n",
    "print(x.dtype)"
   ]
  },
  {
   "cell_type": "code",
   "execution_count": 63,
   "id": "84d4596c",
   "metadata": {},
   "outputs": [
    {
     "name": "stdout",
     "output_type": "stream",
     "text": [
      "float64\n"
     ]
    }
   ],
   "source": [
    "y = np.array([1.0, 2.0])\n",
    "print(y.dtype)"
   ]
  },
  {
   "cell_type": "code",
   "execution_count": 64,
   "id": "1c2e52cb",
   "metadata": {},
   "outputs": [
    {
     "name": "stdout",
     "output_type": "stream",
     "text": [
      "bool\n"
     ]
    }
   ],
   "source": [
    "z = np.array([True, False])\n",
    "print(z.dtype)"
   ]
  },
  {
   "cell_type": "markdown",
   "id": "fbfd60b8",
   "metadata": {},
   "source": [
    "You can specify the array type by using parameter _dtype_"
   ]
  },
  {
   "cell_type": "code",
   "execution_count": 65,
   "id": "b2351f40",
   "metadata": {},
   "outputs": [
    {
     "name": "stdout",
     "output_type": "stream",
     "text": [
      "float64\n",
      "[1. 2.]\n"
     ]
    }
   ],
   "source": [
    "z = np.array([1, 2], dtype=np.float64)\n",
    "print(z.dtype)\n",
    "print(z)"
   ]
  },
  {
   "cell_type": "markdown",
   "id": "ad930fe7",
   "metadata": {},
   "source": [
    "## Operations with arrays"
   ]
  },
  {
   "cell_type": "code",
   "execution_count": 66,
   "id": "3534a94a",
   "metadata": {},
   "outputs": [
    {
     "name": "stdout",
     "output_type": "stream",
     "text": [
      "[[1. 2.]\n",
      " [3. 4.]]\n",
      "==============================\n",
      "[[5. 6.]\n",
      " [7. 8.]]\n"
     ]
    }
   ],
   "source": [
    "x = np.array([[1,2],[3,4]], dtype=np.float64)\n",
    "y = np.array([[5,6],[7,8]], dtype=np.float64)\n",
    "print(x)\n",
    "print(\"=\"*30)\n",
    "print(y)"
   ]
  },
  {
   "cell_type": "code",
   "execution_count": 67,
   "id": "0bafa644",
   "metadata": {},
   "outputs": [
    {
     "name": "stdout",
     "output_type": "stream",
     "text": [
      "[[ 6.  8.]\n",
      " [10. 12.]]\n"
     ]
    }
   ],
   "source": [
    "print(x+y)"
   ]
  },
  {
   "cell_type": "code",
   "execution_count": 68,
   "id": "1d51a1e0",
   "metadata": {},
   "outputs": [
    {
     "name": "stdout",
     "output_type": "stream",
     "text": [
      "[[ 6.  8.]\n",
      " [10. 12.]]\n"
     ]
    }
   ],
   "source": [
    "print(np.add(x,y))"
   ]
  },
  {
   "cell_type": "markdown",
   "id": "d4ea8f25",
   "metadata": {},
   "source": [
    "Note: This are all element-wise operations"
   ]
  },
  {
   "cell_type": "code",
   "execution_count": 69,
   "id": "e1a23b0e",
   "metadata": {},
   "outputs": [
    {
     "name": "stdout",
     "output_type": "stream",
     "text": [
      "[[-4. -4.]\n",
      " [-4. -4.]]\n",
      "[[ 5. 12.]\n",
      " [21. 32.]]\n",
      "[[0.2        0.33333333]\n",
      " [0.42857143 0.5       ]]\n",
      "[[1.         1.41421356]\n",
      " [1.73205081 2.        ]]\n",
      "[[1.0000e+00 6.4000e+01]\n",
      " [2.1870e+03 6.5536e+04]]\n"
     ]
    }
   ],
   "source": [
    "print(x-y)  # np.substract\n",
    "print(x*y)  # np.multiply\n",
    "print(x/y)  # np.divide\n",
    "print(np.sqrt(x))\n",
    "print(np.power(x, y))"
   ]
  },
  {
   "cell_type": "markdown",
   "id": "d50d7d24",
   "metadata": {},
   "source": [
    "You can get the full list of operations here: https://numpy.org/doc/stable/reference/routines.math.html\n",
    "\n",
    "Inner product:"
   ]
  },
  {
   "cell_type": "code",
   "execution_count": 70,
   "id": "58fb1f19",
   "metadata": {
    "scrolled": true
   },
   "outputs": [],
   "source": [
    "x = np.array([[1,2],[3,4]])\n",
    "y = np.array([[5,6],[7,8]])\n",
    "\n",
    "v = np.array([9,10])\n",
    "w = np.array([11, 12])"
   ]
  },
  {
   "cell_type": "code",
   "execution_count": 73,
   "id": "03c73d8b",
   "metadata": {},
   "outputs": [
    {
     "name": "stdout",
     "output_type": "stream",
     "text": [
      "[ 9 10]\n",
      "======\n",
      "[11 12]\n",
      "======\n"
     ]
    },
    {
     "data": {
      "text/plain": [
       "219"
      ]
     },
     "execution_count": 73,
     "metadata": {},
     "output_type": "execute_result"
    }
   ],
   "source": [
    "print(v)\n",
    "print('='*6)\n",
    "print(w)\n",
    "print('='*6)\n",
    "np.inner(v,w)"
   ]
  },
  {
   "cell_type": "code",
   "execution_count": 75,
   "id": "94341017",
   "metadata": {},
   "outputs": [
    {
     "name": "stdout",
     "output_type": "stream",
     "text": [
      "[[1 2]\n",
      " [3 4]]\n",
      "======\n",
      "[ 9 10]\n",
      "======\n"
     ]
    },
    {
     "data": {
      "text/plain": [
       "array([29, 67])"
      ]
     },
     "execution_count": 75,
     "metadata": {},
     "output_type": "execute_result"
    }
   ],
   "source": [
    "print(x)\n",
    "print('='*6)\n",
    "print(v)\n",
    "print('='*6)\n",
    "x.dot(v)"
   ]
  },
  {
   "cell_type": "code",
   "execution_count": 76,
   "id": "94fd0c05",
   "metadata": {},
   "outputs": [
    {
     "name": "stdout",
     "output_type": "stream",
     "text": [
      "[[1 2]\n",
      " [3 4]]\n",
      "======\n",
      "[[5 6]\n",
      " [7 8]]\n",
      "======\n"
     ]
    },
    {
     "data": {
      "text/plain": [
       "array([[19, 22],\n",
       "       [43, 50]])"
      ]
     },
     "execution_count": 76,
     "metadata": {},
     "output_type": "execute_result"
    }
   ],
   "source": [
    "print(x)\n",
    "print('='*6)\n",
    "print(y)\n",
    "print('='*6)\n",
    "x.dot(y)"
   ]
  },
  {
   "cell_type": "markdown",
   "id": "99ca2890",
   "metadata": {},
   "source": [
    "Axis-wise operations"
   ]
  },
  {
   "cell_type": "code",
   "execution_count": 77,
   "id": "a5e5c41c",
   "metadata": {},
   "outputs": [
    {
     "name": "stdout",
     "output_type": "stream",
     "text": [
      "[[1 2]\n",
      " [3 4]]\n",
      "======\n",
      "10\n"
     ]
    }
   ],
   "source": [
    "x = np.array([[1,2],[3,4]])\n",
    "print(x)\n",
    "print('='*6)\n",
    "print(np.sum(x))"
   ]
  },
  {
   "cell_type": "code",
   "execution_count": 78,
   "id": "69d8b152",
   "metadata": {},
   "outputs": [
    {
     "name": "stdout",
     "output_type": "stream",
     "text": [
      "[4 6]\n"
     ]
    }
   ],
   "source": [
    "print(np.sum(x, axis=0))"
   ]
  },
  {
   "cell_type": "code",
   "execution_count": 79,
   "id": "3f397b0e",
   "metadata": {},
   "outputs": [
    {
     "name": "stdout",
     "output_type": "stream",
     "text": [
      "[3 7]\n"
     ]
    }
   ],
   "source": [
    "print(np.sum(x, axis=1))"
   ]
  },
  {
   "cell_type": "markdown",
   "id": "6de9bd67",
   "metadata": {},
   "source": [
    "That works on matrixes of any number of dimensions"
   ]
  },
  {
   "cell_type": "code",
   "execution_count": 80,
   "id": "a52f658a",
   "metadata": {},
   "outputs": [
    {
     "name": "stdout",
     "output_type": "stream",
     "text": [
      "[[[2 1 2 5]\n",
      "  [4 2 5 2]\n",
      "  [9 8 7 6]]\n",
      "\n",
      " [[3 5 4 1]\n",
      "  [8 9 2 6]\n",
      "  [0 1 8 8]]]\n",
      "======\n",
      "(2, 3, 4)\n"
     ]
    }
   ],
   "source": [
    "x = np.array([[[2, 1, 2, 5], [4,2, 5, 2], [9, 8, 7, 6]], [[3,5, 4, 1], [8, 9, 2, 6], [0,1, 8, 8]]])\n",
    "print(x)\n",
    "print('='*6)\n",
    "print(x.shape)"
   ]
  },
  {
   "cell_type": "code",
   "execution_count": 81,
   "id": "30684f43",
   "metadata": {},
   "outputs": [
    {
     "name": "stdout",
     "output_type": "stream",
     "text": [
      "108\n"
     ]
    }
   ],
   "source": [
    "print(np.sum(x))"
   ]
  },
  {
   "cell_type": "code",
   "execution_count": 82,
   "id": "8f9f71c6",
   "metadata": {},
   "outputs": [
    {
     "name": "stdout",
     "output_type": "stream",
     "text": [
      "[[ 5  6  6  6]\n",
      " [12 11  7  8]\n",
      " [ 9  9 15 14]]\n"
     ]
    }
   ],
   "source": [
    "print(np.sum(x, axis=0))"
   ]
  },
  {
   "cell_type": "code",
   "execution_count": 83,
   "id": "9f4ca4eb",
   "metadata": {},
   "outputs": [
    {
     "name": "stdout",
     "output_type": "stream",
     "text": [
      "[[15 11 14 13]\n",
      " [11 15 14 15]]\n"
     ]
    }
   ],
   "source": [
    "print(np.sum(x, axis=1))"
   ]
  },
  {
   "cell_type": "code",
   "execution_count": 84,
   "id": "33da53d8",
   "metadata": {},
   "outputs": [
    {
     "name": "stdout",
     "output_type": "stream",
     "text": [
      "[[10 13 30]\n",
      " [13 25 17]]\n"
     ]
    }
   ],
   "source": [
    "print(np.sum(x, axis=2))"
   ]
  },
  {
   "cell_type": "markdown",
   "id": "ef54d952",
   "metadata": {},
   "source": [
    "You can also do operations on collection of axis"
   ]
  },
  {
   "cell_type": "code",
   "execution_count": 85,
   "id": "dc7a2719",
   "metadata": {},
   "outputs": [
    {
     "name": "stdout",
     "output_type": "stream",
     "text": [
      "[[[2 1 2 5]\n",
      "  [4 2 5 2]\n",
      "  [9 8 7 6]]\n",
      "\n",
      " [[3 5 4 1]\n",
      "  [8 9 2 6]\n",
      "  [0 1 8 8]]]\n",
      "==========\n",
      "[26 26 28 28]\n"
     ]
    }
   ],
   "source": [
    "print(x)\n",
    "print(\"=\"*10)\n",
    "print(np.sum(x, axis=(0,1)))"
   ]
  },
  {
   "cell_type": "code",
   "execution_count": 86,
   "id": "39fc90c9",
   "metadata": {},
   "outputs": [
    {
     "name": "stdout",
     "output_type": "stream",
     "text": [
      "[23 38 47]\n",
      "[53 55]\n"
     ]
    }
   ],
   "source": [
    "print(np.sum(x, axis=(0,2)))\n",
    "print(np.sum(x, axis=(1, 2)))"
   ]
  },
  {
   "cell_type": "markdown",
   "id": "b6050b29",
   "metadata": {},
   "source": [
    "Transpose"
   ]
  },
  {
   "cell_type": "code",
   "execution_count": 87,
   "id": "e8d75acc",
   "metadata": {},
   "outputs": [
    {
     "name": "stdout",
     "output_type": "stream",
     "text": [
      "[[1 2 3]\n",
      " [4 5 6]]\n",
      "[[1 4]\n",
      " [2 5]\n",
      " [3 6]]\n"
     ]
    }
   ],
   "source": [
    "x = np.array([[1,2,3], [4, 5, 6]])\n",
    "print(x)\n",
    "print(x.T)"
   ]
  },
  {
   "cell_type": "markdown",
   "id": "13ce257c",
   "metadata": {},
   "source": [
    "Horizontal and vertical stacking"
   ]
  },
  {
   "cell_type": "code",
   "execution_count": 88,
   "id": "c9c14662",
   "metadata": {},
   "outputs": [],
   "source": [
    "a = np.array([[2, 3], [5, 6]])\n",
    "b = np.array([[4, 3], [7, 9], [1, 6]])\n",
    "c = np.array([[4, 5, 6], [7, 6, 5]])"
   ]
  },
  {
   "cell_type": "code",
   "execution_count": 90,
   "id": "9518dac5",
   "metadata": {},
   "outputs": [
    {
     "name": "stdout",
     "output_type": "stream",
     "text": [
      "[[2 3]\n",
      " [5 6]]\n",
      "==========\n",
      "[[4 3]\n",
      " [7 9]\n",
      " [1 6]]\n",
      "==========\n",
      "[[4 5 6]\n",
      " [7 6 5]]\n"
     ]
    }
   ],
   "source": [
    "print(a)\n",
    "print('='*10)\n",
    "print(b)\n",
    "print('='*10)\n",
    "print(c)"
   ]
  },
  {
   "cell_type": "code",
   "execution_count": 91,
   "id": "f56b2e58",
   "metadata": {},
   "outputs": [
    {
     "name": "stdout",
     "output_type": "stream",
     "text": [
      "[[2 3]\n",
      " [5 6]]\n",
      "==========\n",
      "[[4 3]\n",
      " [7 9]\n",
      " [1 6]]\n",
      "==========\n",
      "[[2 3]\n",
      " [5 6]\n",
      " [4 3]\n",
      " [7 9]\n",
      " [1 6]]\n"
     ]
    }
   ],
   "source": [
    "print(a)\n",
    "print(\"=\"*10)\n",
    "print(b)\n",
    "print(\"=\"*10)\n",
    "print(np.vstack([a,b]))"
   ]
  },
  {
   "cell_type": "code",
   "execution_count": 92,
   "id": "23fb1713",
   "metadata": {},
   "outputs": [
    {
     "name": "stdout",
     "output_type": "stream",
     "text": [
      "[[2 3]\n",
      " [5 6]]\n",
      "==========\n",
      "[[4 5 6]\n",
      " [7 6 5]]\n",
      "==========\n",
      "[[2 3 4 5 6]\n",
      " [5 6 7 6 5]]\n"
     ]
    }
   ],
   "source": [
    "print(a)\n",
    "print(\"=\"*10)\n",
    "print(c)\n",
    "print(\"=\"*10)\n",
    "print(np.hstack([a,c]))"
   ]
  },
  {
   "cell_type": "markdown",
   "id": "89b0d302",
   "metadata": {},
   "source": [
    "Operator similar to the ternary operator"
   ]
  },
  {
   "cell_type": "code",
   "execution_count": 97,
   "id": "0437b838",
   "metadata": {
    "scrolled": true
   },
   "outputs": [
    {
     "name": "stdout",
     "output_type": "stream",
     "text": [
      "[ 5  6  7  8  9 10 11 12 13 14]\n"
     ]
    },
    {
     "data": {
      "text/plain": [
       "array([None, None, None, 8, 9, 10, 11, 12, 13, 14], dtype=object)"
      ]
     },
     "execution_count": 97,
     "metadata": {},
     "output_type": "execute_result"
    }
   ],
   "source": [
    "a = np.array(range(5,15))\n",
    "print(a)\n",
    "np.where(a > 7, a, None)"
   ]
  },
  {
   "cell_type": "code",
   "execution_count": 95,
   "id": "67fc1ba4",
   "metadata": {},
   "outputs": [
    {
     "data": {
      "text/plain": [
       "array([False, False, False,  True,  True,  True,  True,  True,  True,\n",
       "        True])"
      ]
     },
     "execution_count": 95,
     "metadata": {},
     "output_type": "execute_result"
    }
   ],
   "source": [
    "a > 7"
   ]
  },
  {
   "cell_type": "markdown",
   "id": "9d9b3c6b",
   "metadata": {},
   "source": [
    "If only one parameter is provided, it return the indexes of the True values"
   ]
  },
  {
   "cell_type": "code",
   "execution_count": 98,
   "id": "6a9f4aba",
   "metadata": {},
   "outputs": [
    {
     "data": {
      "text/plain": [
       "(array([1, 3, 5, 7, 9]),)"
      ]
     },
     "execution_count": 98,
     "metadata": {},
     "output_type": "execute_result"
    }
   ],
   "source": [
    "np.where(a % 2 == 0)"
   ]
  },
  {
   "cell_type": "markdown",
   "id": "55bb2bbc",
   "metadata": {},
   "source": [
    "## Array reshaping\n",
    "Note: Neither values nor value order are modified"
   ]
  },
  {
   "cell_type": "code",
   "execution_count": 99,
   "id": "dd3c8709",
   "metadata": {},
   "outputs": [
    {
     "name": "stdout",
     "output_type": "stream",
     "text": [
      "[ 0  1  2  3  4  5  6  7  8  9 10 11 12 13 14 15 16 17 18 19 20 21 22 23]\n",
      "==========\n",
      "(24,)\n"
     ]
    }
   ],
   "source": [
    "a = np.array(range(0, 24))\n",
    "print(a)\n",
    "print(\"=\"*10)\n",
    "print(a.shape)"
   ]
  },
  {
   "cell_type": "code",
   "execution_count": 102,
   "id": "571c38ea",
   "metadata": {},
   "outputs": [
    {
     "name": "stdout",
     "output_type": "stream",
     "text": [
      "[[ 0  1  2  3  4  5  6  7  8  9 10 11]\n",
      " [12 13 14 15 16 17 18 19 20 21 22 23]]\n",
      "==========\n",
      "(2, 12)\n"
     ]
    }
   ],
   "source": [
    "b = a.reshape((2,12))\n",
    "print(b)\n",
    "print(\"=\"*10)\n",
    "print(b.shape)"
   ]
  },
  {
   "cell_type": "markdown",
   "id": "500ed245",
   "metadata": {},
   "source": [
    "The number of elements must be the same"
   ]
  },
  {
   "cell_type": "code",
   "execution_count": 103,
   "id": "18017e5a",
   "metadata": {},
   "outputs": [
    {
     "ename": "ValueError",
     "evalue": "cannot reshape array of size 24 into shape (3,2)",
     "output_type": "error",
     "traceback": [
      "\u001b[0;31m---------------------------------------------------------------------------\u001b[0m",
      "\u001b[0;31mValueError\u001b[0m                                Traceback (most recent call last)",
      "Cell \u001b[0;32mIn[103], line 1\u001b[0m\n\u001b[0;32m----> 1\u001b[0m a\u001b[38;5;241m.\u001b[39mreshape((\u001b[38;5;241m3\u001b[39m, \u001b[38;5;241m2\u001b[39m))\n",
      "\u001b[0;31mValueError\u001b[0m: cannot reshape array of size 24 into shape (3,2)"
     ]
    }
   ],
   "source": [
    "a.reshape((3, 2))"
   ]
  },
  {
   "cell_type": "markdown",
   "id": "61151909",
   "metadata": {},
   "source": [
    "Providing -1 in a dimension makes numpy to automatically calculate the value"
   ]
  },
  {
   "cell_type": "code",
   "execution_count": 104,
   "id": "25b5850b",
   "metadata": {},
   "outputs": [
    {
     "data": {
      "text/plain": [
       "array([[ 0,  1,  2,  3,  4,  5,  6,  7],\n",
       "       [ 8,  9, 10, 11, 12, 13, 14, 15],\n",
       "       [16, 17, 18, 19, 20, 21, 22, 23]])"
      ]
     },
     "execution_count": 104,
     "metadata": {},
     "output_type": "execute_result"
    }
   ],
   "source": [
    "a.reshape((3,-1))"
   ]
  },
  {
   "cell_type": "code",
   "execution_count": 105,
   "id": "336c5f34",
   "metadata": {},
   "outputs": [
    {
     "data": {
      "text/plain": [
       "array([[ 0,  1,  2,  3,  4,  5],\n",
       "       [ 6,  7,  8,  9, 10, 11],\n",
       "       [12, 13, 14, 15, 16, 17],\n",
       "       [18, 19, 20, 21, 22, 23]])"
      ]
     },
     "execution_count": 105,
     "metadata": {},
     "output_type": "execute_result"
    }
   ],
   "source": [
    "a.reshape((-1, 6))"
   ]
  },
  {
   "cell_type": "markdown",
   "id": "f85420ce",
   "metadata": {},
   "source": [
    "You can only use a single -1 per operation"
   ]
  },
  {
   "cell_type": "code",
   "execution_count": 106,
   "id": "35e2c05f",
   "metadata": {},
   "outputs": [
    {
     "ename": "ValueError",
     "evalue": "can only specify one unknown dimension",
     "output_type": "error",
     "traceback": [
      "\u001b[0;31m---------------------------------------------------------------------------\u001b[0m",
      "\u001b[0;31mValueError\u001b[0m                                Traceback (most recent call last)",
      "Cell \u001b[0;32mIn[106], line 1\u001b[0m\n\u001b[0;32m----> 1\u001b[0m a\u001b[38;5;241m.\u001b[39mreshape((\u001b[38;5;241m-\u001b[39m\u001b[38;5;241m1\u001b[39m, \u001b[38;5;241m2\u001b[39m, \u001b[38;5;241m-\u001b[39m\u001b[38;5;241m1\u001b[39m))\n",
      "\u001b[0;31mValueError\u001b[0m: can only specify one unknown dimension"
     ]
    }
   ],
   "source": [
    "a.reshape((-1, 2, -1))"
   ]
  },
  {
   "cell_type": "markdown",
   "id": "f1cfaab0",
   "metadata": {},
   "source": [
    "You can also reshape on a different number of dimensions"
   ]
  },
  {
   "cell_type": "code",
   "execution_count": 107,
   "id": "12ded05b",
   "metadata": {
    "scrolled": true
   },
   "outputs": [
    {
     "name": "stdout",
     "output_type": "stream",
     "text": [
      "[ 0  1  2  3  4  5  6  7  8  9 10 11 12 13 14 15 16 17 18 19 20 21 22 23]\n",
      "==========\n"
     ]
    },
    {
     "data": {
      "text/plain": [
       "array([[[ 0,  1,  2],\n",
       "        [ 3,  4,  5],\n",
       "        [ 6,  7,  8],\n",
       "        [ 9, 10, 11]],\n",
       "\n",
       "       [[12, 13, 14],\n",
       "        [15, 16, 17],\n",
       "        [18, 19, 20],\n",
       "        [21, 22, 23]]])"
      ]
     },
     "execution_count": 107,
     "metadata": {},
     "output_type": "execute_result"
    }
   ],
   "source": [
    "print(a)\n",
    "print(\"=\"*10)\n",
    "a.reshape((2, -1, 3))"
   ]
  },
  {
   "cell_type": "markdown",
   "id": "62276161",
   "metadata": {},
   "source": [
    "### Broadcasting\n",
    "Broadcasting is a powerful feature in NumPy that enables efficient array operations on arrays of different shapes and sizes. \n",
    "\n",
    "It allows for implicit element-wise operations between arrays, even if their shapes are not identical. \n",
    "\n",
    "Broadcasting eliminates the need for explicit loops, resulting in concise and efficient code.\n",
    "\n",
    "Lets start with an example. Supose you want to add a row vector to every row in a matrix"
   ]
  },
  {
   "cell_type": "code",
   "execution_count": 108,
   "id": "2f2bd471",
   "metadata": {},
   "outputs": [
    {
     "name": "stdout",
     "output_type": "stream",
     "text": [
      "[[ 1  2  3]\n",
      " [ 4  5  6]\n",
      " [ 7  8  9]\n",
      " [10 11 12]]\n",
      "==========\n",
      "[1 0 1]\n"
     ]
    }
   ],
   "source": [
    "x = np.array([[1,2,3], [4,5,6], [7,8,9], [10, 11, 12]])\n",
    "v = np.array([1, 0, 1])\n",
    "print(x)\n",
    "print(\"=\"*10)\n",
    "print(v)"
   ]
  },
  {
   "cell_type": "code",
   "execution_count": 109,
   "id": "21eddf1f",
   "metadata": {},
   "outputs": [
    {
     "name": "stdout",
     "output_type": "stream",
     "text": [
      "[[ 2  2  4]\n",
      " [ 5  5  7]\n",
      " [ 8  8 10]\n",
      " [11 11 13]]\n"
     ]
    }
   ],
   "source": [
    "y = np.empty_like(x)  # empty array with the same structure than x\n",
    "\n",
    "for i in range(4):\n",
    "    y[i, :] = x[i, :] + v\n",
    "print(y)"
   ]
  },
  {
   "cell_type": "markdown",
   "id": "c29b4518",
   "metadata": {},
   "source": [
    "There is another solution that avoid using the for loop: Build a new matrix tiling the row vector horizontally"
   ]
  },
  {
   "cell_type": "code",
   "execution_count": null,
   "id": "d4d8571f",
   "metadata": {},
   "outputs": [],
   "source": [
    "vv = np.tile(v, (4, 1))\n",
    "print(vv)"
   ]
  },
  {
   "cell_type": "code",
   "execution_count": null,
   "id": "2c6cfdfe",
   "metadata": {},
   "outputs": [],
   "source": [
    "y = x + vv\n",
    "print(y)"
   ]
  },
  {
   "cell_type": "markdown",
   "id": "704f4493",
   "metadata": {},
   "source": [
    "This is the way broadcasting work, doing matrix modifications automatically"
   ]
  },
  {
   "cell_type": "code",
   "execution_count": null,
   "id": "2cfbd2e1",
   "metadata": {},
   "outputs": [],
   "source": [
    "x+v"
   ]
  },
  {
   "cell_type": "markdown",
   "id": "8b1864b1",
   "metadata": {},
   "source": [
    "**Broadcasting rules**\n",
    "- Array extension: If the arrays have different shapes, NumPy extends the smaller array by adding dimensions with size 1 to match the shape of the larger array. This extension is virtual and doesn't require actually replicating the data."
   ]
  },
  {
   "cell_type": "code",
   "execution_count": null,
   "id": "2360ddb6",
   "metadata": {},
   "outputs": [],
   "source": [
    "print(x.shape)\n",
    "print(v.shape)"
   ]
  },
  {
   "cell_type": "markdown",
   "id": "7d2a203e",
   "metadata": {},
   "source": [
    "In this case, a one is added to the smallest array, so it finally is (4,3) and (1,3)\n",
    "\n",
    "- Dimensions compatibility: For two arrays to be compatible for broadcasting, their dimensions must either match or one of them must have a size of 1. If an array has a size of 1 along a particular dimension, it is stretched or repeated along that dimension to match the size of the other array."
   ]
  },
  {
   "cell_type": "code",
   "execution_count": null,
   "id": "913d43f5",
   "metadata": {},
   "outputs": [],
   "source": [
    "# Compatibles\n",
    "a = np.random.random((3, 4, 1))\n",
    "b = np.random.random((3, 1, 4))\n",
    "print(a)\n",
    "print(\"=\"*10)\n",
    "print(b)\n",
    "print(\"=\"*10)\n",
    "c = a+b\n",
    "c.shape"
   ]
  },
  {
   "cell_type": "code",
   "execution_count": null,
   "id": "6780812e",
   "metadata": {},
   "outputs": [],
   "source": [
    "# Incompatibles\n",
    "a = np.random.random((3, 4, 1))\n",
    "b = np.random.random((3, 2, 4))\n",
    "c = a+b"
   ]
  },
  {
   "cell_type": "markdown",
   "id": "dfe7fce0",
   "metadata": {},
   "source": [
    "- Element-wise operation: Once the arrays have compatible shapes, NumPy performs element-wise operations between them. Operations are applied independently to each element of the arrays."
   ]
  },
  {
   "cell_type": "code",
   "execution_count": null,
   "id": "7f0cf229",
   "metadata": {},
   "outputs": [],
   "source": [
    "a = np.random.random((3, 4, 1))\n",
    "b = np.random.random((1, 1, 5))\n",
    "(a+b).shape"
   ]
  },
  {
   "cell_type": "markdown",
   "id": "d8d5fbe8",
   "metadata": {},
   "source": [
    "**Note**: No actual dupplication is performed. Every transformation is virtual.\n",
    "\n",
    "Some examples:"
   ]
  },
  {
   "cell_type": "code",
   "execution_count": null,
   "id": "2720649e",
   "metadata": {},
   "outputs": [],
   "source": [
    "a = np.ones((3, 4))\n",
    "b = np.ones((3, 1))*3\n",
    "print(a)\n",
    "print(\"=\"*10)\n",
    "print(b)\n",
    "print(\"=\"*10)\n",
    "a+b"
   ]
  },
  {
   "cell_type": "code",
   "execution_count": null,
   "id": "382ca8bb",
   "metadata": {},
   "outputs": [],
   "source": [
    "a = np.ones(4)\n",
    "b = np.ones((3, 4))*5\n",
    "print(a)\n",
    "print(b)\n",
    "print(a.shape)\n",
    "print(b.shape)\n",
    "a+b"
   ]
  },
  {
   "cell_type": "code",
   "execution_count": null,
   "id": "d73ee4bc",
   "metadata": {},
   "outputs": [],
   "source": [
    "a = np.ones((1, 4))\n",
    "b = np.ones((3, 1))*6\n",
    "print(a)\n",
    "print(\"=\"*10)\n",
    "print(b)\n",
    "print(\"=\"*10)\n",
    "a+b"
   ]
  },
  {
   "cell_type": "markdown",
   "id": "001f50be",
   "metadata": {},
   "source": [
    "To learn more or debugging, you can directly get the broadcast result."
   ]
  },
  {
   "cell_type": "code",
   "execution_count": null,
   "id": "46179099",
   "metadata": {},
   "outputs": [],
   "source": [
    "print(a)\n",
    "print(\"=\"*10)\n",
    "print(np.broadcast_to(a, ((3,4))))\n",
    "print(\"=\"*10)\n",
    "print(b)\n",
    "print(\"=\"*10)\n",
    "print(np.broadcast_to(b, ((3, 4))))"
   ]
  },
  {
   "cell_type": "markdown",
   "id": "5516e6a7",
   "metadata": {},
   "source": [
    "Functions that support broadcasting are known as **universal functions**. There is a very complete collection of those functions.\n",
    "\n",
    "Here some examples:"
   ]
  },
  {
   "cell_type": "code",
   "execution_count": null,
   "id": "cf1b33d7",
   "metadata": {},
   "outputs": [],
   "source": [
    "# Add a constant to an array\n",
    "a = np.random.random((4, 3))\n",
    "print(a)\n",
    "print(\"=\"*10)\n",
    "print(a + 4)"
   ]
  },
  {
   "cell_type": "code",
   "execution_count": null,
   "id": "82c35541",
   "metadata": {},
   "outputs": [],
   "source": [
    "np.broadcast_to(4, (4, 3))"
   ]
  },
  {
   "cell_type": "code",
   "execution_count": null,
   "id": "30ae19ff",
   "metadata": {},
   "outputs": [],
   "source": [
    "np.array(4).shape"
   ]
  },
  {
   "cell_type": "markdown",
   "id": "a584a790",
   "metadata": {},
   "source": [
    "Normalize a matrix by removing the mean value"
   ]
  },
  {
   "cell_type": "code",
   "execution_count": null,
   "id": "37f51f9f",
   "metadata": {},
   "outputs": [],
   "source": [
    "a = np.random.randint(1, 10, size=(4,3))\n",
    "print(a)"
   ]
  },
  {
   "cell_type": "code",
   "execution_count": null,
   "id": "d53fb16b",
   "metadata": {},
   "outputs": [],
   "source": [
    "mean = np.average(a, axis=0)\n",
    "print(mean)"
   ]
  },
  {
   "cell_type": "code",
   "execution_count": null,
   "id": "61bac065",
   "metadata": {},
   "outputs": [],
   "source": [
    "print(a - mean)"
   ]
  },
  {
   "cell_type": "code",
   "execution_count": null,
   "id": "81b29697",
   "metadata": {},
   "outputs": [],
   "source": [
    "print(np.sum(a-mean))"
   ]
  },
  {
   "cell_type": "markdown",
   "id": "d9459273",
   "metadata": {},
   "source": [
    "Uniformize matrix values using (x-min)/(max-min)"
   ]
  },
  {
   "cell_type": "code",
   "execution_count": null,
   "id": "f307566b",
   "metadata": {},
   "outputs": [],
   "source": [
    "a = np.random.randint(1, 10, size=(4,3))\n",
    "print(a)"
   ]
  },
  {
   "cell_type": "code",
   "execution_count": null,
   "id": "22249172",
   "metadata": {},
   "outputs": [],
   "source": [
    "mx = np.max(a)\n",
    "mn = np.min(a)\n",
    "print((a-mn)/(mx-mn))"
   ]
  },
  {
   "cell_type": "markdown",
   "id": "7dfe8d99",
   "metadata": {},
   "source": [
    "Create a multiplication table."
   ]
  },
  {
   "cell_type": "code",
   "execution_count": null,
   "id": "1e785305",
   "metadata": {},
   "outputs": [],
   "source": [
    "x = np.array(range(1, 11))\n",
    "print(x)"
   ]
  },
  {
   "cell_type": "code",
   "execution_count": null,
   "id": "76339928",
   "metadata": {},
   "outputs": [],
   "source": [
    "x = x[:, np.newaxis]\n",
    "print(x)\n",
    "print(x.T)"
   ]
  },
  {
   "cell_type": "code",
   "execution_count": null,
   "id": "3e15570c",
   "metadata": {},
   "outputs": [],
   "source": [
    "x*x.T"
   ]
  },
  {
   "cell_type": "markdown",
   "id": "90a2f7d5",
   "metadata": {},
   "source": [
    "More complex example, matrix of euclidean distances between pair of points"
   ]
  },
  {
   "cell_type": "markdown",
   "id": "1a519460",
   "metadata": {},
   "source": [
    "# Solved Exercises"
   ]
  },
  {
   "cell_type": "markdown",
   "id": "c0c0460f",
   "metadata": {},
   "source": [
    "**Exercise**. Create a one dimensional array with numbers from 0 to 9"
   ]
  },
  {
   "cell_type": "code",
   "execution_count": null,
   "id": "0a4e04d5",
   "metadata": {},
   "outputs": [],
   "source": [
    "print(np.arange(0,10))\n",
    "print(np.array(range(0,10)))\n",
    "print(np.array([0, 1, 2, 3, 4, 5, 6, 7, 8, 9]))"
   ]
  },
  {
   "cell_type": "markdown",
   "id": "af292749",
   "metadata": {},
   "source": [
    "**Exercise**. Create a boolean array of 3x3 with all values in True"
   ]
  },
  {
   "cell_type": "code",
   "execution_count": null,
   "id": "0f8829db",
   "metadata": {},
   "outputs": [],
   "source": [
    "print(np.full((3,3), True, dtype=bool))\n",
    "print(np.zeros((3,3)) == 0)\n",
    "print(np.ones((3,3), dtype=bool))"
   ]
  },
  {
   "cell_type": "markdown",
   "id": "e768900d",
   "metadata": {},
   "source": [
    "**Exercise**. Extract all the odd numbers fro a 1D array"
   ]
  },
  {
   "cell_type": "code",
   "execution_count": null,
   "id": "e29a7f91",
   "metadata": {},
   "outputs": [],
   "source": [
    "arr = np.arange(0,10)\n",
    "print(arr)\n",
    "arr[arr % 2 == 1]"
   ]
  },
  {
   "cell_type": "markdown",
   "id": "bbb36ad0",
   "metadata": {},
   "source": [
    "**Exercise**. Replace all negative numbers in an array by constant 33"
   ]
  },
  {
   "cell_type": "code",
   "execution_count": null,
   "id": "a8bb8dc8",
   "metadata": {},
   "outputs": [],
   "source": [
    "arr = np.random.randint(-10, 10, size=(10))\n",
    "print(arr)\n",
    "arr[arr < 0] = 33\n",
    "print(arr)"
   ]
  },
  {
   "cell_type": "markdown",
   "id": "f82156da",
   "metadata": {},
   "source": [
    "**Exercise**. Replace all positive numbers by -5, but withoug changing the original array"
   ]
  },
  {
   "cell_type": "code",
   "execution_count": null,
   "id": "fb4731b0",
   "metadata": {},
   "outputs": [],
   "source": [
    "arr = np.random.randint(-10, 10, size=(10))\n",
    "print(arr)\n",
    "np.where(arr > 0, -5, arr)"
   ]
  },
  {
   "cell_type": "markdown",
   "id": "a12fefa8",
   "metadata": {},
   "source": [
    "**Exercise**. Replace a 1D array with numbers from 1 to 10 into a 2D array with two rows"
   ]
  },
  {
   "cell_type": "code",
   "execution_count": null,
   "id": "92bb6948",
   "metadata": {},
   "outputs": [],
   "source": [
    "# 5. Convierta un arreglo 1D con los numeros del 1 al 10 en otro 2D con dos filas\n",
    "a = np.arange(1, 11)\n",
    "a.reshape((-1, 5))"
   ]
  },
  {
   "cell_type": "markdown",
   "id": "227742a9",
   "metadata": {},
   "source": [
    "**Exercise**. Stack two arrays vertically and two arrays horizontally"
   ]
  },
  {
   "cell_type": "code",
   "execution_count": null,
   "id": "ea62f896",
   "metadata": {},
   "outputs": [],
   "source": [
    "a = np.ones((3, 2))\n",
    "b = np.ones((4, 2)) * 2\n",
    "c = np.ones((3, 5)) * 3\n",
    "print(np.hstack([a, c]))\n",
    "print(np.vstack([a, b]))"
   ]
  },
  {
   "cell_type": "markdown",
   "id": "82383063",
   "metadata": {},
   "source": [
    "**Exercise**. Starting from the array [1, 2, 3], generate the following array transforming a using numpy functions:\n",
    "[1, 1, 1, 2, 2, 2, 3, 3, 3, 1, 2, 3, 1, 2, 3, 1, 2, 3]"
   ]
  },
  {
   "cell_type": "code",
   "execution_count": null,
   "id": "2f5ce099",
   "metadata": {},
   "outputs": [],
   "source": [
    "a = np.array([1, 2, 3])\n",
    "out = np.array([1, 1, 1, 2, 2, 2, 3, 3, 3, 1, 2, 3, 1, 2, 3, 1, 2, 3])\n",
    "\n",
    "np.hstack([\n",
    "    np.vstack([a, a, a]).T.reshape((1, -1))[0],\n",
    "    a, a, a])"
   ]
  },
  {
   "cell_type": "markdown",
   "id": "a9bac67f",
   "metadata": {},
   "source": [
    "Like most things in Python that looks complex, there is a better way of doing it"
   ]
  },
  {
   "cell_type": "code",
   "execution_count": null,
   "id": "6067f940",
   "metadata": {},
   "outputs": [],
   "source": [
    "np.r_[np.repeat(a,3), np.tile(a, 3)]"
   ]
  },
  {
   "cell_type": "markdown",
   "id": "67ae06c0",
   "metadata": {},
   "source": [
    "**Exercise**. Find the positions where two arrays match"
   ]
  },
  {
   "cell_type": "code",
   "execution_count": null,
   "id": "10e089c8",
   "metadata": {},
   "outputs": [],
   "source": [
    "a = np.array([1,2,3,2,3,4,3,4,5,6])\n",
    "b = np.array([7,2,10,2,7,4,9,4,9,8])\n",
    "np.where(a == b)"
   ]
  },
  {
   "cell_type": "markdown",
   "id": "11f329b6",
   "metadata": {},
   "source": [
    "**Exercise**. From a numpy array get a subarray with values between 5 and 10, both included"
   ]
  },
  {
   "cell_type": "code",
   "execution_count": null,
   "id": "e8356b3e",
   "metadata": {},
   "outputs": [],
   "source": [
    "a = np.array([2, 6, 1, 9, 10, 3, 27])\n",
    "a[np.where((5 <= a) & (a <= 10))]"
   ]
  },
  {
   "cell_type": "markdown",
   "id": "7a01994e",
   "metadata": {},
   "source": [
    "**Exercise**. Swap the first and second row of an array"
   ]
  },
  {
   "cell_type": "code",
   "execution_count": null,
   "id": "5b859cab",
   "metadata": {},
   "outputs": [],
   "source": [
    "arr = np.arange(9).reshape(3,3)\n",
    "print(arr)\n",
    "print(arr[[1, 0, 2], :])"
   ]
  },
  {
   "cell_type": "markdown",
   "id": "fa458719",
   "metadata": {},
   "source": [
    "**Exercise**. Swap the last two columns from an array"
   ]
  },
  {
   "cell_type": "code",
   "execution_count": null,
   "id": "c5a6d603",
   "metadata": {},
   "outputs": [],
   "source": [
    "arr = np.arange(9).reshape(3,3)\n",
    "print(arr)\n",
    "print(arr[:, [0, 2, 1]])"
   ]
  },
  {
   "cell_type": "markdown",
   "id": "f42c063d",
   "metadata": {},
   "source": [
    "**Exercise**. Invert the rows of a numpy array."
   ]
  },
  {
   "cell_type": "code",
   "execution_count": null,
   "id": "1673690d",
   "metadata": {},
   "outputs": [],
   "source": [
    "arr = np.arange(16).reshape(4,4)\n",
    "print(arr)\n",
    "arr[np.arange(3, -1, -1), :]"
   ]
  },
  {
   "cell_type": "markdown",
   "id": "33987bda",
   "metadata": {},
   "source": [
    "As usual, there is a simpler solution"
   ]
  },
  {
   "cell_type": "code",
   "execution_count": null,
   "id": "15291500",
   "metadata": {},
   "outputs": [],
   "source": [
    "arr[::-1, :]"
   ]
  },
  {
   "cell_type": "markdown",
   "id": "09dd5369",
   "metadata": {},
   "source": [
    "**Exercise**. Invert the columns from a numpy array"
   ]
  },
  {
   "cell_type": "code",
   "execution_count": null,
   "id": "63e7cf0f",
   "metadata": {},
   "outputs": [],
   "source": [
    "arr = np.arange(16).reshape(4,4)\n",
    "print(arr)\n",
    "print(arr[:,::-1])"
   ]
  },
  {
   "cell_type": "markdown",
   "id": "8f032853",
   "metadata": {},
   "source": [
    "**Exercise**. Create a numpy array with 1 in the border and 0 in the inside"
   ]
  },
  {
   "cell_type": "code",
   "execution_count": null,
   "id": "c6669a09",
   "metadata": {},
   "outputs": [],
   "source": [
    "def cuad(size):\n",
    "    a = np.ones(size)\n",
    "    a[1:-1,1:-1] = 0\n",
    "    return a\n",
    "\n",
    "cuad((4, 8))"
   ]
  },
  {
   "cell_type": "markdown",
   "id": "3e544548",
   "metadata": {},
   "source": [
    "**Exercise**. Create a padding of 0 around a 2D array."
   ]
  },
  {
   "cell_type": "code",
   "execution_count": null,
   "id": "38da2df8",
   "metadata": {},
   "outputs": [],
   "source": [
    "a = np.arange(9).reshape(3,3)\n",
    "print(a)\n",
    "r,c = a.shape\n",
    "b = np.zeros((r+2, c+2))\n",
    "b[1:-1, 1:-1] = a\n",
    "print(b)"
   ]
  },
  {
   "cell_type": "markdown",
   "id": "19d00102",
   "metadata": {},
   "source": [
    "This is a so common operation that already has a numpy function for that, having many more optons"
   ]
  },
  {
   "cell_type": "code",
   "execution_count": null,
   "id": "7e406040",
   "metadata": {},
   "outputs": [],
   "source": [
    "np.pad(a, pad_width=1, mode='constant', constant_values=0)"
   ]
  },
  {
   "cell_type": "markdown",
   "id": "dbca00b1",
   "metadata": {},
   "source": [
    "**Exercise**. Create a square 5x5 matrix with values 1, 2, 3, ... just below the diagonal."
   ]
  },
  {
   "cell_type": "code",
   "execution_count": null,
   "id": "3f283b4f",
   "metadata": {},
   "outputs": [],
   "source": [
    "a = np.zeros((5, 5), dtype=int)\n",
    "for idx in range(4):\n",
    "    a[idx+1, idx] = idx + 1\n",
    "a"
   ]
  },
  {
   "cell_type": "markdown",
   "id": "65de34d4",
   "metadata": {},
   "source": [
    "There is a simpler way using np.diag"
   ]
  },
  {
   "cell_type": "code",
   "execution_count": null,
   "id": "782d0a75",
   "metadata": {},
   "outputs": [],
   "source": [
    "np.diag(range(1,5), k=-1)"
   ]
  },
  {
   "cell_type": "markdown",
   "id": "def1cd1e",
   "metadata": {},
   "source": [
    "**Exercise**. Create a 8x8 matrix with a chessboard-like structure"
   ]
  },
  {
   "cell_type": "code",
   "execution_count": null,
   "id": "9b7cb5e9",
   "metadata": {},
   "outputs": [],
   "source": [
    "(np.arange(0,81).reshape((9,-1)) % 2)[:8,:8]"
   ]
  },
  {
   "cell_type": "markdown",
   "id": "de801f09",
   "metadata": {},
   "source": [
    "There are many other solutions, like this one"
   ]
  },
  {
   "cell_type": "code",
   "execution_count": null,
   "id": "bcd52ab8",
   "metadata": {},
   "outputs": [],
   "source": [
    "a = np.ones((8,8))\n",
    "a[::2,::2] = 0\n",
    "a[1::2,1::2] = 0\n",
    "a"
   ]
  },
  {
   "cell_type": "markdown",
   "id": "66a669f9",
   "metadata": {},
   "source": [
    "The same using np.tile"
   ]
  },
  {
   "cell_type": "code",
   "execution_count": null,
   "id": "bb9b2cb0",
   "metadata": {},
   "outputs": [],
   "source": [
    "np.tile([1, 0], 36).reshape((-1, 9))[:, :-1]"
   ]
  },
  {
   "cell_type": "markdown",
   "id": "32a95115",
   "metadata": {},
   "source": [
    "Other with np.tile"
   ]
  },
  {
   "cell_type": "code",
   "execution_count": null,
   "id": "3f646c94",
   "metadata": {},
   "outputs": [],
   "source": [
    "np.tile([[0, 1],[1,0]], (4,4))"
   ]
  },
  {
   "cell_type": "markdown",
   "id": "3393289b",
   "metadata": {},
   "source": [
    "**Exercise**. Normalize a 5x5 array"
   ]
  },
  {
   "cell_type": "code",
   "execution_count": null,
   "id": "6cb039b3",
   "metadata": {},
   "outputs": [],
   "source": [
    "arr = np.random.random((5,5))\n",
    "m = np.mean(arr)\n",
    "st = np.std(arr)\n",
    "norm = (arr - m)/st\n",
    "print(norm)"
   ]
  },
  {
   "cell_type": "markdown",
   "id": "861566fc",
   "metadata": {},
   "source": [
    "**Exercise**. In a 1D array, find the oposite (-x) of the elements between 3 and 8"
   ]
  },
  {
   "cell_type": "code",
   "execution_count": null,
   "id": "f66e78d9",
   "metadata": {},
   "outputs": [],
   "source": [
    "arr = np.arange(1, 14)\n",
    "arr[(arr >= 3)&(arr <=8)] *= -1\n",
    "arr"
   ]
  },
  {
   "cell_type": "markdown",
   "id": "e7072ec5",
   "metadata": {},
   "source": [
    "**Exercise**. Create a 5x5 matrix with values in the rows from 1 to 4"
   ]
  },
  {
   "cell_type": "code",
   "execution_count": null,
   "id": "8877729b",
   "metadata": {},
   "outputs": [],
   "source": [
    "arr = np.zeros((5, 5))\n",
    "arr + np.arange(5)"
   ]
  },
  {
   "cell_type": "markdown",
   "id": "dced206d",
   "metadata": {},
   "source": [
    "doing broadcast by hand:"
   ]
  },
  {
   "cell_type": "code",
   "execution_count": null,
   "id": "abd4405e",
   "metadata": {},
   "outputs": [],
   "source": [
    "np.tile(np.arange(5), (5,1))"
   ]
  },
  {
   "cell_type": "markdown",
   "id": "a2aff81a",
   "metadata": {},
   "source": [
    "**Exercise**. Create a vector of size 10 with x-distant values between 0 and 1, both excluded"
   ]
  },
  {
   "cell_type": "code",
   "execution_count": null,
   "id": "d0d6cf59",
   "metadata": {},
   "outputs": [],
   "source": [
    "(np.arange(0,11)*(1/11))[1:]"
   ]
  },
  {
   "cell_type": "markdown",
   "id": "6eb96168",
   "metadata": {},
   "source": [
    "there is a numpy function for that"
   ]
  },
  {
   "cell_type": "code",
   "execution_count": null,
   "id": "d81b6506",
   "metadata": {},
   "outputs": [],
   "source": [
    "np.linspace(0,1,11,endpoint=False)[1:]"
   ]
  },
  {
   "cell_type": "markdown",
   "id": "bc889fcb",
   "metadata": {},
   "source": [
    "**Exercise**. A matrix contains cartesian coordinates. Convert them to polar coordinates."
   ]
  },
  {
   "cell_type": "code",
   "execution_count": null,
   "id": "596a35ad",
   "metadata": {},
   "outputs": [],
   "source": [
    "cart = np.random.random((5,2))\n",
    "print(cart)\n",
    "\n",
    "x, y = cart[:,0], cart[:,1]\n",
    "r = np.sqrt(x**2+y**2)\n",
    "t = np.arctan2(y, x)\n",
    "np.hstack([r[:,np.newaxis], t[:, np.newaxis]])"
   ]
  },
  {
   "cell_type": "markdown",
   "id": "f948935b",
   "metadata": {},
   "source": [
    "**Exercise**. Create a random vector and substitute the maximum value by 0\n",
    "\n",
    "Hint: use the np.argmax function"
   ]
  },
  {
   "cell_type": "code",
   "execution_count": null,
   "id": "70d48aea",
   "metadata": {},
   "outputs": [],
   "source": [
    "v = np.random.random(10)\n",
    "print(v)\n",
    "v[np.argmax(v)] = 0\n",
    "v"
   ]
  },
  {
   "cell_type": "markdown",
   "id": "e0d0e242",
   "metadata": {},
   "source": [
    "**Exercise**. Find the value closer to a given value in a random array"
   ]
  },
  {
   "cell_type": "code",
   "execution_count": null,
   "id": "2eb1c28c",
   "metadata": {},
   "outputs": [],
   "source": [
    "arr = np.random.randint(0,100, size=(20))\n",
    "v = 15\n",
    "print(arr)\n",
    "arr[np.argmin(np.abs(arr - v))]"
   ]
  },
  {
   "cell_type": "markdown",
   "id": "37d81586",
   "metadata": {},
   "source": [
    "**Exercise**. Build an array of positions that uniformly cover the area [0,1]x[0,1]"
   ]
  },
  {
   "cell_type": "code",
   "execution_count": null,
   "id": "cbbe9bda",
   "metadata": {},
   "outputs": [],
   "source": [
    "delta = 5\n",
    "import itertools as it\n",
    "np.array(list(it.product(range(0,delta), range(0, delta)))) / (delta - 1)"
   ]
  },
  {
   "cell_type": "markdown",
   "id": "02a71874",
   "metadata": {},
   "source": [
    "There is numpy function for doing something similar."
   ]
  },
  {
   "cell_type": "code",
   "execution_count": null,
   "id": "80c3e314",
   "metadata": {
    "scrolled": true
   },
   "outputs": [],
   "source": [
    "delta = 5\n",
    "x, y = np.meshgrid(np.linspace(0,1,delta), np.linspace(0,1,delta))\n",
    "x,y"
   ]
  },
  {
   "cell_type": "markdown",
   "id": "66808bda",
   "metadata": {},
   "source": [
    "This way of returning values is very handy for many applications, like function evaluation"
   ]
  },
  {
   "cell_type": "code",
   "execution_count": null,
   "id": "76565e6b",
   "metadata": {
    "scrolled": true
   },
   "outputs": [],
   "source": [
    "z = np.sin(x**2 + y**2)\n",
    "z"
   ]
  },
  {
   "cell_type": "code",
   "execution_count": null,
   "id": "77d61c17",
   "metadata": {},
   "outputs": [],
   "source": [
    "import matplotlib.pyplot as plt\n",
    "from mpl_toolkits.mplot3d import Axes3D\n",
    "\n",
    "fig = plt.figure()\n",
    "ax = fig.add_subplot(111, projection='3d')\n",
    "ax.plot_surface(x, y, z)\n",
    "\n",
    "ax.set_xlabel('X')\n",
    "ax.set_ylabel('Y')\n",
    "ax.set_zlabel('Z')\n",
    "\n",
    "plt.show()"
   ]
  },
  {
   "cell_type": "markdown",
   "id": "b27ba69d",
   "metadata": {},
   "source": [
    "Or maybe just to use a 2D plot with z values coded by colors"
   ]
  },
  {
   "cell_type": "code",
   "execution_count": null,
   "id": "d7da6ab2",
   "metadata": {},
   "outputs": [],
   "source": [
    "x_flat = x.flatten()\n",
    "y_flat = y.flatten()\n",
    "z_flat = z.flatten()\n",
    "plt.scatter(x_flat, y_flat, c=z_flat, cmap='viridis')\n",
    "plt.colorbar()\n",
    "\n",
    "plt.xlabel('X')\n",
    "plt.ylabel('Y')\n",
    "plt.title('Z Curve Scatter Plot')\n",
    "plt.show()"
   ]
  }
 ],
 "metadata": {
  "kernelspec": {
   "display_name": "lab",
   "language": "python",
   "name": "python3"
  },
  "language_info": {
   "codemirror_mode": {
    "name": "ipython",
    "version": 3
   },
   "file_extension": ".py",
   "mimetype": "text/x-python",
   "name": "python",
   "nbconvert_exporter": "python",
   "pygments_lexer": "ipython3",
   "version": "3.12.7"
  }
 },
 "nbformat": 4,
 "nbformat_minor": 5
}
