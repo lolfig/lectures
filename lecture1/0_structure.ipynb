{
 "cells": [
  {
   "cell_type": "markdown",
   "metadata": {},
   "source": [
    "# Curso: Introducción a Python\n",
    "\n",
    "## Lecture 1\n",
    "- [Course introduction](1_introduction.ipynb)\n",
    "- Python fundamentals:\n",
    "    - [General Python introduction](2_python_language.ipynb)\n",
    "    - [Sequences](4_sequence_types.ipynb)\n",
    "    - [Dictionaries and sets](3_dicts_and_sets.ipynb)\n",
    "\n",
    "## Tareas:\n",
    "- Crea un entorno virtual con Conda con la version de python 3.12 e Instala Jupyter Notebook en el entorno.\n",
    "- Abre Jupyter y crea un nuevo notebook llamado Tarea1_Apellido\n",
    "- **Variables y operaciones básicas**  \n",
    "    - Calcula la energía cinética de un objeto de masa $(m = 10 , \\text{kg})$ y velocidad $(v = 5, \\text{m/s})$ (fórmula: $( E_k = \\frac{1}{2}mv^2)$).  \n",
    "       - Convierte la temperatura $(T = 85, \\text{°F})$ a Celsius (°C) y Kelvin (K).\n",
    "- **Secuencias (listas, tuplas, sets)**\n",
    "  - Crea una lista llamada `datos_experimento` con los valores: `[12.5, 3.4, 7.8, 9.1, 10.0]`.\n",
    "      - Añade el valor `15.3` al final.  \n",
    "     - Ordena la lista de menor a mayor.  \n",
    "     - Convierte la lista en una tupla y en un set. Explica en una celda de Markdown las diferencias entre estas estructuras.\n",
    "- **Diccionarios**\n",
    "    - Crea un diccionario llamado `particula` con las claves: `\"nombre\"`, `\"masa\"` (en kg), `\"carga\"` (en Coulombs) y `\"spin\"`.\n",
    "        - Ejemplo de valores: `\"electrón\"`, `9.1e-31`, `-1.6e-19`, `1/2`.  \n",
    "        - Añade una nueva clave llamada `\"familia\"` con valor `\"leptón\"`.  \n",
    "        - Imprime solo las claves del diccionario.\n",
    " \n",
    "- **Bonus (opcional)**\n",
    "    - Usa un set para eliminar duplicados de esta lista: `[2, 3, 2, 5, 7, 5, 7, 3]`.  -\n",
    "\n",
    "#### **Formato de entrega**:  \n",
    "El notebook debe incluir:  \n",
    "  - Celdas de código con las soluciones.  \n",
    "  - **Comentarios** explicando cada paso (usando `#`).  \n",
    "  - Al menos una celda de Markdown con respuestas a las preguntas teóricas (ej: diferencias entre lista/tupla/set).  \n",
    "- Exporta el notebook como `.ipynb` y súbelo a telegram o envialo por correo. Tambien es valido hacerlo en colab y enviar el link.  \n",
    "\n",
    "#### **Ejemplo de estructura en el notebook**:  \n",
    "```python\n",
    "# Ejercicio A - Energía cinética\n",
    "m = 10  # kg\n",
    "v = 5   # m/s\n",
    "energia_cinetica = 0.5 * m * v**2\n",
    "print(\"Energía cinética:\", energia_cinetica, \"J\")\n",
    "```\n",
    "\n",
    "### **¿Por qué esta tarea?**  \n",
    "\n",
    "- **Refuerza lo visto en clase**: Variables, operadores, secuencias y diccionarios.\n",
    "-  **Uso de entornos virtuales**: Obliga a practicar Conda y Jupyter, herramientas esenciales para evitar conflictos de librerías.\n"
   ]
  },
  {
   "cell_type": "markdown",
   "metadata": {},
   "source": []
  }
 ],
 "metadata": {
  "kernelspec": {
   "display_name": "Python 3 (ipykernel)",
   "language": "python",
   "name": "python3"
  },
  "language_info": {
   "codemirror_mode": {
    "name": "ipython",
    "version": 3
   },
   "file_extension": ".py",
   "mimetype": "text/x-python",
   "name": "python",
   "nbconvert_exporter": "python",
   "pygments_lexer": "ipython3",
   "version": "3.12.7"
  }
 },
 "nbformat": 4,
 "nbformat_minor": 4
}
