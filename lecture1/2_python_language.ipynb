{
 "cells": [
  {
   "cell_type": "markdown",
   "id": "6ade308e",
   "metadata": {},
   "source": [
    "# Introducción a Python\n",
    "\n",
    "### Expresiones\n",
    "En Python, una expresión es una combinación de valores, variables y operadores que da como resultado un valor. A continuación, se muestra un ejemplo de expresión:"
   ]
  },
  {
   "cell_type": "code",
   "execution_count": 1,
   "id": "a70e8b5d",
   "metadata": {},
   "outputs": [
    {
     "data": {
      "text/plain": [
       "14"
      ]
     },
     "execution_count": 1,
     "metadata": {},
     "output_type": "execute_result"
    }
   ],
   "source": [
    "2 + 3 * 4"
   ]
  },
  {
   "cell_type": "markdown",
   "id": "d4cff2be",
   "metadata": {},
   "source": [
    "En esta expresión, tenemos los valores 2, 3 y 4, y los operadores + y *. Se evaluará la expresión y se devolverá el resultado.\n",
    "\n",
    "### Tipos de datos\n",
    "Python tiene varios tipos de datos básicos integrados, entre ellos:\n",
    "\n",
    "- Entero: Representa números enteros sin decimales. Ejemplo: 42\n",
    "- Flotante: Representa números reales con decimales. Ejemplo: 3.14\n",
    "- Cadena: Representa una secuencia de caracteres. Ejemplo: \"¡Hola, mundo!\"\n",
    "- Booleano: Representa verdadero o falso."
   ]
  },
  {
   "cell_type": "code",
   "execution_count": 3,
   "id": "a19afd70",
   "metadata": {},
   "outputs": [
    {
     "name": "stdout",
     "output_type": "stream",
     "text": [
      "25 1.75 Alejandro Castro True\n"
     ]
    }
   ],
   "source": [
    "edad = 25\n",
    "altura = 1.75\n",
    "nombre = 'Alejandro Castro'\n",
    "es_estudiante = True\n",
    "\n",
    "print(edad, altura, nombre, es_estudiante)"
   ]
  },
  {
   "cell_type": "markdown",
   "id": "c0065737",
   "metadata": {},
   "source": [
    "### Operaciones\n",
    "Python admite diversas operaciones que se pueden realizar con diferentes tipos de datos. Algunas operaciones comunes incluyen:\n",
    "\n",
    "- Operadores aritméticos: +, -, *, /, % (módulo), ** (exponenciación)\n",
    "- Operadores de comparación: == (igual a), != (distinto a), >, <, >=, <=\n",
    "- Operadores lógicos: y, o, no\n",
    "- Concatenación de cadenas: +\n",
    "- Operaciones con listas: indexación, segmentación, anexión, extensión, etc."
   ]
  },
  {
   "cell_type": "code",
   "execution_count": 4,
   "id": "0f4a8d30",
   "metadata": {},
   "outputs": [
    {
     "data": {
      "text/plain": [
       "14"
      ]
     },
     "execution_count": 4,
     "metadata": {},
     "output_type": "execute_result"
    }
   ],
   "source": [
    "5 + 3 ** 2"
   ]
  },
  {
   "cell_type": "code",
   "execution_count": 6,
   "id": "eb510850",
   "metadata": {},
   "outputs": [
    {
     "data": {
      "text/plain": [
       "'John Doe'"
      ]
     },
     "execution_count": 6,
     "metadata": {},
     "output_type": "execute_result"
    }
   ],
   "source": [
    "'John' + ' ' + 'Doe'"
   ]
  },
  {
   "cell_type": "code",
   "execution_count": 7,
   "id": "a7d488e2",
   "metadata": {},
   "outputs": [
    {
     "data": {
      "text/plain": [
       "True"
      ]
     },
     "execution_count": 7,
     "metadata": {},
     "output_type": "execute_result"
    }
   ],
   "source": [
    "5 > 3"
   ]
  },
  {
   "cell_type": "markdown",
   "id": "508a6cbe",
   "metadata": {},
   "source": [
    "### Identation\n",
    "\n",
    "En Python, la indentación juega un papel crucial en la definición de la estructura y el alcance del código. Se utiliza para agrupar sentencias e indicar los bloques de código que deben ejecutarse conjuntamente.\n",
    "\n",
    "#### indentación en Estructuras de Control\n",
    "La indentación es especialmente importante al trabajar con estructuras de control como bucles y condicionales."
   ]
  },
  {
   "cell_type": "code",
   "execution_count": 8,
   "id": "e4e1c2fc",
   "metadata": {},
   "outputs": [
    {
     "name": "stdout",
     "output_type": "stream",
     "text": [
      "**********\n",
      "apple\n",
      "**********\n",
      "banana\n",
      "**********\n",
      "orange\n"
     ]
    }
   ],
   "source": [
    "fruits = ['apple', 'banana', 'orange']\n",
    "\n",
    "for fruit in fruits:\n",
    "    print(\"*\" * 10)\n",
    "    print(fruit)  # Indented block of code within the loop\n",
    "\n",
    "if len(fruits) > 3:\n",
    "    print(\"There are more than 3 fruits!\")  # Indented block of code within the if statement\n",
    "    print()"
   ]
  },
  {
   "cell_type": "markdown",
   "id": "80a45a8b",
   "metadata": {},
   "source": [
    "**Nesting in identation**"
   ]
  },
  {
   "cell_type": "code",
   "execution_count": 9,
   "id": "7bfc697c",
   "metadata": {},
   "outputs": [
    {
     "name": "stdout",
     "output_type": "stream",
     "text": [
      "x is greater than y\n",
      "x is not greater than 10\n"
     ]
    }
   ],
   "source": [
    "x = 10\n",
    "y = 5\n",
    "\n",
    "if x > y:\n",
    "    print(\"x is greater than y\")\n",
    "    if x > 10:\n",
    "        print(\"x is also greater than 10\")\n",
    "    else:\n",
    "        print(\"x is not greater than 10\")\n",
    "else:\n",
    "    print(\"x is less than or equal to y\")\n"
   ]
  },
  {
   "cell_type": "markdown",
   "id": "e418b50c",
   "metadata": {},
   "source": [
    "#### Indentation in Function Definitions\n",
    "También se utiliza al definir funciones. El bloque sangrado que sigue a la declaración de la función representa el cuerpo de la misma.\n"
   ]
  },
  {
   "cell_type": "code",
   "execution_count": 11,
   "id": "8afc81e2",
   "metadata": {},
   "outputs": [
    {
     "name": "stdout",
     "output_type": "stream",
     "text": [
      "Hola function called!\n",
      "Hola, Amanda!\n"
     ]
    }
   ],
   "source": [
    "def hola(name):\n",
    "    print(\"Hola function called!\")\n",
    "    print(\"Hola, \" + name + \"!\")  \n",
    "\n",
    "hola(\"Amanda\")  "
   ]
  },
  {
   "cell_type": "markdown",
   "id": "f98841c2",
   "metadata": {},
   "source": [
    "### Variables\n",
    "\n",
    "En Python, las variables tienen tipos dinámicos, lo que significa que se pueden asignar valores de diferentes tipos a la misma variable y que el tipo de la variable puede cambiar dinámicamente.\n"
   ]
  },
  {
   "cell_type": "code",
   "execution_count": 12,
   "id": "52b5214e",
   "metadata": {},
   "outputs": [
    {
     "name": "stdout",
     "output_type": "stream",
     "text": [
      "5\n",
      "Hello\n"
     ]
    }
   ],
   "source": [
    "x = 5  # Assigning an integer value to variable x\n",
    "print(x)  \n",
    "\n",
    "y = \"Hello\"  \n",
    "print(y)  \n"
   ]
  },
  {
   "cell_type": "markdown",
   "id": "71b89ce3",
   "metadata": {},
   "source": [
    "Puedes cambiar el tipo de una variable asignándole un valor de un tipo diferente. Aquí tienes un ejemplo:"
   ]
  },
  {
   "cell_type": "code",
   "execution_count": 13,
   "id": "26d845d1",
   "metadata": {},
   "outputs": [
    {
     "name": "stdout",
     "output_type": "stream",
     "text": [
      "5\n",
      "Hello\n"
     ]
    }
   ],
   "source": [
    "x = 5  # x is an integer\n",
    "print(x)  \n",
    "\n",
    "x = \"Hello\"  # Assigning a string value to x, changing its type\n",
    "print(x)  \n"
   ]
  },
  {
   "cell_type": "markdown",
   "id": "3407343c",
   "metadata": {},
   "source": [
    "Python infiere dinámicamente el tipo de una variable según el valor asignado. A continuación, un ejemplo:"
   ]
  },
  {
   "cell_type": "code",
   "execution_count": 14,
   "id": "654ee307",
   "metadata": {},
   "outputs": [
    {
     "name": "stdout",
     "output_type": "stream",
     "text": [
      "<class 'int'>\n",
      "<class 'float'>\n",
      "<class 'str'>\n"
     ]
    }
   ],
   "source": [
    "x = 5  # x is inferred as an integer\n",
    "print(type(x)) \n",
    "\n",
    "x = 3.14  # x is inferred as a float\n",
    "print(type(x))  \n",
    "\n",
    "x = \"Cat\" # x is inferred as a string\n",
    "print(type(x))  "
   ]
  },
  {
   "cell_type": "markdown",
   "id": "29aa87b3",
   "metadata": {},
   "source": [
    "En Python, **None** es un valor especial que representa la ausencia de un valor o la ausencia de un objeto específico. Se suele usar para indicar que una variable u objeto no tiene un valor significativo o aún no se le ha asignado."
   ]
  },
  {
   "cell_type": "code",
   "execution_count": 15,
   "id": "34584b78",
   "metadata": {},
   "outputs": [
    {
     "name": "stdout",
     "output_type": "stream",
     "text": [
      "None\n",
      "The name is not assigned.\n"
     ]
    }
   ],
   "source": [
    "name = None\n",
    "print(name)  \n",
    "\n",
    "if name is None:\n",
    "    print(\"The name is not assigned.\")\n",
    "else:\n",
    "    print(\"The name is:\", name)\n"
   ]
  },
  {
   "cell_type": "code",
   "execution_count": 16,
   "id": "57a69491",
   "metadata": {},
   "outputs": [
    {
     "name": "stdout",
     "output_type": "stream",
     "text": [
      "The name is not assigned.\n"
     ]
    }
   ],
   "source": [
    "if not name:\n",
    "    print(\"The name is not assigned.\")\n",
    "else:\n",
    "    print(\"The name is:\", name)"
   ]
  },
  {
   "cell_type": "markdown",
   "id": "2577508c",
   "metadata": {},
   "source": [
    "### Assignments\n",
    "\n",
    "En Python, puedes realizar asignaciones a variables, incluida la asignación simultánea de múltiples valores y el encadenamiento de asignaciones."
   ]
  },
  {
   "cell_type": "code",
   "execution_count": 17,
   "id": "03efbc15",
   "metadata": {},
   "outputs": [
    {
     "name": "stdout",
     "output_type": "stream",
     "text": [
      "10\n",
      "Hello\n",
      "3.14\n"
     ]
    }
   ],
   "source": [
    "x, y, z = 10, 'Hello', 3.14\n",
    "print(x)\n",
    "print(y)\n",
    "print(z)"
   ]
  },
  {
   "cell_type": "markdown",
   "id": "da531a7c",
   "metadata": {},
   "source": [
    "Python permite encadenar asignaciones, donde el valor de una variable se asigna a múltiples variables simultáneamente."
   ]
  },
  {
   "cell_type": "code",
   "execution_count": 19,
   "id": "b170e53c",
   "metadata": {},
   "outputs": [
    {
     "name": "stdout",
     "output_type": "stream",
     "text": [
      "20\n",
      "20\n",
      "20\n"
     ]
    }
   ],
   "source": [
    "x = y = z = 20\n",
    "print(x)\n",
    "print(y)\n",
    "print(z)"
   ]
  },
  {
   "cell_type": "markdown",
   "id": "978151a6",
   "metadata": {},
   "source": [
    "Python también permite intercambiar valores entre variables usando una sola línea de código sin necesidad de una variable intermedia."
   ]
  },
  {
   "cell_type": "code",
   "execution_count": 21,
   "id": "6b9a4d70",
   "metadata": {},
   "outputs": [
    {
     "name": "stdout",
     "output_type": "stream",
     "text": [
      "red\n",
      "10\n"
     ]
    }
   ],
   "source": [
    "x = 10\n",
    "y = \"red\"\n",
    "\n",
    "x, y = y, x  # intercambia el valor de x y y\n",
    "\n",
    "print(x)\n",
    "print(y)"
   ]
  },
  {
   "cell_type": "markdown",
   "id": "1478a1ce",
   "metadata": {},
   "source": [
    "En Python, un concepto fundamental es que todo es un objeto. Esto significa que todos los datos, incluyendo números, cadenas, funciones e incluso clases, son objetos con sus propias propiedades y métodos."
   ]
  },
  {
   "cell_type": "code",
   "execution_count": 29,
   "id": "f54a9fc8",
   "metadata": {},
   "outputs": [
    {
     "name": "stdout",
     "output_type": "stream",
     "text": [
      "4\n"
     ]
    }
   ],
   "source": [
    "x = 10\n",
    "print(x.bit_length())"
   ]
  },
  {
   "cell_type": "markdown",
   "id": "474552f7",
   "metadata": {},
   "source": [
    "Python sigue el principio de que «la asignación no duplica objetos», lo que significa que asignar una variable no crea una nueva copia del objeto.\n",
    "- En Python, al asignar una variable a un valor, se crea una referencia al objeto existente en lugar de crear una nueva copia."
   ]
  },
  {
   "cell_type": "code",
   "execution_count": 31,
   "id": "195e8065",
   "metadata": {},
   "outputs": [
    {
     "name": "stdout",
     "output_type": "stream",
     "text": [
      "[1, 2, 3, 4]\n",
      "[1, 2, 3, 4]\n"
     ]
    }
   ],
   "source": [
    "x = [1, 2, 3]\n",
    "y = x\n",
    "\n",
    "x.append(4)\n",
    "\n",
    "print(x)  \n",
    "print(y)  "
   ]
  },
  {
   "cell_type": "markdown",
   "id": "42778b98",
   "metadata": {},
   "source": [
    "Es importante comprender el concepto de referencia en Python. Las variables son referencias a objetos, no contenedores que contienen valores.\n",
    "\n",
    "Al comprender que todo es un objeto y que la asignación no duplica objetos, se puede trabajar eficazmente con datos en Python. Este conocimiento es especialmente útil al trabajar con objetos mutables como listas, diccionarios o clases personalizadas."
   ]
  },
  {
   "cell_type": "markdown",
   "id": "b2ce4049",
   "metadata": {},
   "source": [
    "## Ejercicios resueltos"
   ]
  },
  {
   "cell_type": "markdown",
   "id": "c312531d",
   "metadata": {},
   "source": [
    "### Tips"
   ]
  },
  {
   "cell_type": "code",
   "execution_count": 26,
   "id": "92eaa493",
   "metadata": {},
   "outputs": [
    {
     "name": "stdout",
     "output_type": "stream",
     "text": [
      "0\n",
      "1\n",
      "2\n",
      "3\n",
      "4\n"
     ]
    }
   ],
   "source": [
    "# En Python, para iterar sobre todos los valores de 0 a n-1, puedes usar range(n).\n",
    "for idx in range(5):\n",
    "    print(idx)"
   ]
  },
  {
   "cell_type": "code",
   "execution_count": 27,
   "id": "1026ac72",
   "metadata": {},
   "outputs": [
    {
     "name": "stdout",
     "output_type": "stream",
     "text": [
      "True\n"
     ]
    }
   ],
   "source": [
    "# Para comprobar si un elemento no está presente en una lista, puedes usar **not in**.\n",
    "print('a' not in ['b', 'c', 'd'])"
   ]
  },
  {
   "cell_type": "code",
   "execution_count": 28,
   "id": "cf66bac9",
   "metadata": {},
   "outputs": [
    {
     "name": "stdin",
     "output_type": "stream",
     "text": [
      "enter value 5\n"
     ]
    },
    {
     "name": "stdout",
     "output_type": "stream",
     "text": [
      "5.0\n"
     ]
    },
    {
     "name": "stdin",
     "output_type": "stream",
     "text": [
      "enter other value 1\n"
     ]
    },
    {
     "name": "stdout",
     "output_type": "stream",
     "text": [
      "1\n"
     ]
    }
   ],
   "source": [
    "# Para ingresar datos desde el teclado, puede utilizar input().\n",
    "v = float(input(\"enter value\"))\n",
    "print(v)\n",
    "v2 = int(input(\"enter other value\"))\n",
    "print(v2)"
   ]
  },
  {
   "cell_type": "markdown",
   "id": "30a01abd-0714-46f5-9236-d843e73cee7e",
   "metadata": {},
   "source": [
    "### Extras"
   ]
  },
  {
   "cell_type": "code",
   "execution_count": 32,
   "id": "c83340b6-f389-4664-8806-c850b55a2ae2",
   "metadata": {},
   "outputs": [
    {
     "name": "stdout",
     "output_type": "stream",
     "text": [
      "Lolo\n"
     ]
    }
   ],
   "source": [
    "# El programador no tiene control sobre la vida de los objetos creados. \n",
    "# Un 'garbage collector' elimina los objetos que ya no se utilizan\n",
    "a = 34\n",
    "a = 'Lolo'\n",
    "# El objeto entere 34 no puede ser accedido, por lo que es eliminado de la memoria\n",
    "print(a)"
   ]
  },
  {
   "cell_type": "markdown",
   "id": "c5464778-8bb0-4da2-a94f-d6874b3ea75d",
   "metadata": {},
   "source": [
    "Reglas de creacion de nombres\n",
    "- Los nombres son sensitivos a mayúsculas y no puede comenzar por un número\n",
    "- Tienen que estar formados por letras, números y underscores\n",
    "- Python tiene pocas palabras reservadas, que no pueden ser usadas como nombres: **and, assert, break, class, continue, def, del, elif, else, except, exec, finally, for, from, global, if, import, in, is, lambda, not, or, pass, print, raise, return, try, while**"
   ]
  },
  {
   "cell_type": "markdown",
   "id": "516d40d9-44d8-4d4e-9422-e0d437b57c1e",
   "metadata": {},
   "source": [
    "Convenciones:\n",
    "- minusculas_unidas: funciones, métodos y atributos\n",
    "- minusculas_unidas o TODO_MAYUSCULAS: constantes\n",
    "- InicialesMayusculas: clases\n",
    "- camelCase: no se utiliza"
   ]
  },
  {
   "cell_type": "markdown",
   "id": "c0c08c8c",
   "metadata": {},
   "source": [
    "### Exercises"
   ]
  },
  {
   "cell_type": "markdown",
   "id": "c48359fb",
   "metadata": {},
   "source": [
    "1. Given the quantity of existing worlds, implement a \"Hello World\" program that greets each one of them. The worlds are named World 1, Worls 2, etc..."
   ]
  },
  {
   "cell_type": "code",
   "execution_count": null,
   "id": "619921fd",
   "metadata": {},
   "outputs": [],
   "source": [
    "worlds_count = 3\n",
    "for i in range(worlds_count):\n",
    "    print(\"Hello world\", i +1, \"!\")"
   ]
  },
  {
   "cell_type": "markdown",
   "id": "deb3de35",
   "metadata": {},
   "source": [
    "2. Enter the name of a person and greet them."
   ]
  },
  {
   "cell_type": "code",
   "execution_count": null,
   "id": "0eafc2a3",
   "metadata": {},
   "outputs": [],
   "source": [
    "name = input(\"Enter name:\")\n",
    "print(\"Hello \" + name + \"!\")"
   ]
  },
  {
   "cell_type": "markdown",
   "id": "6050266f",
   "metadata": {},
   "source": [
    "3. Please enter the amount of money for a person and the currency you want to convert. You should use variables to store the conversion rates."
   ]
  },
  {
   "cell_type": "code",
   "execution_count": null,
   "id": "5f0ad287",
   "metadata": {},
   "outputs": [],
   "source": [
    "rate_euro = 8.3\n",
    "rate_usd = 7.1\n",
    "rate_cup = 0.15\n",
    "\n",
    "rmb = float(input(\"Enter the amount in RMB\"))\n",
    "currency = input(\"Entre destination currency(eur,usd,cup):\")\n",
    "rate = 0\n",
    "if currency.lower() == 'eur':\n",
    "    rate = rate_euro\n",
    "elif currency.lower() == 'usd':\n",
    "    rate = rate_usd\n",
    "elif currency.lower() == 'cup':\n",
    "    rate = rate_cup\n",
    "if rate > 0:\n",
    "    converted = rmb / rate\n",
    "    print(\"Result is\", converted, currency)\n",
    "else:\n",
    "    print(\"Wrong currency:\", moneda)\n"
   ]
  },
  {
   "cell_type": "markdown",
   "id": "7a3ca349",
   "metadata": {},
   "source": [
    "4. Enter two integer numbers and print their quotient and remainder of the division.\n",
    "Always divide the larger number by the smaller one."
   ]
  },
  {
   "cell_type": "code",
   "execution_count": null,
   "id": "56d3770f",
   "metadata": {},
   "outputs": [],
   "source": [
    "n = int(input(\"Enter the first number: \"))\n",
    "m = int(input(\"Enter the second number: \"))\n",
    "if m > n:\n",
    "    m, n = n, m\n",
    "r = n % m\n",
    "c = n // m\n",
    "print(\"quotient =\", c, \", remainder =\", r)\n"
   ]
  },
  {
   "cell_type": "markdown",
   "id": "3fe52bb3",
   "metadata": {},
   "source": [
    "5. Enter the maximum current demand and the set of energy contributions  (ends with a negative value).\n",
    "If the demand is greater than the total contribution, print 'Blackout!'.\n",
    "In all cases, print the generation shortfall or excess."
   ]
  },
  {
   "cell_type": "code",
   "execution_count": null,
   "id": "e01a5617",
   "metadata": {},
   "outputs": [],
   "source": [
    "demand = float(input(\"Enter maximum demand: \"))\n",
    "contribution = 0\n",
    "total_contribution = 0\n",
    "\n",
    "while contribution >= 0:\n",
    "    contribution = float(input(\"Enter contribution (negative to finish): \"))\n",
    "    if contribution > 0:\n",
    "        total_contribution += contribution\n",
    "\n",
    "if total_contribution < demand:\n",
    "    print(\"Blackout! Shortfall:\", demand - total_contribution)\n",
    "elif demand < total_contribution:\n",
    "    print(\"Excess:\", total_contribution - demand)\n",
    "else:\n",
    "    print(\"Contribution equal to demand.\")\n"
   ]
  },
  {
   "cell_type": "code",
   "execution_count": 39,
   "id": "858a330e-468d-4e65-802b-263993a03c44",
   "metadata": {},
   "outputs": [],
   "source": [
    "y = x.copy()"
   ]
  }
 ],
 "metadata": {
  "kernelspec": {
   "display_name": "Python 3 (ipykernel)",
   "language": "python",
   "name": "python3"
  },
  "language_info": {
   "codemirror_mode": {
    "name": "ipython",
    "version": 3
   },
   "file_extension": ".py",
   "mimetype": "text/x-python",
   "name": "python",
   "nbconvert_exporter": "python",
   "pygments_lexer": "ipython3",
   "version": "3.12.7"
  }
 },
 "nbformat": 4,
 "nbformat_minor": 5
}
