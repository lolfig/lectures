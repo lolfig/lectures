{
 "cells": [
  {
   "cell_type": "markdown",
   "id": "b693e51c",
   "metadata": {},
   "source": [
    "# Dictionaries and Sets\n",
    "<a id='sec_dicts_and_sets'></a>\n",
    "\n",
    "Comencemos por entender qué son los diccionarios en Python. Un diccionario es una estructura de datos que almacena pares clave-valor. Podemos crear un diccionario en Python usando llaves {}. Por ejemplo:"
   ]
  },
  {
   "cell_type": "code",
   "execution_count": 1,
   "id": "8cb4e692",
   "metadata": {},
   "outputs": [
    {
     "data": {
      "text/plain": [
       "{'name': 'John', 'age': 28, 'profession': 'programmer'}"
      ]
     },
     "execution_count": 1,
     "metadata": {},
     "output_type": "execute_result"
    }
   ],
   "source": [
    "my_dictionary = {'name': 'John', 'age': 28, 'profession': 'programmer'}\n",
    "my_dictionary"
   ]
  },
  {
   "cell_type": "markdown",
   "id": "922af882",
   "metadata": {},
   "source": [
    "Las claves y los valores pueden ser de diferentes tipos de datos."
   ]
  },
  {
   "cell_type": "code",
   "execution_count": 3,
   "id": "4da403c8",
   "metadata": {},
   "outputs": [
    {
     "data": {
      "text/plain": [
       "{2: 'two', False: 23, 'values': [3, 4, 5]}"
      ]
     },
     "execution_count": 3,
     "metadata": {},
     "output_type": "execute_result"
    }
   ],
   "source": [
    "a_dict = {2: \"two\", False: 23, \"values\": [3, 4, 5]}\n",
    "a_dict"
   ]
  },
  {
   "cell_type": "markdown",
   "id": "602a71fb",
   "metadata": {},
   "source": [
    "Las claves deben ser inmutables\n"
   ]
  },
  {
   "cell_type": "code",
   "execution_count": 5,
   "id": "79d1fca0",
   "metadata": {},
   "outputs": [
    {
     "data": {
      "text/plain": [
       "{(2, 3): True, 'text': False}"
      ]
     },
     "execution_count": 5,
     "metadata": {},
     "output_type": "execute_result"
    }
   ],
   "source": [
    "{(2, 3): True, \"text\": False}"
   ]
  },
  {
   "cell_type": "code",
   "execution_count": 6,
   "id": "d5664e37",
   "metadata": {},
   "outputs": [
    {
     "ename": "TypeError",
     "evalue": "unhashable type: 'list'",
     "output_type": "error",
     "traceback": [
      "\u001b[0;31m---------------------------------------------------------------------------\u001b[0m",
      "\u001b[0;31mTypeError\u001b[0m                                 Traceback (most recent call last)",
      "Cell \u001b[0;32mIn[6], line 1\u001b[0m\n\u001b[0;32m----> 1\u001b[0m {[\u001b[38;5;241m3\u001b[39m, \u001b[38;5;241m4\u001b[39m, \u001b[38;5;241m5\u001b[39m]: \u001b[38;5;241m45\u001b[39m}\n",
      "\u001b[0;31mTypeError\u001b[0m: unhashable type: 'list'"
     ]
    }
   ],
   "source": [
    "{[3, 4, 5]: 45}"
   ]
  },
  {
   "cell_type": "markdown",
   "id": "b03c6871",
   "metadata": {},
   "source": [
    "Podemos acceder a los valores del diccionario mediante la clave correspondiente. Por ejemplo:"
   ]
  },
  {
   "cell_type": "code",
   "execution_count": 7,
   "id": "5c07f1db",
   "metadata": {},
   "outputs": [
    {
     "data": {
      "text/plain": [
       "{'name': 'John', 'age': 28, 'profession': 'programmer'}"
      ]
     },
     "execution_count": 7,
     "metadata": {},
     "output_type": "execute_result"
    }
   ],
   "source": [
    "my_dictionary"
   ]
  },
  {
   "cell_type": "code",
   "execution_count": 8,
   "id": "7ac7cbcd",
   "metadata": {},
   "outputs": [
    {
     "data": {
      "text/plain": [
       "'John'"
      ]
     },
     "execution_count": 8,
     "metadata": {},
     "output_type": "execute_result"
    }
   ],
   "source": [
    "my_dictionary['name']"
   ]
  },
  {
   "cell_type": "markdown",
   "id": "d9dee1a9",
   "metadata": {},
   "source": [
    "Si un elemento no está en el diccionario, se lanza una excepción KeyError"
   ]
  },
  {
   "cell_type": "code",
   "execution_count": 9,
   "id": "d956a4e7",
   "metadata": {},
   "outputs": [
    {
     "ename": "KeyError",
     "evalue": "'gender'",
     "output_type": "error",
     "traceback": [
      "\u001b[0;31m---------------------------------------------------------------------------\u001b[0m",
      "\u001b[0;31mKeyError\u001b[0m                                  Traceback (most recent call last)",
      "Cell \u001b[0;32mIn[9], line 1\u001b[0m\n\u001b[0;32m----> 1\u001b[0m my_dictionary[\u001b[38;5;124m'\u001b[39m\u001b[38;5;124mgender\u001b[39m\u001b[38;5;124m'\u001b[39m]\n",
      "\u001b[0;31mKeyError\u001b[0m: 'gender'"
     ]
    }
   ],
   "source": [
    "my_dictionary['gender']"
   ]
  },
  {
   "cell_type": "markdown",
   "id": "11fc0a02",
   "metadata": {},
   "source": [
    "Podemos agregar un nuevo par clave-valor al diccionario:"
   ]
  },
  {
   "cell_type": "code",
   "execution_count": 11,
   "id": "8e90e6f5",
   "metadata": {},
   "outputs": [
    {
     "data": {
      "text/plain": [
       "{'name': 'John', 'age': 28, 'profession': 'programmer', 'location': 'New York'}"
      ]
     },
     "execution_count": 11,
     "metadata": {},
     "output_type": "execute_result"
    }
   ],
   "source": [
    "my_dictionary['location'] = 'New York'\n",
    "my_dictionary"
   ]
  },
  {
   "cell_type": "markdown",
   "id": "1980aa93",
   "metadata": {},
   "source": [
    "También podemos actualizar un valor existente:\n"
   ]
  },
  {
   "cell_type": "code",
   "execution_count": 12,
   "id": "bc57e385",
   "metadata": {},
   "outputs": [
    {
     "data": {
      "text/plain": [
       "{'name': 'John', 'age': 50, 'profession': 'programmer', 'location': 'New York'}"
      ]
     },
     "execution_count": 12,
     "metadata": {},
     "output_type": "execute_result"
    }
   ],
   "source": [
    "my_dictionary['age'] = 50\n",
    "my_dictionary"
   ]
  },
  {
   "cell_type": "markdown",
   "id": "982845e5",
   "metadata": {},
   "source": [
    "Y podemos eliminar un par clave-valor usando la palabra clave del:"
   ]
  },
  {
   "cell_type": "code",
   "execution_count": 13,
   "id": "4448f82b",
   "metadata": {},
   "outputs": [
    {
     "data": {
      "text/plain": [
       "{'name': 'John', 'profession': 'programmer', 'location': 'New York'}"
      ]
     },
     "execution_count": 13,
     "metadata": {},
     "output_type": "execute_result"
    }
   ],
   "source": [
    "del my_dictionary['age']\n",
    "my_dictionary"
   ]
  },
  {
   "cell_type": "markdown",
   "id": "fc43ab82",
   "metadata": {},
   "source": [
    "Cómo comprobar si una clave existe en un diccionario:"
   ]
  },
  {
   "cell_type": "code",
   "execution_count": 14,
   "id": "b2852922",
   "metadata": {},
   "outputs": [
    {
     "data": {
      "text/plain": [
       "True"
      ]
     },
     "execution_count": 14,
     "metadata": {},
     "output_type": "execute_result"
    }
   ],
   "source": [
    "my_dict = {'name': 'John', 'age': 30, 'city': 'New York'}\n",
    "'name' in my_dict"
   ]
  },
  {
   "cell_type": "code",
   "execution_count": 15,
   "id": "fe13574e",
   "metadata": {},
   "outputs": [
    {
     "data": {
      "text/plain": [
       "False"
      ]
     },
     "execution_count": 15,
     "metadata": {},
     "output_type": "execute_result"
    }
   ],
   "source": [
    "30 in my_dict"
   ]
  },
  {
   "cell_type": "markdown",
   "id": "0c1fce55",
   "metadata": {},
   "source": [
    "Obtener todas las claves o valores de un diccionario:"
   ]
  },
  {
   "cell_type": "code",
   "execution_count": 23,
   "id": "215e3ed7-d320-4349-9e5e-f81293e5e21b",
   "metadata": {},
   "outputs": [
    {
     "data": {
      "text/plain": [
       "3"
      ]
     },
     "execution_count": 23,
     "metadata": {},
     "output_type": "execute_result"
    }
   ],
   "source": [
    "len(list(my_dict.keys()))"
   ]
  },
  {
   "cell_type": "code",
   "execution_count": 17,
   "id": "58d38ab1-0539-4586-9bca-ba63a06cbcea",
   "metadata": {},
   "outputs": [
    {
     "data": {
      "text/plain": [
       "dict_values(['John', 30, 'New York'])"
      ]
     },
     "execution_count": 17,
     "metadata": {},
     "output_type": "execute_result"
    }
   ],
   "source": [
    "my_dict.values()"
   ]
  },
  {
   "cell_type": "code",
   "execution_count": 13,
   "id": "51a76de4",
   "metadata": {},
   "outputs": [
    {
     "name": "stdout",
     "output_type": "stream",
     "text": [
      "dict_keys(['name', 'age', 'city'])\n",
      "dict_values(['John', 30, 'New York'])\n"
     ]
    }
   ],
   "source": [
    "print(my_dict.keys())\n",
    "print(my_dict.values())"
   ]
  },
  {
   "cell_type": "markdown",
   "id": "fee61ef3",
   "metadata": {},
   "source": [
    "Recorriendo los pares clave-valor en un diccionario"
   ]
  },
  {
   "cell_type": "code",
   "execution_count": 30,
   "id": "0db9f960",
   "metadata": {},
   "outputs": [
    {
     "name": "stdout",
     "output_type": "stream",
     "text": [
      "name = John\n",
      "age = 30\n",
      "city = New York\n"
     ]
    }
   ],
   "source": [
    "for key, value in my_dict.items():\n",
    "    print(key, \"=\",  value)"
   ]
  },
  {
   "cell_type": "markdown",
   "id": "1ccfa097",
   "metadata": {},
   "source": [
    "Limpiando el diccionario"
   ]
  },
  {
   "cell_type": "code",
   "execution_count": 31,
   "id": "daca0085",
   "metadata": {},
   "outputs": [
    {
     "data": {
      "text/plain": [
       "{}"
      ]
     },
     "execution_count": 31,
     "metadata": {},
     "output_type": "execute_result"
    }
   ],
   "source": [
    "my_dict = {'name': 'John', 'age': 30, 'city': 'New York'}\n",
    "my_dict.clear()\n",
    "my_dict"
   ]
  },
  {
   "cell_type": "markdown",
   "id": "12594441",
   "metadata": {},
   "source": [
    "El método get() se utiliza para recuperar el valor de una clave dada de un diccionario. Toma dos argumentos: la clave y un valor predeterminado que se devuelve si la clave no se encuentra en el diccionario.\n",
    "\n",
    "Si se encuentra la clave, se devuelve el valor correspondiente. De lo contrario, se devuelve el valor predeterminado."
   ]
  },
  {
   "cell_type": "code",
   "execution_count": 33,
   "id": "08fd29be",
   "metadata": {},
   "outputs": [
    {
     "data": {
      "text/plain": [
       "('John', 'John')"
      ]
     },
     "execution_count": 33,
     "metadata": {},
     "output_type": "execute_result"
    }
   ],
   "source": [
    "my_dict = {'name': 'John', 'age': 30, 'city': 'New York'}\n",
    "my_dict['name'], my_dict.get('name')"
   ]
  },
  {
   "cell_type": "code",
   "execution_count": 34,
   "id": "6f45845e",
   "metadata": {},
   "outputs": [
    {
     "ename": "KeyError",
     "evalue": "'gender'",
     "output_type": "error",
     "traceback": [
      "\u001b[0;31m---------------------------------------------------------------------------\u001b[0m",
      "\u001b[0;31mKeyError\u001b[0m                                  Traceback (most recent call last)",
      "Cell \u001b[0;32mIn[34], line 1\u001b[0m\n\u001b[0;32m----> 1\u001b[0m my_dict[\u001b[38;5;124m'\u001b[39m\u001b[38;5;124mgender\u001b[39m\u001b[38;5;124m'\u001b[39m]\n",
      "\u001b[0;31mKeyError\u001b[0m: 'gender'"
     ]
    }
   ],
   "source": [
    "my_dict['gender']"
   ]
  },
  {
   "cell_type": "code",
   "execution_count": 35,
   "id": "9af21062",
   "metadata": {},
   "outputs": [
    {
     "name": "stdout",
     "output_type": "stream",
     "text": [
      "14\n"
     ]
    }
   ],
   "source": [
    "print(my_dict.get('gender', 14))"
   ]
  },
  {
   "cell_type": "code",
   "execution_count": 19,
   "id": "c36792c3",
   "metadata": {},
   "outputs": [
    {
     "name": "stdout",
     "output_type": "stream",
     "text": [
      "None\n"
     ]
    }
   ],
   "source": [
    "print(my_dict.get('gender'))"
   ]
  },
  {
   "cell_type": "code",
   "execution_count": 20,
   "id": "64a9e01c",
   "metadata": {},
   "outputs": [
    {
     "data": {
      "text/plain": [
       "'unknown'"
      ]
     },
     "execution_count": 20,
     "metadata": {},
     "output_type": "execute_result"
    }
   ],
   "source": [
    "my_dict.get('gender', 'unknown')"
   ]
  },
  {
   "cell_type": "markdown",
   "id": "ff0d706c",
   "metadata": {},
   "source": [
    "### Sets\n",
    "\n",
    "Un conjunto es una colección desordenada de elementos únicos. Es un tipo de dato integrado que proporciona una forma práctica de almacenar y manipular valores distintos."
   ]
  },
  {
   "cell_type": "code",
   "execution_count": 36,
   "id": "86848023",
   "metadata": {},
   "outputs": [
    {
     "data": {
      "text/plain": [
       "{1, 2, 3}"
      ]
     },
     "execution_count": 36,
     "metadata": {},
     "output_type": "execute_result"
    }
   ],
   "source": [
    "my_set = {1, 2, 3}\n",
    "my_set"
   ]
  },
  {
   "cell_type": "markdown",
   "id": "ee36cae6",
   "metadata": {},
   "source": [
    "Los conjuntos solo contienen elementos únicos. Si se especifican valores duplicados durante la creación del conjunto, se eliminan automáticamente, dejando solo valores únicos en el conjunto."
   ]
  },
  {
   "cell_type": "code",
   "execution_count": 37,
   "id": "71efe398",
   "metadata": {},
   "outputs": [
    {
     "data": {
      "text/plain": [
       "{1, 2, 3}"
      ]
     },
     "execution_count": 37,
     "metadata": {},
     "output_type": "execute_result"
    }
   ],
   "source": [
    "my_set = {1, 2, 2, 3, 3, 3}\n",
    "my_set"
   ]
  },
  {
   "cell_type": "markdown",
   "id": "9c947a26",
   "metadata": {},
   "source": [
    "Los conjuntos admiten diversas operaciones, como unión, intersección, diferencia, etc. Estas operaciones se pueden realizar mediante métodos u operadores integrados."
   ]
  },
  {
   "cell_type": "code",
   "execution_count": 39,
   "id": "c63bc4ed",
   "metadata": {},
   "outputs": [
    {
     "data": {
      "text/plain": [
       "{1, 2, 3, 4}"
      ]
     },
     "execution_count": 39,
     "metadata": {},
     "output_type": "execute_result"
    }
   ],
   "source": [
    "set1 = {1, 2, 3}\n",
    "set2 = {2, 3, 4}\n",
    "set1.union(set2)"
   ]
  },
  {
   "cell_type": "code",
   "execution_count": 40,
   "id": "2c4a46c3",
   "metadata": {},
   "outputs": [
    {
     "data": {
      "text/plain": [
       "{2, 3}"
      ]
     },
     "execution_count": 40,
     "metadata": {},
     "output_type": "execute_result"
    }
   ],
   "source": [
    "set1.intersection(set2)  "
   ]
  },
  {
   "cell_type": "code",
   "execution_count": 41,
   "id": "e2258fde",
   "metadata": {},
   "outputs": [
    {
     "data": {
      "text/plain": [
       "{1}"
      ]
     },
     "execution_count": 41,
     "metadata": {},
     "output_type": "execute_result"
    }
   ],
   "source": [
    "set1.difference(set2)   "
   ]
  },
  {
   "cell_type": "markdown",
   "id": "99c28c6f",
   "metadata": {},
   "source": [
    "Los conjuntos son mutables, lo que significa que puedes agregar o eliminar elementos de un conjunto después de su creación.\n"
   ]
  },
  {
   "cell_type": "code",
   "execution_count": 42,
   "id": "d084ee19",
   "metadata": {},
   "outputs": [
    {
     "data": {
      "text/plain": [
       "{1, 3, 4, 5, 6}"
      ]
     },
     "execution_count": 42,
     "metadata": {},
     "output_type": "execute_result"
    }
   ],
   "source": [
    "my_set = {1, 2, 3}\n",
    "my_set.add(4)      # Add a single element\n",
    "my_set.update({5, 6})  # Add multiple elements\n",
    "my_set.remove(2)   # Remove an element\n",
    "my_set"
   ]
  },
  {
   "cell_type": "markdown",
   "id": "7bf2d03c",
   "metadata": {},
   "source": [
    "Puedes comprobar si un elemento está presente en un conjunto utilizando el operador in"
   ]
  },
  {
   "cell_type": "code",
   "execution_count": 44,
   "id": "21b09b31",
   "metadata": {},
   "outputs": [
    {
     "name": "stdout",
     "output_type": "stream",
     "text": [
      "True\n",
      "False\n"
     ]
    }
   ],
   "source": [
    "my_set = {1, 2, 3}\n",
    "print(2 in my_set)  \n",
    "print(4 in my_set)  "
   ]
  },
  {
   "cell_type": "markdown",
   "id": "3c7f4d78",
   "metadata": {},
   "source": [
    "## Solved Exercises"
   ]
  },
  {
   "cell_type": "markdown",
   "id": "e0789217",
   "metadata": {},
   "source": [
    "**Exercise**. Create a dictionary representing a student's information (name, age, grade) and print each key-value pair."
   ]
  },
  {
   "cell_type": "code",
   "execution_count": 28,
   "id": "d4598180",
   "metadata": {
    "jupyter": {
     "source_hidden": true
    }
   },
   "outputs": [
    {
     "name": "stdout",
     "output_type": "stream",
     "text": [
      "name : John Smith\n",
      "age : 17\n",
      "grade : 11th\n"
     ]
    }
   ],
   "source": [
    "student = {\n",
    "    \"name\": \"John Smith\",\n",
    "    \"age\": 17,\n",
    "    \"grade\": \"11th\"\n",
    "}\n",
    "\n",
    "for key, value in student.items():\n",
    "    print(key, \":\", value)"
   ]
  },
  {
   "cell_type": "markdown",
   "id": "5b148504",
   "metadata": {},
   "source": [
    "**Exercise**. Given a list of names, create a dictionary where the names are the keys and the values represent their lengths."
   ]
  },
  {
   "cell_type": "code",
   "execution_count": 29,
   "id": "bf3f6560",
   "metadata": {
    "jupyter": {
     "source_hidden": true
    }
   },
   "outputs": [
    {
     "data": {
      "text/plain": [
       "{'Alice': 5, 'Bob': 3, 'Charlie': 7, 'David': 5}"
      ]
     },
     "execution_count": 29,
     "metadata": {},
     "output_type": "execute_result"
    }
   ],
   "source": [
    "names = [\"Alice\", \"Bob\", \"Charlie\", \"David\"]\n",
    "\n",
    "name_lengths = {}\n",
    "for name in names:\n",
    "    name_lengths[name] = len(name)\n",
    "\n",
    "name_lengths"
   ]
  },
  {
   "cell_type": "markdown",
   "id": "9a7df1f2",
   "metadata": {},
   "source": [
    "**Exercise**. Count the frequency of each character in a given string and store it in a dictionary."
   ]
  },
  {
   "cell_type": "code",
   "execution_count": 30,
   "id": "7a022538",
   "metadata": {
    "jupyter": {
     "source_hidden": true
    }
   },
   "outputs": [
    {
     "data": {
      "text/plain": [
       "{'h': 1, 'e': 1, 'l': 3, 'o': 2, ' ': 1, 'w': 1, 'r': 1, 'd': 1}"
      ]
     },
     "execution_count": 30,
     "metadata": {},
     "output_type": "execute_result"
    }
   ],
   "source": [
    "string = \"hello world\"\n",
    "\n",
    "char_frequency = {}\n",
    "for char in string:\n",
    "    if char in char_frequency:\n",
    "        char_frequency[char] += 1\n",
    "    else:\n",
    "        char_frequency[char] = 1\n",
    "\n",
    "char_frequency"
   ]
  },
  {
   "cell_type": "code",
   "execution_count": 31,
   "id": "6aaae204",
   "metadata": {},
   "outputs": [
    {
     "data": {
      "text/plain": [
       "{'h': 1, 'e': 1, 'l': 3, 'o': 2, ' ': 1, 'w': 1, 'r': 1, 'd': 1}"
      ]
     },
     "execution_count": 31,
     "metadata": {},
     "output_type": "execute_result"
    }
   ],
   "source": [
    "string = \"hello world\"\n",
    "\n",
    "char_frequency = {}\n",
    "for char in string:\n",
    "    char_frequency[char] = char_frequency.get(char, 0) + 1\n",
    "\n",
    "char_frequency"
   ]
  },
  {
   "cell_type": "markdown",
   "id": "5e46a1d8",
   "metadata": {},
   "source": [
    "**Exercise**. Create a dictionary that maps grades to corresponding grade points (A: 4, B: 3, C: 2, D: 1, F: 0). Given a list of grades, calculate the GPA (Grade Point Average)."
   ]
  },
  {
   "cell_type": "code",
   "execution_count": 32,
   "id": "284bf754",
   "metadata": {},
   "outputs": [
    {
     "name": "stdout",
     "output_type": "stream",
     "text": [
      "GPA: 3.2\n"
     ]
    }
   ],
   "source": [
    "grades = [\"A\", \"B\", \"C\", \"A\", \"B\"]\n",
    "\n",
    "grade_points = {\n",
    "    \"A\": 4,\n",
    "    \"B\": 3,\n",
    "    \"C\": 2,\n",
    "    \"D\": 1,\n",
    "    \"F\": 0\n",
    "}\n",
    "\n",
    "total_points = sum(grade_points[grade] for grade in grades)\n",
    "gpa = total_points / len(grades)\n",
    "\n",
    "print(\"GPA:\", gpa)"
   ]
  },
  {
   "cell_type": "markdown",
   "id": "66f45d61",
   "metadata": {},
   "source": [
    "**Exercise**. Create a dictionary of fruit prices per pound. \n",
    "Enter the name of the fruit and the quantity, print the total price"
   ]
  },
  {
   "cell_type": "code",
   "execution_count": 33,
   "id": "00a2fd91",
   "metadata": {},
   "outputs": [
    {
     "name": "stdin",
     "output_type": "stream",
     "text": [
      "Enter fruit: manzana\n",
      "Enter quantity: 10\n"
     ]
    },
    {
     "name": "stdout",
     "output_type": "stream",
     "text": [
      "Unregistered fruit: manzana\n"
     ]
    }
   ],
   "source": [
    "fruits = {\"mango\": 2.3, \"strawberry\": 3.5, \"melon\": 2.4}\n",
    "name = input(\"Enter fruit:\")\n",
    "quantity = float(input(\"Enter quantity:\"))\n",
    "price = fruits.get(name, None)\n",
    "if price is not None:\n",
    "    print(\"Total price:\", price * quantity)\n",
    "else:\n",
    "    print(\"Unregistered fruit:\", name)"
   ]
  },
  {
   "cell_type": "markdown",
   "id": "d6886949",
   "metadata": {},
   "source": [
    "**Exercise**. Enter the amount of RMB from a person and the currency to convert.\n",
    "Print the converted amount.\n",
    "The exchange rate for each currency and its symbol (for the result) should be stored in a dictionary."
   ]
  },
  {
   "cell_type": "code",
   "execution_count": 34,
   "id": "eb0ec03c",
   "metadata": {},
   "outputs": [
    {
     "name": "stdin",
     "output_type": "stream",
     "text": [
      "Enter RMB amount: 5\n",
      "Enter destination currency (eur, cup, usd): usd\n"
     ]
    },
    {
     "name": "stdout",
     "output_type": "stream",
     "text": [
      "The result is 0.6578947368421053 $\n"
     ]
    }
   ],
   "source": [
    "rates = {\n",
    "    \"eur\": {\"rate\": 8.2, \"symbol\": \"€\"},\n",
    "    \"cup\": {\"rate\": 0.3, \"symbol\": \"₱\"},\n",
    "    \"usd\": {\"rate\": 7.6, \"symbol\": \"$\"}\n",
    "}\n",
    "\n",
    "rmb = float(input(\"Enter RMB amount:\"))\n",
    "currency = input(\"Enter destination currency (eur, cup, usd):\")\n",
    "rate = rates.get(currency.lower(), None)\n",
    "if rate is not None:\n",
    "    converted = rmb / rate['rate']\n",
    "    print(\"The result is\", converted, rate['symbol'])\n",
    "else:\n",
    "    print(\"Invalid currency:\", currency)"
   ]
  },
  {
   "cell_type": "markdown",
   "id": "8e859d32",
   "metadata": {},
   "source": [
    "**Exercise**. Write a program that creates an empty dictionary and gradually fills it with information about a person (such as name, age, gender, phone number, email, etc.) prompted from the user. The input format should be <name>=<value> (e.g., age=24). Each time a new data is added, the contents of the dictionary should be printed."
   ]
  },
  {
   "cell_type": "code",
   "execution_count": 35,
   "id": "681fabee",
   "metadata": {},
   "outputs": [
    {
     "name": "stdin",
     "output_type": "stream",
     "text": [
      "Enter property (<name>=<value>) Alejandro\n"
     ]
    },
    {
     "name": "stdout",
     "output_type": "stream",
     "text": [
      "Incorrect format, should be <name>=<value>\n"
     ]
    },
    {
     "name": "stdin",
     "output_type": "stream",
     "text": [
      "Enter property (<name>=<value>) Susana\n"
     ]
    },
    {
     "name": "stdout",
     "output_type": "stream",
     "text": [
      "Incorrect format, should be <name>=<value>\n"
     ]
    },
    {
     "name": "stdin",
     "output_type": "stream",
     "text": [
      "Enter property (<name>=<value>) Alejandro 10\n"
     ]
    },
    {
     "name": "stdout",
     "output_type": "stream",
     "text": [
      "Incorrect format, should be <name>=<value>\n"
     ]
    },
    {
     "name": "stdin",
     "output_type": "stream",
     "text": [
      "Enter property (<name>=<value>) Alejandro=10\n"
     ]
    },
    {
     "name": "stdout",
     "output_type": "stream",
     "text": [
      "{'Alejandro': '10'}\n"
     ]
    },
    {
     "name": "stdin",
     "output_type": "stream",
     "text": [
      "Enter property (<name>=<value>) susana=5\n"
     ]
    },
    {
     "name": "stdout",
     "output_type": "stream",
     "text": [
      "{'Alejandro': '10', 'susana': '5'}\n"
     ]
    },
    {
     "name": "stdin",
     "output_type": "stream",
     "text": [
      "Enter property (<name>=<value>) \n"
     ]
    },
    {
     "name": "stdout",
     "output_type": "stream",
     "text": [
      "Finished\n"
     ]
    }
   ],
   "source": [
    "d = {}\n",
    "finish = False\n",
    "while not finish:\n",
    "    info = input(\"Enter property (<name>=<value>)\")\n",
    "    if info == \"\":\n",
    "        finish = True\n",
    "        print(\"Finished\")\n",
    "    else:\n",
    "        comps = info.split(\"=\")\n",
    "        if len(comps) != 2:\n",
    "            print(\"Incorrect format, should be <name>=<value>\")\n",
    "        else:\n",
    "            d[comps[0].strip()] = comps[1].strip()\n",
    "            print(d)"
   ]
  },
  {
   "cell_type": "markdown",
   "id": "45bdaba1",
   "metadata": {},
   "source": [
    "The following lines load all the lines from an online dictionary"
   ]
  }
 ],
 "metadata": {
  "kernelspec": {
   "display_name": "Python 3 (ipykernel)",
   "language": "python",
   "name": "python3"
  },
  "language_info": {
   "codemirror_mode": {
    "name": "ipython",
    "version": 3
   },
   "file_extension": ".py",
   "mimetype": "text/x-python",
   "name": "python",
   "nbconvert_exporter": "python",
   "pygments_lexer": "ipython3",
   "version": "3.12.7"
  }
 },
 "nbformat": 4,
 "nbformat_minor": 5
}
