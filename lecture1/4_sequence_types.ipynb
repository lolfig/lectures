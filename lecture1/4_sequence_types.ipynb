{
 "cells": [
  {
   "cell_type": "markdown",
   "id": "324bb2f2",
   "metadata": {},
   "source": [
    "# Sequence types\n",
    "\n",
    "<a id='seq_sequence_types'></a>"
   ]
  },
  {
   "cell_type": "markdown",
   "id": "92566a65",
   "metadata": {},
   "source": [
    "En Python, los tipos de secuencia son tipos de datos que representan una secuencia o un conjunto ordenado de elementos. Los tres tipos de secuencia integrados principales en Python son las tuplas, las cadenas y las listas.\n",
    "\n",
    "Todas las secuencias son de base cero."
   ]
  },
  {
   "cell_type": "markdown",
   "id": "bd04dd18",
   "metadata": {},
   "source": [
    "## Tuples\n",
    "Una tupla es una secuencia heterogénea ordenada e inmutable. Se inicializan con valores separados por comas."
   ]
  },
  {
   "cell_type": "code",
   "execution_count": 1,
   "id": "b0fe4c18",
   "metadata": {},
   "outputs": [
    {
     "data": {
      "text/plain": [
       "(1, 'Hello', 3.14, True)"
      ]
     },
     "execution_count": 1,
     "metadata": {},
     "output_type": "execute_result"
    }
   ],
   "source": [
    "my_tuple = 1, 'Hello', 3.14, True\n",
    "my_tuple"
   ]
  },
  {
   "cell_type": "markdown",
   "id": "066f5174",
   "metadata": {},
   "source": [
    "El uso de paréntesis puede mejorar la legibilidad."
   ]
  },
  {
   "cell_type": "code",
   "execution_count": 2,
   "id": "d656ca0f",
   "metadata": {},
   "outputs": [
    {
     "data": {
      "text/plain": [
       "(False, 4, 'things')"
      ]
     },
     "execution_count": 2,
     "metadata": {},
     "output_type": "execute_result"
    }
   ],
   "source": [
    "other_tuple = (False, 4, \"things\")\n",
    "other_tuple"
   ]
  },
  {
   "cell_type": "markdown",
   "id": "93bf7771",
   "metadata": {},
   "source": [
    "Los paréntesis son obligatorios para tuplas vacías de tuplas de un solo elemento."
   ]
  },
  {
   "cell_type": "code",
   "execution_count": 3,
   "id": "c5184ea5",
   "metadata": {},
   "outputs": [
    {
     "data": {
      "text/plain": [
       "()"
      ]
     },
     "execution_count": 3,
     "metadata": {},
     "output_type": "execute_result"
    }
   ],
   "source": [
    "empty_tuple = ()\n",
    "empty_tuple"
   ]
  },
  {
   "cell_type": "markdown",
   "id": "690ab2a5",
   "metadata": {},
   "source": [
    "Una vez creadas, las tuplas no se pueden modificar (inmutabilidad)"
   ]
  },
  {
   "cell_type": "code",
   "execution_count": 6,
   "id": "fe2e239e",
   "metadata": {},
   "outputs": [
    {
     "name": "stdout",
     "output_type": "stream",
     "text": [
      "(2,) <class 'tuple'>\n"
     ]
    }
   ],
   "source": [
    "one_element = (2, )\n",
    "print(one_element, type(one_element))"
   ]
  },
  {
   "cell_type": "code",
   "execution_count": 7,
   "id": "615064cb",
   "metadata": {},
   "outputs": [
    {
     "name": "stdout",
     "output_type": "stream",
     "text": [
      "2 <class 'int'>\n"
     ]
    }
   ],
   "source": [
    "not_tuple = (2)\n",
    "print(not_tuple, type(not_tuple))"
   ]
  },
  {
   "cell_type": "markdown",
   "id": "264c9b1e",
   "metadata": {},
   "source": [
    "En todas las secuencias, se accede a los elementos individuales mediante corchetes."
   ]
  },
  {
   "cell_type": "code",
   "execution_count": 8,
   "id": "876c2e4c",
   "metadata": {},
   "outputs": [
    {
     "name": "stdout",
     "output_type": "stream",
     "text": [
      "Hello\n"
     ]
    }
   ],
   "source": [
    "my_tuple = 1, 'Hello', 3.14, True\n",
    "print(my_tuple[1])"
   ]
  },
  {
   "cell_type": "markdown",
   "id": "f9fd114c",
   "metadata": {},
   "source": [
    "Las tuplas son inmutables"
   ]
  },
  {
   "cell_type": "code",
   "execution_count": 9,
   "id": "9bcbbb8b",
   "metadata": {},
   "outputs": [
    {
     "ename": "TypeError",
     "evalue": "'tuple' object does not support item assignment",
     "output_type": "error",
     "traceback": [
      "\u001b[0;31m---------------------------------------------------------------------------\u001b[0m",
      "\u001b[0;31mTypeError\u001b[0m                                 Traceback (most recent call last)",
      "Cell \u001b[0;32mIn[9], line 1\u001b[0m\n\u001b[0;32m----> 1\u001b[0m my_tuple[\u001b[38;5;241m2\u001b[39m] \u001b[38;5;241m=\u001b[39m \u001b[38;5;241m12\u001b[39m\n",
      "\u001b[0;31mTypeError\u001b[0m: 'tuple' object does not support item assignment"
     ]
    }
   ],
   "source": [
    "my_tuple[2] = 12"
   ]
  },
  {
   "cell_type": "markdown",
   "id": "a0b106d9",
   "metadata": {},
   "source": [
    "## Strings\n",
    "Las cadenas son secuencias inmutables de caracteres.\n",
    "- Las cadenas se definen entre comillas simples (') o dobles (\") alrededor del texto.\n",
    "- Se puede acceder a los caracteres mediante números de índice.\n",
    "- Hay disponibles diversas operaciones y métodos con cadenas."
   ]
  },
  {
   "cell_type": "code",
   "execution_count": 10,
   "id": "0509533b",
   "metadata": {},
   "outputs": [
    {
     "data": {
      "text/plain": [
       "'Hello, World!'"
      ]
     },
     "execution_count": 10,
     "metadata": {},
     "output_type": "execute_result"
    }
   ],
   "source": [
    "my_string = \"Hello, World!\"\n",
    "my_string"
   ]
  },
  {
   "cell_type": "markdown",
   "id": "13f6fd62",
   "metadata": {},
   "source": [
    "Las cadenas también son inmutables, por lo que una vez creadas no es posible modificarlas."
   ]
  },
  {
   "cell_type": "code",
   "execution_count": 11,
   "id": "a2b3942b",
   "metadata": {},
   "outputs": [
    {
     "ename": "TypeError",
     "evalue": "'str' object does not support item assignment",
     "output_type": "error",
     "traceback": [
      "\u001b[0;31m---------------------------------------------------------------------------\u001b[0m",
      "\u001b[0;31mTypeError\u001b[0m                                 Traceback (most recent call last)",
      "Cell \u001b[0;32mIn[11], line 1\u001b[0m\n\u001b[0;32m----> 1\u001b[0m my_string[\u001b[38;5;241m2\u001b[39m] \u001b[38;5;241m=\u001b[39m \u001b[38;5;124m'\u001b[39m\u001b[38;5;124ma\u001b[39m\u001b[38;5;124m'\u001b[39m\n",
      "\u001b[0;31mTypeError\u001b[0m: 'str' object does not support item assignment"
     ]
    }
   ],
   "source": [
    "my_string[2] = 'a'"
   ]
  },
  {
   "cell_type": "markdown",
   "id": "41d9a101",
   "metadata": {},
   "source": [
    "## Lists\n",
    "\n",
    "Las listas son secuencias mutables de valores heterogéneos.\n",
    "- Los elementos se pueden modificar después de su creación.\n",
    "- Las listas se definen mediante corchetes [] y pueden contener elementos de diferentes tipos de datos.\n",
    "- Los elementos de una lista están ordenados y se puede acceder a ellos mediante un índice.\n",
    "- Las listas admiten diversas operaciones, como añadir, eliminar o modificar elementos."
   ]
  },
  {
   "cell_type": "code",
   "execution_count": 12,
   "id": "6e014d91",
   "metadata": {},
   "outputs": [
    {
     "data": {
      "text/plain": [
       "[1, 'Hello', 3.14, True]"
      ]
     },
     "execution_count": 12,
     "metadata": {},
     "output_type": "execute_result"
    }
   ],
   "source": [
    "my_list = [1, 'Hello', 3.14, True]\n",
    "my_list"
   ]
  },
  {
   "cell_type": "markdown",
   "id": "4afe7515",
   "metadata": {},
   "source": [
    "Las listas son mutables"
   ]
  },
  {
   "cell_type": "code",
   "execution_count": 13,
   "id": "fb03a446",
   "metadata": {},
   "outputs": [
    {
     "data": {
      "text/plain": [
       "[1, 'Hello', 'Buddy', True]"
      ]
     },
     "execution_count": 13,
     "metadata": {},
     "output_type": "execute_result"
    }
   ],
   "source": [
    "my_list[2] = \"Buddy\"\n",
    "my_list"
   ]
  },
  {
   "cell_type": "markdown",
   "id": "13eef1c7",
   "metadata": {},
   "source": [
    "#### Common operations on sequences\n",
    "\n",
    "Acceso a elementos mediante corchetes ([]) con indexación basada en 0"
   ]
  },
  {
   "cell_type": "code",
   "execution_count": 14,
   "id": "7f8564cd",
   "metadata": {},
   "outputs": [
    {
     "name": "stdout",
     "output_type": "stream",
     "text": [
      "15\n",
      "l\n",
      "False\n"
     ]
    }
   ],
   "source": [
    "t = (15, 'Hello', 3.14, True)\n",
    "s = \"Hello worlds!\"\n",
    "l = [1, False, 'Ouch']\n",
    "\n",
    "print(t[0])\n",
    "print(s[2])\n",
    "print(l[1])"
   ]
  },
  {
   "cell_type": "markdown",
   "id": "4c2370c2",
   "metadata": {},
   "source": [
    "Consultar la longitud de la secuencia usando _len_"
   ]
  },
  {
   "cell_type": "code",
   "execution_count": 18,
   "id": "9aea5990",
   "metadata": {},
   "outputs": [
    {
     "name": "stdout",
     "output_type": "stream",
     "text": [
      "4\n",
      "13\n",
      "3\n"
     ]
    }
   ],
   "source": [
    "print(len(t))\n",
    "print(len(s))\n",
    "print(len(l))"
   ]
  },
  {
   "cell_type": "markdown",
   "id": "4b32d13e",
   "metadata": {},
   "source": [
    "Puedes mezclar secuencias en cualquier número de niveles."
   ]
  },
  {
   "cell_type": "code",
   "execution_count": 19,
   "id": "5dcb8d42",
   "metadata": {},
   "outputs": [
    {
     "name": "stdout",
     "output_type": "stream",
     "text": [
      "<class 'list'>\n",
      "3\n"
     ]
    }
   ],
   "source": [
    "mix = [2, (True, 4, 'cat', 3.245), 'Hello']\n",
    "print(type(mix))\n",
    "print(len(mix))"
   ]
  },
  {
   "cell_type": "code",
   "execution_count": 20,
   "id": "95b51a47",
   "metadata": {},
   "outputs": [
    {
     "name": "stdout",
     "output_type": "stream",
     "text": [
      "(True, 4, 'cat', 3.245)\n",
      "<class 'tuple'>\n",
      "4\n"
     ]
    }
   ],
   "source": [
    "print(mix[1])\n",
    "print(type(mix[1]))\n",
    "print(len(mix[1]))"
   ]
  },
  {
   "cell_type": "code",
   "execution_count": 21,
   "id": "aa18f972",
   "metadata": {},
   "outputs": [
    {
     "name": "stdout",
     "output_type": "stream",
     "text": [
      "cat\n",
      "<class 'str'>\n"
     ]
    }
   ],
   "source": [
    "print(mix[1][2])\n",
    "print(type(mix[1][2]))"
   ]
  },
  {
   "cell_type": "markdown",
   "id": "b1dadc0a",
   "metadata": {},
   "source": [
    "Los índices negativos se utilizan para acceder a los elementos de la secuencia en orden inverso, comenzando desde el final:\n",
    "- El índice -1 corresponde al último elemento, -2 al penúltimo, y así sucesivamente.\n",
    "- Los índices negativos son especialmente útiles cuando se desea acceder a los elementos del final de una secuencia sin conocer su longitud."
   ]
  },
  {
   "cell_type": "code",
   "execution_count": 22,
   "id": "6c6dc276",
   "metadata": {},
   "outputs": [
    {
     "name": "stdout",
     "output_type": "stream",
     "text": [
      "8\n",
      "7\n",
      "6\n"
     ]
    }
   ],
   "source": [
    "l = [1, 2, 3, 4, 5, 6, 7, 8]\n",
    "\n",
    "print(l[-1])\n",
    "\n",
    "print(l[-2])\n",
    "\n",
    "print(l[-3])"
   ]
  },
  {
   "cell_type": "markdown",
   "id": "24f9367c",
   "metadata": {},
   "source": [
    "La segmentación de secuencias en Python permite extraer una parte o una subsecuencia de una secuencia, como una lista, una tupla o una cadena. La segmentación se realiza mediante la notación de corchetes con un índice inicial, un índice final y un valor de paso opcional.\n",
    "\n",
    "Sintaxis básica:\n",
    "- La sintaxis para la segmentación es secuencia[inicio:fin:paso].\n",
    "- El índice inicial es inclusivo (incluido en la segmentación) y el índice final es exclusivo (no incluido en la segmentación).\n",
    "- El valor de paso especifica el incremento entre índices. Es opcional y, si no se proporciona, su valor predeterminado es 1."
   ]
  },
  {
   "cell_type": "code",
   "execution_count": 37,
   "id": "c0ad4f88",
   "metadata": {},
   "outputs": [
    {
     "name": "stdout",
     "output_type": "stream",
     "text": [
      "['tiger', 'giraffe']\n"
     ]
    }
   ],
   "source": [
    "animals = [\"lion\", \"elephant\", \"tiger\", \"giraffe\", \"zebra\", \"monkey\", \"panda\", \"koala\"]\n",
    "print(animals[2:4])"
   ]
  },
  {
   "cell_type": "markdown",
   "id": "97978602",
   "metadata": {},
   "source": [
    "Si falta el índice de inicio, se toma el segmento desde el principio"
   ]
  },
  {
   "cell_type": "code",
   "execution_count": 35,
   "id": "cb794729",
   "metadata": {},
   "outputs": [
    {
     "name": "stdout",
     "output_type": "stream",
     "text": [
      "['lion', 'elephant', 'tiger', 'giraffe', 'zebra']\n"
     ]
    }
   ],
   "source": [
    "print(animals[:5])"
   ]
  },
  {
   "cell_type": "markdown",
   "id": "09e16b32",
   "metadata": {},
   "source": [
    "Si falta el índice de parada, se rebana hasta el último elemento"
   ]
  },
  {
   "cell_type": "code",
   "execution_count": 36,
   "id": "061dc54a",
   "metadata": {},
   "outputs": [
    {
     "name": "stdout",
     "output_type": "stream",
     "text": [
      "['giraffe', 'zebra', 'monkey', 'panda', 'koala']\n"
     ]
    }
   ],
   "source": [
    "print(animals[3:])"
   ]
  },
  {
   "cell_type": "markdown",
   "id": "57ce2681",
   "metadata": {},
   "source": [
    "Si los índices de inicio y fin están vacíos, se crea una copia de la lista"
   ]
  },
  {
   "cell_type": "code",
   "execution_count": 38,
   "id": "de6796e9",
   "metadata": {},
   "outputs": [
    {
     "data": {
      "text/plain": [
       "['lion', 'elephant', 'tiger', 'giraffe', 'zebra', 'monkey', 'panda', 'koala']"
      ]
     },
     "execution_count": 38,
     "metadata": {},
     "output_type": "execute_result"
    }
   ],
   "source": [
    "animal_copy = animals[:]\n",
    "animal_copy"
   ]
  },
  {
   "cell_type": "markdown",
   "id": "3305c668",
   "metadata": {},
   "source": [
    "[:] crea un nuevo objeto con todos los elementos incluidos"
   ]
  },
  {
   "cell_type": "code",
   "execution_count": 40,
   "id": "fd02ec82",
   "metadata": {},
   "outputs": [
    {
     "name": "stdout",
     "output_type": "stream",
     "text": [
      "True\n",
      "False\n"
     ]
    }
   ],
   "source": [
    "print(animals == animal_copy)\n",
    "\n",
    "print(animals is animal_copy)"
   ]
  },
  {
   "cell_type": "markdown",
   "id": "ebff23a1",
   "metadata": {},
   "source": [
    "Se pueden utilizar índices negativos en sectores."
   ]
  },
  {
   "cell_type": "code",
   "execution_count": 26,
   "id": "7ea5432e",
   "metadata": {},
   "outputs": [
    {
     "data": {
      "text/plain": [
       "['lion', 'elephant', 'tiger', 'giraffe', 'zebra', 'monkey', 'panda', 'koala']"
      ]
     },
     "execution_count": 26,
     "metadata": {},
     "output_type": "execute_result"
    }
   ],
   "source": [
    "animals"
   ]
  },
  {
   "cell_type": "code",
   "execution_count": 41,
   "id": "a302f34a",
   "metadata": {},
   "outputs": [
    {
     "data": {
      "text/plain": [
       "['tiger', 'giraffe', 'zebra', 'monkey']"
      ]
     },
     "execution_count": 41,
     "metadata": {},
     "output_type": "execute_result"
    }
   ],
   "source": [
    "animals[2:-2]"
   ]
  },
  {
   "cell_type": "markdown",
   "id": "fcd20881",
   "metadata": {},
   "source": [
    "El valor del paso especifica el incremento entre índices."
   ]
  },
  {
   "cell_type": "code",
   "execution_count": 42,
   "id": "9c98a727",
   "metadata": {},
   "outputs": [
    {
     "data": {
      "text/plain": [
       "['lion', 'elephant', 'tiger', 'giraffe', 'zebra', 'monkey', 'panda', 'koala']"
      ]
     },
     "execution_count": 42,
     "metadata": {},
     "output_type": "execute_result"
    }
   ],
   "source": [
    "animals"
   ]
  },
  {
   "cell_type": "code",
   "execution_count": 47,
   "id": "975613a7",
   "metadata": {},
   "outputs": [
    {
     "data": {
      "text/plain": [
       "['elephant', 'zebra', 'koala']"
      ]
     },
     "execution_count": 47,
     "metadata": {},
     "output_type": "execute_result"
    }
   ],
   "source": [
    "animals[::3]"
   ]
  },
  {
   "cell_type": "code",
   "execution_count": 46,
   "id": "26845722",
   "metadata": {},
   "outputs": [
    {
     "data": {
      "text/plain": [
       "['elephant', 'giraffe', 'monkey', 'koala']"
      ]
     },
     "execution_count": 46,
     "metadata": {},
     "output_type": "execute_result"
    }
   ],
   "source": [
    "animals[1::2]"
   ]
  },
  {
   "cell_type": "markdown",
   "id": "52cfa9c7",
   "metadata": {},
   "source": [
    "Si el paso es negativo, los elementos se invierten."
   ]
  },
  {
   "cell_type": "code",
   "execution_count": 31,
   "id": "e2e6dce7",
   "metadata": {},
   "outputs": [
    {
     "data": {
      "text/plain": [
       "['lion', 'elephant', 'tiger', 'giraffe', 'zebra', 'monkey', 'panda', 'koala']"
      ]
     },
     "execution_count": 31,
     "metadata": {},
     "output_type": "execute_result"
    }
   ],
   "source": [
    "animals"
   ]
  },
  {
   "cell_type": "code",
   "execution_count": 32,
   "id": "a835196f",
   "metadata": {},
   "outputs": [
    {
     "data": {
      "text/plain": [
       "['koala', 'panda', 'monkey', 'zebra', 'giraffe', 'tiger', 'elephant', 'lion']"
      ]
     },
     "execution_count": 32,
     "metadata": {},
     "output_type": "execute_result"
    }
   ],
   "source": [
    "animals[::-1]"
   ]
  },
  {
   "cell_type": "code",
   "execution_count": 33,
   "id": "c5cfe1ad",
   "metadata": {},
   "outputs": [
    {
     "data": {
      "text/plain": [
       "['panda', 'zebra', 'tiger', 'lion']"
      ]
     },
     "execution_count": 33,
     "metadata": {},
     "output_type": "execute_result"
    }
   ],
   "source": [
    "animals[-2::-2]"
   ]
  },
  {
   "cell_type": "markdown",
   "id": "585428f0",
   "metadata": {},
   "source": [
    "Operador **in** consulta si un elemento pertenece a una secuencia"
   ]
  },
  {
   "cell_type": "code",
   "execution_count": 48,
   "id": "aae9781b",
   "metadata": {},
   "outputs": [
    {
     "data": {
      "text/plain": [
       "True"
      ]
     },
     "execution_count": 48,
     "metadata": {},
     "output_type": "execute_result"
    }
   ],
   "source": [
    "2 in (1, 2, 3, 4)"
   ]
  },
  {
   "cell_type": "code",
   "execution_count": 49,
   "id": "acf39ff0",
   "metadata": {},
   "outputs": [
    {
     "data": {
      "text/plain": [
       "False"
      ]
     },
     "execution_count": 49,
     "metadata": {},
     "output_type": "execute_result"
    }
   ],
   "source": [
    "3.14 in [1, 2, 3, 4]"
   ]
  },
  {
   "cell_type": "markdown",
   "id": "1ec8360e",
   "metadata": {},
   "source": [
    "En el caso de cadenas, se buscan subcadenas."
   ]
  },
  {
   "cell_type": "code",
   "execution_count": 51,
   "id": "9258fa10",
   "metadata": {},
   "outputs": [
    {
     "data": {
      "text/plain": [
       "True"
      ]
     },
     "execution_count": 51,
     "metadata": {},
     "output_type": "execute_result"
    }
   ],
   "source": [
    "\"wor\" in \"Hello world!\""
   ]
  },
  {
   "cell_type": "code",
   "execution_count": 54,
   "id": "f0b8dc8e",
   "metadata": {},
   "outputs": [
    {
     "data": {
      "text/plain": [
       "False"
      ]
     },
     "execution_count": 54,
     "metadata": {},
     "output_type": "execute_result"
    }
   ],
   "source": [
    "\"hello\" in \"Hello world!\""
   ]
  },
  {
   "cell_type": "markdown",
   "id": "c5e64392",
   "metadata": {},
   "source": [
    "Se pueden utilizar casos más complejos"
   ]
  },
  {
   "cell_type": "code",
   "execution_count": 55,
   "id": "5b5df065",
   "metadata": {},
   "outputs": [
    {
     "data": {
      "text/plain": [
       "True"
      ]
     },
     "execution_count": 55,
     "metadata": {},
     "output_type": "execute_result"
    }
   ],
   "source": [
    "(4, 5) in [2, 3, (4, 5), (6, (7, 8))]"
   ]
  },
  {
   "cell_type": "code",
   "execution_count": 61,
   "id": "e7de796a",
   "metadata": {},
   "outputs": [
    {
     "data": {
      "text/plain": [
       "False"
      ]
     },
     "execution_count": 61,
     "metadata": {},
     "output_type": "execute_result"
    }
   ],
   "source": [
    "7 in [2, 3, (4, 5), (6, (7, 8))]"
   ]
  },
  {
   "cell_type": "code",
   "execution_count": 64,
   "id": "ac95ed58-8da1-46b1-ab05-c0c6a1ad0c0a",
   "metadata": {},
   "outputs": [
    {
     "data": {
      "text/plain": [
       "2"
      ]
     },
     "execution_count": 64,
     "metadata": {},
     "output_type": "execute_result"
    }
   ],
   "source": [
    "len(list_exa[3][1])"
   ]
  },
  {
   "cell_type": "markdown",
   "id": "5c7bb377",
   "metadata": {},
   "source": [
    "El operador **+** se utiliza para concatenar o combinar secuencias. Sirve para concatenar dos o más secuencias, creando una nueva secuencia que contiene los elementos de ambos operandos en el orden en que aparecen."
   ]
  },
  {
   "cell_type": "code",
   "execution_count": 65,
   "id": "f473eb0d",
   "metadata": {},
   "outputs": [
    {
     "data": {
      "text/plain": [
       "[1, 2, 3, 4, 5, 6]"
      ]
     },
     "execution_count": 65,
     "metadata": {},
     "output_type": "execute_result"
    }
   ],
   "source": [
    "[1, 2, 3] + [4, 5, 6]"
   ]
  },
  {
   "cell_type": "code",
   "execution_count": 66,
   "id": "dd61283c",
   "metadata": {},
   "outputs": [
    {
     "data": {
      "text/plain": [
       "('a', 'b', 'c', 'd')"
      ]
     },
     "execution_count": 66,
     "metadata": {},
     "output_type": "execute_result"
    }
   ],
   "source": [
    "('a', 'b') + ('c', 'd')"
   ]
  },
  {
   "cell_type": "code",
   "execution_count": 67,
   "id": "9399f505",
   "metadata": {},
   "outputs": [
    {
     "data": {
      "text/plain": [
       "'Hello world!'"
      ]
     },
     "execution_count": 67,
     "metadata": {},
     "output_type": "execute_result"
    }
   ],
   "source": [
    "\"Hello \"+\"world!\""
   ]
  },
  {
   "cell_type": "markdown",
   "id": "2d690b2a",
   "metadata": {},
   "source": [
    "Sólo se pueden concatenar secuencias del mismo tipo"
   ]
  },
  {
   "cell_type": "code",
   "execution_count": 69,
   "id": "a3aa6294",
   "metadata": {},
   "outputs": [
    {
     "ename": "TypeError",
     "evalue": "can only concatenate list (not \"tuple\") to list",
     "output_type": "error",
     "traceback": [
      "\u001b[0;31m---------------------------------------------------------------------------\u001b[0m",
      "\u001b[0;31mTypeError\u001b[0m                                 Traceback (most recent call last)",
      "Cell \u001b[0;32mIn[69], line 1\u001b[0m\n\u001b[0;32m----> 1\u001b[0m [\u001b[38;5;241m1\u001b[39m,\u001b[38;5;241m2\u001b[39m]\u001b[38;5;241m+\u001b[39m(\u001b[38;5;241m3\u001b[39m,\u001b[38;5;241m4\u001b[39m)\n",
      "\u001b[0;31mTypeError\u001b[0m: can only concatenate list (not \"tuple\") to list"
     ]
    }
   ],
   "source": [
    "[1,2]+(3,4)"
   ]
  },
  {
   "cell_type": "markdown",
   "id": "1129318b",
   "metadata": {},
   "source": [
    "El método _index_ devuelve la posición de un elemento"
   ]
  },
  {
   "cell_type": "code",
   "execution_count": 71,
   "id": "42f1e7f4",
   "metadata": {},
   "outputs": [
    {
     "data": {
      "text/plain": [
       "1"
      ]
     },
     "execution_count": 71,
     "metadata": {},
     "output_type": "execute_result"
    }
   ],
   "source": [
    "(3, 5, 6, 4).index(5)"
   ]
  },
  {
   "cell_type": "code",
   "execution_count": 72,
   "id": "29689a80",
   "metadata": {},
   "outputs": [
    {
     "ename": "ValueError",
     "evalue": "tuple.index(x): x not in tuple",
     "output_type": "error",
     "traceback": [
      "\u001b[0;31m---------------------------------------------------------------------------\u001b[0m",
      "\u001b[0;31mValueError\u001b[0m                                Traceback (most recent call last)",
      "Cell \u001b[0;32mIn[72], line 1\u001b[0m\n\u001b[0;32m----> 1\u001b[0m (\u001b[38;5;241m3\u001b[39m, \u001b[38;5;241m4\u001b[39m, \u001b[38;5;241m5\u001b[39m, \u001b[38;5;241m6\u001b[39m)\u001b[38;5;241m.\u001b[39mindex(\u001b[38;5;241m8\u001b[39m)\n",
      "\u001b[0;31mValueError\u001b[0m: tuple.index(x): x not in tuple"
     ]
    }
   ],
   "source": [
    "(3, 4, 5, 6).index(8)"
   ]
  },
  {
   "cell_type": "markdown",
   "id": "6060ebea",
   "metadata": {},
   "source": [
    "En Python, las excepciones se utilizan como recursos regulares en el código, no solo para informar condiciones anómalas."
   ]
  },
  {
   "cell_type": "code",
   "execution_count": 75,
   "id": "2f1a1dfd",
   "metadata": {},
   "outputs": [
    {
     "name": "stdout",
     "output_type": "stream",
     "text": [
      "not here!\n"
     ]
    }
   ],
   "source": [
    "# C++ like code\n",
    "my_tuple = (3, 4, 5, 6)\n",
    "if 8 in my_tuple:\n",
    "    print(my_tuple.index(6))\n",
    "else:\n",
    "    print(\"not here!\")"
   ]
  },
  {
   "cell_type": "code",
   "execution_count": 79,
   "id": "c2ffabaf",
   "metadata": {},
   "outputs": [
    {
     "name": "stdout",
     "output_type": "stream",
     "text": [
      "not there!\n"
     ]
    }
   ],
   "source": [
    "# pythonic code\n",
    "try:\n",
    "    print(my_tuple.index(8))\n",
    "except ValueError:\n",
    "    print('not there!')"
   ]
  },
  {
   "cell_type": "markdown",
   "id": "c0b3ad52",
   "metadata": {},
   "source": [
    "Las listas tienen operadores adicionales"
   ]
  },
  {
   "cell_type": "code",
   "execution_count": 80,
   "id": "478e5c63",
   "metadata": {},
   "outputs": [
    {
     "data": {
      "text/plain": [
       "['a', 'b', 'c', 'd']"
      ]
     },
     "execution_count": 80,
     "metadata": {},
     "output_type": "execute_result"
    }
   ],
   "source": [
    "l = ['a', 'b', 'c']\n",
    "l.append('d')\n",
    "l"
   ]
  },
  {
   "cell_type": "code",
   "execution_count": 82,
   "id": "4a67fc10",
   "metadata": {},
   "outputs": [
    {
     "data": {
      "text/plain": [
       "['a', 'qq', 'b', 'c', 'd']"
      ]
     },
     "execution_count": 82,
     "metadata": {},
     "output_type": "execute_result"
    }
   ],
   "source": [
    "l.insert(1, 'qq')\n",
    "l"
   ]
  },
  {
   "cell_type": "code",
   "execution_count": 83,
   "id": "eac21cac",
   "metadata": {},
   "outputs": [
    {
     "data": {
      "text/plain": [
       "['a', 'qq', 'b', 'c', 'd', 3, 4, 5]"
      ]
     },
     "execution_count": 83,
     "metadata": {},
     "output_type": "execute_result"
    }
   ],
   "source": [
    "l.extend([3, 4, 5])\n",
    "l"
   ]
  },
  {
   "cell_type": "code",
   "execution_count": 57,
   "id": "f0746fc8",
   "metadata": {},
   "outputs": [
    {
     "data": {
      "text/plain": [
       "['a', 'b', 'c', [3, 4, 5]]"
      ]
     },
     "execution_count": 57,
     "metadata": {},
     "output_type": "execute_result"
    }
   ],
   "source": [
    "# Be carefull!\n",
    "l = ['a', 'b', 'c']\n",
    "l.append([3, 4, 5])\n",
    "l"
   ]
  },
  {
   "cell_type": "code",
   "execution_count": 84,
   "id": "46c10e38",
   "metadata": {},
   "outputs": [
    {
     "data": {
      "text/plain": [
       "3"
      ]
     },
     "execution_count": 84,
     "metadata": {},
     "output_type": "execute_result"
    }
   ],
   "source": [
    "l = [1, 2, 3, 4, 4, 2, 1, 3, 1, 2]\n",
    "l.count(2)"
   ]
  },
  {
   "cell_type": "code",
   "execution_count": 85,
   "id": "e024b146",
   "metadata": {},
   "outputs": [
    {
     "data": {
      "text/plain": [
       "[1, 2, 3, 4, 2, 1, 3, 1, 2]"
      ]
     },
     "execution_count": 85,
     "metadata": {},
     "output_type": "execute_result"
    }
   ],
   "source": [
    "l.remove(4)\n",
    "l"
   ]
  },
  {
   "cell_type": "code",
   "execution_count": 86,
   "id": "980d7208",
   "metadata": {},
   "outputs": [
    {
     "data": {
      "text/plain": [
       "[6, 5, 4, 3, 2, 1]"
      ]
     },
     "execution_count": 86,
     "metadata": {},
     "output_type": "execute_result"
    }
   ],
   "source": [
    "l = [1, 2, 3, 4, 5, 6]\n",
    "l.reverse()\n",
    "l"
   ]
  },
  {
   "cell_type": "code",
   "execution_count": 61,
   "id": "b4247768",
   "metadata": {},
   "outputs": [
    {
     "data": {
      "text/plain": [
       "[2, 3, 4, 5, 6, 9]"
      ]
     },
     "execution_count": 61,
     "metadata": {},
     "output_type": "execute_result"
    }
   ],
   "source": [
    "l = [3, 6, 9, 2, 4, 5]\n",
    "l.sort()\n",
    "l"
   ]
  },
  {
   "cell_type": "markdown",
   "id": "4cf1fba3",
   "metadata": {},
   "source": [
    "## Diferencias entre tuplas y listas:\n",
    "- Mutabilidad: Las tuplas son inmutables. Las listas, en cambio, sí lo son.\n",
    "- Uso:\n",
    "    - Las tuplas se suelen usar para agrupar datos relacionados cuando el orden de los elementos es importante. Por ejemplo, coordenadas (x, y) o información de una persona (nombre, edad, sexo).\n",
    "    - Las listas se usan comúnmente cuando se necesita una colección de elementos que se puedan modificar o ampliar. Son adecuadas para escenarios donde se pueden agregar o eliminar elementos dinámicamente.\n",
    "- Rendimiento:\n",
    "    - Las tuplas generalmente consumen menos memoria y son más rápidas de crear que las listas. Dado que las tuplas son inmutables, Python puede optimizar su almacenamiento y operaciones.\n",
    "    - Las listas, al ser mutables, requieren más memoria y pueden implicar una sobrecarga adicional al agregar, eliminar o modificar elementos.\n",
    "- Casos de uso:\n",
    "    - Las tuplas se suelen usar en situaciones donde la integridad de los datos es importante y se desea garantizar que los valores permanezcan inalterados. Son adecuadas para representar colecciones fijas de elementos relacionados. Las listas se usan comúnmente cuando se necesita almacenar y manipular una colección de datos que pueden cambiar con el tiempo. Ofrecen flexibilidad para agregar, eliminar o modificar elementos."
   ]
  },
  {
   "cell_type": "markdown",
   "id": "d5f57728",
   "metadata": {},
   "source": [
    "### Destructuring in Python\n",
    "\n",
    "La desestructuración, también conocida como desempaquetado, es una función de Python que permite extraer elementos individuales de secuencias y asignarlos a variables en una sola instrucción. Proporciona una forma cómoda de acceder y trabajar con los elementos de una colección."
   ]
  },
  {
   "cell_type": "code",
   "execution_count": 90,
   "id": "0d73a9cd",
   "metadata": {},
   "outputs": [
    {
     "name": "stdout",
     "output_type": "stream",
     "text": [
      "2\n",
      "3\n"
     ]
    }
   ],
   "source": [
    "my_tuple = (2, 3)  \n",
    "x, y = my_tuple\n",
    "print(x)\n",
    "print(y)"
   ]
  },
  {
   "cell_type": "markdown",
   "id": "cb960378",
   "metadata": {},
   "source": [
    "Si no hay suficientes elementos para desestructurar, se lanzará una excepción."
   ]
  },
  {
   "cell_type": "code",
   "execution_count": 93,
   "id": "0407c692",
   "metadata": {},
   "outputs": [
    {
     "ename": "ValueError",
     "evalue": "not enough values to unpack (expected 3, got 2)",
     "output_type": "error",
     "traceback": [
      "\u001b[0;31m---------------------------------------------------------------------------\u001b[0m",
      "\u001b[0;31mValueError\u001b[0m                                Traceback (most recent call last)",
      "Cell \u001b[0;32mIn[93], line 1\u001b[0m\n\u001b[0;32m----> 1\u001b[0m x,y,z \u001b[38;5;241m=\u001b[39m [\u001b[38;5;241m3\u001b[39m, \u001b[38;5;241m4\u001b[39m]\n",
      "\u001b[0;31mValueError\u001b[0m: not enough values to unpack (expected 3, got 2)"
     ]
    }
   ],
   "source": [
    "x,y,z = [3, 4]"
   ]
  },
  {
   "cell_type": "markdown",
   "id": "df2df996",
   "metadata": {},
   "source": [
    "Los valores se pueden ignorar utilizando guiones bajos: _"
   ]
  },
  {
   "cell_type": "code",
   "execution_count": 95,
   "id": "389ad38c",
   "metadata": {},
   "outputs": [
    {
     "name": "stdout",
     "output_type": "stream",
     "text": [
      "3 6\n"
     ]
    }
   ],
   "source": [
    "x, _, z = 3, 5, 6\n",
    "print(x, z)"
   ]
  },
  {
   "cell_type": "markdown",
   "id": "49aef38d",
   "metadata": {},
   "source": [
    "Para capturar colecciones de valores, puede utilizar el operador *"
   ]
  },
  {
   "cell_type": "code",
   "execution_count": 96,
   "id": "f223cd67",
   "metadata": {},
   "outputs": [
    {
     "name": "stdout",
     "output_type": "stream",
     "text": [
      "1\n",
      "[2, 3, 4, 5]\n"
     ]
    }
   ],
   "source": [
    "head, *tail = [1, 2, 3, 4, 5]\n",
    "print(head)\n",
    "print(tail)"
   ]
  },
  {
   "cell_type": "code",
   "execution_count": 66,
   "id": "b8dde2ba",
   "metadata": {},
   "outputs": [
    {
     "name": "stdout",
     "output_type": "stream",
     "text": [
      "[1, 2, 3, 4]\n",
      "5\n"
     ]
    }
   ],
   "source": [
    "*head, tail = [1, 2, 3, 4, 5]\n",
    "print(head)\n",
    "print(tail)"
   ]
  },
  {
   "cell_type": "code",
   "execution_count": 97,
   "id": "9f361374",
   "metadata": {},
   "outputs": [
    {
     "name": "stdout",
     "output_type": "stream",
     "text": [
      "1\n",
      "[2, 3, 4]\n",
      "5\n"
     ]
    }
   ],
   "source": [
    "head, *middle, tail = [1, 2, 3, 4, 5]\n",
    "print(head)\n",
    "print(middle)\n",
    "print(tail)"
   ]
  },
  {
   "cell_type": "code",
   "execution_count": 98,
   "id": "31e9b34c",
   "metadata": {},
   "outputs": [
    {
     "name": "stdout",
     "output_type": "stream",
     "text": [
      "1\n",
      "[3, 4, 5]\n",
      "6\n"
     ]
    }
   ],
   "source": [
    "# Cualquier combinación es posible, pero no puede aparecer más de un *\n",
    "x, _, *z, h = [1, 2, 3, 4, 5, 6]\n",
    "print(x)\n",
    "print(z)\n",
    "print(h)"
   ]
  },
  {
   "cell_type": "code",
   "execution_count": 102,
   "id": "327a6b77",
   "metadata": {},
   "outputs": [
    {
     "name": "stdout",
     "output_type": "stream",
     "text": [
      "3\n",
      "[]\n",
      "5\n"
     ]
    }
   ],
   "source": [
    "# La variable con * se puede asignar a la lista vacía\n",
    "x, *y, z = [3, 5]\n",
    "print(x)\n",
    "print(y)\n",
    "print(z)"
   ]
  },
  {
   "cell_type": "markdown",
   "id": "fab46012",
   "metadata": {},
   "source": [
    "## Solved Exercises"
   ]
  },
  {
   "cell_type": "markdown",
   "id": "eb26b056",
   "metadata": {},
   "source": [
    "**Exercise**. Create a list of tuples, where each tuple contains the data of a person: name, age, gender. Initialize the list with data of 3 people."
   ]
  },
  {
   "cell_type": "code",
   "execution_count": 71,
   "id": "5fac681c",
   "metadata": {},
   "outputs": [
    {
     "data": {
      "text/plain": [
       "[('Peter', 12, 'M'), ('Jane', 23, 'F'), ('Joseph', 16, 'M')]"
      ]
     },
     "execution_count": 71,
     "metadata": {},
     "output_type": "execute_result"
    }
   ],
   "source": [
    "persons = [(\"Peter\", 12, \"M\"), \n",
    "           (\"Jane\", 23, \"F\"), \n",
    "           (\"Joseph\", 16, \"M\")]\n",
    "persons\n"
   ]
  },
  {
   "cell_type": "markdown",
   "id": "1205ca46",
   "metadata": {},
   "source": [
    "a) Print the data of the last person"
   ]
  },
  {
   "cell_type": "code",
   "execution_count": 72,
   "id": "d0c8e234",
   "metadata": {},
   "outputs": [
    {
     "data": {
      "text/plain": [
       "('Joseph', 16, 'M')"
      ]
     },
     "execution_count": 72,
     "metadata": {},
     "output_type": "execute_result"
    }
   ],
   "source": [
    "persons[-1]"
   ]
  },
  {
   "cell_type": "markdown",
   "id": "51a4f8d6",
   "metadata": {},
   "source": [
    "b) Print the name of the second person"
   ]
  },
  {
   "cell_type": "code",
   "execution_count": 73,
   "id": "d9ac2798",
   "metadata": {},
   "outputs": [
    {
     "name": "stdout",
     "output_type": "stream",
     "text": [
      "Jane\n"
     ]
    }
   ],
   "source": [
    "print(persons[1][0])"
   ]
  },
  {
   "cell_type": "markdown",
   "id": "da2f6b6d",
   "metadata": {},
   "source": [
    "c) Print the data of a person given their name (input from the keyboard)"
   ]
  },
  {
   "cell_type": "code",
   "execution_count": 74,
   "id": "833cd563",
   "metadata": {},
   "outputs": [
    {
     "name": "stdin",
     "output_type": "stream",
     "text": [
      "Name:  Alejandro\n"
     ]
    }
   ],
   "source": [
    "name = input(\"Name: \")\n",
    "for idx in range(len(persons)):\n",
    "    if persons[idx][0] == name:\n",
    "        print(persons[idx])\n"
   ]
  },
  {
   "cell_type": "markdown",
   "id": "95a23f41",
   "metadata": {},
   "source": [
    "**Exercise**. From the following list:"
   ]
  },
  {
   "cell_type": "code",
   "execution_count": 75,
   "id": "894fe08e",
   "metadata": {},
   "outputs": [],
   "source": [
    "l = [3, 5, 6, 2, 4, 6, 7, 9, 12, 2, 3, 5]"
   ]
  },
  {
   "cell_type": "markdown",
   "id": "bd50f1a2",
   "metadata": {},
   "source": [
    "a) Print the odd numbers:"
   ]
  },
  {
   "cell_type": "code",
   "execution_count": 76,
   "id": "94f50069",
   "metadata": {},
   "outputs": [
    {
     "name": "stdout",
     "output_type": "stream",
     "text": [
      "6\n",
      "2\n",
      "4\n",
      "6\n",
      "12\n",
      "2\n"
     ]
    }
   ],
   "source": [
    "l = [3, 5, 6, 2, 4, 6, 7, 9, 12, 2, 3, 5]\n",
    "for v in l:\n",
    "    if v % 2 == 0:\n",
    "        print(v)"
   ]
  },
  {
   "cell_type": "markdown",
   "id": "14cb6cbd",
   "metadata": {},
   "source": [
    "b) Count odd numbers"
   ]
  },
  {
   "cell_type": "code",
   "execution_count": 77,
   "id": "f6a2f861",
   "metadata": {},
   "outputs": [
    {
     "name": "stdout",
     "output_type": "stream",
     "text": [
      "6\n"
     ]
    }
   ],
   "source": [
    "c = 0\n",
    "for v in l:\n",
    "    if v%2 == 1:\n",
    "        c += 1\n",
    "print(c)"
   ]
  },
  {
   "cell_type": "markdown",
   "id": "5317fad6",
   "metadata": {},
   "source": [
    "c) Add all the numbers"
   ]
  },
  {
   "cell_type": "code",
   "execution_count": 78,
   "id": "3ecd9bbd",
   "metadata": {},
   "outputs": [
    {
     "name": "stdout",
     "output_type": "stream",
     "text": [
      "64\n"
     ]
    }
   ],
   "source": [
    "s = 0\n",
    "for v in l:\n",
    "    s += v\n",
    "print(s)"
   ]
  },
  {
   "cell_type": "markdown",
   "id": "4ac91d78",
   "metadata": {},
   "source": [
    "**Exercise**. From the following list:"
   ]
  },
  {
   "cell_type": "code",
   "execution_count": 79,
   "id": "55fa429d",
   "metadata": {},
   "outputs": [],
   "source": [
    "m = [2, 3, -5, 3, 4, -2, -7, 4, 7]"
   ]
  },
  {
   "cell_type": "markdown",
   "id": "eea92ac9",
   "metadata": {},
   "source": [
    "a) Determine if the sum (of absolute values) of positive numbers is greater than negative numbers. Use two variables to store the sums."
   ]
  },
  {
   "cell_type": "code",
   "execution_count": 80,
   "id": "b11182fa",
   "metadata": {},
   "outputs": [
    {
     "name": "stdout",
     "output_type": "stream",
     "text": [
      "True\n"
     ]
    }
   ],
   "source": [
    "sum_pos, sum_neg = 0, 0\n",
    "for v in m:\n",
    "    if v > 0:\n",
    "        sum_pos += v\n",
    "    else:\n",
    "        sum_neg += abs(v)\n",
    "print(sum_pos > sum_neg)\n"
   ]
  },
  {
   "cell_type": "markdown",
   "id": "8e1f65b7",
   "metadata": {},
   "source": [
    "b) Create a new list with positive numbers"
   ]
  },
  {
   "cell_type": "code",
   "execution_count": 81,
   "id": "5851c52a",
   "metadata": {},
   "outputs": [
    {
     "name": "stdout",
     "output_type": "stream",
     "text": [
      "[2, 3, 3, 4, 4, 7]\n"
     ]
    }
   ],
   "source": [
    "l_pos = []\n",
    "for v in m:\n",
    "    if v > 0:\n",
    "        l_pos.append(v)\n",
    "print(l_pos)"
   ]
  },
  {
   "cell_type": "markdown",
   "id": "ae268ed4",
   "metadata": {},
   "source": [
    "**Exercise**. Given the following list"
   ]
  },
  {
   "cell_type": "code",
   "execution_count": 82,
   "id": "9bc785b2",
   "metadata": {},
   "outputs": [],
   "source": [
    "n = [3, 5, -9, 7, 5, 7, 8, -10, -1, 9, -6, -5, 0, 1, -6, -7, -8, -6, 9, -4]"
   ]
  },
  {
   "cell_type": "markdown",
   "id": "4ff50d55",
   "metadata": {},
   "source": [
    "a) Extract a list with the first 5 values"
   ]
  },
  {
   "cell_type": "code",
   "execution_count": 83,
   "id": "ac4de230",
   "metadata": {},
   "outputs": [
    {
     "name": "stdout",
     "output_type": "stream",
     "text": [
      "[3, 5, -9, 7, 5]\n"
     ]
    }
   ],
   "source": [
    "print(n[:5])"
   ]
  },
  {
   "cell_type": "markdown",
   "id": "fa6ab521",
   "metadata": {},
   "source": [
    "b) Extract a list with the last 5 values"
   ]
  },
  {
   "cell_type": "code",
   "execution_count": 84,
   "id": "d0dc0b2f",
   "metadata": {},
   "outputs": [
    {
     "name": "stdout",
     "output_type": "stream",
     "text": [
      "[-7, -8, -6, 9, -4]\n"
     ]
    }
   ],
   "source": [
    "print(n[-5:])"
   ]
  },
  {
   "cell_type": "markdown",
   "id": "20127a96",
   "metadata": {},
   "source": [
    "c) Extract a list with 5 intermediate values"
   ]
  },
  {
   "cell_type": "code",
   "execution_count": 85,
   "id": "717e0fce",
   "metadata": {},
   "outputs": [
    {
     "name": "stdout",
     "output_type": "stream",
     "text": [
      "[-1, 9, -6, -5, 0]\n"
     ]
    }
   ],
   "source": [
    "print(n[len(n)//2-2:len(n)//2+3])"
   ]
  },
  {
   "cell_type": "markdown",
   "id": "b8025fca",
   "metadata": {},
   "source": [
    "d) Extract a list with the values at even positions"
   ]
  },
  {
   "cell_type": "code",
   "execution_count": 86,
   "id": "0f0942e9",
   "metadata": {},
   "outputs": [
    {
     "name": "stdout",
     "output_type": "stream",
     "text": [
      "[3, -9, 5, 8, -1, -6, 0, -6, -8, 9]\n"
     ]
    }
   ],
   "source": [
    "print(n[::2])"
   ]
  },
  {
   "cell_type": "markdown",
   "id": "5680187a",
   "metadata": {},
   "source": [
    "e) Calculate the difference between the first half and second half of the values"
   ]
  },
  {
   "cell_type": "code",
   "execution_count": 87,
   "id": "eb7d9cb6",
   "metadata": {},
   "outputs": [
    {
     "name": "stdout",
     "output_type": "stream",
     "text": [
      "56\n"
     ]
    }
   ],
   "source": [
    "print(sum(n[:len(n)//2]) - sum(n[len(n)//2:]))"
   ]
  },
  {
   "cell_type": "markdown",
   "id": "f85af657",
   "metadata": {},
   "source": [
    "**Exercise**. Given the following list with integer values"
   ]
  },
  {
   "cell_type": "code",
   "execution_count": 88,
   "id": "c0110bbc",
   "metadata": {},
   "outputs": [],
   "source": [
    "l = [19, 5, 6, 16, 1, 2, 6, 7, 2, 4]"
   ]
  },
  {
   "cell_type": "markdown",
   "id": "f178e6c9",
   "metadata": {},
   "source": [
    "a) Create a new list with dupplicated values"
   ]
  },
  {
   "cell_type": "code",
   "execution_count": 89,
   "id": "47bd77d6",
   "metadata": {},
   "outputs": [
    {
     "name": "stdout",
     "output_type": "stream",
     "text": [
      "6\n",
      "2\n"
     ]
    }
   ],
   "source": [
    "l2 = []\n",
    "for idx in range(len(l)):\n",
    "    v = l[idx]\n",
    "    if v in l2:\n",
    "        print(v)\n",
    "    else:\n",
    "        l2.append(v)    "
   ]
  },
  {
   "cell_type": "markdown",
   "id": "ce325cae",
   "metadata": {},
   "source": [
    "b) Create a new list with the values between 0 and 20 that does not appear in the list."
   ]
  },
  {
   "cell_type": "code",
   "execution_count": 90,
   "id": "2f8dd565",
   "metadata": {},
   "outputs": [
    {
     "name": "stdout",
     "output_type": "stream",
     "text": [
      "[0, 3, 8, 9, 10, 11, 12, 13, 14, 15, 17, 18, 20]\n"
     ]
    }
   ],
   "source": [
    "l2 = []\n",
    "for idx in range(21):\n",
    "    if idx not in l:\n",
    "        l2.append(idx)\n",
    "print(l2)"
   ]
  },
  {
   "cell_type": "markdown",
   "id": "f1668c11",
   "metadata": {},
   "source": [
    "**Exercise**. Given the following string"
   ]
  },
  {
   "cell_type": "code",
   "execution_count": 91,
   "id": "a2ab4aed",
   "metadata": {},
   "outputs": [],
   "source": [
    "cad = \"Once upon a midnight dreary, while I pondered, weak and weary\""
   ]
  },
  {
   "cell_type": "markdown",
   "id": "d2dfc00b",
   "metadata": {},
   "source": [
    "a) Extract the first word"
   ]
  },
  {
   "cell_type": "code",
   "execution_count": 92,
   "id": "3277a807",
   "metadata": {},
   "outputs": [
    {
     "data": {
      "text/plain": [
       "'Once'"
      ]
     },
     "execution_count": 92,
     "metadata": {},
     "output_type": "execute_result"
    }
   ],
   "source": [
    "cad[:cad.index(' ')]"
   ]
  },
  {
   "cell_type": "markdown",
   "id": "8ece71f4",
   "metadata": {},
   "source": [
    "b) Extract the last word (harder)"
   ]
  },
  {
   "cell_type": "code",
   "execution_count": 93,
   "id": "4744aa05",
   "metadata": {},
   "outputs": [
    {
     "data": {
      "text/plain": [
       "'weary'"
      ]
     },
     "execution_count": 93,
     "metadata": {},
     "output_type": "execute_result"
    }
   ],
   "source": [
    "last_pos = len(cad) - cad[::-1].index(' ')\n",
    "cad[last_pos:]"
   ]
  },
  {
   "cell_type": "markdown",
   "id": "9744d062",
   "metadata": {},
   "source": [
    "c) Extract a list with the words"
   ]
  },
  {
   "cell_type": "code",
   "execution_count": 94,
   "id": "663361b1",
   "metadata": {},
   "outputs": [
    {
     "name": "stdout",
     "output_type": "stream",
     "text": [
      "['Once', 'upon', 'a', 'midnight', 'dreary,', 'while', 'I', 'pondered,', 'weak', 'and', 'weary']\n"
     ]
    }
   ],
   "source": [
    "result = []\n",
    "c = \"Once upon a midnight dreary, while I pondered, weak and weary\"\n",
    "while len(c) > 0:\n",
    "    if ' ' in c:\n",
    "        idx = c.index(' ')\n",
    "        if idx == 0:\n",
    "            c = c[1:]\n",
    "        else:\n",
    "            word = c[:idx]\n",
    "            result.append(word)\n",
    "            c = c[idx:]\n",
    "    else:\n",
    "        if c != '':\n",
    "            result.append(c)\n",
    "            c = \"\"\n",
    "print(result)"
   ]
  },
  {
   "cell_type": "markdown",
   "id": "cd769e9e",
   "metadata": {},
   "source": [
    "There is a simpler version if we know the proper method"
   ]
  },
  {
   "cell_type": "code",
   "execution_count": 95,
   "id": "4d63e34c",
   "metadata": {},
   "outputs": [
    {
     "name": "stdout",
     "output_type": "stream",
     "text": [
      "['Once', 'upon', 'a', 'midnight', 'dreary,', 'while', 'I', 'pondered,', 'weak', 'and', 'weary']\n"
     ]
    }
   ],
   "source": [
    "c = \"Once upon a midnight dreary, while I pondered, weak and weary\"\n",
    "print(c.split(\" \"))"
   ]
  },
  {
   "cell_type": "code",
   "execution_count": null,
   "id": "b42f52d0",
   "metadata": {},
   "outputs": [],
   "source": []
  }
 ],
 "metadata": {
  "kernelspec": {
   "display_name": "Python 3 (ipykernel)",
   "language": "python",
   "name": "python3"
  },
  "language_info": {
   "codemirror_mode": {
    "name": "ipython",
    "version": 3
   },
   "file_extension": ".py",
   "mimetype": "text/x-python",
   "name": "python",
   "nbconvert_exporter": "python",
   "pygments_lexer": "ipython3",
   "version": "3.12.7"
  }
 },
 "nbformat": 4,
 "nbformat_minor": 5
}
