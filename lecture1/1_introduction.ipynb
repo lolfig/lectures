{
 "cells": [
  {
   "cell_type": "markdown",
   "metadata": {},
   "source": [
    "# Introducción al curso\n",
    "\n",
    "## Python\n",
    "\n",
    "Creado por Guido van Rossum \n",
    "\n",
    "<img src=\"images/rossum.jpg\" alt=\"Guido van Rossum\" style=\"width:100px; height:auto;\">\n",
    "\n",
    "- Multiparadigma: orientado a objetos, procedimental (imperativo), funcional\n",
    "\n",
    "- Desarrollador: Python Software Foundation\n",
    "\n",
    "- Primera aparición: 20 de febrero de 1991 (hace 34 años)\n",
    "\n",
    "- Versión estable: 3.13\n",
    "\n",
    "- Disciplina de tipado: duck, dinámico, strong; anotaciones de tipo opcionales (desde la versión 3.5, pero estas sugerencias se ignoran, excepto con herramientas no oficiales)"
   ]
  },
  {
   "cell_type": "markdown",
   "metadata": {},
   "source": [
    "## Por qué Python (ChatGPT)?\n",
    "\n",
    "1. Legibilidad y simplicidad\n",
    "- Sintaxis clara\n",
    "- Facilidad de aprendizaje\n",
    "2. Versatilidad y flexibilidad\n",
    "- Amplia gama de aplicaciones\n",
    "- Compatibilidad multiplataforma\n",
    "3. Amplia gama de bibliotecas y frameworks\n",
    "- Amplia biblioteca estándar\n",
    "- Bibliotecas de terceros\n",
    "4. Fuerte apoyo de la comunidad\n",
    "- Comunidad activa\n",
    "- Abundantes recursos\n",
    "5. Capacidad de integración\n",
    "- Interoperabilidad con otros lenguajes y tecnologías"
   ]
  },
  {
   "cell_type": "markdown",
   "metadata": {},
   "source": [
    "## De qué se trata este curso?\n",
    "- Que cuando terminen, sepan enfrentar solucionar problemas de complejidad algoritmica usando python.\n",
    "\n",
    "- En las clases, componentes:\n",
    "    - Teórico\n",
    "    - Demostrativo\n",
    "    - Práctico\n",
    "    - Tareas (Enviar URL (o notebook) de Colab antes de próxima clase)\n",
    "        - Por ahora, al correo (agarciaflol@gmail.com), luego, github (https://github.com/lolfig), tambien telegram."
   ]
  },
  {
   "cell_type": "markdown",
   "metadata": {},
   "source": []
  }
 ],
 "metadata": {
  "kernelspec": {
   "display_name": "Python 3 (ipykernel)",
   "language": "python",
   "name": "python3"
  },
  "language_info": {
   "codemirror_mode": {
    "name": "ipython",
    "version": 3
   },
   "file_extension": ".py",
   "mimetype": "text/x-python",
   "name": "python",
   "nbconvert_exporter": "python",
   "pygments_lexer": "ipython3",
   "version": "3.12.7"
  }
 },
 "nbformat": 4,
 "nbformat_minor": 4
}
